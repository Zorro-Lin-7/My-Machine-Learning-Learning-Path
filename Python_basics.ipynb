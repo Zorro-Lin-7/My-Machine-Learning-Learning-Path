{
 "cells": [
  {
   "cell_type": "markdown",
   "metadata": {},
   "source": [
    "在一些学习场景遇到过，但未求甚解的地方，在此甚解一些概念。原则：实用导向，只记录实际遇到过的，多余的仍不做甚解。"
   ]
  },
  {
   "cell_type": "markdown",
   "metadata": {},
   "source": [
    "# 装饰器"
   ]
  },
  {
   "cell_type": "code",
   "execution_count": 25,
   "metadata": {
    "collapsed": true
   },
   "outputs": [],
   "source": [
    "from IPython.core.interactiveshell import InteractiveShell\n",
    "InteractiveShell.ast_node_interactivity = 'all'"
   ]
  },
  {
   "cell_type": "code",
   "execution_count": 28,
   "metadata": {
    "collapsed": true
   },
   "outputs": [],
   "source": [
    "def now():\n",
    "    print('2017-8-20')"
   ]
  },
  {
   "cell_type": "code",
   "execution_count": 29,
   "metadata": {
    "collapsed": false
   },
   "outputs": [
    {
     "name": "stdout",
     "output_type": "stream",
     "text": [
      "2017-8-20\n"
     ]
    }
   ],
   "source": [
    "f = now\n",
    "f()"
   ]
  },
  {
   "cell_type": "code",
   "execution_count": 30,
   "metadata": {
    "collapsed": false
   },
   "outputs": [
    {
     "data": {
      "text/plain": [
       "'now'"
      ]
     },
     "execution_count": 30,
     "metadata": {},
     "output_type": "execute_result"
    },
    {
     "data": {
      "text/plain": [
       "'now'"
      ]
     },
     "execution_count": 30,
     "metadata": {},
     "output_type": "execute_result"
    }
   ],
   "source": [
    "now.__name__\n",
    "f.__name__"
   ]
  },
  {
   "cell_type": "markdown",
   "metadata": {},
   "source": [
    "假设我们要增强now()函数的功能，比如，在函数调用前后自动打印日志，\n",
    "\n",
    "**但又不希望修改now()函数的定义**，这种在代码运行期间动态增加功能的方式，称之为“装饰器”（Decorator）。\n",
    "\n",
    "本质上，decorator就是一个**返回函数的高阶函数**。"
   ]
  },
  {
   "cell_type": "code",
   "execution_count": 31,
   "metadata": {
    "collapsed": true
   },
   "outputs": [],
   "source": [
    "def log(func):  # 接收函数作为参数\n",
    "    def wrapper(*args, **kw):\n",
    "        print('call %s():' % func.__name__)\n",
    "        return func(*args, **kw)\n",
    "    return wrapper"
   ]
  },
  {
   "cell_type": "code",
   "execution_count": 32,
   "metadata": {
    "collapsed": true
   },
   "outputs": [],
   "source": [
    "@log  # 相当于now = log(now)\n",
    "def now():\n",
    "    print('2017-8-30')"
   ]
  },
  {
   "cell_type": "code",
   "execution_count": 33,
   "metadata": {
    "collapsed": false
   },
   "outputs": [
    {
     "name": "stdout",
     "output_type": "stream",
     "text": [
      "call now():\n",
      "2017-8-30\n"
     ]
    }
   ],
   "source": [
    "now()  #调用now()函数，不仅会运行now()函数本身，还会在运行now()函数前打印一行日志"
   ]
  },
  {
   "cell_type": "markdown",
   "metadata": {},
   "source": [
    "# 函数，可变参数\n",
    "传入的参数是参数个数是可变的，因为调用者并不能确定参数个数。例如计算 a^2 + b^2 + c^2....."
   ]
  },
  {
   "cell_type": "code",
   "execution_count": 19,
   "metadata": {
    "collapsed": false
   },
   "outputs": [
    {
     "data": {
      "text/plain": [
       "14"
      ]
     },
     "execution_count": 19,
     "metadata": {},
     "output_type": "execute_result"
    }
   ],
   "source": [
    "#一般的，参数得是元组或列表\n",
    "def calc(numbers):\n",
    "    s = 0\n",
    "    for n in numbers:\n",
    "        s += n**2\n",
    "    return s\n",
    "\n",
    "calc([1,2,3])"
   ]
  },
  {
   "cell_type": "code",
   "execution_count": 34,
   "metadata": {
    "collapsed": false
   },
   "outputs": [
    {
     "data": {
      "text/plain": [
       "14"
      ]
     },
     "execution_count": 34,
     "metadata": {},
     "output_type": "execute_result"
    },
    {
     "data": {
      "text/plain": [
       "0"
      ]
     },
     "execution_count": 34,
     "metadata": {},
     "output_type": "execute_result"
    },
    {
     "data": {
      "text/plain": [
       "14"
      ]
     },
     "execution_count": 34,
     "metadata": {},
     "output_type": "execute_result"
    }
   ],
   "source": [
    "# 用可变参数，则可简化：\n",
    "def calc2(*numbers):\n",
    "    s = 0\n",
    "    for n in numbers:\n",
    "        s += n**2\n",
    "    return s\n",
    "\n",
    "calc2(1,2,3)  # 直接传入多个参数，无需元组或列表\n",
    "calc2()       # 0 个参数也可以\n",
    "calc2(*[1,2,3])  # 如果参数本身已经是单个列表，只需前面加*，列表就能变成可变参数"
   ]
  },
  {
   "cell_type": "markdown",
   "metadata": {},
   "source": [
    "# 函数，关键字参数\n",
    "**可变参数**允许你传入0个或任意个参数，这些可变参数在函数调用时自动组装为一个**tuple**。\n",
    "\n",
    "而**关键字参数**允许你传入0个或任意个含参数名的参数，这些关键字参数在函数内部自动组装为一个**dict**。"
   ]
  },
  {
   "cell_type": "code",
   "execution_count": 35,
   "metadata": {
    "collapsed": true
   },
   "outputs": [],
   "source": [
    "def person(name, age, **kw):\n",
    "    print('name: ', name, 'age: ', age, 'other: ', kw)"
   ]
  },
  {
   "cell_type": "code",
   "execution_count": 38,
   "metadata": {
    "collapsed": false
   },
   "outputs": [
    {
     "name": "stdout",
     "output_type": "stream",
     "text": [
      "name:  Jack age:  18 other:  {}\n",
      "name:  Zorro age:  1.5 other:  {'city': 'Hangzhou'}\n",
      "name:  Xiaoming age:  27 other:  {'city': 'Shanghai', 'job': 'Data Scientist'}\n",
      "name:  Leo age:  30 other:  {'city': 'Beijing', 'job': 'PM'}\n"
     ]
    }
   ],
   "source": [
    "person('Jack',18)\n",
    "person('Zorro',1.5,city='Hangzhou')\n",
    "person('Xiaoming',27,city='Shanghai',job='Data Scientist')\n",
    "\n",
    "extra = {'city':'Beijing','job':'PM'}\n",
    "person('Leo',30,**extra) # 关键字参数接收字典"
   ]
  },
  {
   "cell_type": "markdown",
   "metadata": {},
   "source": [
    "使用场景：用户注册时，除了必填信息，也可以提供更多信息"
   ]
  },
  {
   "cell_type": "markdown",
   "metadata": {},
   "source": [
    "### 命名关键字参数：略"
   ]
  },
  {
   "cell_type": "markdown",
   "metadata": {},
   "source": [
    "# 序列化pickle\n",
    "在程序运行中，所有变量都是在内存中，比如\n",
    "    \n",
    "    name = 'Bob'\n",
    "\n",
    "若程序关闭，变量所占用的内存就被系统全部收回，如果没有把'Bob'存到磁盘上，下次运行程序，变量又被初始化。\n",
    "\n",
    "把变量从内存中变为可存储或传输的过程，称为**序列化**，Python中叫pickling，其他语言也叫serialization等。\n",
    "\n",
    "反过来，把变量内容从序列化的对象重新读入到内存里，叫**反序列化**，unpickling"
   ]
  },
  {
   "cell_type": "code",
   "execution_count": 39,
   "metadata": {
    "collapsed": false
   },
   "outputs": [
    {
     "data": {
      "text/plain": [
       "b'\\x80\\x03}q\\x00(X\\x04\\x00\\x00\\x00nameq\\x01X\\x03\\x00\\x00\\x00Bobq\\x02X\\x03\\x00\\x00\\x00ageq\\x03K\\x14X\\x05\\x00\\x00\\x00scoreq\\x04KPu.'"
      ]
     },
     "execution_count": 39,
     "metadata": {},
     "output_type": "execute_result"
    }
   ],
   "source": [
    "import pickle\n",
    "d = dict(name='Bob', age=20, score=80)\n",
    "pickle.dumps(d)  # 把任意对象序列化 为bytes,然后就能把这个bytes写入文件。"
   ]
  },
  {
   "cell_type": "code",
   "execution_count": 40,
   "metadata": {
    "collapsed": true
   },
   "outputs": [],
   "source": [
    "# 另一个method：pickle.dump()，直接序列化后写入file-like object\n",
    "f = open('dump.txt','wb')\n",
    "pickle.dump(d, f)\n",
    "f.close()"
   ]
  },
  {
   "cell_type": "code",
   "execution_count": 41,
   "metadata": {
    "collapsed": false
   },
   "outputs": [
    {
     "data": {
      "text/plain": [
       "{'age': 20, 'name': 'Bob', 'score': 80}"
      ]
     },
     "execution_count": 41,
     "metadata": {},
     "output_type": "execute_result"
    }
   ],
   "source": [
    "# 反序列化：\n",
    "ff = open('dump.txt','rb')\n",
    "load = pickle.load(ff)\n",
    "ff.close()\n",
    "load"
   ]
  },
  {
   "cell_type": "markdown",
   "metadata": {},
   "source": [
    "## 序列化为标准格式Json\n",
    "在不同编程语言之间传递对象，必须把对象序列化为标准格式，比如XML，但更好的方法是序列化为JSON，因为JSON表示出来就是一个**字符串**，可以被所有语言读取；\n",
    "\n",
    "也可以方便地存储到磁盘或者通过网络传输。\n",
    "\n",
    "JSON 不仅是标准格式，而且比XML更快，而且可以直接在Web页面中读取。\n",
    "\n",
    "JSON 表示的对象就是标准的JavaScript 语言的对象。\n",
    "\n",
    "Python对象到json格式的转换，可用 ***json*** 模块：\n"
   ]
  },
  {
   "cell_type": "code",
   "execution_count": 43,
   "metadata": {
    "collapsed": false
   },
   "outputs": [
    {
     "data": {
      "text/plain": [
       "{'age': 20, 'name': 'Bob', 'score': 80}"
      ]
     },
     "execution_count": 43,
     "metadata": {},
     "output_type": "execute_result"
    },
    {
     "data": {
      "text/plain": [
       "'{\"name\": \"Bob\", \"age\": 20, \"score\": 80}'"
      ]
     },
     "execution_count": 43,
     "metadata": {},
     "output_type": "execute_result"
    }
   ],
   "source": [
    "import json\n",
    "d = dict(name='Bob', age=20, score=80)\n",
    "d\n",
    "json.dumps(d)  # python 对象d  变为一个JSON字符串"
   ]
  },
  {
   "cell_type": "code",
   "execution_count": 44,
   "metadata": {
    "collapsed": false
   },
   "outputs": [
    {
     "data": {
      "text/plain": [
       "'{\"age\":18,\"name\":\"Jack\",\"score\":90}'"
      ]
     },
     "execution_count": 44,
     "metadata": {},
     "output_type": "execute_result"
    },
    {
     "data": {
      "text/plain": [
       "{'age': 18, 'name': 'Jack', 'score': 90}"
      ]
     },
     "execution_count": 44,
     "metadata": {},
     "output_type": "execute_result"
    }
   ],
   "source": [
    "# json反序列化：\n",
    "json_str='{\"age\":18,\"name\":\"Jack\",\"score\":90}'\n",
    "json_str\n",
    "json.loads(json_str)"
   ]
  },
  {
   "cell_type": "markdown",
   "metadata": {},
   "source": [
    "由于JSON标准规定JSON编码是UTF-8，所以我们总是能正确地在Python的str 和JSON字符串间转换"
   ]
  },
  {
   "cell_type": "code",
   "execution_count": null,
   "metadata": {
    "collapsed": true
   },
   "outputs": [],
   "source": []
  }
 ],
 "metadata": {
  "kernelspec": {
   "display_name": "Python 3",
   "language": "python",
   "name": "python3"
  },
  "language_info": {
   "codemirror_mode": {
    "name": "ipython",
    "version": 3
   },
   "file_extension": ".py",
   "mimetype": "text/x-python",
   "name": "python",
   "nbconvert_exporter": "python",
   "pygments_lexer": "ipython3",
   "version": "3.6.0"
  }
 },
 "nbformat": 4,
 "nbformat_minor": 2
}

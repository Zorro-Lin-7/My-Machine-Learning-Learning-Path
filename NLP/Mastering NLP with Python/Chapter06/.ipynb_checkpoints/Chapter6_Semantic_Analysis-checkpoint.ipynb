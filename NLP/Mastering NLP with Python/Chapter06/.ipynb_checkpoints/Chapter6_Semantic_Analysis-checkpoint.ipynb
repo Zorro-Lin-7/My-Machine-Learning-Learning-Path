{
 "cells": [
  {
   "cell_type": "markdown",
   "metadata": {},
   "source": [
    "# 语义分析，或者语义生成\n",
    "定义是：确定字符列或word sequences 意思的过程。可用于歧义消除的任务。\n",
    "\n",
    "当分析一个输入的句子时，如果句子结构已经建立，那么可以进行该句的语义分析。\n",
    "\n",
    "语义解释就是把意义映射到句子中。\n",
    "\n",
    "语境解释（contextual interpretation）是将逻辑形式映射到knowledge representation。\n",
    "\n",
    "语义分析的基本单位或基本单位称为meaning或sense。\n",
    "\n",
    "几个处理senses 的工具：\n",
    "\n",
    "    * ELIZA：它利用替换和模式匹配技术分析句子，并为给定的输入提供输出。\n",
    "    * MARGIE：它可以用11个原语primitives 来表示所有的英语动词。\n",
    "    * Script Applier Mechanism (SAM)：它可以翻译不同语言的句子，如英语、汉语、俄语、荷兰语和西班牙语。\n",
    "    * 为了实现对文本数据的处理，要使用一个Python库或是TextBlob\n",
    "    \n",
    "语义分析可以用来查询数据库和检索信息。\n",
    "\n",
    "    * 另一个Python库，Gensim，可以用来执行文件索引，主题建模，和相似性检索。\n",
    "    * Polyglot 支持多种语言的应用的NLP工具。它提供40种不同语言的NER，165种for tokenization，165种for 语音分析……\n",
    "    * MontyLingua用于对英语文本进行语义解释\n",
    "    \n",
    "# 句子可以用逻辑形式来表现。\n",
    "命题逻辑 propositional logic 中的基本表达式或句子可用命题符号表示，比如P，Q，R等。\n",
    "复数表达式可以用布尔运算符表示。\n",
    "\n",
    "例如，用propositional logic 来表示句子：If it is raining, I'll wear a raincoat \n",
    "\n",
    "    • P: It is raining.\n",
    "    • Q: I'll wear raincoat.\n",
    "    • P->Q: If it is raining, I'll wear a raincoat."
   ]
  },
  {
   "cell_type": "markdown",
   "metadata": {},
   "source": [
    "## 一些操作符号："
   ]
  },
  {
   "cell_type": "code",
   "execution_count": 1,
   "metadata": {
    "collapsed": false,
    "scrolled": true
   },
   "outputs": [
    {
     "name": "stdout",
     "output_type": "stream",
     "text": [
      "negation       \t-\n",
      "conjunction    \t&\n",
      "disjunction    \t|\n",
      "implication    \t->\n",
      "equivalence    \t<->\n"
     ]
    }
   ],
   "source": [
    "import nltk\n",
    "nltk.boolean_ops()"
   ]
  },
  {
   "cell_type": "markdown",
   "metadata": {},
   "source": [
    "## Well-formed Formulas(WFF) 合语法的公式的构成：\n",
    "使用propositional symbols 命题符号或 使用命题符号和上述boolean operators布尔操作符的组合"
   ]
  },
  {
   "cell_type": "markdown",
   "metadata": {},
   "source": [
    "#### 将不同的逻辑表达式 归为不同的类："
   ]
  },
  {
   "cell_type": "code",
   "execution_count": 5,
   "metadata": {
    "collapsed": false
   },
   "outputs": [
    {
     "data": {
      "text/plain": [
       "<OrExpression (X | (Y -> Z))>"
      ]
     },
     "execution_count": 5,
     "metadata": {},
     "output_type": "execute_result"
    }
   ],
   "source": [
    "import nltk\n",
    "input_expr = nltk.sem.Expression.fromstring\n",
    "input_expr('X | (Y -> Z)')"
   ]
  },
  {
   "cell_type": "code",
   "execution_count": 6,
   "metadata": {
    "collapsed": false
   },
   "outputs": [
    {
     "data": {
      "text/plain": [
       "<NegatedExpression -(X & Y)>"
      ]
     },
     "execution_count": 6,
     "metadata": {},
     "output_type": "execute_result"
    }
   ],
   "source": [
    "input_expr('-(X & Y)')"
   ]
  },
  {
   "cell_type": "code",
   "execution_count": 7,
   "metadata": {
    "collapsed": false
   },
   "outputs": [
    {
     "data": {
      "text/plain": [
       "<AndExpression (X & Y)>"
      ]
     },
     "execution_count": 7,
     "metadata": {},
     "output_type": "execute_result"
    }
   ],
   "source": [
    "input_expr('X & Y')"
   ]
  },
  {
   "cell_type": "code",
   "execution_count": 8,
   "metadata": {
    "collapsed": false
   },
   "outputs": [
    {
     "data": {
      "text/plain": [
       "<IffExpression (X <-> --X)>"
      ]
     },
     "execution_count": 8,
     "metadata": {},
     "output_type": "execute_result"
    }
   ],
   "source": [
    "input_expr('X <-> -- X')"
   ]
  },
  {
   "cell_type": "markdown",
   "metadata": {},
   "source": [
    "使用***Valuation*** function to map **True** or **False** values to logical expressions"
   ]
  },
  {
   "cell_type": "code",
   "execution_count": 9,
   "metadata": {
    "collapsed": false
   },
   "outputs": [
    {
     "data": {
      "text/plain": [
       "True"
      ]
     },
     "execution_count": 9,
     "metadata": {},
     "output_type": "execute_result"
    }
   ],
   "source": [
    "import nltk\n",
    "value = nltk.Valuation([('X', True), ('Y', False), ('Z', True)])\n",
    "value['Z']"
   ]
  },
  {
   "cell_type": "code",
   "execution_count": 10,
   "metadata": {
    "collapsed": false
   },
   "outputs": [
    {
     "name": "stdout",
     "output_type": "stream",
     "text": [
      "False\n",
      "True\n",
      "True\n",
      "True\n"
     ]
    }
   ],
   "source": [
    "domain = set()\n",
    "v = nltk.Assignment(domain)\n",
    "u = nltk.Model(domain, value)\n",
    "print(u.evaluate('(X & Y)', v))\n",
    "print(u.evaluate('-(X & Y)',v))\n",
    "print(u.evaluate('(X & Z)', v))\n",
    "print(u.evaluate('(X | Y)', v))"
   ]
  },
  {
   "cell_type": "markdown",
   "metadata": {},
   "source": [
    "#### 涉及常数和谓词的一阶谓词逻辑："
   ]
  },
  {
   "cell_type": "code",
   "execution_count": 11,
   "metadata": {
    "collapsed": false
   },
   "outputs": [
    {
     "data": {
      "text/plain": [
       "<ConstantExpression marcus>"
      ]
     },
     "execution_count": 11,
     "metadata": {},
     "output_type": "execute_result"
    }
   ],
   "source": [
    "import nltk\n",
    "input_expr = nltk.sem.Expression.fromstring\n",
    "expression = input_expr('run(marcus)', type_check=True)\n",
    "expression.argument"
   ]
  },
  {
   "cell_type": "code",
   "execution_count": 12,
   "metadata": {
    "collapsed": false
   },
   "outputs": [
    {
     "data": {
      "text/plain": [
       "e"
      ]
     },
     "execution_count": 12,
     "metadata": {},
     "output_type": "execute_result"
    }
   ],
   "source": [
    "expression.argument.type"
   ]
  },
  {
   "cell_type": "code",
   "execution_count": 13,
   "metadata": {
    "collapsed": false
   },
   "outputs": [
    {
     "data": {
      "text/plain": [
       "<ConstantExpression run>"
      ]
     },
     "execution_count": 13,
     "metadata": {},
     "output_type": "execute_result"
    }
   ],
   "source": [
    "expression.function"
   ]
  },
  {
   "cell_type": "code",
   "execution_count": 14,
   "metadata": {
    "collapsed": false
   },
   "outputs": [
    {
     "data": {
      "text/plain": [
       "<e,?>"
      ]
     },
     "execution_count": 14,
     "metadata": {},
     "output_type": "execute_result"
    }
   ],
   "source": [
    "expression.function.type"
   ]
  },
  {
   "cell_type": "code",
   "execution_count": 15,
   "metadata": {
    "collapsed": false
   },
   "outputs": [
    {
     "data": {
      "text/plain": [
       "<e,?>"
      ]
     },
     "execution_count": 15,
     "metadata": {},
     "output_type": "execute_result"
    }
   ],
   "source": [
    "sign = {'run': '<e, t>'}\n",
    "expresion = input_expr('run(marcus)', signature = sign)\n",
    "expression.function.type"
   ]
  },
  {
   "cell_type": "markdown",
   "metadata": {},
   "source": [
    "#### signature用于映射相关的类型及non-logical constants，\n",
    "to generate a query and retrieve data from the database:"
   ]
  },
  {
   "cell_type": "code",
   "execution_count": 17,
   "metadata": {
    "collapsed": false
   },
   "outputs": [
    {
     "name": "stdout",
     "output_type": "stream",
     "text": [
      "% start S\n",
      "S[SEM=(?np + WHERE + ?vp)] -> NP[SEM=?np] VP[SEM=?vp]\n",
      "VP[SEM=(?v + ?pp)] -> IV[SEM=?v] PP[SEM=?pp]\n",
      "VP[SEM=(?v + ?ap)] -> IV[SEM=?v] AP[SEM=?ap]\n",
      "VP[SEM=(?v + ?np)] -> TV[SEM=?v] NP[SEM=?np]\n",
      "VP[SEM=(?vp1 + ?c + ?vp2)] -> VP[SEM=?vp1] Conj[SEM=?c] VP[SEM=?vp2]\n",
      "NP[SEM=(?det + ?n)] -> Det[SEM=?det] N[SEM=?n]\n",
      "NP[SEM=(?n + ?pp)]  -> N[SEM=?n] PP[SEM=?pp]\n",
      "NP[SEM=?n]  -> N[SEM=?n]  | CardN[SEM=?n] \n",
      "CardN[SEM='1000'] -> '1,000,000' \n",
      "PP[SEM=(?p + ?np)] -> P[SEM=?p] NP[SEM=?np]\n",
      "AP[SEM=?pp] -> A[SEM=?a] PP[SEM=?pp]\n",
      "NP[SEM='Country=\"greece\"'] -> 'Greece'\n",
      "NP[SEM='Country=\"china\"'] -> 'China'\n",
      "Det[SEM='SELECT'] -> 'Which' | 'What'\n",
      "Conj[SEM='AND'] -> 'and'\n",
      "N[SEM='City FROM city_table'] -> 'cities'\n",
      "N[SEM='Population'] -> 'populations'\n",
      "IV[SEM=''] -> 'are'\n",
      "TV[SEM=''] -> 'have'\n",
      "A -> 'located'\n",
      "P[SEM=''] -> 'in'\n",
      "P[SEM='>'] -> 'above'\n"
     ]
    }
   ],
   "source": [
    "import nltk\n",
    "nltk.data.show_cfg('grammars/book_grammars/sql1.fcfg')"
   ]
  },
  {
   "cell_type": "code",
   "execution_count": 19,
   "metadata": {
    "collapsed": false
   },
   "outputs": [
    {
     "data": {
      "text/plain": [
       "[Tree(S[SEM=(SELECT, City FROM city_table, WHERE, , , Country=\"greece\")], [Tree(NP[SEM=(SELECT, City FROM city_table)], [Tree(Det[SEM='SELECT'], ['What']), Tree(N[SEM='City FROM city_table'], ['cities'])]), Tree(VP[SEM=(, , Country=\"greece\")], [Tree(IV[SEM=''], ['are']), Tree(PP[SEM=(, Country=\"greece\")], [Tree(P[SEM=''], ['in']), Tree(NP[SEM='Country=\"greece\"'], ['Greece'])])])])]"
      ]
     },
     "execution_count": 19,
     "metadata": {},
     "output_type": "execute_result"
    }
   ],
   "source": [
    "from nltk import load_parser\n",
    "test = load_parser('grammars/book_grammars/sql1.fcfg')\n",
    "q = ' What cities are in Greece'  # 问：哪座城市在希腊\n",
    "t = list(test.parse(q.split()))  # 通过解析出city,country 这些字段，通过sql语句在数据库中找\n",
    "t"
   ]
  },
  {
   "cell_type": "code",
   "execution_count": 22,
   "metadata": {
    "collapsed": false
   },
   "outputs": [
    {
     "data": {
      "text/plain": [
       "S[SEM=(SELECT, City FROM city_table, WHERE, , , Country=\"greece\")]"
      ]
     },
     "execution_count": 22,
     "metadata": {},
     "output_type": "execute_result"
    }
   ],
   "source": [
    "t[0].label()"
   ]
  },
  {
   "cell_type": "code",
   "execution_count": 24,
   "metadata": {
    "collapsed": false
   },
   "outputs": [
    {
     "data": {
      "text/plain": [
       "['SELECT', 'City FROM city_table', 'WHERE', 'Country=\"greece\"']"
      ]
     },
     "execution_count": 24,
     "metadata": {},
     "output_type": "execute_result"
    }
   ],
   "source": [
    "ans = t[0].label()['SEM']\n",
    "ans = [s for s in ans if s]\n",
    "ans  "
   ]
  },
  {
   "cell_type": "code",
   "execution_count": 25,
   "metadata": {
    "collapsed": false
   },
   "outputs": [
    {
     "data": {
      "text/plain": [
       "'SELECT City FROM city_table WHERE Country=\"greece\"'"
      ]
     },
     "execution_count": 25,
     "metadata": {},
     "output_type": "execute_result"
    }
   ],
   "source": [
    "q = ' '.join(ans)\n",
    "q   # 得到sql query语句："
   ]
  },
  {
   "cell_type": "code",
   "execution_count": 28,
   "metadata": {
    "collapsed": false
   },
   "outputs": [
    {
     "data": {
      "text/plain": [
       "<sqlite3.Cursor at 0x11856cb20>"
      ]
     },
     "execution_count": 28,
     "metadata": {},
     "output_type": "execute_result"
    }
   ],
   "source": [
    "from nltk.sem import chat80\n",
    "r = chat80.sql_query('corpora/city_database/city.db',q) # 参数q即sql语句，用该语句在city数据库中做sql查询\n",
    "r"
   ]
  },
  {
   "cell_type": "code",
   "execution_count": 30,
   "metadata": {
    "collapsed": false
   },
   "outputs": [
    {
     "name": "stdout",
     "output_type": "stream",
     "text": [
      "athens "
     ]
    }
   ],
   "source": [
    "for p in r:    # 遍历结果\n",
    "    print(p[0], end=' ') # Athens 雅典"
   ]
  },
  {
   "cell_type": "markdown",
   "metadata": {},
   "source": [
    "# Introducing NER\n",
    "命名实体识别是将专有名词或命名实体置于文档中的过程。然后，这些命名实体分为不同的类别，如人、地点、组织名称，等等\n",
    "\n",
    "NER的一个应用是信息提取。在NLTK，我们可以通过存储元组（实体、关系、实体）进行信息提取的任务，然后，实体的值可以被检索"
   ]
  },
  {
   "cell_type": "markdown",
   "metadata": {
    "collapsed": true
   },
   "source": [
    "### information extraction :"
   ]
  },
  {
   "cell_type": "code",
   "execution_count": 1,
   "metadata": {
    "collapsed": false
   },
   "outputs": [
    {
     "name": "stdout",
     "output_type": "stream",
     "text": [
      "['Jaipur', 'Ajmer']\n"
     ]
    }
   ],
   "source": [
    "import nltk\n",
    "locations = [('Jaipur','IN','Rajasthan'), ('Ajmer','IN','Rajasthan'),\n",
    "             ('Udaipur','IN','Rajsthan'),('Mumbai','IN','Maharashtra'),('Ahmedabad','IN','Gujrat')]\n",
    "q = [x1 for (x1, relation, x2) in locations if x2=='Rajasthan']\n",
    "print(q)"
   ]
  },
  {
   "cell_type": "markdown",
   "metadata": {},
   "source": [
    "### NLTK中已有训练好的Name Entities 分类器：\n",
    "nltk.ne_chunk() 可从文本中检测NE\n",
    "如果参数值设为True，那么检出的命名实体将被NE tag所标记；否则被tagged 为 PERSON，GPE，和ORGANIZATION。"
   ]
  },
  {
   "cell_type": "code",
   "execution_count": 13,
   "metadata": {
    "collapsed": false,
    "scrolled": true
   },
   "outputs": [
    {
     "data": {
      "text/plain": [
       "[('The', 'DT'),\n",
       " ('total', 'NN'),\n",
       " ('of', 'IN'),\n",
       " ('18', 'CD'),\n",
       " ('deaths', 'NNS'),\n",
       " ('from', 'IN'),\n",
       " ('malignant', 'JJ'),\n",
       " ('mesothelioma', 'NN'),\n",
       " (',', ','),\n",
       " ('lung', 'NN'),\n",
       " ('cancer', 'NN'),\n",
       " ('and', 'CC'),\n",
       " ('asbestosis', 'NN'),\n",
       " ('was', 'VBD'),\n",
       " ('far', 'RB'),\n",
       " ('higher', 'JJR'),\n",
       " ('than', 'IN'),\n",
       " ('*', '-NONE-'),\n",
       " ('expected', 'VBN'),\n",
       " ('*?*', '-NONE-'),\n",
       " (',', ','),\n",
       " ('the', 'DT'),\n",
       " ('researchers', 'NNS'),\n",
       " ('said', 'VBD'),\n",
       " ('0', '-NONE-'),\n",
       " ('*T*-1', '-NONE-'),\n",
       " ('.', '.')]"
      ]
     },
     "execution_count": 13,
     "metadata": {},
     "output_type": "execute_result"
    }
   ],
   "source": [
    "import nltk\n",
    "sentences1 = nltk.corpus.treebank.tagged_sents()[17]\n",
    "sentences1"
   ]
  },
  {
   "cell_type": "code",
   "execution_count": 14,
   "metadata": {
    "collapsed": false
   },
   "outputs": [
    {
     "name": "stdout",
     "output_type": "stream",
     "text": [
      "(S\n",
      "  The/DT\n",
      "  total/NN\n",
      "  of/IN\n",
      "  18/CD\n",
      "  deaths/NNS\n",
      "  from/IN\n",
      "  malignant/JJ\n",
      "  mesothelioma/NN\n",
      "  ,/,\n",
      "  lung/NN\n",
      "  cancer/NN\n",
      "  and/CC\n",
      "  asbestosis/NN\n",
      "  was/VBD\n",
      "  far/RB\n",
      "  higher/JJR\n",
      "  than/IN\n",
      "  */-NONE-\n",
      "  expected/VBN\n",
      "  *?*/-NONE-\n",
      "  ,/,\n",
      "  the/DT\n",
      "  researchers/NNS\n",
      "  said/VBD\n",
      "  0/-NONE-\n",
      "  *T*-1/-NONE-\n",
      "  ./.)\n"
     ]
    }
   ],
   "source": [
    "print(nltk.ne_chunk(sentences1, binary=True)) # 检测实体，若存在，则用NE tag 标注"
   ]
  },
  {
   "cell_type": "code",
   "execution_count": 15,
   "metadata": {
    "collapsed": false
   },
   "outputs": [
    {
     "name": "stdout",
     "output_type": "stream",
     "text": [
      "(S\n",
      "  A/DT\n",
      "  (NE Lorillard/NNP)\n",
      "  spokewoman/NN\n",
      "  said/VBD\n",
      "  ,/,\n",
      "  ``/``\n",
      "  This/DT\n",
      "  is/VBZ\n",
      "  an/DT\n",
      "  old/JJ\n",
      "  story/NN\n",
      "  ./.)\n"
     ]
    }
   ],
   "source": [
    "sentences2 = nltk.corpus.treebank.tagged_sents()[7]\n",
    "print(nltk.ne_chunk(sentences2, binary=True))"
   ]
  },
  {
   "cell_type": "code",
   "execution_count": 16,
   "metadata": {
    "collapsed": false
   },
   "outputs": [
    {
     "name": "stdout",
     "output_type": "stream",
     "text": [
      "(S\n",
      "  A/DT\n",
      "  (ORGANIZATION Lorillard/NNP)\n",
      "  spokewoman/NN\n",
      "  said/VBD\n",
      "  ,/,\n",
      "  ``/``\n",
      "  This/DT\n",
      "  is/VBZ\n",
      "  an/DT\n",
      "  old/JJ\n",
      "  story/NN\n",
      "  ./.)\n"
     ]
    }
   ],
   "source": [
    "print(nltk.ne_chunk(sentences2))"
   ]
  },
  {
   "cell_type": "markdown",
   "metadata": {},
   "source": [
    "### detect named entities:"
   ]
  },
  {
   "cell_type": "code",
   "execution_count": 19,
   "metadata": {
    "collapsed": false
   },
   "outputs": [
    {
     "name": "stdout",
     "output_type": "stream",
     "text": [
      "(PER Vandenbussche/Adj)\n",
      "('zelf', 'Pron')\n",
      "('besloot', 'V')\n",
      "('dat', 'Conj')\n",
      "('het', 'Art')\n",
      "('hof', 'N')\n",
      "('\"', 'Punc')\n",
      "('de', 'Art')\n",
      "('politieke', 'Adj')\n",
      "('zeden', 'N')\n",
      "('uit', 'Prep')\n",
      "('het', 'Art')\n",
      "('verleden', 'N')\n",
      "('\"', 'Punc')\n",
      "('heeft', 'V')\n",
      "('willen', 'V')\n",
      "('veroordelen', 'V')\n",
      "('.', 'Punc')\n"
     ]
    }
   ],
   "source": [
    "import nltk\n",
    "from nltk.corpus import conll2002\n",
    "for documents in conll2002.chunked_sents('ned.train')[25]:\n",
    "    print(documents)"
   ]
  },
  {
   "cell_type": "markdown",
   "metadata": {},
   "source": [
    "## Chunker 用于将纯文本分割成一系列语义相关的词。\n",
    "NLTK 中的NER操作，使用默认的chunkers，其基于ACE语料上训练的分类器。\n",
    "\n",
    "其他chunkers 则在 解析或分块后的NLTK语料库上 训练。\n",
    "\n",
    "NLTK chunkers 涵盖的语言有荷兰语、西班牙语、葡萄牙语、英语。"
   ]
  },
  {
   "cell_type": "code",
   "execution_count": 20,
   "metadata": {
    "collapsed": false,
    "scrolled": true
   },
   "outputs": [
    {
     "name": "stdout",
     "output_type": "stream",
     "text": [
      "(S\n",
      "  I/PRP\n",
      "  went/VBD\n",
      "  to/TO\n",
      "  (GPE Greece/NNP)\n",
      "  to/TO\n",
      "  meet/VB\n",
      "  (PERSON John/NNP))\n"
     ]
    }
   ],
   "source": [
    "#识别命名实体并归类到不同的命名实体类：\n",
    "import nltk\n",
    "sentence = \"I went to Greece to meet John\"\n",
    "tok = nltk.word_tokenize(sentence) # 分词\n",
    "pos_tag = nltk.pos_tag(tok)  # 词性标注\n",
    "print(nltk.ne_chunk(pos_tag)) # chunk 并 ne"
   ]
  },
  {
   "cell_type": "markdown",
   "metadata": {},
   "source": [
    "# A NER system using Hidden Markov Model\n",
    "隐马尔可夫模型是一种NER常用的统计方法。\n",
    "隐马尔可夫模型的定义：一个随机有限状态自动机 a Stochastic Finite State Automaton（SFSA），由一组有限的状态组成，这组状态与给定的概率分布有关。状态是未知的（隐藏或未观测到）。\n",
    "HMM 生成最佳状态序列作为output。\n",
    "HMM是基于马尔可夫链性质，即下一个状态发生的概率仅取决于当前tag。\n",
    "HMM的缺点是它需要大量的训练。\n",
    "\n",
    "## HMM 的组成：\n",
    "\n",
    "    • Set of states, S, where |S|=N. Here, N is the total number of states.\n",
    "    • Start state, S0.\n",
    "    • Output alphabet, O;|O|=k. k is the total number of output alphabets.\n",
    "    • Transition probability, A.\n",
    "    • Emission probability, B.\n",
    "    • Initial state probabilities, π .\n",
    "    \n",
    "HMM is represented by the following tuple— ƛ=(A,B,π)\n",
    "\n",
    "\n",
    "利用Baum Welch算法对HMM参数进行极大似然估计和后验模态估计。给定一列emission or observations，用 向前向后算法 forward-backward algorithm 得到 所有隐藏的状态变量的 后验边际。\n",
    "\n",
    "## 使用隐马尔可夫模型进行NER有三个步骤：\n",
    "\n",
    "    1、HMM—Annotation，将原始文本进行标注，转换为可训练数据\n",
    "    2、HMM train，计算HMM参数，即A、B、π \n",
    "    3、HMM test，用Viterbi Algorithm 解得最佳tag sequence"
   ]
  },
  {
   "cell_type": "markdown",
   "metadata": {},
   "source": [
    "#### 用HMM 进行chunking，得到名词词组NP 和动词词组VP 的chunk\n",
    "\n",
    "NP chunk 可以进一步处理得到 proper noun 或 named entities："
   ]
  },
  {
   "cell_type": "code",
   "execution_count": 21,
   "metadata": {
    "collapsed": false
   },
   "outputs": [
    {
     "name": "stdout",
     "output_type": "stream",
     "text": [
      "\n",
      "HMM POS tagging demo\n",
      "\n",
      "Training HMM...\n",
      "Testing...\n",
      "Test: the/AT fulton/NP county/NN grand/JJ jury/NN said/VBD friday/NR an/AT investigation/NN of/IN atlanta's/NP$ recent/JJ primary/NN election/NN produced/VBD ``/`` no/AT evidence/NN ''/'' that/CS any/DTI irregularities/NNS took/VBD place/NN ./.\n",
      "\n",
      "Untagged: the fulton county grand jury said friday an investigation of atlanta's recent primary election produced `` no evidence '' that any irregularities took place .\n",
      "\n",
      "HMM-tagged: the/AT fulton/NP county/NN grand/JJ jury/NN said/VBD friday/NR an/AT investigation/NN of/IN atlanta's/NP$ recent/JJ primary/NN election/NN produced/VBD ``/`` no/AT evidence/NN ''/'' that/CS any/DTI irregularities/NNS took/VBD place/NN ./.\n",
      "\n",
      "Entropy: 18.7331739705\n",
      "\n",
      "------------------------------------------------------------\n",
      "Test: the/AT jury/NN further/RBR said/VBD in/IN term-end/NN presentments/NNS that/CS the/AT city/NN executive/JJ committee/NN ,/, which/WDT had/HVD over-all/JJ charge/NN of/IN the/AT election/NN ,/, ``/`` deserves/VBZ the/AT praise/NN and/CC thanks/NNS of/IN the/AT city/NN of/IN atlanta/NP ''/'' for/IN the/AT manner/NN in/IN which/WDT the/AT election/NN was/BEDZ conducted/VBN ./.\n",
      "\n",
      "Untagged: the jury further said in term-end presentments that the city executive committee , which had over-all charge of the election , `` deserves the praise and thanks of the city of atlanta '' for the manner in which the election was conducted .\n",
      "\n",
      "HMM-tagged: the/AT jury/NN further/RBR said/VBD in/IN term-end/AT presentments/NN that/CS the/AT city/NN executive/NN committee/NN ,/, which/WDT had/HVD over-all/VBN charge/NN of/IN the/AT election/NN ,/, ``/`` deserves/VBZ the/AT praise/NN and/CC thanks/NNS of/IN the/AT city/NN of/IN atlanta/NP ''/'' for/IN the/AT manner/NN in/IN which/WDT the/AT election/NN was/BEDZ conducted/VBN ./.\n",
      "\n",
      "Entropy: 27.0708725519\n",
      "\n",
      "------------------------------------------------------------\n",
      "Test: the/AT september-october/NP term/NN jury/NN had/HVD been/BEN charged/VBN by/IN fulton/NP superior/JJ court/NN judge/NN durwood/NP pye/NP to/TO investigate/VB reports/NNS of/IN possible/JJ ``/`` irregularities/NNS ''/'' in/IN the/AT hard-fought/JJ primary/NN which/WDT was/BEDZ won/VBN by/IN mayor-nominate/NN ivan/NP allen/NP jr./NP ./.\n",
      "\n",
      "Untagged: the september-october term jury had been charged by fulton superior court judge durwood pye to investigate reports of possible `` irregularities '' in the hard-fought primary which was won by mayor-nominate ivan allen jr. .\n",
      "\n",
      "HMM-tagged: the/AT september-october/JJ term/NN jury/NN had/HVD been/BEN charged/VBN by/IN fulton/NP superior/JJ court/NN judge/NN durwood/TO pye/VB to/TO investigate/VB reports/NNS of/IN possible/JJ ``/`` irregularities/NNS ''/'' in/IN the/AT hard-fought/JJ primary/NN which/WDT was/BEDZ won/VBN by/IN mayor-nominate/NP ivan/NP allen/NP jr./NP ./.\n",
      "\n",
      "Entropy: 33.8281874237\n",
      "\n",
      "------------------------------------------------------------\n",
      "Test: ``/`` only/RB a/AT relative/JJ handful/NN of/IN such/JJ reports/NNS was/BEDZ received/VBN ''/'' ,/, the/AT jury/NN said/VBD ,/, ``/`` considering/IN the/AT widespread/JJ interest/NN in/IN the/AT election/NN ,/, the/AT number/NN of/IN voters/NNS and/CC the/AT size/NN of/IN this/DT city/NN ''/'' ./.\n",
      "\n",
      "Untagged: `` only a relative handful of such reports was received '' , the jury said , `` considering the widespread interest in the election , the number of voters and the size of this city '' .\n",
      "\n",
      "HMM-tagged: ``/`` only/RB a/AT relative/JJ handful/NN of/IN such/JJ reports/NNS was/BEDZ received/VBN ''/'' ,/, the/AT jury/NN said/VBD ,/, ``/`` considering/IN the/AT widespread/JJ interest/NN in/IN the/AT election/NN ,/, the/AT number/NN of/IN voters/NNS and/CC the/AT size/NN of/IN this/DT city/NN ''/'' ./.\n",
      "\n",
      "Entropy: 11.4378198596\n",
      "\n",
      "------------------------------------------------------------\n",
      "Test: the/AT jury/NN said/VBD it/PPS did/DOD find/VB that/CS many/AP of/IN georgia's/NP$ registration/NN and/CC election/NN laws/NNS ``/`` are/BER outmoded/JJ or/CC inadequate/JJ and/CC often/RB ambiguous/JJ ''/'' ./.\n",
      "\n",
      "Untagged: the jury said it did find that many of georgia's registration and election laws `` are outmoded or inadequate and often ambiguous '' .\n",
      "\n",
      "HMM-tagged: the/AT jury/NN said/VBD it/PPS did/DOD find/VB that/CS many/AP of/IN georgia's/NP$ registration/NN and/CC election/NN laws/NNS ``/`` are/BER outmoded/VBG or/CC inadequate/JJ and/CC often/RB ambiguous/VB ''/'' ./.\n",
      "\n",
      "Entropy: 20.8163623192\n",
      "\n",
      "------------------------------------------------------------\n",
      "Test: it/PPS recommended/VBD that/CS fulton/NP legislators/NNS act/VB ``/`` to/TO have/HV these/DTS laws/NNS studied/VBN and/CC revised/VBN to/IN the/AT end/NN of/IN modernizing/VBG and/CC improving/VBG them/PPO ''/'' ./.\n",
      "\n",
      "Untagged: it recommended that fulton legislators act `` to have these laws studied and revised to the end of modernizing and improving them '' .\n",
      "\n",
      "HMM-tagged: it/PPS recommended/VBD that/CS fulton/NP legislators/NNS act/VB ``/`` to/TO have/HV these/DTS laws/NNS studied/VBD and/CC revised/VBD to/IN the/AT end/NN of/IN modernizing/NP and/CC improving/VBG them/PPO ''/'' ./.\n",
      "\n",
      "Entropy: 20.3244921203\n",
      "\n",
      "------------------------------------------------------------\n",
      "Test: the/AT grand/JJ jury/NN commented/VBD on/IN a/AT number/NN of/IN other/AP topics/NNS ,/, among/IN them/PPO the/AT atlanta/NP and/CC fulton/NP county/NN purchasing/VBG departments/NNS which/WDT it/PPS said/VBD ``/`` are/BER well/QL operated/VBN and/CC follow/VB generally/RB accepted/VBN practices/NNS which/WDT inure/VB to/IN the/AT best/JJT interest/NN of/IN both/ABX governments/NNS ''/'' ./.\n",
      "\n",
      "Untagged: the grand jury commented on a number of other topics , among them the atlanta and fulton county purchasing departments which it said `` are well operated and follow generally accepted practices which inure to the best interest of both governments '' .\n",
      "\n",
      "HMM-tagged: the/AT grand/JJ jury/NN commented/VBD on/IN a/AT number/NN of/IN other/AP topics/NNS ,/, among/IN them/PPO the/AT atlanta/NP and/CC fulton/NP county/NN purchasing/NN departments/NNS which/WDT it/PPS said/VBD ``/`` are/BER well/RB operated/VBN and/CC follow/VB generally/RB accepted/VBN practices/NNS which/WDT inure/VBZ to/IN the/AT best/JJT interest/NN of/IN both/ABX governments/NNS ''/'' ./.\n",
      "\n",
      "Entropy: 31.3834231469\n",
      "\n",
      "------------------------------------------------------------\n",
      "Test: merger/NN proposed/VBN\n",
      "\n",
      "Untagged: merger proposed\n",
      "\n",
      "HMM-tagged: merger/PPS proposed/VBD\n",
      "\n",
      "Entropy: 5.6718203946\n",
      "\n",
      "------------------------------------------------------------\n",
      "Test: however/WRB ,/, the/AT jury/NN said/VBD it/PPS believes/VBZ ``/`` these/DTS two/CD offices/NNS should/MD be/BE combined/VBN to/TO achieve/VB greater/JJR efficiency/NN and/CC reduce/VB the/AT cost/NN of/IN administration/NN ''/'' ./.\n",
      "\n",
      "Untagged: however , the jury said it believes `` these two offices should be combined to achieve greater efficiency and reduce the cost of administration '' .\n",
      "\n",
      "HMM-tagged: however/WRB ,/, the/AT jury/NN said/VBD it/PPS believes/VBZ ``/`` these/DTS two/CD offices/NNS should/MD be/BE combined/VBN to/TO achieve/VB greater/JJR efficiency/NN and/CC reduce/VB the/AT cost/NN of/IN administration/NN ''/'' ./.\n",
      "\n",
      "Entropy: 8.27545943909\n",
      "\n",
      "------------------------------------------------------------\n",
      "Test: the/AT city/NN purchasing/VBG department/NN ,/, the/AT jury/NN said/VBD ,/, ``/`` is/BEZ lacking/VBG in/IN experienced/VBN clerical/JJ personnel/NNS as/CS a/AT result/NN of/IN city/NN personnel/NNS policies/NNS ''/'' ./.\n",
      "\n",
      "Untagged: the city purchasing department , the jury said , `` is lacking in experienced clerical personnel as a result of city personnel policies '' .\n",
      "\n",
      "HMM-tagged: the/AT city/NN purchasing/NN department/NN ,/, the/AT jury/NN said/VBD ,/, ``/`` is/BEZ lacking/VBG in/IN experienced/AT clerical/JJ personnel/NNS as/CS a/AT result/NN of/IN city/NN personnel/NNS policies/NNS ''/'' ./.\n",
      "\n",
      "Entropy: 16.7622537278\n",
      "\n",
      "------------------------------------------------------------\n",
      "accuracy over 284 tokens: 92.96\n"
     ]
    }
   ],
   "source": [
    "import nltk\n",
    "nltk.tag.hmm.demo_pos()"
   ]
  },
  {
   "cell_type": "markdown",
   "metadata": {},
   "source": [
    "命名实体标注器的结果（元组），可以看作(response, answer key)，由此得到以下定义：\n",
    "\n",
    "    • Correct: If the response is exactly the same as answer key\n",
    "    • Incorrect: If the response is not same as answer key\n",
    "    • Missing: If answer key is found tagged, but response is not tagged\n",
    "    • Spurious: If response is found tagged, but answer key is not tagged\n",
    "    \n",
    "从而有NER模型的性能度量：\n",
    "\n",
    "    • Precision (P): correct/(correct + incorrect + missing)                                       \n",
    "    • Recall (R): correct / (correct +incorrect + spurious)                               \n",
    "    • F-Measure:  2 x P x R / (P + R )                      "
   ]
  },
  {
   "cell_type": "markdown",
   "metadata": {
    "collapsed": true
   },
   "source": [
    "# Training NER using Machine Learning Toolkits\n",
    "NER can be performed using the following approaches:\n",
    "\n",
    "    • Rule-based or Handcrafted approach:\n",
    "          List Lookup approach\n",
    "          Linguistic approach\n",
    "    • Machine Learning-based approach or Automated approach:\n",
    "          Hidden Markov Model\n",
    "          Maximum Entropy Markov Model\n",
    "          Conditional Random Fields\n",
    "          Support Vector Machine\n",
    "          Decision Trees"
   ]
  },
  {
   "cell_type": "markdown",
   "metadata": {},
   "source": [
    "# NER using POS tagging\n",
    "标注词性，然后根据词性检测命名实体。\n",
    "比如词性标注为NNP(proper noun) 的 即是 命名实体"
   ]
  },
  {
   "cell_type": "code",
   "execution_count": 1,
   "metadata": {
    "collapsed": false
   },
   "outputs": [
    {
     "data": {
      "text/plain": [
       "[('John', 'NNP'),\n",
       " ('and', 'CC'),\n",
       " ('Smith', 'NNP'),\n",
       " ('are', 'VBP'),\n",
       " ('going', 'VBG'),\n",
       " ('to', 'TO'),\n",
       " ('NY', 'NNP'),\n",
       " ('and', 'CC'),\n",
       " ('Germany', 'NNP')]"
      ]
     },
     "execution_count": 1,
     "metadata": {},
     "output_type": "execute_result"
    }
   ],
   "source": [
    "import nltk\n",
    "from nltk import pos_tag, word_tokenize\n",
    "pos_tag(word_tokenize(\"John and Smith are going to NY and Germany\"))"
   ]
  },
  {
   "cell_type": "markdown",
   "metadata": {},
   "source": [
    "Jonh, Smith, NY, Germany 是NNP，也是表示人名、地名的Named entities"
   ]
  },
  {
   "cell_type": "code",
   "execution_count": 2,
   "metadata": {
    "collapsed": false
   },
   "outputs": [
    {
     "name": "stdout",
     "output_type": "stream",
     "text": [
      "John -> NP\n",
      "and -> CC\n",
      "Smith -> None\n",
      "are -> BER\n",
      "going -> VBG\n",
      "to -> TO\n",
      "NY -> None\n",
      "and -> CC\n",
      "Germany -> None\n"
     ]
    }
   ],
   "source": [
    "import nltk\n",
    "from nltk.corpus import brown\n",
    "from nltk.tag import UnigramTagger\n",
    "tagger = UnigramTagger(brown.tagged_sents(categories='news')[:700]) # 限定了训练范围，所以有些token的tag是None\n",
    "sentence = ['John','and','Smith','are','going','to','NY','and','Germany']\n",
    "for word,tag in tagger.tag(sentence):\n",
    "    print(word,'->',tag)"
   ]
  },
  {
   "cell_type": "markdown",
   "metadata": {},
   "source": [
    "John 标注为NP，是命名实体；有些词的标注是None，因为这些token没有被trained 到"
   ]
  },
  {
   "cell_type": "markdown",
   "metadata": {},
   "source": [
    "# 从WordNet生成同义词集的ID\n",
    "WordNet可以定义为一个英语词汇数据库\n",
    "这个词与词之间的概念从属，如上位词，同义词，反义词，和下义词，可以通过synsets得到。"
   ]
  },
  {
   "cell_type": "markdown",
   "metadata": {},
   "source": [
    "### look up a word using synsets:"
   ]
  },
  {
   "cell_type": "code",
   "execution_count": 4,
   "metadata": {
    "collapsed": false
   },
   "outputs": [
    {
     "data": {
      "text/plain": [
       "[Synset('cat.n.01'),\n",
       " Synset('guy.n.01'),\n",
       " Synset('cat.n.03'),\n",
       " Synset('kat.n.01'),\n",
       " Synset('cat-o'-nine-tails.n.01'),\n",
       " Synset('caterpillar.n.02'),\n",
       " Synset('big_cat.n.01'),\n",
       " Synset('computerized_tomography.n.01'),\n",
       " Synset('cat.v.01'),\n",
       " Synset('vomit.v.01')]"
      ]
     },
     "execution_count": 4,
     "metadata": {},
     "output_type": "execute_result"
    }
   ],
   "source": [
    "import nltk\n",
    "from nltk.corpus import wordnet\n",
    "wordnet.synsets('cat')"
   ]
  },
  {
   "cell_type": "code",
   "execution_count": 5,
   "metadata": {
    "collapsed": false
   },
   "outputs": [
    {
     "data": {
      "text/plain": [
       "[Synset('cat.v.01'), Synset('vomit.v.01')]"
      ]
     },
     "execution_count": 5,
     "metadata": {},
     "output_type": "execute_result"
    }
   ],
   "source": [
    "wordnet.synsets('cat',pos=wordnet.VERB)"
   ]
  },
  {
   "cell_type": "code",
   "execution_count": 14,
   "metadata": {
    "collapsed": false
   },
   "outputs": [
    {
     "data": {
      "text/plain": [
       "Synset('cat.n.01')"
      ]
     },
     "execution_count": 14,
     "metadata": {},
     "output_type": "execute_result"
    }
   ],
   "source": [
    "wordnet.synset('cat.n.01') # 注意不是synsets"
   ]
  },
  {
   "cell_type": "markdown",
   "metadata": {},
   "source": [
    "***cat.n.01*** means that **cat** is of the **noun** category and **only one** meaning of *cat* exists:"
   ]
  },
  {
   "cell_type": "code",
   "execution_count": 15,
   "metadata": {
    "collapsed": false
   },
   "outputs": [
    {
     "name": "stdout",
     "output_type": "stream",
     "text": [
      "feline mammal usually having thick soft fur and no ability to roar: domestic cats; wildcats\n"
     ]
    }
   ],
   "source": [
    "print(wordnet.synset('cat.n.01').definition())"
   ]
  },
  {
   "cell_type": "code",
   "execution_count": 17,
   "metadata": {
    "collapsed": false
   },
   "outputs": [
    {
     "data": {
      "text/plain": [
       "0"
      ]
     },
     "execution_count": 17,
     "metadata": {},
     "output_type": "execute_result"
    }
   ],
   "source": [
    "len(wordnet.synset('cat.n.01').examples())"
   ]
  },
  {
   "cell_type": "code",
   "execution_count": 19,
   "metadata": {
    "collapsed": false
   },
   "outputs": [
    {
     "data": {
      "text/plain": [
       "[Lemma('cat.n.01.cat'), Lemma('cat.n.01.true_cat')]"
      ]
     },
     "execution_count": 19,
     "metadata": {},
     "output_type": "execute_result"
    }
   ],
   "source": [
    "wordnet.synset('cat.n.01').lemmas()"
   ]
  },
  {
   "cell_type": "code",
   "execution_count": 21,
   "metadata": {
    "collapsed": false
   },
   "outputs": [
    {
     "data": {
      "text/plain": [
       "['cat', 'true_cat']"
      ]
     },
     "execution_count": 21,
     "metadata": {},
     "output_type": "execute_result"
    }
   ],
   "source": [
    "[str(lemma.name()) for lemma in wordnet.synset('cat.n.01').lemmas()]"
   ]
  },
  {
   "cell_type": "code",
   "execution_count": 22,
   "metadata": {
    "collapsed": false
   },
   "outputs": [
    {
     "data": {
      "text/plain": [
       "Synset('cat.n.01')"
      ]
     },
     "execution_count": 22,
     "metadata": {},
     "output_type": "execute_result"
    }
   ],
   "source": [
    "wordnet.lemma('cat.n.01.cat').synset()"
   ]
  },
  {
   "cell_type": "markdown",
   "metadata": {},
   "source": [
    "### the use of Synsets and Open Multilingual Wordnet using ISO 639 language codes:"
   ]
  },
  {
   "cell_type": "code",
   "execution_count": 25,
   "metadata": {
    "collapsed": false
   },
   "outputs": [
    {
     "data": {
      "text/plain": [
       "['als',\n",
       " 'arb',\n",
       " 'bul',\n",
       " 'cat',\n",
       " 'cmn',\n",
       " 'dan',\n",
       " 'ell',\n",
       " 'eng',\n",
       " 'eus',\n",
       " 'fas',\n",
       " 'fin',\n",
       " 'fra',\n",
       " 'glg',\n",
       " 'heb',\n",
       " 'hrv',\n",
       " 'ind',\n",
       " 'ita',\n",
       " 'jpn',\n",
       " 'nno',\n",
       " 'nob',\n",
       " 'pol',\n",
       " 'por',\n",
       " 'qcn',\n",
       " 'slv',\n",
       " 'spa',\n",
       " 'swe',\n",
       " 'tha',\n",
       " 'zsm']"
      ]
     },
     "execution_count": 25,
     "metadata": {},
     "output_type": "execute_result"
    }
   ],
   "source": [
    "import nltk\n",
    "from nltk.corpus import wordnet as wn\n",
    "sorted(wn.langs())"
   ]
  },
  {
   "cell_type": "code",
   "execution_count": 26,
   "metadata": {
    "collapsed": false
   },
   "outputs": [
    {
     "data": {
      "text/plain": [
       "['gatto']"
      ]
     },
     "execution_count": 26,
     "metadata": {},
     "output_type": "execute_result"
    }
   ],
   "source": [
    "wn.synset('cat.n.01').lemma_names('ita')"
   ]
  },
  {
   "cell_type": "code",
   "execution_count": 27,
   "metadata": {
    "collapsed": false
   },
   "outputs": [
    {
     "data": {
      "text/plain": [
       "[Lemma('cat.n.01.kat'), Lemma('cat.n.01.mis'), Lemma('cat.n.01.missekat')]"
      ]
     },
     "execution_count": 27,
     "metadata": {},
     "output_type": "execute_result"
    }
   ],
   "source": [
    "sorted(wn.synset('cat.n.01').lemmas('dan'))"
   ]
  },
  {
   "cell_type": "code",
   "execution_count": 28,
   "metadata": {
    "collapsed": false
   },
   "outputs": [
    {
     "data": {
      "text/plain": [
       "[Lemma('cat.n.01.Gato-doméstico'),\n",
       " Lemma('cat.n.01.Gato_doméstico'),\n",
       " Lemma('cat.n.01.bichano'),\n",
       " Lemma('cat.n.01.gata'),\n",
       " Lemma('cat.n.01.gato'),\n",
       " Lemma('cat.n.01.gato-doméstico')]"
      ]
     },
     "execution_count": 28,
     "metadata": {},
     "output_type": "execute_result"
    }
   ],
   "source": [
    "sorted(wn.synset('cat.n.01').lemmas('por'))"
   ]
  },
  {
   "cell_type": "code",
   "execution_count": 29,
   "metadata": {
    "collapsed": false
   },
   "outputs": [
    {
     "data": {
      "text/plain": [
       "64797"
      ]
     },
     "execution_count": 29,
     "metadata": {},
     "output_type": "execute_result"
    }
   ],
   "source": [
    "len(wordnet.all_lemma_names(pos='n', lang='jpn'))"
   ]
  },
  {
   "cell_type": "code",
   "execution_count": 33,
   "metadata": {
    "collapsed": false
   },
   "outputs": [
    {
     "data": {
      "text/plain": [
       "[Lemma('cat.n.01.にゃんにゃん'),\n",
       " Lemma('cat.n.01.キャット'),\n",
       " Lemma('cat.n.01.ネコ'),\n",
       " Lemma('cat.n.01.猫')]"
      ]
     },
     "execution_count": 33,
     "metadata": {},
     "output_type": "execute_result"
    }
   ],
   "source": [
    "sorted(wn.synset('cat.n.01').lemmas('jpn'))"
   ]
  },
  {
   "cell_type": "code",
   "execution_count": 34,
   "metadata": {
    "collapsed": false
   },
   "outputs": [
    {
     "data": {
      "text/plain": [
       "[Synset('feline.n.01')]"
      ]
     },
     "execution_count": 34,
     "metadata": {},
     "output_type": "execute_result"
    }
   ],
   "source": [
    "cat = wn.synset('cat.n.01')\n",
    "cat.hypernyms()"
   ]
  },
  {
   "cell_type": "code",
   "execution_count": 35,
   "metadata": {
    "collapsed": false
   },
   "outputs": [
    {
     "data": {
      "text/plain": [
       "[Synset('domestic_cat.n.01'), Synset('wildcat.n.03')]"
      ]
     },
     "execution_count": 35,
     "metadata": {},
     "output_type": "execute_result"
    }
   ],
   "source": [
    "cat.hyponyms()"
   ]
  },
  {
   "cell_type": "code",
   "execution_count": 36,
   "metadata": {
    "collapsed": false
   },
   "outputs": [
    {
     "data": {
      "text/plain": [
       "[Synset('entity.n.01')]"
      ]
     },
     "execution_count": 36,
     "metadata": {},
     "output_type": "execute_result"
    }
   ],
   "source": [
    "cat.root_hypernyms()"
   ]
  },
  {
   "cell_type": "code",
   "execution_count": 37,
   "metadata": {
    "collapsed": false
   },
   "outputs": [
    {
     "data": {
      "text/plain": [
       "[Synset('carnivore.n.01')]"
      ]
     },
     "execution_count": 37,
     "metadata": {},
     "output_type": "execute_result"
    }
   ],
   "source": [
    "wn.synset('cat.n.01').lowest_common_hypernyms(wn.synset('dog.n.01'))"
   ]
  },
  {
   "cell_type": "markdown",
   "metadata": {},
   "source": [
    "# 消除歧义\n",
    "WordNet语义相似度，NLTK中的度量算法有\n",
    "\n",
    "### Path Distance Similarity:\n"
   ]
  },
  {
   "cell_type": "code",
   "execution_count": 38,
   "metadata": {
    "collapsed": false
   },
   "outputs": [
    {
     "data": {
      "text/plain": [
       "0.25"
      ]
     },
     "execution_count": 38,
     "metadata": {},
     "output_type": "execute_result"
    }
   ],
   "source": [
    "import nltk\n",
    "from nltk.corpus import wordnet as wn\n",
    "lion = wn.synset('lion.n.01')\n",
    "cat = wn.synset('cat.n.01')\n",
    "lion.path_similarity(cat)"
   ]
  },
  {
   "cell_type": "markdown",
   "metadata": {},
   "source": [
    "### Leacock Chodorow Similarity:"
   ]
  },
  {
   "cell_type": "code",
   "execution_count": 40,
   "metadata": {
    "collapsed": false
   },
   "outputs": [
    {
     "data": {
      "text/plain": [
       "3.6375861597263857"
      ]
     },
     "execution_count": 40,
     "metadata": {},
     "output_type": "execute_result"
    }
   ],
   "source": [
    "import nltk\n",
    "from nltk.corpus import wordnet as wn\n",
    "lion = wn.synset('lion.n.01')\n",
    "cat = wn.synset('lion.n.01')\n",
    "lion.lch_similarity(cat)"
   ]
  },
  {
   "cell_type": "markdown",
   "metadata": {},
   "source": [
    "### Wu-Palmer Similarity:\n"
   ]
  },
  {
   "cell_type": "code",
   "execution_count": 42,
   "metadata": {
    "collapsed": false
   },
   "outputs": [
    {
     "data": {
      "text/plain": [
       "1.0"
      ]
     },
     "execution_count": 42,
     "metadata": {},
     "output_type": "execute_result"
    }
   ],
   "source": [
    "lion.wup_similarity(cat)"
   ]
  },
  {
   "cell_type": "markdown",
   "metadata": {},
   "source": [
    "### Resnik Similarity, Lin Similarity, and Jiang-Conrath Similarity:"
   ]
  },
  {
   "cell_type": "code",
   "execution_count": 43,
   "metadata": {
    "collapsed": true
   },
   "outputs": [],
   "source": [
    "from IPython.core.interactiveshell import InteractiveShell\n",
    "InteractiveShell.ast_node_interactivity = 'all'"
   ]
  },
  {
   "cell_type": "code",
   "execution_count": 44,
   "metadata": {
    "collapsed": true
   },
   "outputs": [],
   "source": [
    "import nltk\n",
    "from nltk.corpus import wordnet\n",
    "from nltk.corpus import wordnet_ic\n"
   ]
  },
  {
   "cell_type": "code",
   "execution_count": 46,
   "metadata": {
    "collapsed": false
   },
   "outputs": [
    {
     "data": {
      "text/plain": [
       "8.663481537685325"
      ]
     },
     "execution_count": 46,
     "metadata": {},
     "output_type": "execute_result"
    }
   ],
   "source": [
    "brown_ic = wordnet_ic.ic('ic-brown.dat')\n",
    "semcor_ic = wordnet_ic.ic('ic-semcor.dat')\n",
    "from nltk.corpus import genesis\n",
    "genesis_ic = wn.ic(genesis, False, 0.0)\n",
    "lion = wn.synset('lion.n.01')\n",
    "cat = wn.synset('cat.n.01')\n"
   ]
  },
  {
   "cell_type": "code",
   "execution_count": 50,
   "metadata": {
    "collapsed": false
   },
   "outputs": [
    {
     "data": {
      "text/plain": [
       "8.663481537685325"
      ]
     },
     "execution_count": 50,
     "metadata": {},
     "output_type": "execute_result"
    }
   ],
   "source": [
    "lion.res_similarity(cat, brown_ic)"
   ]
  },
  {
   "cell_type": "code",
   "execution_count": 49,
   "metadata": {
    "collapsed": false
   },
   "outputs": [
    {
     "data": {
      "text/plain": [
       "7.339696591781996"
      ]
     },
     "execution_count": 49,
     "metadata": {},
     "output_type": "execute_result"
    }
   ],
   "source": [
    "lion.res_similarity(cat, genesis_ic)"
   ]
  },
  {
   "cell_type": "code",
   "execution_count": 52,
   "metadata": {
    "collapsed": false
   },
   "outputs": [
    {
     "data": {
      "text/plain": [
       "0.36425897775957294"
      ]
     },
     "execution_count": 52,
     "metadata": {},
     "output_type": "execute_result"
    }
   ],
   "source": [
    "lion.jcn_similarity(cat, brown_ic)"
   ]
  },
  {
   "cell_type": "code",
   "execution_count": 51,
   "metadata": {
    "collapsed": false,
    "scrolled": true
   },
   "outputs": [
    {
     "data": {
      "text/plain": [
       "0.30578008567889475"
      ]
     },
     "execution_count": 51,
     "metadata": {},
     "output_type": "execute_result"
    }
   ],
   "source": [
    "lion.jcn_similarity(cat, genesis_ic)"
   ]
  },
  {
   "cell_type": "code",
   "execution_count": 53,
   "metadata": {
    "collapsed": false
   },
   "outputs": [
    {
     "data": {
      "text/plain": [
       "0.8560734335071154"
      ]
     },
     "execution_count": 53,
     "metadata": {},
     "output_type": "execute_result"
    }
   ],
   "source": [
    "lion.lin_similarity(cat, semcor_ic)"
   ]
  },
  {
   "cell_type": "code",
   "execution_count": null,
   "metadata": {
    "collapsed": true
   },
   "outputs": [],
   "source": []
  },
  {
   "cell_type": "code",
   "execution_count": null,
   "metadata": {
    "collapsed": true
   },
   "outputs": [],
   "source": []
  },
  {
   "cell_type": "code",
   "execution_count": null,
   "metadata": {
    "collapsed": true
   },
   "outputs": [],
   "source": []
  }
 ],
 "metadata": {
  "kernelspec": {
   "display_name": "Python 3",
   "language": "python",
   "name": "python3"
  },
  "language_info": {
   "codemirror_mode": {
    "name": "ipython",
    "version": 3
   },
   "file_extension": ".py",
   "mimetype": "text/x-python",
   "name": "python",
   "nbconvert_exporter": "python",
   "pygments_lexer": "ipython3",
   "version": "3.6.0"
  }
 },
 "nbformat": 4,
 "nbformat_minor": 2
}

{
 "cells": [
  {
   "cell_type": "markdown",
   "metadata": {},
   "source": [
    "# 语义分析，或者语义生成\n",
    "定义是：确定字符列或word sequences 意思的过程。可用于歧义消除的任务。\n",
    "\n",
    "当分析一个输入的句子时，如果句子结构已经建立，那么可以进行该句的语义分析。\n",
    "\n",
    "语义解释就是把意义映射到句子中。\n",
    "\n",
    "语境解释（contextual interpretation）是将逻辑形式映射到knowledge representation。\n",
    "\n",
    "语义分析的基本单位或基本单位称为meaning或sense。\n",
    "\n",
    "几个处理senses 的工具：\n",
    "\n",
    "    * ELIZA：它利用替换和模式匹配技术分析句子，并为给定的输入提供输出。\n",
    "    * MARGIE：它可以用11个原语primitives 来表示所有的英语动词。\n",
    "    * Script Applier Mechanism (SAM)：它可以翻译不同语言的句子，如英语、汉语、俄语、荷兰语和西班牙语。\n",
    "    * 为了实现对文本数据的处理，要使用一个Python库或是TextBlob\n",
    "    \n",
    "语义分析可以用来查询数据库和检索信息。\n",
    "\n",
    "    * 另一个Python库，Gensim，可以用来执行文件索引，主题建模，和相似性检索。\n",
    "    * Polyglot 支持多种语言的应用的NLP工具。它提供40种不同语言的NER，165种for tokenization，165种for 语音分析……\n",
    "    * MontyLingua用于对英语文本进行语义解释\n",
    "    \n",
    "# 句子可以用逻辑形式来表现。\n",
    "命题逻辑 propositional logic 中的基本表达式或句子可用命题符号表示，比如P，Q，R等。\n",
    "复数表达式可以用布尔运算符表示。\n",
    "\n",
    "例如，用propositional logic 来表示句子：If it is raining, I'll wear a raincoat \n",
    "\n",
    "    • P: It is raining.\n",
    "    • Q: I'll wear raincoat.\n",
    "    • P->Q: If it is raining, I'll wear a raincoat."
   ]
  },
  {
   "cell_type": "markdown",
   "metadata": {},
   "source": [
    "## 一些操作符号："
   ]
  },
  {
   "cell_type": "code",
   "execution_count": 1,
   "metadata": {
    "collapsed": false
   },
   "outputs": [
    {
     "name": "stdout",
     "output_type": "stream",
     "text": [
      "negation       \t-\n",
      "conjunction    \t&\n",
      "disjunction    \t|\n",
      "implication    \t->\n",
      "equivalence    \t<->\n"
     ]
    }
   ],
   "source": [
    "import nltk\n",
    "nltk.boolean_ops()"
   ]
  },
  {
   "cell_type": "markdown",
   "metadata": {},
   "source": [
    "## Well-formed Formulas(WFF) 合语法的公式的构成：\n",
    "使用propositional symbols 命题符号或 使用命题符号和上述boolean operators布尔操作符的组合"
   ]
  },
  {
   "cell_type": "markdown",
   "metadata": {},
   "source": [
    "#### 将不同的逻辑表达式 归为不同的类："
   ]
  },
  {
   "cell_type": "code",
   "execution_count": 5,
   "metadata": {
    "collapsed": false
   },
   "outputs": [
    {
     "data": {
      "text/plain": [
       "<OrExpression (X | (Y -> Z))>"
      ]
     },
     "execution_count": 5,
     "metadata": {},
     "output_type": "execute_result"
    }
   ],
   "source": [
    "import nltk\n",
    "input_expr = nltk.sem.Expression.fromstring\n",
    "input_expr('X | (Y -> Z)')"
   ]
  },
  {
   "cell_type": "code",
   "execution_count": 6,
   "metadata": {
    "collapsed": false
   },
   "outputs": [
    {
     "data": {
      "text/plain": [
       "<NegatedExpression -(X & Y)>"
      ]
     },
     "execution_count": 6,
     "metadata": {},
     "output_type": "execute_result"
    }
   ],
   "source": [
    "input_expr('-(X & Y)')"
   ]
  },
  {
   "cell_type": "code",
   "execution_count": 7,
   "metadata": {
    "collapsed": false
   },
   "outputs": [
    {
     "data": {
      "text/plain": [
       "<AndExpression (X & Y)>"
      ]
     },
     "execution_count": 7,
     "metadata": {},
     "output_type": "execute_result"
    }
   ],
   "source": [
    "input_expr('X & Y')"
   ]
  },
  {
   "cell_type": "code",
   "execution_count": 8,
   "metadata": {
    "collapsed": false
   },
   "outputs": [
    {
     "data": {
      "text/plain": [
       "<IffExpression (X <-> --X)>"
      ]
     },
     "execution_count": 8,
     "metadata": {},
     "output_type": "execute_result"
    }
   ],
   "source": [
    "input_expr('X <-> -- X')"
   ]
  },
  {
   "cell_type": "markdown",
   "metadata": {},
   "source": [
    "使用***Valuation*** function to map **True** or **False** values to logical expressions"
   ]
  },
  {
   "cell_type": "code",
   "execution_count": 9,
   "metadata": {
    "collapsed": false
   },
   "outputs": [
    {
     "data": {
      "text/plain": [
       "True"
      ]
     },
     "execution_count": 9,
     "metadata": {},
     "output_type": "execute_result"
    }
   ],
   "source": [
    "import nltk\n",
    "value = nltk.Valuation([('X', True), ('Y', False), ('Z', True)])\n",
    "value['Z']"
   ]
  },
  {
   "cell_type": "code",
   "execution_count": 10,
   "metadata": {
    "collapsed": false
   },
   "outputs": [
    {
     "name": "stdout",
     "output_type": "stream",
     "text": [
      "False\n",
      "True\n",
      "True\n",
      "True\n"
     ]
    }
   ],
   "source": [
    "domain = set()\n",
    "v = nltk.Assignment(domain)\n",
    "u = nltk.Model(domain, value)\n",
    "print(u.evaluate('(X & Y)', v))\n",
    "print(u.evaluate('-(X & Y)',v))\n",
    "print(u.evaluate('(X & Z)', v))\n",
    "print(u.evaluate('(X | Y)', v))"
   ]
  },
  {
   "cell_type": "markdown",
   "metadata": {},
   "source": [
    "#### 涉及常数和谓词的一阶谓词逻辑："
   ]
  },
  {
   "cell_type": "code",
   "execution_count": 11,
   "metadata": {
    "collapsed": false
   },
   "outputs": [
    {
     "data": {
      "text/plain": [
       "<ConstantExpression marcus>"
      ]
     },
     "execution_count": 11,
     "metadata": {},
     "output_type": "execute_result"
    }
   ],
   "source": [
    "import nltk\n",
    "input_expr = nltk.sem.Expression.fromstring\n",
    "expression = input_expr('run(marcus)', type_check=True)\n",
    "expression.argument"
   ]
  },
  {
   "cell_type": "code",
   "execution_count": 12,
   "metadata": {
    "collapsed": false
   },
   "outputs": [
    {
     "data": {
      "text/plain": [
       "e"
      ]
     },
     "execution_count": 12,
     "metadata": {},
     "output_type": "execute_result"
    }
   ],
   "source": [
    "expression.argument.type"
   ]
  },
  {
   "cell_type": "code",
   "execution_count": 13,
   "metadata": {
    "collapsed": false
   },
   "outputs": [
    {
     "data": {
      "text/plain": [
       "<ConstantExpression run>"
      ]
     },
     "execution_count": 13,
     "metadata": {},
     "output_type": "execute_result"
    }
   ],
   "source": [
    "expression.function"
   ]
  },
  {
   "cell_type": "code",
   "execution_count": 14,
   "metadata": {
    "collapsed": false
   },
   "outputs": [
    {
     "data": {
      "text/plain": [
       "<e,?>"
      ]
     },
     "execution_count": 14,
     "metadata": {},
     "output_type": "execute_result"
    }
   ],
   "source": [
    "expression.function.type"
   ]
  },
  {
   "cell_type": "code",
   "execution_count": 15,
   "metadata": {
    "collapsed": false
   },
   "outputs": [
    {
     "data": {
      "text/plain": [
       "<e,?>"
      ]
     },
     "execution_count": 15,
     "metadata": {},
     "output_type": "execute_result"
    }
   ],
   "source": [
    "sign = {'run': '<e, t>'}\n",
    "expresion = input_expr('run(marcus)', signature = sign)\n",
    "expression.function.type"
   ]
  },
  {
   "cell_type": "markdown",
   "metadata": {},
   "source": [
    "#### signature用于映射相关的类型及non-logical constants，\n",
    "to generate a query and retrieve data from the database:"
   ]
  },
  {
   "cell_type": "code",
   "execution_count": 17,
   "metadata": {
    "collapsed": false
   },
   "outputs": [
    {
     "name": "stdout",
     "output_type": "stream",
     "text": [
      "% start S\n",
      "S[SEM=(?np + WHERE + ?vp)] -> NP[SEM=?np] VP[SEM=?vp]\n",
      "VP[SEM=(?v + ?pp)] -> IV[SEM=?v] PP[SEM=?pp]\n",
      "VP[SEM=(?v + ?ap)] -> IV[SEM=?v] AP[SEM=?ap]\n",
      "VP[SEM=(?v + ?np)] -> TV[SEM=?v] NP[SEM=?np]\n",
      "VP[SEM=(?vp1 + ?c + ?vp2)] -> VP[SEM=?vp1] Conj[SEM=?c] VP[SEM=?vp2]\n",
      "NP[SEM=(?det + ?n)] -> Det[SEM=?det] N[SEM=?n]\n",
      "NP[SEM=(?n + ?pp)]  -> N[SEM=?n] PP[SEM=?pp]\n",
      "NP[SEM=?n]  -> N[SEM=?n]  | CardN[SEM=?n] \n",
      "CardN[SEM='1000'] -> '1,000,000' \n",
      "PP[SEM=(?p + ?np)] -> P[SEM=?p] NP[SEM=?np]\n",
      "AP[SEM=?pp] -> A[SEM=?a] PP[SEM=?pp]\n",
      "NP[SEM='Country=\"greece\"'] -> 'Greece'\n",
      "NP[SEM='Country=\"china\"'] -> 'China'\n",
      "Det[SEM='SELECT'] -> 'Which' | 'What'\n",
      "Conj[SEM='AND'] -> 'and'\n",
      "N[SEM='City FROM city_table'] -> 'cities'\n",
      "N[SEM='Population'] -> 'populations'\n",
      "IV[SEM=''] -> 'are'\n",
      "TV[SEM=''] -> 'have'\n",
      "A -> 'located'\n",
      "P[SEM=''] -> 'in'\n",
      "P[SEM='>'] -> 'above'\n"
     ]
    }
   ],
   "source": [
    "import nltk\n",
    "nltk.data.show_cfg('grammars/book_grammars/sql1.fcfg')"
   ]
  },
  {
   "cell_type": "code",
   "execution_count": 19,
   "metadata": {
    "collapsed": false
   },
   "outputs": [
    {
     "data": {
      "text/plain": [
       "[Tree(S[SEM=(SELECT, City FROM city_table, WHERE, , , Country=\"greece\")], [Tree(NP[SEM=(SELECT, City FROM city_table)], [Tree(Det[SEM='SELECT'], ['What']), Tree(N[SEM='City FROM city_table'], ['cities'])]), Tree(VP[SEM=(, , Country=\"greece\")], [Tree(IV[SEM=''], ['are']), Tree(PP[SEM=(, Country=\"greece\")], [Tree(P[SEM=''], ['in']), Tree(NP[SEM='Country=\"greece\"'], ['Greece'])])])])]"
      ]
     },
     "execution_count": 19,
     "metadata": {},
     "output_type": "execute_result"
    }
   ],
   "source": [
    "from nltk import load_parser\n",
    "test = load_parser('grammars/book_grammars/sql1.fcfg')\n",
    "q = ' What cities are in Greece'  # 问：哪座城市在希腊\n",
    "t = list(test.parse(q.split()))  # 通过解析出city,country 这些字段，通过sql语句在数据库中找\n",
    "t"
   ]
  },
  {
   "cell_type": "code",
   "execution_count": 22,
   "metadata": {
    "collapsed": false
   },
   "outputs": [
    {
     "data": {
      "text/plain": [
       "S[SEM=(SELECT, City FROM city_table, WHERE, , , Country=\"greece\")]"
      ]
     },
     "execution_count": 22,
     "metadata": {},
     "output_type": "execute_result"
    }
   ],
   "source": [
    "t[0].label()"
   ]
  },
  {
   "cell_type": "code",
   "execution_count": 24,
   "metadata": {
    "collapsed": false
   },
   "outputs": [
    {
     "data": {
      "text/plain": [
       "['SELECT', 'City FROM city_table', 'WHERE', 'Country=\"greece\"']"
      ]
     },
     "execution_count": 24,
     "metadata": {},
     "output_type": "execute_result"
    }
   ],
   "source": [
    "ans = t[0].label()['SEM']\n",
    "ans = [s for s in ans if s]\n",
    "ans  "
   ]
  },
  {
   "cell_type": "code",
   "execution_count": 25,
   "metadata": {
    "collapsed": false
   },
   "outputs": [
    {
     "data": {
      "text/plain": [
       "'SELECT City FROM city_table WHERE Country=\"greece\"'"
      ]
     },
     "execution_count": 25,
     "metadata": {},
     "output_type": "execute_result"
    }
   ],
   "source": [
    "q = ' '.join(ans)\n",
    "q   # 得到sql query语句："
   ]
  },
  {
   "cell_type": "code",
   "execution_count": 28,
   "metadata": {
    "collapsed": false
   },
   "outputs": [
    {
     "data": {
      "text/plain": [
       "<sqlite3.Cursor at 0x11856cb20>"
      ]
     },
     "execution_count": 28,
     "metadata": {},
     "output_type": "execute_result"
    }
   ],
   "source": [
    "from nltk.sem import chat80\n",
    "r = chat80.sql_query('corpora/city_database/city.db',q) # 参数q即sql语句，用该语句在city数据库中做sql查询\n",
    "r"
   ]
  },
  {
   "cell_type": "code",
   "execution_count": 30,
   "metadata": {
    "collapsed": false
   },
   "outputs": [
    {
     "name": "stdout",
     "output_type": "stream",
     "text": [
      "athens "
     ]
    }
   ],
   "source": [
    "for p in r:    # 遍历结果\n",
    "    print(p[0], end=' ') # Athens 雅典"
   ]
  },
  {
   "cell_type": "markdown",
   "metadata": {},
   "source": [
    "# Introducing NER"
   ]
  },
  {
   "cell_type": "code",
   "execution_count": null,
   "metadata": {
    "collapsed": true
   },
   "outputs": [],
   "source": []
  }
 ],
 "metadata": {
  "kernelspec": {
   "display_name": "Python 3",
   "language": "python",
   "name": "python3"
  },
  "language_info": {
   "codemirror_mode": {
    "name": "ipython",
    "version": 3
   },
   "file_extension": ".py",
   "mimetype": "text/x-python",
   "name": "python",
   "nbconvert_exporter": "python",
   "pygments_lexer": "ipython3",
   "version": "3.6.0"
  }
 },
 "nbformat": 4,
 "nbformat_minor": 2
}

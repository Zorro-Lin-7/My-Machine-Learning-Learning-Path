{
 "cells": [
  {
   "cell_type": "code",
   "execution_count": 1,
   "metadata": {
    "collapsed": true
   },
   "outputs": [],
   "source": [
    "import nltk"
   ]
  },
  {
   "cell_type": "code",
   "execution_count": 2,
   "metadata": {
    "collapsed": true
   },
   "outputs": [],
   "source": [
    "import sys\n",
    "from IPython.core.interactiveshell import InteractiveShell\n",
    "InteractiveShell.ast_node_interactivity = 'all'"
   ]
  },
  {
   "cell_type": "markdown",
   "metadata": {},
   "source": [
    "# Approach 1 ：score = (no_of_ners + no_of_nouns)/float(no_of_tokens)"
   ]
  },
  {
   "cell_type": "markdown",
   "metadata": {},
   "source": [
    "### read the content of the news article "
   ]
  },
  {
   "cell_type": "code",
   "execution_count": 3,
   "metadata": {
    "collapsed": false
   },
   "outputs": [
    {
     "data": {
      "text/plain": [
       "'Tests showed that the chemical fipronil, which can harm people\\'s kidneys, liver and thyroid glands, was found in eggs from the Netherlands.\\nFipronil is used to treat lice and ticks in chickens.\\nOne German official said up to 10 million of the contaminated eggs may have been sold in Germany.\\nChristian Meyer, the agriculture minister for Lower Saxony, told German television that there was a risk to children if they ate two of the eggs a day.\\nAbout 180 poultry farms in the Netherlands have been temporarily shut in recent days while investigations are held.\\nMeanwhile, European supermarkets have moved to halt the distribution of eggs from the affected batches.\\nHowever, Aldi - which has close to 4,000 stores in Germany - is the first retailer to stop selling all eggs as a precaution.\\n\"This is merely a precaution, there is no reason to assume there are any health risks,\" Aldi said in a statement.\\nA spokeswoman for Aldi UK told the BBC its eggs were all British and were not affected by the contamination.\\nReuters reports that investigators believe the chemical may have originated in contaminated detergent used to clean barns.\\nPoultry World reported that fipronil may have been deliberately added to an existing insecticide to improve its effectiveness.\\nThe Netherlands is Europe\\'s largest exporter of eggs and egg products, and one of the biggest in the world. It exports an estimated 65% of the 10 billion eggs it produces every year.'"
      ]
     },
     "execution_count": 3,
     "metadata": {},
     "output_type": "execute_result"
    }
   ],
   "source": [
    "f = open('text_data.txt')\n",
    "news_content = f.read()\n",
    "news_content"
   ]
  },
  {
   "cell_type": "code",
   "execution_count": 4,
   "metadata": {
    "collapsed": false
   },
   "outputs": [
    {
     "name": "stdout",
     "output_type": "stream",
     "text": [
      "Number of tokens:  27\n",
      "Number of tokens:  11\n",
      "Number of tokens:  19\n",
      "Number of tokens:  30\n",
      "Number of tokens:  19\n",
      "Number of tokens:  17\n",
      "Number of tokens:  26\n",
      "Number of tokens:  26\n",
      "Number of tokens:  21\n",
      "Number of tokens:  18\n",
      "Number of tokens:  19\n",
      "Number of tokens:  22\n",
      "Number of tokens:  16\n"
     ]
    }
   ],
   "source": [
    "results = []\n",
    "sent_tokens = nltk.sent_tokenize(news_content)\n",
    "for sent_no, sentence in enumerate(sent_tokens):\n",
    "    word_tokens = nltk.word_tokenize(sentence) # word tokenization\n",
    "    \n",
    "    no_of_tokens = len(word_tokens)  \n",
    "    print('Number of tokens: ', no_of_tokens)\n",
    "    \n",
    "    tagged = nltk.pos_tag(word_tokens)  # POS tagging\n",
    "    no_of_nouns = len([word for word,pos in tagged if pos in [\"NN\",\"NNP\"]]) # Count the no of Nouns in the sentence\n",
    "    \n",
    "    ners = nltk.ne_chunk(nltk.pos_tag(word_tokens), binary=False) # Use NER to tag the named entities\n",
    "    no_of_ners = len([chunk for chunk in ners if hasattr(chunk, 'label')]) # has attr 判定chunk 是否有属性‘node‘\n",
    "    \n",
    "    score = (no_of_ners + no_of_nouns)/float(no_of_tokens)\n",
    "    results.append((sent_no, no_of_tokens, no_of_ners, no_of_nouns, score, sentence))\n",
    "    "
   ]
  },
  {
   "cell_type": "code",
   "execution_count": 5,
   "metadata": {
    "collapsed": false
   },
   "outputs": [],
   "source": [
    "import pandas as pd"
   ]
  },
  {
   "cell_type": "code",
   "execution_count": 6,
   "metadata": {
    "collapsed": false
   },
   "outputs": [
    {
     "data": {
      "text/html": [
       "<div>\n",
       "<style>\n",
       "    .dataframe thead tr:only-child th {\n",
       "        text-align: right;\n",
       "    }\n",
       "\n",
       "    .dataframe thead th {\n",
       "        text-align: left;\n",
       "    }\n",
       "\n",
       "    .dataframe tbody tr th {\n",
       "        vertical-align: top;\n",
       "    }\n",
       "</style>\n",
       "<table border=\"1\" class=\"dataframe\">\n",
       "  <thead>\n",
       "    <tr style=\"text-align: right;\">\n",
       "      <th></th>\n",
       "      <th>sent_no</th>\n",
       "      <th>no_of_tokens</th>\n",
       "      <th>no_of_ners</th>\n",
       "      <th>no_of_nouns</th>\n",
       "      <th>score</th>\n",
       "      <th>sentence</th>\n",
       "    </tr>\n",
       "  </thead>\n",
       "  <tbody>\n",
       "    <tr>\n",
       "      <th>0</th>\n",
       "      <td>0</td>\n",
       "      <td>27</td>\n",
       "      <td>1</td>\n",
       "      <td>4</td>\n",
       "      <td>0.185185</td>\n",
       "      <td>Tests showed that the chemical fipronil, which...</td>\n",
       "    </tr>\n",
       "    <tr>\n",
       "      <th>1</th>\n",
       "      <td>1</td>\n",
       "      <td>11</td>\n",
       "      <td>1</td>\n",
       "      <td>2</td>\n",
       "      <td>0.272727</td>\n",
       "      <td>Fipronil is used to treat lice and ticks in ch...</td>\n",
       "    </tr>\n",
       "    <tr>\n",
       "      <th>2</th>\n",
       "      <td>2</td>\n",
       "      <td>19</td>\n",
       "      <td>2</td>\n",
       "      <td>2</td>\n",
       "      <td>0.210526</td>\n",
       "      <td>One German official said up to 10 million of t...</td>\n",
       "    </tr>\n",
       "    <tr>\n",
       "      <th>3</th>\n",
       "      <td>3</td>\n",
       "      <td>30</td>\n",
       "      <td>4</td>\n",
       "      <td>8</td>\n",
       "      <td>0.400000</td>\n",
       "      <td>Christian Meyer, the agriculture minister for ...</td>\n",
       "    </tr>\n",
       "    <tr>\n",
       "      <th>4</th>\n",
       "      <td>4</td>\n",
       "      <td>19</td>\n",
       "      <td>1</td>\n",
       "      <td>2</td>\n",
       "      <td>0.157895</td>\n",
       "      <td>About 180 poultry farms in the Netherlands hav...</td>\n",
       "    </tr>\n",
       "    <tr>\n",
       "      <th>5</th>\n",
       "      <td>5</td>\n",
       "      <td>17</td>\n",
       "      <td>1</td>\n",
       "      <td>1</td>\n",
       "      <td>0.117647</td>\n",
       "      <td>Meanwhile, European supermarkets have moved to...</td>\n",
       "    </tr>\n",
       "    <tr>\n",
       "      <th>6</th>\n",
       "      <td>6</td>\n",
       "      <td>26</td>\n",
       "      <td>2</td>\n",
       "      <td>4</td>\n",
       "      <td>0.230769</td>\n",
       "      <td>However, Aldi - which has close to 4,000 store...</td>\n",
       "    </tr>\n",
       "    <tr>\n",
       "      <th>7</th>\n",
       "      <td>7</td>\n",
       "      <td>26</td>\n",
       "      <td>1</td>\n",
       "      <td>5</td>\n",
       "      <td>0.230769</td>\n",
       "      <td>\"This is merely a precaution, there is no reas...</td>\n",
       "    </tr>\n",
       "    <tr>\n",
       "      <th>8</th>\n",
       "      <td>8</td>\n",
       "      <td>21</td>\n",
       "      <td>3</td>\n",
       "      <td>5</td>\n",
       "      <td>0.380952</td>\n",
       "      <td>A spokeswoman for Aldi UK told the BBC its egg...</td>\n",
       "    </tr>\n",
       "    <tr>\n",
       "      <th>9</th>\n",
       "      <td>9</td>\n",
       "      <td>18</td>\n",
       "      <td>0</td>\n",
       "      <td>2</td>\n",
       "      <td>0.111111</td>\n",
       "      <td>Reuters reports that investigators believe the...</td>\n",
       "    </tr>\n",
       "    <tr>\n",
       "      <th>10</th>\n",
       "      <td>10</td>\n",
       "      <td>19</td>\n",
       "      <td>2</td>\n",
       "      <td>5</td>\n",
       "      <td>0.368421</td>\n",
       "      <td>Poultry World reported that fipronil may have ...</td>\n",
       "    </tr>\n",
       "    <tr>\n",
       "      <th>11</th>\n",
       "      <td>11</td>\n",
       "      <td>22</td>\n",
       "      <td>2</td>\n",
       "      <td>5</td>\n",
       "      <td>0.318182</td>\n",
       "      <td>The Netherlands is Europe's largest exporter o...</td>\n",
       "    </tr>\n",
       "    <tr>\n",
       "      <th>12</th>\n",
       "      <td>12</td>\n",
       "      <td>16</td>\n",
       "      <td>0</td>\n",
       "      <td>2</td>\n",
       "      <td>0.125000</td>\n",
       "      <td>It exports an estimated 65% of the 10 billion ...</td>\n",
       "    </tr>\n",
       "  </tbody>\n",
       "</table>\n",
       "</div>"
      ],
      "text/plain": [
       "    sent_no  no_of_tokens  no_of_ners  no_of_nouns     score  \\\n",
       "0         0            27           1            4  0.185185   \n",
       "1         1            11           1            2  0.272727   \n",
       "2         2            19           2            2  0.210526   \n",
       "3         3            30           4            8  0.400000   \n",
       "4         4            19           1            2  0.157895   \n",
       "5         5            17           1            1  0.117647   \n",
       "6         6            26           2            4  0.230769   \n",
       "7         7            26           1            5  0.230769   \n",
       "8         8            21           3            5  0.380952   \n",
       "9         9            18           0            2  0.111111   \n",
       "10       10            19           2            5  0.368421   \n",
       "11       11            22           2            5  0.318182   \n",
       "12       12            16           0            2  0.125000   \n",
       "\n",
       "                                             sentence  \n",
       "0   Tests showed that the chemical fipronil, which...  \n",
       "1   Fipronil is used to treat lice and ticks in ch...  \n",
       "2   One German official said up to 10 million of t...  \n",
       "3   Christian Meyer, the agriculture minister for ...  \n",
       "4   About 180 poultry farms in the Netherlands hav...  \n",
       "5   Meanwhile, European supermarkets have moved to...  \n",
       "6   However, Aldi - which has close to 4,000 store...  \n",
       "7   \"This is merely a precaution, there is no reas...  \n",
       "8   A spokeswoman for Aldi UK told the BBC its egg...  \n",
       "9   Reuters reports that investigators believe the...  \n",
       "10  Poultry World reported that fipronil may have ...  \n",
       "11  The Netherlands is Europe's largest exporter o...  \n",
       "12  It exports an estimated 65% of the 10 billion ...  "
      ]
     },
     "execution_count": 6,
     "metadata": {},
     "output_type": "execute_result"
    }
   ],
   "source": [
    "df = pd.DataFrame(results,columns=['sent_no','no_of_tokens','no_of_ners','no_of_nouns','score','sentence'])\n",
    "df"
   ]
  },
  {
   "cell_type": "code",
   "execution_count": 7,
   "metadata": {
    "collapsed": false
   },
   "outputs": [
    {
     "data": {
      "text/html": [
       "<div>\n",
       "<style>\n",
       "    .dataframe thead tr:only-child th {\n",
       "        text-align: right;\n",
       "    }\n",
       "\n",
       "    .dataframe thead th {\n",
       "        text-align: left;\n",
       "    }\n",
       "\n",
       "    .dataframe tbody tr th {\n",
       "        vertical-align: top;\n",
       "    }\n",
       "</style>\n",
       "<table border=\"1\" class=\"dataframe\">\n",
       "  <thead>\n",
       "    <tr style=\"text-align: right;\">\n",
       "      <th></th>\n",
       "      <th>sent_no</th>\n",
       "      <th>no_of_tokens</th>\n",
       "      <th>no_of_ners</th>\n",
       "      <th>no_of_nouns</th>\n",
       "      <th>score</th>\n",
       "      <th>sentence</th>\n",
       "    </tr>\n",
       "  </thead>\n",
       "  <tbody>\n",
       "    <tr>\n",
       "      <th>3</th>\n",
       "      <td>3</td>\n",
       "      <td>30</td>\n",
       "      <td>4</td>\n",
       "      <td>8</td>\n",
       "      <td>0.400000</td>\n",
       "      <td>Christian Meyer, the agriculture minister for ...</td>\n",
       "    </tr>\n",
       "    <tr>\n",
       "      <th>8</th>\n",
       "      <td>8</td>\n",
       "      <td>21</td>\n",
       "      <td>3</td>\n",
       "      <td>5</td>\n",
       "      <td>0.380952</td>\n",
       "      <td>A spokeswoman for Aldi UK told the BBC its egg...</td>\n",
       "    </tr>\n",
       "    <tr>\n",
       "      <th>10</th>\n",
       "      <td>10</td>\n",
       "      <td>19</td>\n",
       "      <td>2</td>\n",
       "      <td>5</td>\n",
       "      <td>0.368421</td>\n",
       "      <td>Poultry World reported that fipronil may have ...</td>\n",
       "    </tr>\n",
       "    <tr>\n",
       "      <th>11</th>\n",
       "      <td>11</td>\n",
       "      <td>22</td>\n",
       "      <td>2</td>\n",
       "      <td>5</td>\n",
       "      <td>0.318182</td>\n",
       "      <td>The Netherlands is Europe's largest exporter o...</td>\n",
       "    </tr>\n",
       "    <tr>\n",
       "      <th>1</th>\n",
       "      <td>1</td>\n",
       "      <td>11</td>\n",
       "      <td>1</td>\n",
       "      <td>2</td>\n",
       "      <td>0.272727</td>\n",
       "      <td>Fipronil is used to treat lice and ticks in ch...</td>\n",
       "    </tr>\n",
       "    <tr>\n",
       "      <th>6</th>\n",
       "      <td>6</td>\n",
       "      <td>26</td>\n",
       "      <td>2</td>\n",
       "      <td>4</td>\n",
       "      <td>0.230769</td>\n",
       "      <td>However, Aldi - which has close to 4,000 store...</td>\n",
       "    </tr>\n",
       "    <tr>\n",
       "      <th>7</th>\n",
       "      <td>7</td>\n",
       "      <td>26</td>\n",
       "      <td>1</td>\n",
       "      <td>5</td>\n",
       "      <td>0.230769</td>\n",
       "      <td>\"This is merely a precaution, there is no reas...</td>\n",
       "    </tr>\n",
       "    <tr>\n",
       "      <th>2</th>\n",
       "      <td>2</td>\n",
       "      <td>19</td>\n",
       "      <td>2</td>\n",
       "      <td>2</td>\n",
       "      <td>0.210526</td>\n",
       "      <td>One German official said up to 10 million of t...</td>\n",
       "    </tr>\n",
       "    <tr>\n",
       "      <th>0</th>\n",
       "      <td>0</td>\n",
       "      <td>27</td>\n",
       "      <td>1</td>\n",
       "      <td>4</td>\n",
       "      <td>0.185185</td>\n",
       "      <td>Tests showed that the chemical fipronil, which...</td>\n",
       "    </tr>\n",
       "    <tr>\n",
       "      <th>4</th>\n",
       "      <td>4</td>\n",
       "      <td>19</td>\n",
       "      <td>1</td>\n",
       "      <td>2</td>\n",
       "      <td>0.157895</td>\n",
       "      <td>About 180 poultry farms in the Netherlands hav...</td>\n",
       "    </tr>\n",
       "    <tr>\n",
       "      <th>12</th>\n",
       "      <td>12</td>\n",
       "      <td>16</td>\n",
       "      <td>0</td>\n",
       "      <td>2</td>\n",
       "      <td>0.125000</td>\n",
       "      <td>It exports an estimated 65% of the 10 billion ...</td>\n",
       "    </tr>\n",
       "    <tr>\n",
       "      <th>5</th>\n",
       "      <td>5</td>\n",
       "      <td>17</td>\n",
       "      <td>1</td>\n",
       "      <td>1</td>\n",
       "      <td>0.117647</td>\n",
       "      <td>Meanwhile, European supermarkets have moved to...</td>\n",
       "    </tr>\n",
       "    <tr>\n",
       "      <th>9</th>\n",
       "      <td>9</td>\n",
       "      <td>18</td>\n",
       "      <td>0</td>\n",
       "      <td>2</td>\n",
       "      <td>0.111111</td>\n",
       "      <td>Reuters reports that investigators believe the...</td>\n",
       "    </tr>\n",
       "  </tbody>\n",
       "</table>\n",
       "</div>"
      ],
      "text/plain": [
       "    sent_no  no_of_tokens  no_of_ners  no_of_nouns     score  \\\n",
       "3         3            30           4            8  0.400000   \n",
       "8         8            21           3            5  0.380952   \n",
       "10       10            19           2            5  0.368421   \n",
       "11       11            22           2            5  0.318182   \n",
       "1         1            11           1            2  0.272727   \n",
       "6         6            26           2            4  0.230769   \n",
       "7         7            26           1            5  0.230769   \n",
       "2         2            19           2            2  0.210526   \n",
       "0         0            27           1            4  0.185185   \n",
       "4         4            19           1            2  0.157895   \n",
       "12       12            16           0            2  0.125000   \n",
       "5         5            17           1            1  0.117647   \n",
       "9         9            18           0            2  0.111111   \n",
       "\n",
       "                                             sentence  \n",
       "3   Christian Meyer, the agriculture minister for ...  \n",
       "8   A spokeswoman for Aldi UK told the BBC its egg...  \n",
       "10  Poultry World reported that fipronil may have ...  \n",
       "11  The Netherlands is Europe's largest exporter o...  \n",
       "1   Fipronil is used to treat lice and ticks in ch...  \n",
       "6   However, Aldi - which has close to 4,000 store...  \n",
       "7   \"This is merely a precaution, there is no reas...  \n",
       "2   One German official said up to 10 million of t...  \n",
       "0   Tests showed that the chemical fipronil, which...  \n",
       "4   About 180 poultry farms in the Netherlands hav...  \n",
       "12  It exports an estimated 65% of the 10 billion ...  \n",
       "5   Meanwhile, European supermarkets have moved to...  \n",
       "9   Reuters reports that investigators believe the...  "
      ]
     },
     "execution_count": 7,
     "metadata": {},
     "output_type": "execute_result"
    }
   ],
   "source": [
    "# 按 score排序\n",
    "df.sort_values('score',ascending=False)"
   ]
  },
  {
   "cell_type": "markdown",
   "metadata": {},
   "source": [
    "# Approach 2\n",
    "## 除了用上述的score，另一个句子重要性的度量是TF-IDF score\n",
    "重要的句子通常包含重要的词，其中大部分是内涵丰富（富有歧义）的词——discriminatory words，其度量可采用TF-IDF"
   ]
  },
  {
   "cell_type": "code",
   "execution_count": 8,
   "metadata": {
    "collapsed": true
   },
   "outputs": [],
   "source": [
    "import nltk\n",
    "from sklearn.feature_extraction.text import TfidfVectorizer"
   ]
  },
  {
   "cell_type": "markdown",
   "metadata": {},
   "source": [
    "## 1.content(string)"
   ]
  },
  {
   "cell_type": "code",
   "execution_count": 9,
   "metadata": {
    "collapsed": true
   },
   "outputs": [],
   "source": [
    "results = []\n",
    "news_content = \"Mr. Obama planned to promote the effort on Monday during\\\n",
    "a visit to Camden, N.J. The ban is part of Mr. Obama's push to ease\\\n",
    "tensions between law enforcement and minority communities in reaction to\\\n",
    "the crises in Baltimore; Ferguson, Mo. We are, without a doubt, sitting\\\n",
    "at a defining moment in American policing, Ronald L. Davis, the director\\\n",
    "of the Office of Community Oriented Policing Services at the Department\\\n",
    "of Justice, told reporters in a conference call organized by the White\\\n",
    "House\""
   ]
  },
  {
   "cell_type": "markdown",
   "metadata": {},
   "source": [
    "## 2.sentence tokens(list)"
   ]
  },
  {
   "cell_type": "code",
   "execution_count": 10,
   "metadata": {
    "collapsed": true
   },
   "outputs": [],
   "source": [
    "sentences = nltk.sent_tokenize(news_content)\n",
    "vectorizer = TfidfVectorizer(norm='l2',min_df=0, use_idf=True, smooth_idf=False, sublinear_tf=True)"
   ]
  },
  {
   "cell_type": "markdown",
   "metadata": {},
   "source": [
    "## 3. TfidfVectorizer \n",
    "### which is a scoring method \n",
    "### that calculate a vector of TF-IDF scores for each sentence in a given list of sentences.\n",
    "\n",
    "## 4. term-doc matrix\n",
    "\n",
    "For a given list of sentences/documents, will give you the score corresponding to each sentence and \n",
    "\n",
    "will also provide the ability to build ** a term-doc matrix** that will look just like our output."
   ]
  },
  {
   "cell_type": "code",
   "execution_count": 14,
   "metadata": {
    "collapsed": false
   },
   "outputs": [
    {
     "data": {
      "text/plain": [
       "3"
      ]
     },
     "execution_count": 14,
     "metadata": {},
     "output_type": "execute_result"
    },
    {
     "data": {
      "text/plain": [
       "3"
      ]
     },
     "execution_count": 14,
     "metadata": {},
     "output_type": "execute_result"
    },
    {
     "name": "stdout",
     "output_type": "stream",
     "text": [
      ".get_feature_names() :\n",
      " ['american', 'and', 'are', 'at', 'baltimore', 'ban', 'between', 'by', 'call', 'camden', 'communities', 'community', 'conference', 'crises', 'davis', 'defining', 'departmentof', 'directorof', 'doubt', 'duringa', 'easetensions', 'effort', 'enforcement', 'ferguson', 'in', 'is', 'justice', 'law', 'minority', 'mo', 'moment', 'monday', 'mr', 'obama', 'of', 'office', 'on', 'organized', 'oriented', 'part', 'planned', 'policing', 'promote', 'push', 'reaction', 'reporters', 'ronald', 'services', 'sittingat', 'the', 'to', 'told', 'tothe', 'visit', 'we', 'whitehouse', 'without']\n",
      "\n",
      "sklearn_binary.toarray() term-doc matirx :\n",
      " [[ 0.          0.          0.          0.          0.          0.          0.\n",
      "   0.          0.          0.30993994  0.          0.          0.          0.\n",
      "   0.          0.          0.          0.          0.          0.30993994\n",
      "   0.          0.30993994  0.          0.          0.          0.          0.\n",
      "   0.          0.          0.          0.          0.30993994  0.20757039\n",
      "   0.20757039  0.          0.          0.30993994  0.          0.          0.\n",
      "   0.30993994  0.          0.30993994  0.          0.          0.          0.\n",
      "   0.          0.          0.14768804  0.35144723  0.          0.\n",
      "   0.30993994  0.          0.          0.        ]\n",
      " [ 0.          0.22191074  0.          0.          0.22191074  0.22191074\n",
      "   0.22191074  0.          0.          0.          0.22191074  0.          0.\n",
      "   0.22191074  0.          0.          0.          0.          0.          0.\n",
      "   0.22191074  0.          0.22191074  0.22191074  0.25162911  0.22191074\n",
      "   0.          0.22191074  0.22191074  0.22191074  0.          0.\n",
      "   0.14861621  0.14861621  0.14861621  0.          0.          0.          0.\n",
      "   0.22191074  0.          0.          0.          0.22191074  0.22191074\n",
      "   0.          0.          0.          0.          0.10574166  0.14861621\n",
      "   0.          0.22191074  0.          0.          0.          0.        ]\n",
      " [ 0.17991318  0.          0.17991318  0.17991318  0.          0.          0.\n",
      "   0.17991318  0.17991318  0.          0.          0.17991318  0.17991318\n",
      "   0.          0.17991318  0.17991318  0.17991318  0.17991318  0.17991318\n",
      "   0.          0.          0.          0.          0.          0.20400723\n",
      "   0.          0.17991318  0.          0.          0.          0.17991318\n",
      "   0.          0.          0.          0.12048995  0.17991318  0.\n",
      "   0.17991318  0.17991318  0.          0.          0.3046195   0.          0.\n",
      "   0.          0.17991318  0.17991318  0.17991318  0.17991318  0.20457605\n",
      "   0.          0.17991318  0.          0.          0.17991318  0.17991318\n",
      "   0.17991318]]\n"
     ]
    }
   ],
   "source": [
    "sklearn_binary = vectorizer.fit_transform(sentences) \n",
    "len(sentences)\n",
    "len(sklearn_binary.toarray())\n",
    "print(\".get_feature_names() :\\n\",vectorizer.get_feature_names())\n",
    "print(\"\\nsklearn_binary.toarray() term-doc matirx :\\n\",sklearn_binary.toarray()) # .fit_transfomr().toarray()"
   ]
  },
  {
   "cell_type": "markdown",
   "metadata": {},
   "source": [
    "### 停用词的分值近乎0，特异词如ban、Obama 分值高"
   ]
  },
  {
   "cell_type": "code",
   "execution_count": 21,
   "metadata": {
    "collapsed": false
   },
   "outputs": [
    {
     "name": "stdout",
     "output_type": "stream",
     "text": [
      "[0.28281630091973642, 0.205405136454686, 0.1838455955948535]\n"
     ]
    }
   ],
   "source": [
    "# 用非零TF-IDF 词 来计算平均TF-IDF score\n",
    "results = []\n",
    "for i in sklearn_binary.toarray(): \n",
    "    score_sum = i.sum()\n",
    "    no_of_nonzero = len(i.nonzero()[0]) # TF-IDF值非零的个数,\n",
    "    s = score_sum / float(no_of_nonzero)\n",
    "    results.append(s)\n",
    "    \n",
    "print(results)"
   ]
  },
  {
   "cell_type": "markdown",
   "metadata": {
    "collapsed": true
   },
   "source": [
    "会发现两种score 很相近"
   ]
  },
  {
   "cell_type": "markdown",
   "metadata": {},
   "source": [
    "# 了解了上述两种算法，就可以 对任意两篇给定的新闻搞进行信息摘要处理，即可写一个新闻摘要器。"
   ]
  },
  {
   "cell_type": "code",
   "execution_count": null,
   "metadata": {
    "collapsed": true
   },
   "outputs": [],
   "source": []
  }
 ],
 "metadata": {
  "kernelspec": {
   "display_name": "Python 3",
   "language": "python",
   "name": "python3"
  },
  "language_info": {
   "codemirror_mode": {
    "name": "ipython",
    "version": 3
   },
   "file_extension": ".py",
   "mimetype": "text/x-python",
   "name": "python",
   "nbconvert_exporter": "python",
   "pygments_lexer": "ipython3",
   "version": "3.6.0"
  }
 },
 "nbformat": 4,
 "nbformat_minor": 2
}

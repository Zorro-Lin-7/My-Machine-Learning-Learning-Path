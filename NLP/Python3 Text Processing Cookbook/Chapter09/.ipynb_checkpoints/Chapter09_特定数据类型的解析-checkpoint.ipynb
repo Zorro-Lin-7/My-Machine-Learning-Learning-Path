{
 "cells": [
  {
   "cell_type": "markdown",
   "metadata": {},
   "source": [
    "# 特定数据类型的解析，主要是日期、时间、HTML。\n",
    "\n",
    "庆幸有几个包可以用，可以避开复杂的正则表达式。它们可作为NLTK的补充：\n",
    "\n",
    "    dateutil: 提供日期解析和时区转换\n",
    "    lxml、BeautifulSoup: HTML的解析、清洗、转换\n",
    "    charade、UnicodeDammit: 检测、转换文本字符编码\n",
    "    \n",
    "1. raw文本数据 -——>经这几个包处理后 ——> 才能传入NLTK object\n",
    "2. 或者NLTK处理后的后期加工，也可用这几个包"
   ]
  },
  {
   "cell_type": "markdown",
   "metadata": {},
   "source": [
    "## 具体的，假定要解析一篇关于某个餐厅的博客文章。\n",
    "\n",
    "你可以用 *lxml* 或者 *BeautifulSoup* 提取文章文本、链接、日期和时间。\n",
    "\n",
    "日期和时间可以通过*dateutil* 解析为 Python datetime object 。\n",
    "\n",
    "解析出文本后，你可以用 *charade* 确保它是 utf-8，这样之后才能跑通 基于NLTK 的词性标注、chunk提取、文本分类等来获取文章的元数据。\n",
    "\n",
    "现实中，文本处理绝不仅仅是基于NLTK的操作，通常有更多额外的处理需求。本章会覆盖这些内容。"
   ]
  },
  {
   "cell_type": "markdown",
   "metadata": {},
   "source": [
    "## Parsing Dates & Times with Dateutil\n",
    "\n",
    "deteutil 是解析日期、时间最好的包，无出其右。"
   ]
  },
  {
   "cell_type": "markdown",
   "metadata": {},
   "source": [
    "### parser.parse( datetime string )  能解析比这里展示的多得多的日期格式\n",
    "\n",
    "只能解析 datetime string，若是string 会报错"
   ]
  },
  {
   "cell_type": "code",
   "execution_count": 34,
   "metadata": {
    "collapsed": true
   },
   "outputs": [],
   "source": [
    "from IPython.core.interactiveshell import InteractiveShell\n",
    "InteractiveShell.ast_node_interactivity = 'all'"
   ]
  },
  {
   "cell_type": "code",
   "execution_count": 22,
   "metadata": {
    "collapsed": false
   },
   "outputs": [
    {
     "data": {
      "text/plain": [
       "datetime.datetime(2010, 9, 25, 10, 36, 28)"
      ]
     },
     "execution_count": 22,
     "metadata": {},
     "output_type": "execute_result"
    }
   ],
   "source": [
    "from dateutil import parser\n",
    "parser.parse('Thu Sep 25 10:36:28 2010') # 返回的object是 Python的datetime.datetime"
   ]
  },
  {
   "cell_type": "code",
   "execution_count": 2,
   "metadata": {
    "collapsed": false
   },
   "outputs": [
    {
     "data": {
      "text/plain": [
       "datetime.datetime(2010, 9, 25, 10, 36)"
      ]
     },
     "execution_count": 2,
     "metadata": {},
     "output_type": "execute_result"
    }
   ],
   "source": [
    "parser.parse('Thursday,25,September 2010 10:36AM')"
   ]
  },
  {
   "cell_type": "code",
   "execution_count": 3,
   "metadata": {
    "collapsed": false
   },
   "outputs": [
    {
     "data": {
      "text/plain": [
       "datetime.datetime(2010, 9, 25, 10, 36, 28)"
      ]
     },
     "execution_count": 3,
     "metadata": {},
     "output_type": "execute_result"
    }
   ],
   "source": [
    "parser.parse('9/25/2010 10:36:28')"
   ]
  },
  {
   "cell_type": "code",
   "execution_count": 4,
   "metadata": {
    "collapsed": false
   },
   "outputs": [
    {
     "data": {
      "text/plain": [
       "datetime.datetime(2010, 9, 25, 0, 0)"
      ]
     },
     "execution_count": 4,
     "metadata": {},
     "output_type": "execute_result"
    }
   ],
   "source": [
    "parser.parse('9/25/2010')"
   ]
  },
  {
   "cell_type": "code",
   "execution_count": 5,
   "metadata": {
    "collapsed": false
   },
   "outputs": [
    {
     "data": {
      "text/plain": [
       "datetime.datetime(2010, 9, 25, 10, 26, 28, tzinfo=tzutc())"
      ]
     },
     "execution_count": 5,
     "metadata": {},
     "output_type": "execute_result"
    }
   ],
   "source": [
    "parser.parse('2010-09-25T10:26:28Z')"
   ]
  },
  {
   "cell_type": "markdown",
   "metadata": {},
   "source": [
    "无需正则表达式，它能辨识日期tokens并尽可能猜出其所指的日期。\n",
    "\n",
    "至于不同文化惯用的日期格式，比如月／日／年（dateutil默认格式），日／月／年等，可通过参数***dayfirst***设置"
   ]
  },
  {
   "cell_type": "code",
   "execution_count": 15,
   "metadata": {
    "collapsed": false
   },
   "outputs": [
    {
     "data": {
      "text/plain": [
       "datetime.datetime(2017, 7, 8, 0, 0)"
      ]
     },
     "execution_count": 15,
     "metadata": {},
     "output_type": "execute_result"
    },
    {
     "data": {
      "text/plain": [
       "datetime.datetime(2017, 8, 7, 0, 0)"
      ]
     },
     "execution_count": 15,
     "metadata": {},
     "output_type": "execute_result"
    }
   ],
   "source": [
    "parser.parse('7/8/2017') \n",
    "parser.parse('7/8/2017', dayfirst=True) # 7日"
   ]
  },
  {
   "cell_type": "code",
   "execution_count": 17,
   "metadata": {
    "collapsed": false
   },
   "outputs": [
    {
     "data": {
      "text/plain": [
       "datetime.datetime(2025, 10, 9, 0, 0)"
      ]
     },
     "execution_count": 17,
     "metadata": {},
     "output_type": "execute_result"
    },
    {
     "data": {
      "text/plain": [
       "datetime.datetime(2010, 9, 8, 0, 0)"
      ]
     },
     "execution_count": 17,
     "metadata": {},
     "output_type": "execute_result"
    }
   ],
   "source": [
    "parser.parse('10-9-25')  # 默认 月／日／年\n",
    "parser.parse('10-9-8', yearfirst=True)  # 年／月／日"
   ]
  },
  {
   "cell_type": "markdown",
   "metadata": {},
   "source": [
    "### fuzzy parser\n",
    "\n",
    "deteutil parser 也能做模糊解析，可以忽略 非datetime string 的无关字符。只需设置 ***fuzzy=Ture***"
   ]
  },
  {
   "cell_type": "code",
   "execution_count": 18,
   "metadata": {
    "collapsed": false,
    "scrolled": true
   },
   "outputs": [
    {
     "data": {
      "text/plain": [
       "'cannot parse'"
      ]
     },
     "execution_count": 18,
     "metadata": {},
     "output_type": "execute_result"
    },
    {
     "data": {
      "text/plain": [
       "datetime.datetime(2010, 9, 25, 10, 36)"
      ]
     },
     "execution_count": 18,
     "metadata": {},
     "output_type": "execute_result"
    }
   ],
   "source": [
    "try:\n",
    "    parser.parse('9/25/2010 at about 10:36AM')\n",
    "except ValueError:\n",
    "    'cannot parse'\n",
    "    \n",
    "parser.parse('9/25/2010 at about 10:36AM in Beijing', fuzzy=True)"
   ]
  },
  {
   "cell_type": "markdown",
   "metadata": {},
   "source": [
    "## 时区的查找和转换"
   ]
  },
  {
   "cell_type": "markdown",
   "metadata": {},
   "source": [
    "大部分datetime 对象是naive 的， 不带有具体时区信息，即时区和UTC offset。\n",
    "\n",
    "UTC: Uiversal Time Coordinated 世界调整时，也就是GMT 格林尼治时间 Greenwich Mean Time。\n",
    "\n",
    "ISO  International Standards Organization 国际标准化组织，指定标准的datetime格式。\n",
    "\n",
    "Python datetime对象既可以是naive ，也可以aware。\n",
    "\n",
    "要使得naive 变得aware，必须给定具体的tzinfo。"
   ]
  },
  {
   "cell_type": "code",
   "execution_count": 20,
   "metadata": {
    "collapsed": false
   },
   "outputs": [
    {
     "data": {
      "text/plain": [
       "tzutc()"
      ]
     },
     "execution_count": 20,
     "metadata": {},
     "output_type": "execute_result"
    }
   ],
   "source": [
    "from dateutil import tz\n",
    "tz.tzutc()  # a UTC tzinfo object"
   ]
  },
  {
   "cell_type": "code",
   "execution_count": 26,
   "metadata": {
    "collapsed": false
   },
   "outputs": [
    {
     "data": {
      "text/plain": [
       "datetime.datetime(2017, 8, 18, 6, 23, 11, 27126)"
      ]
     },
     "execution_count": 26,
     "metadata": {},
     "output_type": "execute_result"
    },
    {
     "data": {
      "text/plain": [
       "datetime.timedelta(0)"
      ]
     },
     "execution_count": 26,
     "metadata": {},
     "output_type": "execute_result"
    }
   ],
   "source": [
    "import datetime\n",
    "datetime.datetime.utcnow() # a UTC datetime object:\n",
    "tz.tzutc().utcoffset(datetime.datetime.utcnow()) # check that the offset is 0 "
   ]
  },
  {
   "cell_type": "code",
   "execution_count": 23,
   "metadata": {
    "collapsed": false
   },
   "outputs": [
    {
     "data": {
      "text/plain": [
       "tzfile('/usr/share/zoneinfo/US/Pacific')"
      ]
     },
     "execution_count": 23,
     "metadata": {},
     "output_type": "execute_result"
    },
    {
     "data": {
      "text/plain": [
       "datetime.timedelta(-1, 61200)"
      ]
     },
     "execution_count": 23,
     "metadata": {},
     "output_type": "execute_result"
    }
   ],
   "source": [
    "tz.gettz('US/Pacific') # To get 其他时区的tzinfo objects，传入tz file的路径\n",
    "tz.gettz('US/Pacific').utcoffset(datetime.datetime.utcnow())"
   ]
  },
  {
   "cell_type": "markdown",
   "metadata": {},
   "source": [
    "可见：UTC offsets 是datetime.timedelta 对象,第一个数是（时差的）days,第二个数是seconds"
   ]
  },
  {
   "cell_type": "code",
   "execution_count": 24,
   "metadata": {
    "collapsed": false
   },
   "outputs": [
    {
     "data": {
      "text/plain": [
       "tzfile('/usr/share/zoneinfo/Europe/Paris')"
      ]
     },
     "execution_count": 24,
     "metadata": {},
     "output_type": "execute_result"
    },
    {
     "data": {
      "text/plain": [
       "datetime.timedelta(0, 7200)"
      ]
     },
     "execution_count": 24,
     "metadata": {},
     "output_type": "execute_result"
    }
   ],
   "source": [
    "tz.gettz('Europe/Paris')\n",
    "tz.gettz('Europe/Paris').utcoffset(datetime.datetime.utcnow())"
   ]
  },
  {
   "cell_type": "markdown",
   "metadata": {},
   "source": [
    "若要将datetimes存入数据库，建议全以UTC形式，消除时区歧义。即是数据库能自动辨识时区。\n",
    "\n",
    "## To convert a non-UTC datetime object to UTC，必须指明时区。\n",
    "否则，将一个naive datetime 转换为UTC 会报错。\n",
    "\n",
    "对naive datetime 指明时区，只需调用***replace()*** with the correct ***tzinfo*** 。\n",
    "\n",
    "datetime object 有了***tzinfo*** 之后，只需调用 ***astimezone()*** with ***tz.tzutc()***"
   ]
  },
  {
   "cell_type": "code",
   "execution_count": 12,
   "metadata": {
    "collapsed": false
   },
   "outputs": [
    {
     "data": {
      "text/plain": [
       "datetime.datetime(2010, 9, 25, 10, 36)"
      ]
     },
     "execution_count": 12,
     "metadata": {},
     "output_type": "execute_result"
    },
    {
     "name": "stdout",
     "output_type": "stream",
     "text": [
      "2010-09-25 10:36:00\n",
      "None\n"
     ]
    }
   ],
   "source": [
    "from dateutil import tz\n",
    "import datetime\n",
    "pst = tz.gettz('US/Pacific')\n",
    "dt = datetime.datetime(2010, 9, 25, 10, 36)\n",
    "\n",
    "dt   # naive datetime\n",
    "print(dt)\n",
    "print(dt.tzinfo)"
   ]
  },
  {
   "cell_type": "code",
   "execution_count": 16,
   "metadata": {
    "collapsed": false
   },
   "outputs": [
    {
     "data": {
      "text/plain": [
       "datetime.datetime(2010, 9, 25, 2, 36, tzinfo=tzutc())"
      ]
     },
     "execution_count": 16,
     "metadata": {},
     "output_type": "execute_result"
    },
    {
     "name": "stdout",
     "output_type": "stream",
     "text": [
      "2010-09-25 02:36:00+00:00\n"
     ]
    }
   ],
   "source": [
    "# naive 情况下转换，现版本不会报错了\n",
    "dt.astimezone(tz.tzutc())  \n",
    "print(dt.astimezone(tz.tzutc()))"
   ]
  },
  {
   "cell_type": "code",
   "execution_count": 20,
   "metadata": {
    "collapsed": false
   },
   "outputs": [
    {
     "data": {
      "text/plain": [
       "datetime.datetime(2010, 9, 25, 10, 36, tzinfo=tzfile('/usr/share/zoneinfo/US/Pacific'))"
      ]
     },
     "execution_count": 20,
     "metadata": {},
     "output_type": "execute_result"
    },
    {
     "name": "stdout",
     "output_type": "stream",
     "text": [
      "tzfile('/usr/share/zoneinfo/US/Pacific')\n",
      "2010-09-25 10:36:00-07:00\n",
      "2010-09-25 17:36:00+00:00\n"
     ]
    }
   ],
   "source": [
    "dt.replace(tzinfo=pst)   # aware\n",
    "print(dt.replace(tzinfo=pst).tzinfo)\n",
    "print(dt.replace(tzinfo=pst))\n",
    "print(dt.replace(tzinfo=pst).astimezone(tz.tzutc()))"
   ]
  },
  {
   "cell_type": "markdown",
   "metadata": {},
   "source": [
    "replace() 和 astimezone() 均返回新的object，不改动当前object"
   ]
  },
  {
   "cell_type": "markdown",
   "metadata": {},
   "source": [
    "### parser解析时,存在无法检出的时区信息（但确实能作为tzinfo），那么传入参数tzinfos"
   ]
  },
  {
   "cell_type": "code",
   "execution_count": 23,
   "metadata": {
    "collapsed": false
   },
   "outputs": [
    {
     "data": {
      "text/plain": [
       "datetime.datetime(2010, 8, 4, 18, 30)"
      ]
     },
     "execution_count": 23,
     "metadata": {},
     "output_type": "execute_result"
    },
    {
     "data": {
      "text/plain": [
       "datetime.datetime(2010, 8, 4, 18, 30, tzinfo=tzfile('/usr/share/zoneinfo/US/Central'))"
      ]
     },
     "execution_count": 23,
     "metadata": {},
     "output_type": "execute_result"
    },
    {
     "data": {
      "text/plain": [
       "tzoffset('custom', 3600)"
      ]
     },
     "execution_count": 23,
     "metadata": {},
     "output_type": "execute_result"
    }
   ],
   "source": [
    "parser.parse('Wednesday, Aug 4, 2010 at 6:30 p.m. (CDT)', fuzzy=True) # naive datetime\n",
    "\n",
    "tzinfos = {'CDT': tz.gettz('US/Central')} #传入到参数tzinfos，有所映射，就能识别naive中未识别的tzinfo\n",
    "parser.parse('Wednesday, Aug 4, 2010 at 6:30 p.m. (CDT)', fuzzy=True, tzinfos=tzinfos) # aware"
   ]
  },
  {
   "cell_type": "markdown",
   "metadata": {},
   "source": [
    "### Custom offsets 自定义偏移\n",
    "创建自己的tzinfo object，偏移1小时："
   ]
  },
  {
   "cell_type": "code",
   "execution_count": 27,
   "metadata": {
    "collapsed": false
   },
   "outputs": [
    {
     "data": {
      "text/plain": [
       "tzoffset('custom', 3600)"
      ]
     },
     "execution_count": 27,
     "metadata": {},
     "output_type": "execute_result"
    }
   ],
   "source": [
    "tz.tzoffset('custom', 3600) # 第一个参数是对象名； 1 hour = 3600s"
   ]
  },
  {
   "cell_type": "markdown",
   "metadata": {
    "collapsed": true
   },
   "source": [
    "## 用 lxml 从HTML网页中提取 URLs链接\n",
    "\n",
    "lxml 有一个 html module，专门用于解析HTML。\n",
    "\n",
    "可用 ***.fromstring()*** 函数解析HTML\n",
    "\n",
    "***.iterlinks()*** 函数,return 生成器。生成 4-tuples (element, attr, link, pos):\n",
    "\n",
    "    element: 解析节点的anchor tag，links从中提取；若只对link 感兴趣，可忽略\n",
    "    attr: 链接属性，通常为 href\n",
    "    link: 提取的URL\n",
    "    pos: document中，锚标签的数值index，第一个tag的pos为0，第二个为1，以此类推"
   ]
  },
  {
   "cell_type": "code",
   "execution_count": 2,
   "metadata": {
    "collapsed": false,
    "scrolled": true
   },
   "outputs": [
    {
     "data": {
      "text/plain": [
       "1"
      ]
     },
     "execution_count": 2,
     "metadata": {},
     "output_type": "execute_result"
    }
   ],
   "source": [
    "from lxml import html\n",
    "doc = html.fromstring('Hello <a href=\"/world\">world</a>') #解析HTML\n",
    "\n",
    "links = list(doc.iterlinks()) # 解析后得到元组生成器，list得到 所有links 的列表\n",
    "len(links)"
   ]
  },
  {
   "cell_type": "code",
   "execution_count": 4,
   "metadata": {
    "collapsed": false
   },
   "outputs": [
    {
     "data": {
      "text/plain": [
       "[(<Element a at 0x10962b728>, 'href', '/world', 0)]"
      ]
     },
     "execution_count": 4,
     "metadata": {},
     "output_type": "execute_result"
    }
   ],
   "source": [
    "links"
   ]
  },
  {
   "cell_type": "code",
   "execution_count": 3,
   "metadata": {
    "collapsed": false
   },
   "outputs": [
    {
     "data": {
      "text/plain": [
       "'href'"
      ]
     },
     "execution_count": 3,
     "metadata": {},
     "output_type": "execute_result"
    }
   ],
   "source": [
    "(el, attr, link, pos) = links[0]\n",
    "attr"
   ]
  },
  {
   "cell_type": "code",
   "execution_count": 5,
   "metadata": {
    "collapsed": false
   },
   "outputs": [
    {
     "data": {
      "text/plain": [
       "'/world'"
      ]
     },
     "execution_count": 5,
     "metadata": {},
     "output_type": "execute_result"
    }
   ],
   "source": [
    "link"
   ]
  },
  {
   "cell_type": "code",
   "execution_count": 11,
   "metadata": {
    "collapsed": false,
    "scrolled": true
   },
   "outputs": [
    {
     "data": {
      "text/plain": [
       "0"
      ]
     },
     "execution_count": 11,
     "metadata": {},
     "output_type": "execute_result"
    }
   ],
   "source": [
    "pos"
   ]
  },
  {
   "cell_type": "markdown",
   "metadata": {},
   "source": [
    "lxml 将HTML语句解析成ElementTree,父节点、子节点的树状结构，每个节点表示一个HTML标记及标记的属性。\n",
    "\n",
    "然后遍历整个树，找到需要的Element，比如**a**.\n",
    "\n",
    "更多见 http://lxml.de/tutorial.html."
   ]
  },
  {
   "cell_type": "markdown",
   "metadata": {
    "collapsed": true
   },
   "source": [
    "### 补完相对路径，生成绝对路径："
   ]
  },
  {
   "cell_type": "code",
   "execution_count": 3,
   "metadata": {
    "collapsed": false
   },
   "outputs": [
    {
     "data": {
      "text/plain": [
       "'http://hello/world'"
      ]
     },
     "execution_count": 3,
     "metadata": {},
     "output_type": "execute_result"
    }
   ],
   "source": [
    "#doc = html.fromstring('Hello <a href=\"/world\">world</a>')\n",
    "# '/world'\n",
    "doc.make_links_absolute('http://hello')   # 提取URLs前先使路径完整 with a base URL\n",
    "abslinks = list(doc.iterlinks())\n",
    "(el, attr, link, pos) = abslinks[0]  \n",
    "link                                      # 补完后，提取出来的就是绝对路径"
   ]
  },
  {
   "cell_type": "markdown",
   "metadata": {},
   "source": [
    "### 直接提取URL："
   ]
  },
  {
   "cell_type": "code",
   "execution_count": 7,
   "metadata": {
    "collapsed": false
   },
   "outputs": [
    {
     "data": {
      "text/plain": [
       "'/world'"
      ]
     },
     "execution_count": 7,
     "metadata": {},
     "output_type": "execute_result"
    }
   ],
   "source": [
    "links = list(html.iterlinks('Hello <a href=\"/world\">world</a>'))\n",
    "links[0][2]"
   ]
  },
  {
   "cell_type": "markdown",
   "metadata": {},
   "source": [
    "###  除了用html.fromstring() 解析HTML string，\n",
    "    还能用html.parse()解析URL或filename，比如 html.parse('http://my/url')"
   ]
  },
  {
   "cell_type": "code",
   "execution_count": 16,
   "metadata": {
    "collapsed": false
   },
   "outputs": [],
   "source": [
    "news=html.parse('http://tech.163.com/17/0818/20/CS5AK19600097U7R.html')"
   ]
  },
  {
   "cell_type": "code",
   "execution_count": 23,
   "metadata": {
    "collapsed": false
   },
   "outputs": [
    {
     "data": {
      "text/plain": [
       "[<Element html at 0x108082b38>,\n",
       " <!--<![endif]-->,\n",
       " <Element head at 0x108082d18>,\n",
       " <Element meta at 0x108082e58>,\n",
       " <Element title at 0x108082ea8>,\n",
       " <Element base at 0x108082ef8>,\n",
       " <!--[if lte IE 6]></base><![endif]-->,\n",
       " <Element meta at 0x108082f48>,\n",
       " <Element meta at 0x108082f98>,\n",
       " <Element meta at 0x108005048>,\n",
       " <Element meta at 0x108005098>,\n",
       " <Element meta at 0x1080050e8>,\n",
       " <Element script at 0x108005138>,\n",
       " <Element link at 0x108005188>,\n",
       " <Element link at 0x1080051d8>,\n",
       " <Element link at 0x108005228>,\n",
       " <Element link at 0x108005278>,\n",
       " <Element script at 0x1080052c8>,\n",
       " <Element script at 0x108005318>,\n",
       " <Element script at 0x108005368>,\n",
       " <Element body at 0x1080053b8>,\n",
       " <Element link at 0x108005408>,\n",
       " <Element div at 0x108005458>,\n",
       " <Element div at 0x1080054a8>,\n",
       " <Element div at 0x1080054f8>,\n",
       " <Element div at 0x108005548>,\n",
       " <Element a at 0x108005598>,\n",
       " <Element img at 0x1080055e8>,\n",
       " <Element a at 0x108005638>,\n",
       " <Element div at 0x108005688>,\n",
       " <Element a at 0x1080056d8>,\n",
       " <Element em at 0x108005728>,\n",
       " <Element div at 0x108005778>,\n",
       " <Element ul at 0x1080057c8>,\n",
       " <Element li at 0x108005818>,\n",
       " <Element a at 0x108005868>,\n",
       " <Element span at 0x1080058b8>,\n",
       " <Element em at 0x108005908>,\n",
       " <Element li at 0x108005958>,\n",
       " <Element a at 0x1080059a8>,\n",
       " <Element span at 0x1080059f8>,\n",
       " <Element em at 0x108005a48>,\n",
       " <Element li at 0x108005a98>,\n",
       " <Element a at 0x108005ae8>,\n",
       " <Element span at 0x108005b38>,\n",
       " <Element em at 0x108005b88>,\n",
       " <Element li at 0x108005bd8>,\n",
       " <Element a at 0x108005c28>,\n",
       " <Element span at 0x108005c78>,\n",
       " <Element em at 0x108005cc8>,\n",
       " <Element li at 0x108005d18>,\n",
       " <Element a at 0x108005d68>,\n",
       " <Element span at 0x108005db8>,\n",
       " <Element em at 0x108005e08>,\n",
       " <Element li at 0x108005e58>,\n",
       " <Element a at 0x108005ea8>,\n",
       " <Element span at 0x108005ef8>,\n",
       " <Element em at 0x108005f48>,\n",
       " <Element li at 0x108005f98>,\n",
       " <Element a at 0x10800b048>,\n",
       " <Element span at 0x10800b098>,\n",
       " <Element em at 0x10800b0e8>,\n",
       " <Element li at 0x10800b138>,\n",
       " <Element a at 0x10800b188>,\n",
       " <Element span at 0x10800b1d8>,\n",
       " <Element em at 0x10800b228>,\n",
       " <Element li at 0x10800b278>,\n",
       " <Element a at 0x10800b2c8>,\n",
       " <Element span at 0x10800b318>,\n",
       " <Element em at 0x10800b368>,\n",
       " <Element div at 0x10800b3b8>,\n",
       " <Element div at 0x10800b408>,\n",
       " <Element a at 0x10800b458>,\n",
       " <Element em at 0x10800b4a8>,\n",
       " <Element span at 0x10800b4f8>,\n",
       " <Element span at 0x10800b548>,\n",
       " <Element span at 0x10800b598>,\n",
       " <Element div at 0x10800b5e8>,\n",
       " <Element div at 0x10800b638>,\n",
       " <Element div at 0x10800b688>,\n",
       " <Element ul at 0x10800b6d8>,\n",
       " <Element li at 0x10800b728>,\n",
       " <Element h3 at 0x10800b778>,\n",
       " <Element a at 0x10800b7c8>,\n",
       " <Element li at 0x10800b818>,\n",
       " <Element a at 0x10800b868>,\n",
       " <Element li at 0x10800b8b8>,\n",
       " <Element a at 0x10800b908>,\n",
       " <Element li at 0x10800b958>,\n",
       " <Element a at 0x10800b9a8>,\n",
       " <Element li at 0x10800b9f8>,\n",
       " <Element a at 0x10800ba48>,\n",
       " <Element li at 0x10800ba98>,\n",
       " <Element a at 0x10800bae8>,\n",
       " <Element li at 0x10800bb38>,\n",
       " <Element a at 0x10800bb88>,\n",
       " <Element li at 0x10800bbd8>,\n",
       " <Element a at 0x10800bc28>,\n",
       " <Element li at 0x10800bc78>,\n",
       " <Element a at 0x10800bcc8>,\n",
       " <Element ul at 0x10800bd18>,\n",
       " <Element li at 0x10800bd68>,\n",
       " <Element h3 at 0x10800bdb8>,\n",
       " <Element a at 0x10800be08>,\n",
       " <Element li at 0x10800be58>,\n",
       " <Element a at 0x10800bea8>,\n",
       " <Element li at 0x10800bef8>,\n",
       " <Element a at 0x10800bf48>,\n",
       " <Element li at 0x10800bf98>,\n",
       " <Element a at 0x108008048>,\n",
       " <Element li at 0x108008098>,\n",
       " <Element a at 0x1080080e8>,\n",
       " <Element li at 0x108008138>,\n",
       " <Element a at 0x108008188>,\n",
       " <Element li at 0x1080081d8>,\n",
       " <Element a at 0x108008228>,\n",
       " <Element li at 0x108008278>,\n",
       " <Element a at 0x1080082c8>,\n",
       " <Element li at 0x108008318>,\n",
       " <Element a at 0x108008368>,\n",
       " <Element ul at 0x1080083b8>,\n",
       " <Element li at 0x108008408>,\n",
       " <Element h3 at 0x108008458>,\n",
       " <Element a at 0x1080084a8>,\n",
       " <Element li at 0x1080084f8>,\n",
       " <Element a at 0x108008548>,\n",
       " <Element li at 0x108008598>,\n",
       " <Element a at 0x1080085e8>,\n",
       " <Element li at 0x108008638>,\n",
       " <Element a at 0x108008688>,\n",
       " <Element li at 0x1080086d8>,\n",
       " <Element a at 0x108008728>,\n",
       " <Element li at 0x108008778>,\n",
       " <Element a at 0x1080087c8>,\n",
       " <Element li at 0x108008818>,\n",
       " <Element li at 0x108008868>,\n",
       " <Element ul at 0x1080088b8>,\n",
       " <Element li at 0x108008908>,\n",
       " <Element h3 at 0x108008958>,\n",
       " <Element a at 0x1080089a8>,\n",
       " <Element li at 0x1080089f8>,\n",
       " <Element a at 0x108008a48>,\n",
       " <Element li at 0x108008a98>,\n",
       " <Element a at 0x108008ae8>,\n",
       " <Element li at 0x108008b38>,\n",
       " <Element a at 0x108008b88>,\n",
       " <Element li at 0x108008bd8>,\n",
       " <Element a at 0x108008c28>,\n",
       " <Element li at 0x108008c78>,\n",
       " <Element a at 0x108008cc8>,\n",
       " <Element li at 0x108008d18>,\n",
       " <Element a at 0x108008d68>,\n",
       " <Element li at 0x108008db8>,\n",
       " <Element a at 0x108008e08>,\n",
       " <Element li at 0x108008e58>,\n",
       " <Element a at 0x108008ea8>,\n",
       " <Element ul at 0x108008ef8>,\n",
       " <Element li at 0x108008f48>,\n",
       " <Element h3 at 0x108008f98>,\n",
       " <Element a at 0x10807d048>,\n",
       " <Element li at 0x10807d098>,\n",
       " <Element a at 0x10807d0e8>,\n",
       " <Element li at 0x10807d138>,\n",
       " <Element a at 0x10807d188>,\n",
       " <Element li at 0x10807d1d8>,\n",
       " <Element a at 0x10807d228>,\n",
       " <Element li at 0x10807d278>,\n",
       " <Element a at 0x10807d2c8>,\n",
       " <Element li at 0x10807d318>,\n",
       " <Element a at 0x10807d368>,\n",
       " <Element li at 0x10807d3b8>,\n",
       " <Element a at 0x10807d408>,\n",
       " <Element li at 0x10807d458>,\n",
       " <Element a at 0x10807d4a8>,\n",
       " <Element li at 0x10807d4f8>,\n",
       " <Element a at 0x10807d548>,\n",
       " <Element ul at 0x10807d598>,\n",
       " <Element li at 0x10807d5e8>,\n",
       " <Element h3 at 0x10807d638>,\n",
       " <Element a at 0x10807d688>,\n",
       " <Element li at 0x10807d6d8>,\n",
       " <Element a at 0x10807d728>,\n",
       " <Element li at 0x10807d778>,\n",
       " <Element a at 0x10807d7c8>,\n",
       " <Element li at 0x10807d818>,\n",
       " <Element a at 0x10807d868>,\n",
       " <Element li at 0x10807d8b8>,\n",
       " <Element a at 0x10807d908>,\n",
       " <Element li at 0x10807d958>,\n",
       " <Element a at 0x10807d9a8>,\n",
       " <Element li at 0x10807d9f8>,\n",
       " <Element a at 0x10807da48>,\n",
       " <Element li at 0x10807da98>,\n",
       " <Element a at 0x10807dae8>,\n",
       " <Element li at 0x10807db38>,\n",
       " <Element a at 0x10807db88>,\n",
       " <Element ul at 0x10807dbd8>,\n",
       " <Element li at 0x10807dc28>,\n",
       " <Element h3 at 0x10807dc78>,\n",
       " <Element a at 0x10807dcc8>,\n",
       " <Element li at 0x10807dd18>,\n",
       " <Element a at 0x10807dd68>,\n",
       " <Element li at 0x10807ddb8>,\n",
       " <Element a at 0x10807de08>,\n",
       " <Element li at 0x10807de58>,\n",
       " <Element a at 0x10807dea8>,\n",
       " <Element li at 0x10807def8>,\n",
       " <Element a at 0x10807df48>,\n",
       " <Element li at 0x10807df98>,\n",
       " <Element a at 0x108083048>,\n",
       " <Element li at 0x108083098>,\n",
       " <Element a at 0x1080830e8>,\n",
       " <Element li at 0x108083138>,\n",
       " <Element a at 0x108083188>,\n",
       " <Element li at 0x1080831d8>,\n",
       " <Element a at 0x108083228>,\n",
       " <Element ul at 0x108083278>,\n",
       " <Element li at 0x1080832c8>,\n",
       " <Element h3 at 0x108083318>,\n",
       " <Element a at 0x108083368>,\n",
       " <Element span at 0x1080833b8>,\n",
       " <Element a at 0x108083408>,\n",
       " <Element li at 0x108083458>,\n",
       " <Element a at 0x1080834a8>,\n",
       " <Element li at 0x1080834f8>,\n",
       " <Element a at 0x108083548>,\n",
       " <Element li at 0x108083598>,\n",
       " <Element a at 0x1080835e8>,\n",
       " <Element li at 0x108083638>,\n",
       " <Element a at 0x108083688>,\n",
       " <Element li at 0x1080836d8>,\n",
       " <Element a at 0x108083728>,\n",
       " <Element li at 0x108083778>,\n",
       " <Element a at 0x1080837c8>,\n",
       " <Element li at 0x108083818>,\n",
       " <Element a at 0x108083868>,\n",
       " <Element li at 0x1080838b8>,\n",
       " <Element a at 0x108083908>,\n",
       " <Element ul at 0x108083958>,\n",
       " <Element li at 0x1080839a8>,\n",
       " <Element h3 at 0x1080839f8>,\n",
       " <Element a at 0x108083a48>,\n",
       " <Element span at 0x108083a98>,\n",
       " <Element a at 0x108083ae8>,\n",
       " <Element li at 0x108083b38>,\n",
       " <Element a at 0x108083b88>,\n",
       " <Element li at 0x108083bd8>,\n",
       " <Element a at 0x108083c28>,\n",
       " <Element li at 0x108083c78>,\n",
       " <Element a at 0x108083cc8>,\n",
       " <Element li at 0x108083d18>,\n",
       " <Element a at 0x108083d68>,\n",
       " <Element li at 0x108083db8>,\n",
       " <Element a at 0x108083e08>,\n",
       " <Element li at 0x108083e58>,\n",
       " <Element a at 0x108083ea8>,\n",
       " <Element li at 0x108083ef8>,\n",
       " <Element a at 0x108083f48>,\n",
       " <Element li at 0x108083f98>,\n",
       " <Element a at 0x108085048>,\n",
       " <Element ul at 0x108085098>,\n",
       " <Element li at 0x1080850e8>,\n",
       " <Element h3 at 0x108085138>,\n",
       " <Element a at 0x108085188>,\n",
       " <Element li at 0x1080851d8>,\n",
       " <Element a at 0x108085228>,\n",
       " <Element li at 0x108085278>,\n",
       " <Element a at 0x1080852c8>,\n",
       " <Element li at 0x108085318>,\n",
       " <Element a at 0x108085368>,\n",
       " <Element li at 0x1080853b8>,\n",
       " <Element a at 0x108085408>,\n",
       " <Element li at 0x108085458>,\n",
       " <Element a at 0x1080854a8>,\n",
       " <Element li at 0x1080854f8>,\n",
       " <Element a at 0x108085548>,\n",
       " <Element li at 0x108085598>,\n",
       " <Element a at 0x1080855e8>,\n",
       " <Element li at 0x108085638>,\n",
       " <Element a at 0x108085688>,\n",
       " <Element ul at 0x1080856d8>,\n",
       " <Element li at 0x108085728>,\n",
       " <Element h3 at 0x108085778>,\n",
       " <Element a at 0x1080857c8>,\n",
       " <Element li at 0x108085818>,\n",
       " <Element a at 0x108085868>,\n",
       " <Element li at 0x1080858b8>,\n",
       " <Element a at 0x108085908>,\n",
       " <Element li at 0x108085958>,\n",
       " <Element a at 0x1080859a8>,\n",
       " <Element li at 0x1080859f8>,\n",
       " <Element a at 0x108085a48>,\n",
       " <Element li at 0x108085a98>,\n",
       " <Element a at 0x108085ae8>,\n",
       " <Element li at 0x108085b38>,\n",
       " <Element a at 0x108085b88>,\n",
       " <Element li at 0x108085bd8>,\n",
       " <Element a at 0x108085c28>,\n",
       " <Element li at 0x108085c78>,\n",
       " <Element a at 0x108085cc8>,\n",
       " <Element div at 0x108085d18>,\n",
       " <Element a at 0x108085d68>,\n",
       " <Element i at 0x108085db8>,\n",
       " <Element div at 0x108085e08>,\n",
       " <Element div at 0x108085e58>,\n",
       " <Element div at 0x108085ea8>,\n",
       " <Element div at 0x108085ef8>,\n",
       " <Element a at 0x108085f48>,\n",
       " <Element div at 0x108085f98>,\n",
       " <!-- <div class=\"ntes-nav-loginframe-pop\" id=\"js_N_login_wrap\" style=\"display:none\">\n",
       " \t\t\t\t\t\t\t\t<div class=\"ntes-loginframe clearfix\">\n",
       " \t\t\t\t\t\t\t\t\t<div class=\"ntes-loginframe-blank clearfix\">\n",
       " \t\t\t\t\t\t\t\t\t\t<span class=\"ntes-loginframe-tips\">网易邮箱/常用邮箱登录 </span>\n",
       " \t\t\t\t\t\t\t\t\t\t<label class=\"ntes-loginframe-label clearfix\"><span class=\"loginframe-hidden\">账号：</span>\n",
       " \t\t\t\t\t\t\t\t\t\t\t<input id=\"js_loginframe_username\" type=\"text\" class=\"ntes-loginframe-label-ipt\" placeholder=\"网易邮箱/常用邮箱\">\n",
       " \t\t\t\t\t\t\t\t\t\t</label>\n",
       " \t\t\t\t\t\t\t\t\t</div>\n",
       " \t\t\t\t\t\t\t\t\t<div class=\"ntes-loginframe-blank clearfix\">\n",
       " \t\t\t\t\t\t\t\t\t\t<label class=\"ntes-loginframe-label clearfix\"><span class=\"loginframe-hidden\">密码：</span>\n",
       " \t\t\t\t\t\t\t\t\t\t\t<input type=\"password\" class=\"ntes-loginframe-label-ipt\" placeholder=\"请输入密码\">\n",
       " \t\t\t\t\t\t\t\t\t\t</label>\n",
       " \t\t\t\t\t\t\t\t\t\t<span class=\"ntes-loginframe-label mt6 mb6 clearfix\">\n",
       " \t\t\t\t\t\t\t\t\t\t\t<label class=\"c-fl\">\n",
       " \t\t\t\t\t\t\t\t\t\t\t\t<input type=\"checkbox\" name=\"autologin\" class=\"ntes-loginframe-checkbox\">\n",
       " \t\t\t\t\t\t\t\t\t\t\t\t<span class=\"c-fl\">十天内免登录</span>\n",
       " \t\t\t\t\t\t\t\t\t\t\t</label>\n",
       " \t\t\t\t\t\t\t\t\t\t\t<a href=\"http://reg.163.com/RecoverPassword.shtml?f=www\" class=\"c-fr\">忘记密码？</a>\n",
       " \t\t\t\t\t\t\t\t\t\t</span>\n",
       " \t\t\t\t\t\t\t\t\t\t<div class=\"ntes-loginframe-hot-link mb6 clearfix\">\n",
       " \t\t\t\t\t\t\t\t\t\t\t<a href=\"http://mail.163.com/client/dl.html?from=mail46\">免费下载网易官方手机邮箱应用</a>\n",
       " \t\t\t\t\t\t\t\t\t\t</div>\n",
       " \t\t\t\t\t\t\t\t\t\t<button class=\"ntes-loginframe-btn\">\n",
       " \t\t\t\t\t\t\t\t\t\t\t登　录\n",
       " \t\t\t\t\t\t\t\t\t\t</button>\n",
       " \t\t\t\t\t\t\t\t\t</div>\n",
       " \t\t\t\t\t\t\t\t</div>\n",
       " \t\t\t\t\t\t\t</div> -->,\n",
       " <Element div at 0x108086048>,\n",
       " <Element a at 0x108086098>,\n",
       " <Element em at 0x1080860e8>,\n",
       " <Element div at 0x108086138>,\n",
       " <Element ul at 0x108086188>,\n",
       " <Element li at 0x1080861d8>,\n",
       " <Element a at 0x108086228>,\n",
       " <Element span at 0x108086278>,\n",
       " <Element li at 0x1080862c8>,\n",
       " <Element a at 0x108086318>,\n",
       " <Element span at 0x108086368>,\n",
       " <Element div at 0x1080863b8>,\n",
       " <Element span at 0x108086408>,\n",
       " <Element div at 0x108086458>,\n",
       " <Element span at 0x1080864a8>,\n",
       " <Element span at 0x1080864f8>,\n",
       " <Element em at 0x108086548>,\n",
       " <Element div at 0x108086598>,\n",
       " <Element ul at 0x1080865e8>,\n",
       " <Element a at 0x108086638>,\n",
       " <Element ul at 0x108086688>,\n",
       " <Element li at 0x1080866d8>,\n",
       " <Element div at 0x108086728>,\n",
       " <Element a at 0x108086778>,\n",
       " <Element em at 0x1080867c8>,\n",
       " <Element div at 0x108086818>,\n",
       " <Element a at 0x108086868>,\n",
       " <Element img at 0x1080868b8>,\n",
       " <Element li at 0x108086908>,\n",
       " <Element div at 0x108086958>,\n",
       " <Element a at 0x1080869a8>,\n",
       " <Element em at 0x1080869f8>,\n",
       " <Element em at 0x108086a48>,\n",
       " <Element span at 0x108086a98>,\n",
       " <Element em at 0x108086ae8>,\n",
       " <Element div at 0x108086b38>,\n",
       " <Element ul at 0x108086b88>,\n",
       " <Element li at 0x108086bd8>,\n",
       " <Element a at 0x108086c28>,\n",
       " <Element span at 0x108086c78>,\n",
       " <Element li at 0x108086cc8>,\n",
       " <Element a at 0x108086d18>,\n",
       " <Element span at 0x108086d68>,\n",
       " <Element li at 0x108086db8>,\n",
       " <Element a at 0x108086e08>,\n",
       " <Element span at 0x108086e58>,\n",
       " <Element li at 0x108086ea8>,\n",
       " <Element a at 0x108086ef8>,\n",
       " <Element span at 0x108086f48>,\n",
       " <Element li at 0x108086f98>,\n",
       " <Element a at 0x108087048>,\n",
       " <Element span at 0x108087098>,\n",
       " <Element li at 0x1080870e8>,\n",
       " <Element a at 0x108087138>,\n",
       " <Element span at 0x108087188>,\n",
       " <Element li at 0x1080871d8>,\n",
       " <Element div at 0x108087228>,\n",
       " <Element a at 0x108087278>,\n",
       " <Element em at 0x1080872c8>,\n",
       " <Element em at 0x108087318>,\n",
       " <Element span at 0x108087368>,\n",
       " <Element em at 0x1080873b8>,\n",
       " <Element div at 0x108087408>,\n",
       " <Element ul at 0x108087458>,\n",
       " <Element li at 0x1080874a8>,\n",
       " <Element a at 0x1080874f8>,\n",
       " <Element span at 0x108087548>,\n",
       " <Element li at 0x108087598>,\n",
       " <Element a at 0x1080875e8>,\n",
       " <Element span at 0x108087638>,\n",
       " <Element li at 0x108087688>,\n",
       " <Element div at 0x1080876d8>,\n",
       " <Element a at 0x108087728>,\n",
       " <Element em at 0x108087778>,\n",
       " <Element em at 0x1080877c8>,\n",
       " <Element span at 0x108087818>,\n",
       " <Element em at 0x108087868>,\n",
       " <Element div at 0x1080878b8>,\n",
       " <Element ul at 0x108087908>,\n",
       " <Element li at 0x108087958>,\n",
       " <Element a at 0x1080879a8>,\n",
       " <Element span at 0x1080879f8>,\n",
       " <Element li at 0x108087a48>,\n",
       " <Element a at 0x108087a98>,\n",
       " <Element span at 0x108087ae8>,\n",
       " <Element li at 0x108087b38>,\n",
       " <Element a at 0x108087b88>,\n",
       " <Element span at 0x108087bd8>,\n",
       " <Element li at 0x108087c28>,\n",
       " <Element a at 0x108087c78>,\n",
       " <Element span at 0x108087cc8>,\n",
       " <Element li at 0x108087d18>,\n",
       " <Element a at 0x108087d68>,\n",
       " <Element span at 0x108087db8>,\n",
       " <Element li at 0x108087e08>,\n",
       " <Element a at 0x108087e58>,\n",
       " <Element span at 0x108087ea8>,\n",
       " <Element li at 0x108087ef8>,\n",
       " <Element a at 0x108087f48>,\n",
       " <Element span at 0x108087f98>,\n",
       " <Element li at 0x108088048>,\n",
       " <Element a at 0x108088098>,\n",
       " <Element span at 0x1080880e8>,\n",
       " <Element li at 0x108088138>,\n",
       " <Element a at 0x108088188>,\n",
       " <Element span at 0x1080881d8>,\n",
       " <Element li at 0x108088228>,\n",
       " <Element div at 0x108088278>,\n",
       " <Element a at 0x1080882c8>,\n",
       " <Element em at 0x108088318>,\n",
       " <Element em at 0x108088368>,\n",
       " <Element span at 0x1080883b8>,\n",
       " <Element em at 0x108088408>,\n",
       " <Element div at 0x108088458>,\n",
       " <Element ul at 0x1080884a8>,\n",
       " <Element li at 0x1080884f8>,\n",
       " <Element a at 0x108088548>,\n",
       " <Element span at 0x108088598>,\n",
       " <Element li at 0x1080885e8>,\n",
       " <Element a at 0x108088638>,\n",
       " <Element span at 0x108088688>,\n",
       " <Element li at 0x1080886d8>,\n",
       " <Element a at 0x108088728>,\n",
       " <Element span at 0x108088778>,\n",
       " <Element li at 0x1080887c8>,\n",
       " <Element a at 0x108088818>,\n",
       " <Element span at 0x108088868>,\n",
       " <Element li at 0x1080888b8>,\n",
       " <Element a at 0x108088908>,\n",
       " <Element span at 0x108088958>,\n",
       " <Element li at 0x1080889a8>,\n",
       " <Element a at 0x1080889f8>,\n",
       " <Element span at 0x108088a48>,\n",
       " <Element li at 0x108088a98>,\n",
       " <Element a at 0x108088ae8>,\n",
       " <Element span at 0x108088b38>,\n",
       " <Element li at 0x108088b88>,\n",
       " <Element a at 0x108088bd8>,\n",
       " <Element span at 0x108088c28>,\n",
       " <Element li at 0x108088c78>,\n",
       " <Element a at 0x108088cc8>,\n",
       " <Element span at 0x108088d18>,\n",
       " <Element li at 0x108088d68>,\n",
       " <Element a at 0x108088db8>,\n",
       " <Element span at 0x108088e08>,\n",
       " <Element li at 0x108088e58>,\n",
       " <Element div at 0x108088ea8>,\n",
       " <Element a at 0x108088ef8>,\n",
       " <Element em at 0x108088f48>,\n",
       " <Element em at 0x108088f98>,\n",
       " <Element div at 0x108089048>,\n",
       " <Element ul at 0x108089098>,\n",
       " <Element li at 0x1080890e8>,\n",
       " <Element a at 0x108089138>,\n",
       " <Element span at 0x108089188>,\n",
       " <Element li at 0x1080891d8>,\n",
       " <Element a at 0x108089228>,\n",
       " <Element span at 0x108089278>,\n",
       " <Element li at 0x1080892c8>,\n",
       " <Element a at 0x108089318>,\n",
       " <Element span at 0x108089368>,\n",
       " <Element li at 0x1080893b8>,\n",
       " <Element a at 0x108089408>,\n",
       " <Element span at 0x108089458>,\n",
       " <Element li at 0x1080894a8>,\n",
       " <Element a at 0x1080894f8>,\n",
       " <Element span at 0x108089548>,\n",
       " <Element li at 0x108089598>,\n",
       " <Element a at 0x1080895e8>,\n",
       " <Element span at 0x108089638>,\n",
       " <Element li at 0x108089688>,\n",
       " <Element a at 0x1080896d8>,\n",
       " <Element span at 0x108089728>,\n",
       " <Element li at 0x108089778>,\n",
       " <Element div at 0x1080897c8>,\n",
       " <Element a at 0x108089818>,\n",
       " <Element em at 0x108089868>,\n",
       " <Element em at 0x1080898b8>,\n",
       " <Element div at 0x108089908>,\n",
       " <Element ul at 0x108089958>,\n",
       " <Element li at 0x1080899a8>,\n",
       " <Element a at 0x1080899f8>,\n",
       " <Element span at 0x108089a48>,\n",
       " <Element li at 0x108089a98>,\n",
       " <Element a at 0x108089ae8>,\n",
       " <Element span at 0x108089b38>,\n",
       " <Element li at 0x108089b88>,\n",
       " <Element a at 0x108089bd8>,\n",
       " <Element span at 0x108089c28>,\n",
       " <Element li at 0x108089c78>,\n",
       " <Element a at 0x108089cc8>,\n",
       " <Element span at 0x108089d18>,\n",
       " <Element li at 0x108089d68>,\n",
       " <Element a at 0x108089db8>,\n",
       " <Element span at 0x108089e08>,\n",
       " <Element li at 0x108089e58>,\n",
       " <Element a at 0x108089ea8>,\n",
       " <Element span at 0x108089ef8>,\n",
       " <Element li at 0x108089f48>,\n",
       " <Element a at 0x108089f98>,\n",
       " <Element span at 0x10808a048>,\n",
       " <Element li at 0x10808a098>,\n",
       " <Element a at 0x10808a0e8>,\n",
       " <Element span at 0x10808a138>,\n",
       " <Element li at 0x10808a188>,\n",
       " <Element div at 0x10808a1d8>,\n",
       " <Element a at 0x10808a228>,\n",
       " <Element em at 0x10808a278>,\n",
       " <Element em at 0x10808a2c8>,\n",
       " <Element span at 0x10808a318>,\n",
       " <Element em at 0x10808a368>,\n",
       " <Element div at 0x10808a3b8>,\n",
       " <Element ul at 0x10808a408>,\n",
       " <Element li at 0x10808a458>,\n",
       " <Element a at 0x10808a4a8>,\n",
       " <Element span at 0x10808a4f8>,\n",
       " <Element li at 0x10808a548>,\n",
       " <Element a at 0x10808a598>,\n",
       " <Element span at 0x10808a5e8>,\n",
       " <Element li at 0x10808a638>,\n",
       " <Element a at 0x10808a688>,\n",
       " <Element span at 0x10808a6d8>,\n",
       " <Element li at 0x10808a728>,\n",
       " <Element a at 0x10808a778>,\n",
       " <Element span at 0x10808a7c8>,\n",
       " <Element li at 0x10808a818>,\n",
       " <Element a at 0x10808a868>,\n",
       " <Element span at 0x10808a8b8>,\n",
       " <Element li at 0x10808a908>,\n",
       " <Element a at 0x10808a958>,\n",
       " <Element span at 0x10808a9a8>,\n",
       " <Element script at 0x10808a9f8>,\n",
       " <Element script at 0x10808aa48>,\n",
       " <Element script at 0x10808aa98>,\n",
       " <Element script at 0x10808aae8>,\n",
       " <Element script at 0x10808ab38>,\n",
       " <Element style at 0x10808ab88>,\n",
       " <Element div at 0x10808abd8>,\n",
       " <Element div at 0x10808ac28>,\n",
       " <Element div at 0x10808ac78>,\n",
       " <!-- 2016科技文章页通栏01 -->,\n",
       " <Element div at 0x10808acc8>,\n",
       " <Element a at 0x10808ad18>,\n",
       " <Element script at 0x10808ad68>,\n",
       " <Element div at 0x10808adb8>,\n",
       " <Element div at 0x10808ae08>,\n",
       " <Element div at 0x10808ae58>,\n",
       " <Element div at 0x10808aea8>,\n",
       " <Element a at 0x10808aef8>,\n",
       " <Element a at 0x10808af48>,\n",
       " <Element a at 0x10808af98>,\n",
       " <Element div at 0x10808b048>,\n",
       " <Element form at 0x10808b098>,\n",
       " <InputElement 10808b0e8 name='q' type='text'>,\n",
       " <InputElement 10808b138 name='ue' type='hidden'>,\n",
       " <InputElement 10808b188 name='ttimesort' type='hidden'>,\n",
       " <InputElement 10808b1d8 name='keyfrom' type='hidden'>,\n",
       " <InputElement 10808b228 name='site' type='hidden'>,\n",
       " <InputElement 10808b278 name=None type='submit'>,\n",
       " <Element div at 0x10808b2c8>,\n",
       " <Element h1 at 0x10808b318>,\n",
       " <Element div at 0x10808b368>,\n",
       " <Element a at 0x10808b3b8>,\n",
       " <Element div at 0x10808b408>,\n",
       " <Element div at 0x10808b458>,\n",
       " <Element div at 0x10808b4a8>,\n",
       " <!--2016科技左侧擎天柱-->,\n",
       " <Element div at 0x10808b4f8>,\n",
       " <Element a at 0x10808b548>,\n",
       " <Element a at 0x10808b598>,\n",
       " <Element div at 0x10808b5e8>,\n",
       " <Element span at 0x10808b638>,\n",
       " <Element ul at 0x10808b688>,\n",
       " <Element li at 0x10808b6d8>,\n",
       " <Element a at 0x10808b728>,\n",
       " <Element i at 0x10808b778>,\n",
       " <Element span at 0x10808b7c8>,\n",
       " <Element li at 0x10808b818>,\n",
       " <Element a at 0x10808b868>,\n",
       " <Element i at 0x10808b8b8>,\n",
       " <Element span at 0x10808b908>,\n",
       " <Element li at 0x10808b958>,\n",
       " <Element a at 0x10808b9a8>,\n",
       " <Element i at 0x10808b9f8>,\n",
       " <Element span at 0x10808ba48>,\n",
       " <Element li at 0x10808ba98>,\n",
       " <Element a at 0x10808bae8>,\n",
       " <Element i at 0x10808bb38>,\n",
       " <Element span at 0x10808bb88>,\n",
       " <Element li at 0x10808bbd8>,\n",
       " <Element a at 0x10808bc28>,\n",
       " <Element i at 0x10808bc78>,\n",
       " <Element span at 0x10808bcc8>,\n",
       " <Element ul at 0x10808bd18>,\n",
       " <Element span at 0x10808bd68>,\n",
       " <Element li at 0x10808bdb8>,\n",
       " <Element a at 0x10808be08>,\n",
       " <Element i at 0x10808be58>,\n",
       " <Element span at 0x10808bea8>,\n",
       " <Element li at 0x10808bef8>,\n",
       " <Element a at 0x10808bf48>,\n",
       " <Element i at 0x10808bf98>,\n",
       " <Element span at 0x10808c048>,\n",
       " <Element li at 0x10808c098>,\n",
       " <Element a at 0x10808c0e8>,\n",
       " <Element i at 0x10808c138>,\n",
       " <Element span at 0x10808c188>,\n",
       " <Element div at 0x10808c1d8>,\n",
       " <Element div at 0x10808c228>,\n",
       " <Element a at 0x10808c278>,\n",
       " <Element div at 0x10808c2c8>,\n",
       " <Element p at 0x10808c318>,\n",
       " <Element p at 0x10808c368>,\n",
       " <Element div at 0x10808c3b8>,\n",
       " <Element span at 0x10808c408>,\n",
       " <Element a at 0x10808c458>,\n",
       " <Element a at 0x10808c4a8>,\n",
       " <Element div at 0x10808c4f8>,\n",
       " <Element p at 0x10808c548>,\n",
       " <Element p at 0x10808c598>,\n",
       " <Element p at 0x10808c5e8>,\n",
       " <Element img at 0x10808c638>,\n",
       " <Element p at 0x10808c688>,\n",
       " <Element p at 0x10808c6d8>,\n",
       " <Element p at 0x10808c728>,\n",
       " <Element img at 0x10808c778>,\n",
       " <Element p at 0x10808c7c8>,\n",
       " <Element p at 0x10808c818>,\n",
       " <Element p at 0x10808c868>,\n",
       " <Element p at 0x10808c8b8>,\n",
       " <Element p at 0x10808c908>,\n",
       " <Element p at 0x10808c958>,\n",
       " <Element p at 0x10808c9a8>,\n",
       " <Element strong at 0x10808c9f8>,\n",
       " <Element p at 0x10808ca48>,\n",
       " <Element p at 0x10808ca98>,\n",
       " <Element p at 0x10808cae8>,\n",
       " <Element p at 0x10808cb38>,\n",
       " <Element p at 0x10808cb88>,\n",
       " <Element img at 0x10808cbd8>,\n",
       " <Element p at 0x10808cc28>,\n",
       " <Element p at 0x10808cc78>,\n",
       " <Element p at 0x10808ccc8>,\n",
       " <Element p at 0x10808cd18>,\n",
       " <Element p at 0x10808cd68>,\n",
       " <Element p at 0x10808cdb8>,\n",
       " <Element img at 0x10808ce08>,\n",
       " <Element p at 0x10808ce58>,\n",
       " <Element strong at 0x10808cea8>,\n",
       " <Element p at 0x10808cef8>,\n",
       " <Element p at 0x10808cf48>,\n",
       " <Element strong at 0x10808cf98>,\n",
       " <Element p at 0x10808d048>,\n",
       " <Element p at 0x10808d098>,\n",
       " <Element p at 0x10808d0e8>,\n",
       " <Element p at 0x10808d138>,\n",
       " <Element img at 0x10808d188>,\n",
       " <Element p at 0x10808d1d8>,\n",
       " <Element p at 0x10808d228>,\n",
       " <Element p at 0x10808d278>,\n",
       " <Element p at 0x10808d2c8>,\n",
       " <Element p at 0x10808d318>,\n",
       " <Element p at 0x10808d368>,\n",
       " <Element p at 0x10808d3b8>,\n",
       " <Element p at 0x10808d408>,\n",
       " <Element p at 0x10808d458>,\n",
       " <Element strong at 0x10808d4a8>,\n",
       " <Element p at 0x10808d4f8>,\n",
       " <Element p at 0x10808d548>,\n",
       " <Element p at 0x10808d598>,\n",
       " <Element img at 0x10808d5e8>,\n",
       " <Element p at 0x10808d638>,\n",
       " <Element p at 0x10808d688>,\n",
       " <Element p at 0x10808d6d8>,\n",
       " <Element p at 0x10808d728>,\n",
       " <Element p at 0x10808d778>,\n",
       " <Element img at 0x10808d7c8>,\n",
       " <Element p at 0x10808d818>,\n",
       " <Element p at 0x10808d868>,\n",
       " <Element p at 0x10808d8b8>,\n",
       " <Element p at 0x10808d908>,\n",
       " <Element p at 0x10808d958>,\n",
       " <Element strong at 0x10808d9a8>,\n",
       " <Element p at 0x10808d9f8>,\n",
       " <Element p at 0x10808da48>,\n",
       " <Element p at 0x10808da98>,\n",
       " <Element p at 0x10808dae8>,\n",
       " <Element p at 0x10808db38>,\n",
       " <Element img at 0x10808db88>,\n",
       " <Element p at 0x10808dbd8>,\n",
       " <Element img at 0x10808dc28>,\n",
       " <Element p at 0x10808dc78>,\n",
       " <Element p at 0x10808dcc8>,\n",
       " <Element p at 0x10808dd18>,\n",
       " <Element p at 0x10808dd68>,\n",
       " <Element img at 0x10808ddb8>,\n",
       " <Element p at 0x10808de08>,\n",
       " <Element img at 0x10808de58>,\n",
       " <Element p at 0x10808dea8>,\n",
       " <Element p at 0x10808def8>,\n",
       " <Element p at 0x10808df48>,\n",
       " <Element p at 0x10808df98>,\n",
       " <Element img at 0x10808e048>,\n",
       " <Element p at 0x10808e098>,\n",
       " <Element div at 0x10808e0e8>,\n",
       " <Element div at 0x10808e138>,\n",
       " <Element a at 0x10808e188>,\n",
       " <Element iframe at 0x10808e1d8>,\n",
       " <Element p at 0x10808e228>,\n",
       " <Element p at 0x10808e278>,\n",
       " <Element p at 0x10808e2c8>,\n",
       " <Element div at 0x10808e318>,\n",
       " <Element span at 0x10808e368>,\n",
       " <Element a at 0x10808e3b8>,\n",
       " <Element img at 0x10808e408>,\n",
       " <!--侯维铖_NT4124-->,\n",
       " <Element span at 0x10808e458>,\n",
       " <Element div at 0x10808e4a8>,\n",
       " <Element span at 0x10808e4f8>,\n",
       " <Element ul at 0x10808e548>,\n",
       " <Element li at 0x10808e598>,\n",
       " <Element a at 0x10808e5e8>,\n",
       " <Element i at 0x10808e638>,\n",
       " <Element span at 0x10808e688>,\n",
       " <Element li at 0x10808e6d8>,\n",
       " <Element a at 0x10808e728>,\n",
       " <Element i at 0x10808e778>,\n",
       " <Element span at 0x10808e7c8>,\n",
       " <Element li at 0x10808e818>,\n",
       " <Element a at 0x10808e868>,\n",
       " <Element i at 0x10808e8b8>,\n",
       " <Element span at 0x10808e908>,\n",
       " <Element li at 0x10808e958>,\n",
       " <Element a at 0x10808e9a8>,\n",
       " <Element i at 0x10808e9f8>,\n",
       " <Element span at 0x10808ea48>,\n",
       " <Element li at 0x10808ea98>,\n",
       " <Element a at 0x10808eae8>,\n",
       " <Element i at 0x10808eb38>,\n",
       " <Element span at 0x10808eb88>,\n",
       " <Element ul at 0x10808ebd8>,\n",
       " <Element span at 0x10808ec28>,\n",
       " <Element li at 0x10808ec78>,\n",
       " <Element a at 0x10808ecc8>,\n",
       " <Element i at 0x10808ed18>,\n",
       " <Element span at 0x10808ed68>,\n",
       " <Element li at 0x10808edb8>,\n",
       " <Element a at 0x10808ee08>,\n",
       " <Element i at 0x10808ee58>,\n",
       " <Element span at 0x10808eea8>,\n",
       " <Element li at 0x10808eef8>,\n",
       " <Element a at 0x10808ef48>,\n",
       " <Element i at 0x10808ef98>,\n",
       " <Element span at 0x10808f048>,\n",
       " <Element div at 0x10808f098>,\n",
       " <Element div at 0x10808f0e8>,\n",
       " <Element a at 0x10808f138>,\n",
       " <Element div at 0x10808f188>,\n",
       " <Element p at 0x10808f1d8>,\n",
       " <Element p at 0x10808f228>,\n",
       " <Element div at 0x10808f278>,\n",
       " <!--【2015】文章页通栏02（双分辨率）-->,\n",
       " <Element script at 0x10808f2c8>,\n",
       " <Element script at 0x10808f318>,\n",
       " <Element script at 0x10808f368>,\n",
       " <Element script at 0x10808f3b8>,\n",
       " <Element script at 0x10808f408>,\n",
       " <Element script at 0x10808f458>,\n",
       " <Element div at 0x10808f4a8>,\n",
       " <Element div at 0x10808f4f8>,\n",
       " <Element div at 0x10808f548>,\n",
       " <Element div at 0x10808f598>,\n",
       " <Element div at 0x10808f5e8>,\n",
       " <Element a at 0x10808f638>,\n",
       " <Element div at 0x10808f688>,\n",
       " <Element a at 0x10808f6d8>,\n",
       " <Element a at 0x10808f728>,\n",
       " <Element i at 0x10808f778>,\n",
       " <Element div at 0x10808f7c8>,\n",
       " <Element script at 0x10808f818>,\n",
       " <Element link at 0x10808f868>,\n",
       " <Element script at 0x10808f8b8>,\n",
       " <Element script at 0x10808f908>,\n",
       " <Element div at 0x10808f958>,\n",
       " <Element div at 0x10808f9a8>,\n",
       " <Element div at 0x10808f9f8>,\n",
       " <Element a at 0x10808fa48>,\n",
       " <Element em at 0x10808fa98>,\n",
       " <Element div at 0x10808fae8>,\n",
       " <Element a at 0x10808fb38>,\n",
       " <Element img at 0x10808fb88>,\n",
       " <Element div at 0x10808fbd8>,\n",
       " <Element div at 0x10808fc28>,\n",
       " <Element div at 0x10808fc78>,\n",
       " <Element ul at 0x10808fcc8>,\n",
       " <Element li at 0x10808fd18>,\n",
       " <Element span at 0x10808fd68>,\n",
       " <Element i at 0x10808fdb8>,\n",
       " <Element li at 0x10808fe08>,\n",
       " <Element span at 0x10808fe58>,\n",
       " <Element i at 0x10808fea8>,\n",
       " <Element li at 0x10808fef8>,\n",
       " <Element span at 0x10808ff48>,\n",
       " <Element i at 0x10808ff98>,\n",
       " <Element li at 0x108090048>,\n",
       " <Element span at 0x108090098>,\n",
       " <Element i at 0x1080900e8>,\n",
       " <Element li at 0x108090138>,\n",
       " <Element span at 0x108090188>,\n",
       " <Element i at 0x1080901d8>,\n",
       " <Element li at 0x108090228>,\n",
       " <Element span at 0x108090278>,\n",
       " <Element i at 0x1080902c8>,\n",
       " <Element li at 0x108090318>,\n",
       " <Element span at 0x108090368>,\n",
       " <Element i at 0x1080903b8>,\n",
       " <Element li at 0x108090408>,\n",
       " <Element span at 0x108090458>,\n",
       " <Element i at 0x1080904a8>,\n",
       " <Element li at 0x1080904f8>,\n",
       " <Element span at 0x108090548>,\n",
       " <Element i at 0x108090598>,\n",
       " <Element div at 0x1080905e8>,\n",
       " <Element div at 0x108090638>,\n",
       " <Element div at 0x108090688>,\n",
       " <Element i at 0x1080906d8>,\n",
       " <Element span at 0x108090728>,\n",
       " <Element script at 0x108090778>,\n",
       " <Element script at 0x1080907c8>,\n",
       " <Element script at 0x108090818>,\n",
       " <Element a at 0x108090868>,\n",
       " <Element img at 0x1080908b8>,\n",
       " <Element a at 0x108090908>,\n",
       " <Element i at 0x108090958>,\n",
       " <Element style at 0x1080909a8>,\n",
       " <!-- 即时消息 -->,\n",
       " <Element script at 0x1080909f8>,\n",
       " <Element style at 0x108090a48>,\n",
       " <Element div at 0x108090a98>,\n",
       " <Element div at 0x108090ae8>,\n",
       " <Element div at 0x108090b38>,\n",
       " <Element script at 0x108090b88>,\n",
       " <Element div at 0x108090bd8>,\n",
       " <!-- right start -->,\n",
       " <!-- article right main model -->,\n",
       " <!-- 页内画中画A-->,\n",
       " <Element div at 0x108090c28>,\n",
       " <Element div at 0x108090c78>,\n",
       " <Element a at 0x108090cc8>,\n",
       " <Element iframe at 0x108090d18>,\n",
       " <Element span at 0x108090d68>,\n",
       " <!-- 页内画中画03 -->,\n",
       " <Element div at 0x108090db8>,\n",
       " <Element iframe at 0x108090e08>,\n",
       " <Element span at 0x108090e58>,\n",
       " <!-- 新闻推荐1 -->,\n",
       " <Element span at 0x108090ea8>,\n",
       " <Element div at 0x108090ef8>,\n",
       " <Element h2 at 0x108090f48>,\n",
       " <Element a at 0x108090f98>,\n",
       " <Element span at 0x108091048>,\n",
       " <Element a at 0x108091098>,\n",
       " <Element div at 0x1080910e8>,\n",
       " <Element h2 at 0x108091138>,\n",
       " <Element a at 0x108091188>,\n",
       " <Element ul at 0x1080911d8>,\n",
       " <Element li at 0x108091228>,\n",
       " <Element a at 0x108091278>,\n",
       " <Element span at 0x1080912c8>,\n",
       " <Element a at 0x108091318>,\n",
       " <Element li at 0x108091368>,\n",
       " <Element a at 0x1080913b8>,\n",
       " <Element span at 0x108091408>,\n",
       " <Element a at 0x108091458>,\n",
       " <Element li at 0x1080914a8>,\n",
       " <Element a at 0x1080914f8>,\n",
       " <Element span at 0x108091548>,\n",
       " <Element a at 0x108091598>,\n",
       " <Element li at 0x1080915e8>,\n",
       " <Element a at 0x108091638>,\n",
       " <Element span at 0x108091688>,\n",
       " <Element a at 0x1080916d8>,\n",
       " <Element li at 0x108091728>,\n",
       " <Element a at 0x108091778>,\n",
       " <Element span at 0x1080917c8>,\n",
       " <Element a at 0x108091818>,\n",
       " <Element li at 0x108091868>,\n",
       " <Element a at 0x1080918b8>,\n",
       " <Element span at 0x108091908>,\n",
       " <Element a at 0x108091958>,\n",
       " <Element li at 0x1080919a8>,\n",
       " <Element a at 0x1080919f8>,\n",
       " <Element span at 0x108091a48>,\n",
       " <Element a at 0x108091a98>,\n",
       " <Element span at 0x108091ae8>,\n",
       " <!-- 页内画中画B -->,\n",
       " <Element div at 0x108091b38>,\n",
       " <!-- AD300x150_1 -->,\n",
       " <Element iframe at 0x108091b88>,\n",
       " <Element span at 0x108091bd8>,\n",
       " <!-- 新闻推荐2 -->,\n",
       " <Element span at 0x108091c28>,\n",
       " <Element div at 0x108091c78>,\n",
       " <Element h2 at 0x108091cc8>,\n",
       " <Element a at 0x108091d18>,\n",
       " <Element span at 0x108091d68>,\n",
       " <Element a at 0x108091db8>,\n",
       " <Element div at 0x108091e08>,\n",
       " <Element h2 at 0x108091e58>,\n",
       " <Element a at 0x108091ea8>,\n",
       " <Element ul at 0x108091ef8>,\n",
       " <Element li at 0x108091f48>,\n",
       " <Element a at 0x108091f98>,\n",
       " <Element span at 0x108092048>,\n",
       " <Element a at 0x108092098>,\n",
       " <Element li at 0x1080920e8>,\n",
       " <Element a at 0x108092138>,\n",
       " <Element span at 0x108092188>,\n",
       " <Element a at 0x1080921d8>,\n",
       " <Element li at 0x108092228>,\n",
       " <Element a at 0x108092278>,\n",
       " <Element span at 0x1080922c8>,\n",
       " <Element a at 0x108092318>,\n",
       " <Element span at 0x108092368>,\n",
       " <!-- 页内画中画04 -->,\n",
       " <Element div at 0x1080923b8>,\n",
       " <!-- 64164758：网易PC-内页-画中画04 类型：固定 尺寸：300x250-->,\n",
       " <Element script at 0x108092408>,\n",
       " <Element script at 0x108092458>,\n",
       " <Element span at 0x1080924a8>,\n",
       " <!-- 新闻推荐3 科技企业库 -->,\n",
       " <Element span at 0x1080924f8>,\n",
       " <Element div at 0x108092548>,\n",
       " <Element h2 at 0x108092598>,\n",
       " <Element a at 0x1080925e8>,\n",
       " <Element span at 0x108092638>,\n",
       " <Element a at 0x108092688>,\n",
       " <Element ul at 0x1080926d8>,\n",
       " <Element li at 0x108092728>,\n",
       " <Element a at 0x108092778>,\n",
       " <Element li at 0x1080927c8>,\n",
       " <Element a at 0x108092818>,\n",
       " <Element li at 0x108092868>,\n",
       " <Element a at 0x1080928b8>,\n",
       " <Element li at 0x108092908>,\n",
       " <Element a at 0x108092958>,\n",
       " <Element li at 0x1080929a8>,\n",
       " <Element a at 0x1080929f8>,\n",
       " <Element li at 0x108092a48>,\n",
       " <Element a at 0x108092a98>,\n",
       " <Element li at 0x108092ae8>,\n",
       " <Element a at 0x108092b38>,\n",
       " <Element li at 0x108092b88>,\n",
       " <Element a at 0x108092bd8>,\n",
       " <Element li at 0x108092c28>,\n",
       " <Element a at 0x108092c78>,\n",
       " <Element li at 0x108092cc8>,\n",
       " <Element a at 0x108092d18>,\n",
       " <Element li at 0x108092d68>,\n",
       " <Element a at 0x108092db8>,\n",
       " <Element li at 0x108092e08>,\n",
       " <Element a at 0x108092e58>,\n",
       " <Element li at 0x108092ea8>,\n",
       " <Element a at 0x108092ef8>,\n",
       " <Element li at 0x108092f48>,\n",
       " <Element a at 0x108092f98>,\n",
       " <Element li at 0x108093048>,\n",
       " <Element a at 0x108093098>,\n",
       " <Element li at 0x1080930e8>,\n",
       " <Element a at 0x108093138>,\n",
       " <Element span at 0x108093188>,\n",
       " <Element style at 0x1080931d8>,\n",
       " <!-- 02半通栏 -->,\n",
       " <Element div at 0x108093228>,\n",
       " <!-- 64168467：网易pc-内页-画中画05 类型：固定 尺寸：300x250-->,\n",
       " <Element script at 0x108093278>,\n",
       " <Element script at 0x1080932c8>,\n",
       " <Element span at 0x108093318>,\n",
       " <!-- 热点新闻 -->,\n",
       " <Element span at 0x108093368>,\n",
       " <Element div at 0x1080933b8>,\n",
       " <Element h2 at 0x108093408>,\n",
       " <Element div at 0x108093458>,\n",
       " <Element h2 at 0x1080934a8>,\n",
       " <Element a at 0x1080934f8>,\n",
       " <Element ul at 0x108093548>,\n",
       " <Element li at 0x108093598>,\n",
       " <Element a at 0x1080935e8>,\n",
       " <Element li at 0x108093638>,\n",
       " <Element a at 0x108093688>,\n",
       " ...]"
      ]
     },
     "execution_count": 23,
     "metadata": {},
     "output_type": "execute_result"
    }
   ],
   "source": [
    "list(news.iter())"
   ]
  },
  {
   "cell_type": "markdown",
   "metadata": {},
   "source": [
    "### 用Xpath 提取链接：\n",
    "    除了用iterlinks()方法，也可以用xpath()来得到链接，这是从HTML或XML解析树提取的常规方法。"
   ]
  },
  {
   "cell_type": "code",
   "execution_count": 24,
   "metadata": {
    "collapsed": false
   },
   "outputs": [
    {
     "data": {
      "text/plain": [
       "'http://hello/world'"
      ]
     },
     "execution_count": 24,
     "metadata": {},
     "output_type": "execute_result"
    }
   ],
   "source": [
    "doc.xpath('//a/@href')[0]"
   ]
  },
  {
   "cell_type": "markdown",
   "metadata": {},
   "source": [
    "## Cleaning and stripping HTML\n",
    "我们肯定要处理的肯定不是内嵌的JavaScript 、CSS，所以解析HTML后要清洗和脱模"
   ]
  },
  {
   "cell_type": "code",
   "execution_count": 28,
   "metadata": {
    "collapsed": false
   },
   "outputs": [
    {
     "data": {
      "text/plain": [
       "'<div><body>my text</body></div>'"
      ]
     },
     "execution_count": 28,
     "metadata": {},
     "output_type": "execute_result"
    }
   ],
   "source": [
    "import lxml.html.clean\n",
    "lxml.html.clean.clean_html('<html><head></head><body onload=loadfunc()>my text</body></html>')"
   ]
  },
  {
   "cell_type": "markdown",
   "metadata": {},
   "source": [
    "当你调用clean_html()时，lxml.html.clean会使用一个默认的Cleaner 类。\n",
    "\n",
    "你可以自定义这个类，创建自己需要的instance，然后调用clean_html()。更多细节见：http://lxml.de/lxmlhtml.html#cleaning-up-html"
   ]
  },
  {
   "cell_type": "markdown",
   "metadata": {},
   "source": [
    "## Converting HTML entities with BeautifulSoup\n",
    "HTML entities are strings such as \"& amp;\" or \"& lt;\",需要转换成 “&” 和“<\""
   ]
  },
  {
   "cell_type": "code",
   "execution_count": 36,
   "metadata": {
    "collapsed": false
   },
   "outputs": [
    {
     "data": {
      "text/plain": [
       "'<'"
      ]
     },
     "execution_count": 36,
     "metadata": {},
     "output_type": "execute_result"
    },
    {
     "data": {
      "text/plain": [
       "'&'"
      ]
     },
     "execution_count": 36,
     "metadata": {},
     "output_type": "execute_result"
    }
   ],
   "source": [
    "from bs4 import BeautifulSoup\n",
    "BeautifulSoup('&lt;','lxml').string\n",
    "BeautifulSoup('&amp;','lxml').string\n",
    "# 反过来BeautifulSoup('<','lxml') 会得到None，因为< 不是有效的HTML语言"
   ]
  },
  {
   "cell_type": "markdown",
   "metadata": {},
   "source": [
    "### 用BeautifulSoup提取链接：\n",
    "    1. 给定HTML string，即 HTML 文本\n",
    "    2. create the soup with an HTML string\n",
    "    3. call the findAll() method with 'a' to get all anchor tags\n",
    "    4. and pull out the 'href' attribute to get the URLs:"
   ]
  },
  {
   "cell_type": "code",
   "execution_count": 39,
   "metadata": {
    "collapsed": false
   },
   "outputs": [
    {
     "data": {
      "text/plain": [
       "['/world']"
      ]
     },
     "execution_count": 39,
     "metadata": {},
     "output_type": "execute_result"
    }
   ],
   "source": [
    "html_string = 'Hellow <a href=\"/world\">world</a>'\n",
    "soup = BeautifulSoup(html_string,'lxml')\n",
    "all_anchor_tags = soup.findAll('a')\n",
    "urls = [a['href'] for a in all_anchor_tags]  # 像切片一样，取出href属性得到urls\n",
    "urls"
   ]
  },
  {
   "cell_type": "code",
   "execution_count": 40,
   "metadata": {
    "collapsed": false
   },
   "outputs": [
    {
     "data": {
      "text/plain": [
       "<html><body><p>Hellow <a href=\"/world\">world</a></p></body></html>"
      ]
     },
     "execution_count": 40,
     "metadata": {},
     "output_type": "execute_result"
    }
   ],
   "source": [
    "soup"
   ]
  },
  {
   "cell_type": "code",
   "execution_count": 44,
   "metadata": {
    "collapsed": false
   },
   "outputs": [
    {
     "data": {
      "text/plain": [
       "[<a href=\"/world\">world</a>]"
      ]
     },
     "execution_count": 44,
     "metadata": {},
     "output_type": "execute_result"
    },
    {
     "data": {
      "text/plain": [
       "'/world'"
      ]
     },
     "execution_count": 44,
     "metadata": {},
     "output_type": "execute_result"
    }
   ],
   "source": [
    "all_anchor_tags\n",
    "all_anchor_tags[0]['href'] # # 像切片一样，取出href属性得到urls"
   ]
  },
  {
   "cell_type": "code",
   "execution_count": 38,
   "metadata": {
    "collapsed": false
   },
   "outputs": [
    {
     "data": {
      "text/plain": [
       "['/world']"
      ]
     },
     "execution_count": 38,
     "metadata": {},
     "output_type": "execute_result"
    }
   ],
   "source": [
    "# 合起来：\n",
    "soup = BeautifulSoup('Hello <a href=\"/world\">world</a>','lxml')\n",
    "[a['href'] for a in soup.findAll('a')]"
   ]
  },
  {
   "cell_type": "markdown",
   "metadata": {},
   "source": [
    "## 检测和转换字符编码\n",
    "处理文本常会遇到非标准字符编码的问题。理想的字符编码是ASCII 或 UTF-8。\n",
    "\n",
    "可将charade module封装到了 encoding.py中，方便重复调用检查、转换"
   ]
  },
  {
   "cell_type": "code",
   "execution_count": 52,
   "metadata": {
    "collapsed": false
   },
   "outputs": [],
   "source": [
    "import charade"
   ]
  },
  {
   "cell_type": "code",
   "execution_count": 53,
   "metadata": {
    "collapsed": false
   },
   "outputs": [
    {
     "data": {
      "text/plain": [
       "b'adc'"
      ]
     },
     "execution_count": 53,
     "metadata": {},
     "output_type": "execute_result"
    },
    {
     "data": {
      "text/plain": [
       "{'confidence': 1.0, 'encoding': 'ascii'}"
      ]
     },
     "execution_count": 53,
     "metadata": {},
     "output_type": "execute_result"
    }
   ],
   "source": [
    "'adc'.encode()\n",
    "charade.detect('abc'.encode()) \n",
    "#返回字典，包含2个属性confidence和encoding，表示encoding值判定正确的置信（概率）"
   ]
  },
  {
   "cell_type": "code",
   "execution_count": 60,
   "metadata": {
    "collapsed": false
   },
   "outputs": [
    {
     "data": {
      "text/plain": [
       "{'confidence': 1.0, 'encoding': 'ascii'}"
      ]
     },
     "execution_count": 60,
     "metadata": {},
     "output_type": "execute_result"
    }
   ],
   "source": [
    "#charade.detect('234') 会报错\n",
    "charade.detect('234'.encode('utf-8'))"
   ]
  },
  {
   "cell_type": "code",
   "execution_count": 66,
   "metadata": {
    "collapsed": true
   },
   "outputs": [],
   "source": [
    "# 封装\n",
    "import charade\n",
    "def detect(s):\n",
    "    try:\n",
    "        if isinstance(s,str):\n",
    "            return charade.detect(s.encode())\n",
    "        else:\n",
    "            return charade.detect(s)\n",
    "    except UnicodeDecodeError:\n",
    "        return charade.detect(s.encode('utf-8'))\n",
    "    \n",
    "def convert(s):\n",
    "    if isinstance(s,str):\n",
    "        s = s.encode()\n",
    "    encoding = detect(s)['encoding']\n",
    "    \n",
    "    if encoding == 'utf-8':\n",
    "        return s.decode()\n",
    "    else:\n",
    "        return s.decode(encoding)"
   ]
  },
  {
   "cell_type": "code",
   "execution_count": 62,
   "metadata": {
    "collapsed": false
   },
   "outputs": [
    {
     "data": {
      "text/plain": [
       "{'confidence': 1.0, 'encoding': 'ascii'}"
      ]
     },
     "execution_count": 62,
     "metadata": {},
     "output_type": "execute_result"
    },
    {
     "data": {
      "text/plain": [
       "{'confidence': 0.505, 'encoding': 'utf-8'}"
      ]
     },
     "execution_count": 62,
     "metadata": {},
     "output_type": "execute_result"
    },
    {
     "data": {
      "text/plain": [
       "{'confidence': 0.5, 'encoding': 'windows-1252'}"
      ]
     },
     "execution_count": 62,
     "metadata": {},
     "output_type": "execute_result"
    }
   ],
   "source": [
    "detect('ascii')\n",
    "detect('abcdé')\n",
    "detect(bytes('\\222\\222\\223\\225', 'latin-1'))"
   ]
  },
  {
   "cell_type": "code",
   "execution_count": 67,
   "metadata": {
    "collapsed": false
   },
   "outputs": [
    {
     "data": {
      "text/plain": [
       "'ascii'"
      ]
     },
     "execution_count": 67,
     "metadata": {},
     "output_type": "execute_result"
    },
    {
     "data": {
      "text/plain": [
       "'abcdé'"
      ]
     },
     "execution_count": 67,
     "metadata": {},
     "output_type": "execute_result"
    },
    {
     "data": {
      "text/plain": [
       "'’’“•'"
      ]
     },
     "execution_count": 67,
     "metadata": {},
     "output_type": "execute_result"
    }
   ],
   "source": [
    "convert('ascii')\n",
    "convert('abcdé')\n",
    "convert((bytes('\\222\\222\\223\\225', 'latin-1')))"
   ]
  },
  {
   "cell_type": "markdown",
   "metadata": {},
   "source": [
    "### 转换为ASCII：\n",
    "如果你想要纯ASCII文本——非ASCII字符等价转换为ASCII码，若没有等价符号就舍弃——那么你可以使用 ***unicodedata.normalize()***"
   ]
  },
  {
   "cell_type": "code",
   "execution_count": 48,
   "metadata": {
    "collapsed": false
   },
   "outputs": [
    {
     "data": {
      "text/plain": [
       "b'abcde'"
      ]
     },
     "execution_count": 48,
     "metadata": {},
     "output_type": "execute_result"
    },
    {
     "data": {
      "text/plain": [
       "'abcde'"
      ]
     },
     "execution_count": 48,
     "metadata": {},
     "output_type": "execute_result"
    }
   ],
   "source": [
    "import unicodedata\n",
    "unicodedata.normalize('NFKD','abcd\\xe9').encode('ascii','ignore')\n",
    "# 参数'NFKD'保证等价转换为ASCII码\n",
    "# 'abcd\\xe9' 是要转换的对象\n",
    "# 最后调用encode() with 'ignore'，移除无关的字符，如\\x,9\n",
    "# 返回的是字节对象 bytes object,可以调用.decode() 来得到其string\n",
    "unicodedata.normalize('NFKD','abcd\\xe9').encode('ascii','ignore').decode()"
   ]
  },
  {
   "cell_type": "markdown",
   "metadata": {},
   "source": [
    "### UnicodeDammit conversion：\n",
    "BeautifulSoup 含有一个辅助类 UnicodeDammit，可以做unicode的自动转换"
   ]
  },
  {
   "cell_type": "code",
   "execution_count": 49,
   "metadata": {
    "collapsed": false
   },
   "outputs": [
    {
     "data": {
      "text/plain": [
       "'abcdé'"
      ]
     },
     "execution_count": 49,
     "metadata": {},
     "output_type": "execute_result"
    }
   ],
   "source": [
    "from bs4 import UnicodeDammit\n",
    "UnicodeDammit('abcd\\xe9').unicode_markup"
   ]
  },
  {
   "cell_type": "code",
   "execution_count": null,
   "metadata": {
    "collapsed": true
   },
   "outputs": [],
   "source": []
  }
 ],
 "metadata": {
  "kernelspec": {
   "display_name": "Python 3",
   "language": "python",
   "name": "python3"
  },
  "language_info": {
   "codemirror_mode": {
    "name": "ipython",
    "version": 3
   },
   "file_extension": ".py",
   "mimetype": "text/x-python",
   "name": "python",
   "nbconvert_exporter": "python",
   "pygments_lexer": "ipython3",
   "version": "3.6.0"
  }
 },
 "nbformat": 4,
 "nbformat_minor": 2
}

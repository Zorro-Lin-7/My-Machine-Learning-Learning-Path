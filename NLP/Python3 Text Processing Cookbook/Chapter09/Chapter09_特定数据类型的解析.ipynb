{
 "cells": [
  {
   "cell_type": "markdown",
   "metadata": {},
   "source": [
    "# 特定数据类型的解析，主要是日期、时间、HTML。\n",
    "\n",
    "庆幸有几个包可以用，可以避开复杂的正则表达式。它们可作为NLTK的补充：\n",
    "\n",
    "    dateutil: 提供日期解析和时区转换\n",
    "    lxml、BeautifulSoup: HTML的解析、清洗、转换\n",
    "    charade、UnicodeDammit: 检测、转换文本字符编码\n",
    "    \n",
    "1. raw文本数据 -——>经这几个包处理后 ——> 才能传入NLTK object\n",
    "2. 或者NLTK处理后的后期加工，也可用这几个包"
   ]
  },
  {
   "cell_type": "markdown",
   "metadata": {},
   "source": [
    "## 具体的，假定要解析一篇关于某个餐厅的博客文章。\n",
    "\n",
    "你可以用 *lxml* 或者 *BeautifulSoup* 提取文章文本、链接、日期和时间。\n",
    "\n",
    "日期和时间可以通过*dateutil* 解析为 Python datetime object 。\n",
    "\n",
    "解析出文本后，你可以用 *charade* 确保它是 utf-8，这样之后才能跑通 基于NLTK 的词性标注、chunk提取、文本分类等来获取文章的元数据。\n",
    "\n",
    "现实中，文本处理绝不仅仅是基于NLTK的操作，通常有更多额外的处理需求。本章会覆盖这些内容。"
   ]
  },
  {
   "cell_type": "markdown",
   "metadata": {},
   "source": [
    "## Parsing Dates & Times with Dateutil\n",
    "\n",
    "deteutil 是解析日期、时间最好的包，无出其右。"
   ]
  },
  {
   "cell_type": "markdown",
   "metadata": {},
   "source": [
    "### parser.parse( datetime string )  能解析比这里展示的多得多的日期格式\n",
    "\n",
    "只能解析 datetime string，若是string 会报错"
   ]
  },
  {
   "cell_type": "code",
   "execution_count": 11,
   "metadata": {
    "collapsed": true
   },
   "outputs": [],
   "source": [
    "from IPython.core.interactiveshell import InteractiveShell\n",
    "InteractiveShell.ast_node_interactivity = 'all'"
   ]
  },
  {
   "cell_type": "code",
   "execution_count": 22,
   "metadata": {
    "collapsed": false
   },
   "outputs": [
    {
     "data": {
      "text/plain": [
       "datetime.datetime(2010, 9, 25, 10, 36, 28)"
      ]
     },
     "execution_count": 22,
     "metadata": {},
     "output_type": "execute_result"
    }
   ],
   "source": [
    "from dateutil import parser\n",
    "parser.parse('Thu Sep 25 10:36:28 2010') # 返回的object是 Python的datetime.datetime"
   ]
  },
  {
   "cell_type": "code",
   "execution_count": 2,
   "metadata": {
    "collapsed": false
   },
   "outputs": [
    {
     "data": {
      "text/plain": [
       "datetime.datetime(2010, 9, 25, 10, 36)"
      ]
     },
     "execution_count": 2,
     "metadata": {},
     "output_type": "execute_result"
    }
   ],
   "source": [
    "parser.parse('Thursday,25,September 2010 10:36AM')"
   ]
  },
  {
   "cell_type": "code",
   "execution_count": 3,
   "metadata": {
    "collapsed": false
   },
   "outputs": [
    {
     "data": {
      "text/plain": [
       "datetime.datetime(2010, 9, 25, 10, 36, 28)"
      ]
     },
     "execution_count": 3,
     "metadata": {},
     "output_type": "execute_result"
    }
   ],
   "source": [
    "parser.parse('9/25/2010 10:36:28')"
   ]
  },
  {
   "cell_type": "code",
   "execution_count": 4,
   "metadata": {
    "collapsed": false
   },
   "outputs": [
    {
     "data": {
      "text/plain": [
       "datetime.datetime(2010, 9, 25, 0, 0)"
      ]
     },
     "execution_count": 4,
     "metadata": {},
     "output_type": "execute_result"
    }
   ],
   "source": [
    "parser.parse('9/25/2010')"
   ]
  },
  {
   "cell_type": "code",
   "execution_count": 5,
   "metadata": {
    "collapsed": false
   },
   "outputs": [
    {
     "data": {
      "text/plain": [
       "datetime.datetime(2010, 9, 25, 10, 26, 28, tzinfo=tzutc())"
      ]
     },
     "execution_count": 5,
     "metadata": {},
     "output_type": "execute_result"
    }
   ],
   "source": [
    "parser.parse('2010-09-25T10:26:28Z')"
   ]
  },
  {
   "cell_type": "markdown",
   "metadata": {},
   "source": [
    "无需正则表达式，它能辨识日期tokens并尽可能猜出其所指的日期。\n",
    "\n",
    "至于不同文化惯用的日期格式，比如月／日／年（dateutil默认格式），日／月／年等，可通过参数***dayfirst***设置"
   ]
  },
  {
   "cell_type": "code",
   "execution_count": 15,
   "metadata": {
    "collapsed": false
   },
   "outputs": [
    {
     "data": {
      "text/plain": [
       "datetime.datetime(2017, 7, 8, 0, 0)"
      ]
     },
     "execution_count": 15,
     "metadata": {},
     "output_type": "execute_result"
    },
    {
     "data": {
      "text/plain": [
       "datetime.datetime(2017, 8, 7, 0, 0)"
      ]
     },
     "execution_count": 15,
     "metadata": {},
     "output_type": "execute_result"
    }
   ],
   "source": [
    "parser.parse('7/8/2017') \n",
    "parser.parse('7/8/2017', dayfirst=True) # 7日"
   ]
  },
  {
   "cell_type": "code",
   "execution_count": 17,
   "metadata": {
    "collapsed": false
   },
   "outputs": [
    {
     "data": {
      "text/plain": [
       "datetime.datetime(2025, 10, 9, 0, 0)"
      ]
     },
     "execution_count": 17,
     "metadata": {},
     "output_type": "execute_result"
    },
    {
     "data": {
      "text/plain": [
       "datetime.datetime(2010, 9, 8, 0, 0)"
      ]
     },
     "execution_count": 17,
     "metadata": {},
     "output_type": "execute_result"
    }
   ],
   "source": [
    "parser.parse('10-9-25')  # 默认 月／日／年\n",
    "parser.parse('10-9-8', yearfirst=True)  # 年／月／日"
   ]
  },
  {
   "cell_type": "markdown",
   "metadata": {},
   "source": [
    "### fuzzy parser\n",
    "\n",
    "deteutil parser 也能做模糊解析，可以忽略 非datetime string 的无关字符。只需设置 ***fuzzy=Ture***"
   ]
  },
  {
   "cell_type": "code",
   "execution_count": 18,
   "metadata": {
    "collapsed": false,
    "scrolled": true
   },
   "outputs": [
    {
     "data": {
      "text/plain": [
       "'cannot parse'"
      ]
     },
     "execution_count": 18,
     "metadata": {},
     "output_type": "execute_result"
    },
    {
     "data": {
      "text/plain": [
       "datetime.datetime(2010, 9, 25, 10, 36)"
      ]
     },
     "execution_count": 18,
     "metadata": {},
     "output_type": "execute_result"
    }
   ],
   "source": [
    "try:\n",
    "    parser.parse('9/25/2010 at about 10:36AM')\n",
    "except ValueError:\n",
    "    'cannot parse'\n",
    "    \n",
    "parser.parse('9/25/2010 at about 10:36AM in Beijing', fuzzy=True)"
   ]
  },
  {
   "cell_type": "markdown",
   "metadata": {},
   "source": [
    "## 时区的查找和转换"
   ]
  },
  {
   "cell_type": "markdown",
   "metadata": {},
   "source": [
    "大部分datetime 对象是naive 的， 不带有具体时区信息，即时区和UTC offset。\n",
    "\n",
    "UTC: Uiversal Time Coordinated 世界调整时，也就是GMT 格林尼治时间 Greenwich Mean Time。\n",
    "\n",
    "ISO  International Standards Organization 国际标准化组织，指定标准的datetime格式。\n",
    "\n",
    "Python datetime对象既可以是naive ，也可以aware。\n",
    "\n",
    "要使得naive 变得aware，必须给定具体的tzinfo。"
   ]
  },
  {
   "cell_type": "code",
   "execution_count": 20,
   "metadata": {
    "collapsed": false
   },
   "outputs": [
    {
     "data": {
      "text/plain": [
       "tzutc()"
      ]
     },
     "execution_count": 20,
     "metadata": {},
     "output_type": "execute_result"
    }
   ],
   "source": [
    "from dateutil import tz\n",
    "tz.tzutc()  # a UTC tzinfo object"
   ]
  },
  {
   "cell_type": "code",
   "execution_count": 26,
   "metadata": {
    "collapsed": false
   },
   "outputs": [
    {
     "data": {
      "text/plain": [
       "datetime.datetime(2017, 8, 18, 6, 23, 11, 27126)"
      ]
     },
     "execution_count": 26,
     "metadata": {},
     "output_type": "execute_result"
    },
    {
     "data": {
      "text/plain": [
       "datetime.timedelta(0)"
      ]
     },
     "execution_count": 26,
     "metadata": {},
     "output_type": "execute_result"
    }
   ],
   "source": [
    "import datetime\n",
    "datetime.datetime.utcnow() # a UTC datetime object:\n",
    "tz.tzutc().utcoffset(datetime.datetime.utcnow()) # check that the offset is 0 "
   ]
  },
  {
   "cell_type": "code",
   "execution_count": 23,
   "metadata": {
    "collapsed": false
   },
   "outputs": [
    {
     "data": {
      "text/plain": [
       "tzfile('/usr/share/zoneinfo/US/Pacific')"
      ]
     },
     "execution_count": 23,
     "metadata": {},
     "output_type": "execute_result"
    },
    {
     "data": {
      "text/plain": [
       "datetime.timedelta(-1, 61200)"
      ]
     },
     "execution_count": 23,
     "metadata": {},
     "output_type": "execute_result"
    }
   ],
   "source": [
    "tz.gettz('US/Pacific') # To get 其他时区的tzinfo objects，传入tz file的路径\n",
    "tz.gettz('US/Pacific').utcoffset(datetime.datetime.utcnow())"
   ]
  },
  {
   "cell_type": "markdown",
   "metadata": {},
   "source": [
    "可见：UTC offsets 是datetime.timedelta 对象,第一个数是（时差的）days,第二个数是seconds"
   ]
  },
  {
   "cell_type": "code",
   "execution_count": 24,
   "metadata": {
    "collapsed": false
   },
   "outputs": [
    {
     "data": {
      "text/plain": [
       "tzfile('/usr/share/zoneinfo/Europe/Paris')"
      ]
     },
     "execution_count": 24,
     "metadata": {},
     "output_type": "execute_result"
    },
    {
     "data": {
      "text/plain": [
       "datetime.timedelta(0, 7200)"
      ]
     },
     "execution_count": 24,
     "metadata": {},
     "output_type": "execute_result"
    }
   ],
   "source": [
    "tz.gettz('Europe/Paris')\n",
    "tz.gettz('Europe/Paris').utcoffset(datetime.datetime.utcnow())"
   ]
  },
  {
   "cell_type": "markdown",
   "metadata": {},
   "source": [
    "若要将datetimes存入数据库，建议全以UTC形式，消除时区歧义。即是数据库能自动辨识时区。\n",
    "\n",
    "## To convert a non-UTC datetime object to UTC，必须指明时区。\n",
    "否则，将一个naive datetime 转换为UTC 会报错。\n",
    "\n",
    "对naive datetime 指明时区，只需调用***replace()*** with the correct ***tzinfo*** 。\n",
    "\n",
    "datetime object 有了***tzinfo*** 之后，只需调用 ***astimezone()*** with ***tz.tzutc()***"
   ]
  },
  {
   "cell_type": "code",
   "execution_count": 12,
   "metadata": {
    "collapsed": false
   },
   "outputs": [
    {
     "data": {
      "text/plain": [
       "datetime.datetime(2010, 9, 25, 10, 36)"
      ]
     },
     "execution_count": 12,
     "metadata": {},
     "output_type": "execute_result"
    },
    {
     "name": "stdout",
     "output_type": "stream",
     "text": [
      "2010-09-25 10:36:00\n",
      "None\n"
     ]
    }
   ],
   "source": [
    "from dateutil import tz\n",
    "import datetime\n",
    "pst = tz.gettz('US/Pacific')\n",
    "dt = datetime.datetime(2010, 9, 25, 10, 36)\n",
    "\n",
    "dt   # naive datetime\n",
    "print(dt)\n",
    "print(dt.tzinfo)"
   ]
  },
  {
   "cell_type": "code",
   "execution_count": 16,
   "metadata": {
    "collapsed": false
   },
   "outputs": [
    {
     "data": {
      "text/plain": [
       "datetime.datetime(2010, 9, 25, 2, 36, tzinfo=tzutc())"
      ]
     },
     "execution_count": 16,
     "metadata": {},
     "output_type": "execute_result"
    },
    {
     "name": "stdout",
     "output_type": "stream",
     "text": [
      "2010-09-25 02:36:00+00:00\n"
     ]
    }
   ],
   "source": [
    "# naive 情况下转换，现版本不会报错了\n",
    "dt.astimezone(tz.tzutc())  \n",
    "print(dt.astimezone(tz.tzutc()))"
   ]
  },
  {
   "cell_type": "code",
   "execution_count": 20,
   "metadata": {
    "collapsed": false
   },
   "outputs": [
    {
     "data": {
      "text/plain": [
       "datetime.datetime(2010, 9, 25, 10, 36, tzinfo=tzfile('/usr/share/zoneinfo/US/Pacific'))"
      ]
     },
     "execution_count": 20,
     "metadata": {},
     "output_type": "execute_result"
    },
    {
     "name": "stdout",
     "output_type": "stream",
     "text": [
      "tzfile('/usr/share/zoneinfo/US/Pacific')\n",
      "2010-09-25 10:36:00-07:00\n",
      "2010-09-25 17:36:00+00:00\n"
     ]
    }
   ],
   "source": [
    "dt.replace(tzinfo=pst)   # aware\n",
    "print(dt.replace(tzinfo=pst).tzinfo)\n",
    "print(dt.replace(tzinfo=pst))\n",
    "print(dt.replace(tzinfo=pst).astimezone(tz.tzutc()))"
   ]
  },
  {
   "cell_type": "markdown",
   "metadata": {},
   "source": [
    "replace() 和 astimezone() 均返回新的object，不改动当前object"
   ]
  },
  {
   "cell_type": "markdown",
   "metadata": {},
   "source": [
    "### parser解析时,存在无法检出的时区信息（但确实能作为tzinfo），那么传入参数tzinfos"
   ]
  },
  {
   "cell_type": "code",
   "execution_count": 23,
   "metadata": {
    "collapsed": false
   },
   "outputs": [
    {
     "data": {
      "text/plain": [
       "datetime.datetime(2010, 8, 4, 18, 30)"
      ]
     },
     "execution_count": 23,
     "metadata": {},
     "output_type": "execute_result"
    },
    {
     "data": {
      "text/plain": [
       "datetime.datetime(2010, 8, 4, 18, 30, tzinfo=tzfile('/usr/share/zoneinfo/US/Central'))"
      ]
     },
     "execution_count": 23,
     "metadata": {},
     "output_type": "execute_result"
    },
    {
     "data": {
      "text/plain": [
       "tzoffset('custom', 3600)"
      ]
     },
     "execution_count": 23,
     "metadata": {},
     "output_type": "execute_result"
    }
   ],
   "source": [
    "parser.parse('Wednesday, Aug 4, 2010 at 6:30 p.m. (CDT)', fuzzy=True) # naive datetime\n",
    "\n",
    "tzinfos = {'CDT': tz.gettz('US/Central')} #传入到参数tzinfos，有所映射，就能识别naive中未识别的tzinfo\n",
    "parser.parse('Wednesday, Aug 4, 2010 at 6:30 p.m. (CDT)', fuzzy=True, tzinfos=tzinfos) # aware"
   ]
  },
  {
   "cell_type": "markdown",
   "metadata": {},
   "source": [
    "### Custom offsets 自定义偏移\n",
    "创建自己的tzinfo object，偏移1小时："
   ]
  },
  {
   "cell_type": "code",
   "execution_count": 27,
   "metadata": {
    "collapsed": false
   },
   "outputs": [
    {
     "data": {
      "text/plain": [
       "tzoffset('custom', 3600)"
      ]
     },
     "execution_count": 27,
     "metadata": {},
     "output_type": "execute_result"
    }
   ],
   "source": [
    "tz.tzoffset('custom', 3600) # 第一个参数是对象名； 1 hour = 3600s"
   ]
  },
  {
   "cell_type": "markdown",
   "metadata": {
    "collapsed": true
   },
   "source": [
    "## 用 lxml 从HTML网页中提取 URLs链接\n",
    "\n",
    "lxml 有一个 html module，专门用于解析HTML。\n",
    "\n",
    "可用 ***.fromstring()*** 函数解析HTML\n",
    "\n",
    "***.iterlinks()*** 函数,return 生成器。生成 4-tuples (element, attr, link, pos):\n",
    "\n",
    "    element: 解析节点的anchor tag，links从中提取；若只对link 感兴趣，可忽略\n",
    "    attr: 链接属性，通常为 href\n",
    "    link: 提取的URL\n",
    "    pos: document中，锚标签的数值index，第一个tag的pos为0，第二个为1，以此类推"
   ]
  },
  {
   "cell_type": "code",
   "execution_count": 1,
   "metadata": {
    "collapsed": false,
    "scrolled": true
   },
   "outputs": [
    {
     "data": {
      "text/plain": [
       "1"
      ]
     },
     "execution_count": 1,
     "metadata": {},
     "output_type": "execute_result"
    }
   ],
   "source": [
    "from lxml import html\n",
    "doc = html.fromstring('Hello <a href=\"/world\">world</a>') #解析HTML\n",
    "links = list(doc.iterlinks()) # 解析后得到元组生成器，list得到 所有links 的列表\n",
    "len(links)"
   ]
  },
  {
   "cell_type": "code",
   "execution_count": 4,
   "metadata": {
    "collapsed": false
   },
   "outputs": [
    {
     "data": {
      "text/plain": [
       "[(<Element a at 0x10962b728>, 'href', '/world', 0)]"
      ]
     },
     "execution_count": 4,
     "metadata": {},
     "output_type": "execute_result"
    }
   ],
   "source": [
    "links"
   ]
  },
  {
   "cell_type": "code",
   "execution_count": 3,
   "metadata": {
    "collapsed": false
   },
   "outputs": [
    {
     "data": {
      "text/plain": [
       "'href'"
      ]
     },
     "execution_count": 3,
     "metadata": {},
     "output_type": "execute_result"
    }
   ],
   "source": [
    "(el, attr, link, pos) = links[0]\n",
    "attr"
   ]
  },
  {
   "cell_type": "code",
   "execution_count": 5,
   "metadata": {
    "collapsed": false
   },
   "outputs": [
    {
     "data": {
      "text/plain": [
       "'/world'"
      ]
     },
     "execution_count": 5,
     "metadata": {},
     "output_type": "execute_result"
    }
   ],
   "source": [
    "link"
   ]
  },
  {
   "cell_type": "code",
   "execution_count": 11,
   "metadata": {
    "collapsed": false
   },
   "outputs": [
    {
     "data": {
      "text/plain": [
       "0"
      ]
     },
     "execution_count": 11,
     "metadata": {},
     "output_type": "execute_result"
    }
   ],
   "source": [
    "pos"
   ]
  },
  {
   "cell_type": "code",
   "execution_count": 6,
   "metadata": {
    "collapsed": false
   },
   "outputs": [
    {
     "data": {
      "text/plain": [
       "'http://hello/world'"
      ]
     },
     "execution_count": 6,
     "metadata": {},
     "output_type": "execute_result"
    }
   ],
   "source": [
    "doc.make_links_absolute('http://hello')\n",
    "abslinks = list(doc.iterlinks())\n",
    "(el, attr, link, pos) = abslinks[0]\n",
    "link"
   ]
  },
  {
   "cell_type": "code",
   "execution_count": 7,
   "metadata": {
    "collapsed": false
   },
   "outputs": [
    {
     "data": {
      "text/plain": [
       "'/world'"
      ]
     },
     "execution_count": 7,
     "metadata": {},
     "output_type": "execute_result"
    }
   ],
   "source": [
    "links = list(html.iterlinks('Hello <a href=\"/world\">world</a>'))\n",
    "links[0][2]"
   ]
  },
  {
   "cell_type": "code",
   "execution_count": 8,
   "metadata": {
    "collapsed": false
   },
   "outputs": [
    {
     "data": {
      "text/plain": [
       "'http://hello/world'"
      ]
     },
     "execution_count": 8,
     "metadata": {},
     "output_type": "execute_result"
    }
   ],
   "source": [
    "doc.xpath('//a/@href')[0]"
   ]
  }
 ],
 "metadata": {
  "kernelspec": {
   "display_name": "Python 3",
   "language": "python",
   "name": "python3"
  },
  "language_info": {
   "codemirror_mode": {
    "name": "ipython",
    "version": 3
   },
   "file_extension": ".py",
   "mimetype": "text/x-python",
   "name": "python",
   "nbconvert_exporter": "python",
   "pygments_lexer": "ipython3",
   "version": "3.6.0"
  }
 },
 "nbformat": 4,
 "nbformat_minor": 2
}

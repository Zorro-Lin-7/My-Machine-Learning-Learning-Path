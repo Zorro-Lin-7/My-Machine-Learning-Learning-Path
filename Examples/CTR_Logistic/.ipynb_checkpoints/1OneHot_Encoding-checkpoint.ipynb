{
 "cells": [
  {
   "cell_type": "markdown",
   "metadata": {},
   "source": [
    "# One-hot encoding converting categorical features to numerical\n",
    "\n",
    "![one-hot](one-hot.png)"
   ]
  },
  {
   "cell_type": "code",
   "execution_count": 1,
   "metadata": {
    "collapsed": true
   },
   "outputs": [],
   "source": [
    "from sklearn.feature_extraction import DictVectorizer\n",
    "\n",
    "X_dict = [{'interest': 'tech', 'occupation': 'professional'},\n",
    "          {'interest': 'fashion', 'occupation': 'student'},\n",
    "          {'interest': 'fashion', 'occupation': 'professional'},\n",
    "          {'interest': 'sports', 'occupation': 'student'},\n",
    "          {'interest': 'tech', 'occupation': 'student'},\n",
    "          {'interest': 'tech', 'occupation': 'retired'},\n",
    "          {'interest': 'sports', 'occupation': 'professional'}]"
   ]
  },
  {
   "cell_type": "code",
   "execution_count": 2,
   "metadata": {
    "collapsed": false
   },
   "outputs": [
    {
     "name": "stdout",
     "output_type": "stream",
     "text": [
      "[[ 0.  0.  1.  1.  0.  0.]\n",
      " [ 1.  0.  0.  0.  0.  1.]\n",
      " [ 1.  0.  0.  1.  0.  0.]\n",
      " [ 0.  1.  0.  0.  0.  1.]\n",
      " [ 0.  0.  1.  0.  0.  1.]\n",
      " [ 0.  0.  1.  0.  1.  0.]\n",
      " [ 0.  1.  0.  1.  0.  0.]]\n"
     ]
    }
   ],
   "source": [
    "dict_one_hot_encoder = DictVectorizer(sparse=False)\n",
    "X_encoded = dict_one_hot_encoder.fit_transform(X_dict)\n",
    "print(X_encoded) # (is_fashion=0,issports=0,istech=1  isprofessional=1 ..)"
   ]
  },
  {
   "cell_type": "markdown",
   "metadata": {},
   "source": [
    "列索引对应的："
   ]
  },
  {
   "cell_type": "code",
   "execution_count": 4,
   "metadata": {
    "collapsed": false
   },
   "outputs": [
    {
     "data": {
      "text/plain": [
       "{'interest=fashion': 0,\n",
       " 'interest=sports': 1,\n",
       " 'interest=tech': 2,\n",
       " 'occupation=professional': 3,\n",
       " 'occupation=retired': 4,\n",
       " 'occupation=student': 5}"
      ]
     },
     "execution_count": 4,
     "metadata": {},
     "output_type": "execute_result"
    }
   ],
   "source": [
    "dict_one_hot_encoder.vocabulary_"
   ]
  },
  {
   "cell_type": "markdown",
   "metadata": {},
   "source": [
    "已经fit_transform后，对于new data 只需.transform:"
   ]
  },
  {
   "cell_type": "code",
   "execution_count": 5,
   "metadata": {
    "collapsed": false
   },
   "outputs": [
    {
     "name": "stdout",
     "output_type": "stream",
     "text": [
      "[[ 0.  1.  0.  0.  1.  0.]]\n"
     ]
    }
   ],
   "source": [
    "new_data = [{'interest': 'sports', 'occupation': 'retired'}]\n",
    "new_encoded = dict_one_hot_encoder.transform(new_data)\n",
    "print(new_encoded)"
   ]
  },
  {
   "cell_type": "markdown",
   "metadata": {},
   "source": [
    "逆转："
   ]
  },
  {
   "cell_type": "code",
   "execution_count": 6,
   "metadata": {
    "collapsed": false
   },
   "outputs": [
    {
     "name": "stdout",
     "output_type": "stream",
     "text": [
      "[{'interest=sports': 1.0, 'occupation=retired': 1.0}]\n"
     ]
    }
   ],
   "source": [
    "print(dict_one_hot_encoder.inverse_transform(new_encoded))"
   ]
  },
  {
   "cell_type": "markdown",
   "metadata": {},
   "source": [
    "### 如果特征不是字典格式，而是string对象，我们可以用LabelEncoder先转换为数值，再将数值特征转换为二位："
   ]
  },
  {
   "cell_type": "code",
   "execution_count": 20,
   "metadata": {
    "collapsed": false
   },
   "outputs": [
    {
     "name": "stdout",
     "output_type": "stream",
     "text": [
      "[[5 1]\n",
      " [0 4]\n",
      " [0 1]\n",
      " [3 4]\n",
      " [5 4]\n",
      " [5 2]\n",
      " [3 1]]\n"
     ]
    }
   ],
   "source": [
    "import numpy as np\n",
    "X_str = np.array([['tech', 'professional'],  # 不是（特征：特征值）的字典，直接是字符串特征值\n",
    "                  ['fashion', 'student'],\n",
    "                  ['fashion', 'professional'],\n",
    "                  ['sports', 'student'],\n",
    "                  ['tech', 'student'],\n",
    "                  ['tech', 'retired'],\n",
    "                  ['sports', 'professional']])\n",
    "\n",
    "from sklearn.preprocessing import LabelEncoder, OneHotEncoder\n",
    "label_encoder = LabelEncoder()\n",
    "X_int = label_encoder.fit_transform(X_str.ravel()) # 拉平，转换成数值\n",
    "X_int = X_int.reshape(*X_str.shape)  # 再重塑回去。 （星号* 什么意思？）\n",
    "print(X_int)"
   ]
  },
  {
   "cell_type": "code",
   "execution_count": 25,
   "metadata": {
    "collapsed": false
   },
   "outputs": [
    {
     "name": "stdout",
     "output_type": "stream",
     "text": [
      "  (0, 3)\t1.0\n",
      "  (0, 2)\t1.0\n",
      "  (1, 5)\t1.0\n",
      "  (1, 0)\t1.0\n",
      "  (2, 3)\t1.0\n",
      "  (2, 0)\t1.0\n",
      "  (3, 5)\t1.0\n",
      "  (3, 1)\t1.0\n",
      "  (4, 5)\t1.0\n",
      "  (4, 2)\t1.0\n",
      "  (5, 4)\t1.0\n",
      "  (5, 2)\t1.0\n",
      "  (6, 3)\t1.0\n",
      "  (6, 1)\t1.0\n",
      "[[ 0.  0.  1.  1.  0.  0.]\n",
      " [ 1.  0.  0.  0.  0.  1.]\n",
      " [ 1.  0.  0.  1.  0.  0.]\n",
      " [ 0.  1.  0.  0.  0.  1.]\n",
      " [ 0.  0.  1.  0.  0.  1.]\n",
      " [ 0.  0.  1.  0.  1.  0.]\n",
      " [ 0.  1.  0.  1.  0.  0.]]\n"
     ]
    }
   ],
   "source": [
    "# 再one-hot\n",
    "one_hot_encoder = OneHotEncoder()\n",
    "print(one_hot_encoder.fit_transform(X_int)) # 需要toarray()\n",
    "X_encoded = one_hot_encoder.fit_transform(X_int).toarray()\n",
    "print(X_encoded)"
   ]
  },
  {
   "cell_type": "markdown",
   "metadata": {},
   "source": [
    "#### 最后需要注意的是，如果new data 中有 训练数据中没有的新的特征，它应当被忽略。DictVectorizer会默认操作"
   ]
  },
  {
   "cell_type": "code",
   "execution_count": 22,
   "metadata": {
    "collapsed": false
   },
   "outputs": [
    {
     "name": "stdout",
     "output_type": "stream",
     "text": [
      "[[ 0.  0.  0.  0.  1.  0.]\n",
      " [ 0.  0.  1.  0.  0.  0.]]\n"
     ]
    }
   ],
   "source": [
    "new_dict = [{'interest': 'unknown_interest', 'occupation': 'retired'},\n",
    "            {'interest': 'tech', 'occupation': 'unseen_occupation'}]\n",
    "new_encoded = dict_one_hot_encoder.transform(new_dict)\n",
    "print(new_encoded)"
   ]
  },
  {
   "cell_type": "markdown",
   "metadata": {},
   "source": [
    "但是，不同于DictVectorizer，LabelEncoder不会自动处理新特征。最简单的方式是将string data 转换为 dictionary object，再用DictVectorizer。为此可以定义一个转换函数："
   ]
  },
  {
   "cell_type": "code",
   "execution_count": 27,
   "metadata": {
    "collapsed": true
   },
   "outputs": [],
   "source": [
    "new_str = np.array([['unknown_interest', 'retired'],\n",
    "                  ['tech', 'unseen_occupation'],\n",
    "                  ['unknown_interest', 'unseen_occupation']])"
   ]
  },
  {
   "cell_type": "code",
   "execution_count": 30,
   "metadata": {
    "collapsed": true
   },
   "outputs": [],
   "source": [
    "def string_to_dict(columns, data_str):\n",
    "    columns = ['interest', 'occupation']\n",
    "    data_dict = []\n",
    "    for sample_str in data_str:\n",
    "        data_dict.append({column:value for column,value in zip(columns,sample_str)})\n",
    "    return data_dict"
   ]
  },
  {
   "cell_type": "code",
   "execution_count": 31,
   "metadata": {
    "collapsed": false
   },
   "outputs": [
    {
     "name": "stdout",
     "output_type": "stream",
     "text": [
      "[[ 0.  0.  0.  0.  1.  0.]\n",
      " [ 0.  0.  1.  0.  0.  0.]\n",
      " [ 0.  0.  0.  0.  0.  0.]]\n"
     ]
    }
   ],
   "source": [
    "columns = ['interest', 'occupation']\n",
    "new_encoded = dict_one_hot_encoder.transform(string_to_dict(columns,new_str))\n",
    "print(new_encoded)"
   ]
  },
  {
   "cell_type": "code",
   "execution_count": null,
   "metadata": {
    "collapsed": true
   },
   "outputs": [],
   "source": []
  }
 ],
 "metadata": {
  "kernelspec": {
   "display_name": "Python 3",
   "language": "python",
   "name": "python3"
  },
  "language_info": {
   "codemirror_mode": {
    "name": "ipython",
    "version": 3
   },
   "file_extension": ".py",
   "mimetype": "text/x-python",
   "name": "python",
   "nbconvert_exporter": "python",
   "pygments_lexer": "ipython3",
   "version": "3.6.0"
  }
 },
 "nbformat": 4,
 "nbformat_minor": 2
}

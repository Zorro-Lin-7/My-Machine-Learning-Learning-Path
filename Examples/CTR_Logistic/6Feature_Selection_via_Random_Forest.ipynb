{
 "cells": [
  {
   "cell_type": "markdown",
   "metadata": {},
   "source": [
    "L1-regularized logistic regression 筛选特征的原理是，经过L1正则化，次要的特征的weights 会被压缩得接近0或恰等于0。\n",
    "\n",
    "除此之外，随机森里是另一个常用的feature selection方法。\n",
    "\n",
    "回顾下，随机森林集成了一堆单独的决策树，在node上找最佳分裂点时，每棵树考虑一个随机的特征子集。\n",
    "\n",
    "决策树算法的本质是，只有重要特征（及其分裂值）被用于构造tree node。考虑整个森林， 越是重要的特征，越频繁被作为tree node的特征。\n",
    "\n",
    "换句话说，基于它们在所有树中作为nodes的频率，我们可以对特征重要程度排级，然后选出最靠前最重要的那些。"
   ]
  },
  {
   "cell_type": "markdown",
   "metadata": {},
   "source": [
    "### 训练好的RandomForestClassifier 有一个属性 .feature\\_importances_"
   ]
  },
  {
   "cell_type": "code",
   "execution_count": 1,
   "metadata": {
    "collapsed": true
   },
   "outputs": [],
   "source": [
    "import csv\n",
    "import numpy as np"
   ]
  },
  {
   "cell_type": "code",
   "execution_count": 3,
   "metadata": {
    "collapsed": false
   },
   "outputs": [],
   "source": [
    "def read_ad_click_data(n, offset=0):\n",
    "    X_dict, y = [],[]\n",
    "    with open('train.csv','r') as csvfile:\n",
    "        reader = csv.DictReader(csvfile)\n",
    "        for i in range(offset):\n",
    "            next(reader)\n",
    "        i = 0\n",
    "        for row in reader:\n",
    "            i += 1\n",
    "            y.append(int(row['click']))\n",
    "            del row['click'],row['id'],row['device_id'],row['device_ip'],row['hour']\n",
    "            X_dict.append(row)\n",
    "            if i >=n:\n",
    "                break\n",
    "    return X_dict, y"
   ]
  },
  {
   "cell_type": "code",
   "execution_count": 4,
   "metadata": {
    "collapsed": true
   },
   "outputs": [],
   "source": [
    "n = 10000\n",
    "X_dict_train, y_train = read_ad_click_data(n)"
   ]
  },
  {
   "cell_type": "code",
   "execution_count": 5,
   "metadata": {
    "collapsed": true
   },
   "outputs": [],
   "source": [
    "from sklearn.feature_extraction import DictVectorizer\n",
    "dict_one_hot_encoder = DictVectorizer(sparse=False)\n",
    "X_train = dict_one_hot_encoder.fit_transform(X_dict_train)\n",
    "\n",
    "X_dict_test, y_test = read_ad_click_data(n,n)\n",
    "X_test = dict_one_hot_encoder.transform(X_dict_test)\n",
    "\n",
    "X_train_10k = X_train\n",
    "y_train_10k = np.array(y_train)"
   ]
  },
  {
   "cell_type": "code",
   "execution_count": 7,
   "metadata": {
    "collapsed": false
   },
   "outputs": [
    {
     "data": {
      "text/plain": [
       "RandomForestClassifier(bootstrap=True, class_weight=None, criterion='gini',\n",
       "            max_depth=None, max_features='auto', max_leaf_nodes=None,\n",
       "            min_impurity_split=1e-07, min_samples_leaf=1,\n",
       "            min_samples_split=30, min_weight_fraction_leaf=0.0,\n",
       "            n_estimators=100, n_jobs=-1, oob_score=False,\n",
       "            random_state=None, verbose=0, warm_start=False)"
      ]
     },
     "execution_count": 7,
     "metadata": {},
     "output_type": "execute_result"
    }
   ],
   "source": [
    "from sklearn.ensemble import RandomForestClassifier\n",
    "random_forest = RandomForestClassifier(n_estimators=100, criterion='gini',\n",
    "                                       min_samples_split=30, n_jobs=-1)\n",
    "random_forest.fit(X_train_10k, y_train_10k)"
   ]
  },
  {
   "cell_type": "code",
   "execution_count": 8,
   "metadata": {
    "collapsed": false
   },
   "outputs": [
    {
     "data": {
      "text/plain": [
       "array([  1.16494576e-03,   0.00000000e+00,   3.16679117e-04, ...,\n",
       "         8.79571036e-06,   5.37803466e-06,   3.01467503e-04])"
      ]
     },
     "execution_count": 8,
     "metadata": {},
     "output_type": "execute_result"
    }
   ],
   "source": [
    "random_forest.feature_importances_"
   ]
  },
  {
   "cell_type": "markdown",
   "metadata": {},
   "source": [
    "最底下10个weights及对应的features"
   ]
  },
  {
   "cell_type": "code",
   "execution_count": 9,
   "metadata": {
    "collapsed": false
   },
   "outputs": [
    {
     "name": "stdout",
     "output_type": "stream",
     "text": [
      "[ 0.  0.  0.  0.  0.  0.  0.  0.  0.  0.]\n",
      "[1063  148 2467 2468 1031  161 1014 1001 2514 2515]\n"
     ]
    }
   ],
   "source": [
    "print(np.sort(random_forest.feature_importances_)[:10])\n",
    "print(np.argsort(random_forest.feature_importances_)[:10])"
   ]
  },
  {
   "cell_type": "markdown",
   "metadata": {},
   "source": [
    "最前面10个："
   ]
  },
  {
   "cell_type": "code",
   "execution_count": 10,
   "metadata": {
    "collapsed": false
   },
   "outputs": [
    {
     "name": "stdout",
     "output_type": "stream",
     "text": [
      "[ 0.00861919  0.00891563  0.00896739  0.00903449  0.00908059  0.00914879\n",
      "  0.00932988  0.00955284  0.01217865  0.01382207]\n",
      "[1923 1540 1503  549  395  275 1085 2307  393  554]\n"
     ]
    }
   ],
   "source": [
    "print(np.sort(random_forest.feature_importances_)[-10:])\n",
    "print(np.argsort(random_forest.feature_importances_)[-10:])"
   ]
  },
  {
   "cell_type": "markdown",
   "metadata": {},
   "source": [
    "此处，最重要的特征是554"
   ]
  },
  {
   "cell_type": "code",
   "execution_count": 11,
   "metadata": {
    "collapsed": false
   },
   "outputs": [
    {
     "name": "stdout",
     "output_type": "stream",
     "text": [
      "C21=33\n"
     ]
    }
   ],
   "source": [
    "print(dict_one_hot_encoder.feature_names_[554])"
   ]
  },
  {
   "cell_type": "markdown",
   "metadata": {},
   "source": [
    "更多的，前500个重要特征"
   ]
  },
  {
   "cell_type": "code",
   "execution_count": 13,
   "metadata": {
    "collapsed": false
   },
   "outputs": [
    {
     "name": "stdout",
     "output_type": "stream",
     "text": [
      "(10000, 500)\n"
     ]
    }
   ],
   "source": [
    "top500_feature = np.argsort(random_forest.feature_importances_)[-500:]\n",
    "X_train_10k_selected = X_train_10k[:, top500_feature]\n",
    "print(X_train_10k_selected.shape)"
   ]
  },
  {
   "cell_type": "code",
   "execution_count": 14,
   "metadata": {
    "collapsed": false
   },
   "outputs": [
    {
     "data": {
      "text/plain": [
       "array([2269, 1947, 1249,  931, 1401, 1387, 1683, 1569, 1768,  180, 1624,\n",
       "       1201, 2164, 2239, 1782,  103, 2391,  632, 2051, 1701, 2100, 2486,\n",
       "        312, 2128, 2174, 2453,  760,    7, 2737, 2399,  418, 2755, 1795,\n",
       "       1771, 2473, 1167,  984, 1459, 1869,  341, 1975, 2300, 2733, 2551,\n",
       "        442,  709, 2485, 1383,  545, 2043,  792, 1928,   47, 1328,  828,\n",
       "       2236, 1636, 1916,  256, 1319,  258, 1224, 2314, 2210,  499,  485,\n",
       "       1969, 2725, 2249, 2682, 2251, 2812, 1298, 1095,  423, 1234,  557,\n",
       "       2209, 2221, 1110, 2336, 1788,   10, 1852, 2598,   79, 2584, 2030,\n",
       "        472, 1308, 2310,  482, 1776,  765, 1100, 1873,  400,  327, 2579,\n",
       "       2323, 2750,  814, 2296, 2042,  767, 1086, 1629,  319, 2041, 1172,\n",
       "        927, 2350,  577,  780, 2105, 1362,  383, 2200, 2422,  283, 1685,\n",
       "       1835, 1347, 2574, 1117, 2368, 1332,  926, 2640,  304,  417,  369,\n",
       "       2338, 1214,  170, 1710,  644, 1101,  255, 1403,  904, 1217, 2372,\n",
       "       1666, 2312, 1437, 1846, 1106,  974, 1186, 1837, 1155,  679,  401,\n",
       "       2086,  244,  582, 2816, 2553, 2268, 1537,  354,  326, 1563, 2644,\n",
       "       1136, 2539,  894,  153,   59, 2648,  212, 1156, 1554, 1032, 1803,\n",
       "        471,   63,  957,  431, 1963, 2716, 1262,  271,  139, 2639, 1202,\n",
       "        473,  218, 2072,  793, 1338,  381,  429, 2509, 2097, 1984,  169,\n",
       "       2654,  132, 2442, 1602,  540, 1773, 1588,  489,  599, 1708, 2021,\n",
       "        963, 1547, 1043, 1861, 1533, 1658, 1849, 2253, 2321, 2104, 1119,\n",
       "       1053, 1608,  125,  845,  856, 2650,  625,  432, 2629, 1322, 1627,\n",
       "       1253, 2146, 1830, 2762, 1474, 2133, 1297, 1109, 1866,  982,  123,\n",
       "        171, 1023, 1716, 1118,  456,  102, 2054, 1688, 1692,  208, 2242,\n",
       "       2011, 2552,  403, 2126, 1730,  214, 1279, 1089, 1325,  428, 1041,\n",
       "        282, 1914, 1520, 1404, 1487, 2516,  878, 2471,  970, 1909,  968,\n",
       "       1769, 1040, 1590, 2172,  154,  546, 1083, 1626,  301, 1556,  657,\n",
       "        451, 2169, 1634,  469,  594, 1443, 1093, 1508, 2476, 2418, 2612,\n",
       "       1356, 1220, 1068, 1464, 1011,  305, 1555, 1931, 2004, 2062, 1413,\n",
       "        356,    0, 1857, 1072, 1777, 1611, 2673,  350,  537, 1955,  587,\n",
       "       2760, 1188,  449, 1558,  924, 1351, 1598, 1379,  960,  159,  163,\n",
       "       1859,  994, 1192,  553, 2098, 1494,  597, 2113, 1221, 1875, 1268,\n",
       "       2059, 1535,  488,  104,  806,  106,  408, 1102,  363,  548, 2806,\n",
       "       2103,  941, 1457, 1348, 1080, 1997, 2116,  397, 2213,  168, 1209,\n",
       "        547, 1798, 1272,  409, 2452,  965, 1553, 1123,   69, 2364, 2366,\n",
       "       2782,  328, 1797,  394, 2083,   68, 1765, 2080, 2405, 2580, 1594,\n",
       "        454,  558, 1126,  999, 2032, 1693, 1140, 2031,  351, 2025,  344,\n",
       "       1847, 1476, 1799, 1785,  291, 2149, 2566,  410, 2013, 1804, 1493,\n",
       "       1823,  929,   70,   27, 2370, 1195, 2120,   33,  572, 1428, 2482,\n",
       "       2573,  908, 2668, 1543, 2769,  928, 1827,  552,  559,  563, 1088,\n",
       "       2112, 1281,   36, 1250, 1047, 1897,   35, 2423, 2044,   30,  474,\n",
       "       2641,   31,   32,  570, 1039, 1891,   29, 1463,  325,  272, 1211,\n",
       "       1074, 1809,  932, 2110,  273,  959, 1107, 1092,  933,  411, 1056,\n",
       "       1681,   73,  278, 2275, 1065,  315,  391, 1370, 1448, 1009,   34,\n",
       "       2010, 1313, 1193, 2761, 1282, 1519, 1831, 1714, 1654, 1445, 1424,\n",
       "        475, 1296,  433, 1284,  314, 2265, 1923, 1540, 1503,  549,  395,\n",
       "        275, 1085, 2307,  393,  554])"
      ]
     },
     "execution_count": 14,
     "metadata": {},
     "output_type": "execute_result"
    }
   ],
   "source": [
    "top500_feature"
   ]
  }
 ],
 "metadata": {
  "kernelspec": {
   "display_name": "Python 3",
   "language": "python",
   "name": "python3"
  },
  "language_info": {
   "codemirror_mode": {
    "name": "ipython",
    "version": 3
   },
   "file_extension": ".py",
   "mimetype": "text/x-python",
   "name": "python",
   "nbconvert_exporter": "python",
   "pygments_lexer": "ipython3",
   "version": "3.6.0"
  }
 },
 "nbformat": 4,
 "nbformat_minor": 2
}

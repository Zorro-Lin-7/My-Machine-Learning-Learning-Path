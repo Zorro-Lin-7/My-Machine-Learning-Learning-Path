{
 "cells": [
  {
   "cell_type": "code",
   "execution_count": 1,
   "metadata": {
    "collapsed": true
   },
   "outputs": [],
   "source": [
    "from IPython.core.interactiveshell import InteractiveShell\n",
    "InteractiveShell.ast_node_interactivity = 'all'"
   ]
  },
  {
   "cell_type": "markdown",
   "metadata": {},
   "source": [
    "# 决策树的生成\n",
    "本例以CART算法构造树。"
   ]
  },
  {
   "cell_type": "code",
   "execution_count": 2,
   "metadata": {
    "collapsed": true
   },
   "outputs": [],
   "source": [
    "import matplotlib.pyplot as plt\n",
    "import numpy as np\n",
    "import pandas as pd\n",
    "%matplotlib inline"
   ]
  },
  {
   "cell_type": "markdown",
   "metadata": {},
   "source": [
    "## 度量一次分割的好坏\n",
    "\n",
    "选哪个特征及特征值作为分割点来下刀？2个判定指标：\n",
    "1. 基尼不纯度（基尼杂质率）\n",
    "2. 信息增益"
   ]
  },
  {
   "cell_type": "markdown",
   "metadata": {},
   "source": [
    "## 基尼不纯度\n",
    "整个数据集的不纯度：\n",
    "![Gini](Gini.png)"
   ]
  },
  {
   "cell_type": "markdown",
   "metadata": {},
   "source": [
    "二分类的基尼不纯度："
   ]
  },
  {
   "cell_type": "code",
   "execution_count": 3,
   "metadata": {
    "collapsed": false
   },
   "outputs": [
    {
     "data": {
      "text/plain": [
       "[<matplotlib.lines.Line2D at 0x10f8efb70>]"
      ]
     },
     "execution_count": 3,
     "metadata": {},
     "output_type": "execute_result"
    },
    {
     "data": {
      "text/plain": [
       "<matplotlib.text.Text at 0x10d2bbac8>"
      ]
     },
     "execution_count": 3,
     "metadata": {},
     "output_type": "execute_result"
    },
    {
     "data": {
      "text/plain": [
       "<matplotlib.text.Text at 0x10d35bbe0>"
      ]
     },
     "execution_count": 3,
     "metadata": {},
     "output_type": "execute_result"
    },
    {
     "data": {
      "text/plain": [
       "(0, 1)"
      ]
     },
     "execution_count": 3,
     "metadata": {},
     "output_type": "execute_result"
    },
    {
     "data": {
      "image/png": "[encoded data removed]",
      "text/plain": [
       "<matplotlib.figure.Figure at 0x10d2baf98>"
      ]
     },
     "metadata": {},
     "output_type": "display_data"
    }
   ],
   "source": [
    "pos_fraction = np.linspace(0.00, 1.00, 1000)   # 正类概率范围0-1\n",
    "gini = 1 - pos_fraction**2 - (1-pos_fraction)**2\n",
    "plt.plot(pos_fraction, gini)\n",
    "plt.xlabel('Positive fraction')\n",
    "plt.ylabel('Gini Impurity')\n",
    "plt.ylim(0,1)\n",
    "plt.show()"
   ]
  },
  {
   "cell_type": "markdown",
   "metadata": {},
   "source": [
    "给定数据集，基尼不纯度计算函数："
   ]
  },
  {
   "cell_type": "code",
   "execution_count": 4,
   "metadata": {
    "collapsed": false
   },
   "outputs": [
    {
     "data": {
      "text/plain": [
       "(array([0, 1]), array([2, 3]))"
      ]
     },
     "execution_count": 4,
     "metadata": {},
     "output_type": "execute_result"
    },
    {
     "data": {
      "text/plain": [
       "array([ 0.4,  0.6])"
      ]
     },
     "execution_count": 4,
     "metadata": {},
     "output_type": "execute_result"
    }
   ],
   "source": [
    "labels = [1,1,0,1,0]\n",
    "np.unique(labels, return_counts=True)\n",
    "counts = np.unique(labels, return_counts=True)[1]\n",
    "fractions = counts/float(len(labels))\n",
    "fractions"
   ]
  },
  {
   "cell_type": "code",
   "execution_count": 5,
   "metadata": {
    "collapsed": false
   },
   "outputs": [
    {
     "data": {
      "text/plain": [
       "0.52000000000000002"
      ]
     },
     "execution_count": 5,
     "metadata": {},
     "output_type": "execute_result"
    }
   ],
   "source": [
    "np.sum(fractions ** 2)"
   ]
  },
  {
   "cell_type": "code",
   "execution_count": 6,
   "metadata": {
    "collapsed": false
   },
   "outputs": [
    {
     "data": {
      "text/plain": [
       "0.47999999999999998"
      ]
     },
     "execution_count": 6,
     "metadata": {},
     "output_type": "execute_result"
    }
   ],
   "source": [
    "1 - np.sum(fractions**2)"
   ]
  },
  {
   "cell_type": "code",
   "execution_count": 7,
   "metadata": {
    "collapsed": false,
    "scrolled": true
   },
   "outputs": [
    {
     "name": "stdout",
     "output_type": "stream",
     "text": [
      "0.4800\n",
      "0.5000\n",
      "0.0000\n"
     ]
    }
   ],
   "source": [
    "def gini_impurity(labels):\n",
    "    if not labels:    # 当数据集为空，也是纯的\n",
    "        return 0  \n",
    "    counts = np.unique(labels, return_counts=True)[1] # 统计每个label的频数\n",
    "    fractions = counts/ float(len(labels))\n",
    "    return 1 - np.sum(fractions ** 2)\n",
    "print('{0:.4f}'.format(gini_impurity([1,1,0,1,0])))\n",
    "print('{0:.4f}'.format(gini_impurity([1,1,0,1,0,0])))\n",
    "print('{0:.4f}'.format(gini_impurity([1,1,1,1])))"
   ]
  },
  {
   "cell_type": "markdown",
   "metadata": {},
   "source": [
    "### 评估拆分的质量，\n",
    "我们只需将所有子分组的基尼杂质率相加，然后将每个子分组的占比作为相应的权重因子。\n",
    "\n",
    "Gini杂质的加权和越小，分割就越好。\n",
    "\n",
    "![self-car ad](example.png)\n",
    "![#1](gini1.png)\n",
    "![#2](gini2.png)\n",
    "\n",
    "所以，选择“兴趣”feature来分裂更好"
   ]
  },
  {
   "cell_type": "markdown",
   "metadata": {},
   "source": [
    "## 信息增益\n",
    "另一个度量指标是Information Gain，度量分裂后的纯度提升，也就是分裂后uncertainty的下降。信息增益越高，说明分裂得越好。涉及到“熵”\n",
    "### 熵\n",
    "熵是一个概率值，度量数据集的uncertainty。熵越小，数据集越纯，越有序。一个数据集的熵定义如下：\n",
    "![entropy](entropy.png)\n",
    "\n",
    "熵越小，数据集的纯度越高。\n",
    "    \n",
    "    最理想的，数据集只有1个类，entropy = -（1 x log2 1 + 0) = 0;\n",
    "    抛硬币为例，entropy = - (0.5 x log2 0.5 + 0.5 x log2 0.5) = 1"
   ]
  },
  {
   "cell_type": "markdown",
   "metadata": {},
   "source": [
    "二分类，不同正类fraction值下的熵变化图："
   ]
  },
  {
   "cell_type": "code",
   "execution_count": 8,
   "metadata": {
    "collapsed": false
   },
   "outputs": [
    {
     "name": "stderr",
     "output_type": "stream",
     "text": [
      "/Users/linzhun/anaconda/lib/python3.6/site-packages/ipykernel/__main__.py:2: RuntimeWarning: divide by zero encountered in log2\n",
      "  from ipykernel import kernelapp as app\n",
      "/Users/linzhun/anaconda/lib/python3.6/site-packages/ipykernel/__main__.py:2: RuntimeWarning: invalid value encountered in multiply\n",
      "  from ipykernel import kernelapp as app\n"
     ]
    },
    {
     "data": {
      "text/plain": [
       "[<matplotlib.lines.Line2D at 0x10f949d68>]"
      ]
     },
     "execution_count": 8,
     "metadata": {},
     "output_type": "execute_result"
    },
    {
     "data": {
      "text/plain": [
       "<matplotlib.text.Text at 0x10f9ac438>"
      ]
     },
     "execution_count": 8,
     "metadata": {},
     "output_type": "execute_result"
    },
    {
     "data": {
      "text/plain": [
       "<matplotlib.text.Text at 0x10f9f03c8>"
      ]
     },
     "execution_count": 8,
     "metadata": {},
     "output_type": "execute_result"
    },
    {
     "data": {
      "text/plain": [
       "(0, 1)"
      ]
     },
     "execution_count": 8,
     "metadata": {},
     "output_type": "execute_result"
    },
    {
     "data": {
      "image/png": "[encoded data removed]",
      "text/plain": [
       "<matplotlib.figure.Figure at 0x10d35b6a0>"
      ]
     },
     "metadata": {},
     "output_type": "display_data"
    }
   ],
   "source": [
    "pos_fraction = np.linspace(0.00, 1.00, 1000)\n",
    "ent = - (pos_fraction * np.log2(pos_fraction) + (1 - pos_fraction)*np.log2(1-pos_fraction))\n",
    "plt.plot(pos_fraction, ent)\n",
    "plt.xlabel('Positive fraction')\n",
    "plt.ylabel('Entropy')\n",
    "plt.ylim(0,1)\n",
    "plt.show()"
   ]
  },
  {
   "cell_type": "markdown",
   "metadata": {},
   "source": [
    "给定labels数据集，计算熵"
   ]
  },
  {
   "cell_type": "code",
   "execution_count": 9,
   "metadata": {
    "collapsed": false
   },
   "outputs": [
    {
     "name": "stdout",
     "output_type": "stream",
     "text": [
      "0.9710\n",
      "1.0000\n",
      "-0.0000\n"
     ]
    }
   ],
   "source": [
    "def entropy(labels):\n",
    "    if not labels:\n",
    "        return 0\n",
    "    counts = np.unique(labels,return_counts=True)[1]\n",
    "    fractions = counts / float(len(labels))\n",
    "    return - np.sum(fractions * np.log2(fractions))\n",
    "\n",
    "print('{0:.4f}'.format(entropy([1,1,0,1,0])))\n",
    "print('{0:.4f}'.format(entropy([1,1,0,1,0,0])))\n",
    "print('{0:.4f}'.format(entropy([1,1,1,1])))"
   ]
  },
  {
   "cell_type": "markdown",
   "metadata": {},
   "source": [
    "### 信息增益计算分裂后uncertainty 下降了多少：\n",
    "分裂前后的熵差：\n",
    "    \n",
    "    InformationGain = Entropy(before) - Entropy(after) \n",
    "                    = Entropy(parent) - Entropy(children)\n",
    "                    \n",
    "**Entropy(after) 是每个entropy(child) 的加权和**\n",
    "\n",
    "构建树的一个节点时，我们的目标是找一个分裂点（feature）使得信息增益最大。因为entropy(parent)不变，我们只需计算该分裂后的entropy(children)。**entropy(children) 越小，这个分裂越好。**\n",
    "\n",
    "![self-driving car](example.png)\n",
    "![entropy1](entropy1.png)\n",
    "![entropy2](entropy2.png)\n",
    "![informationgain](inforgain.png)\n",
    "\n",
    "第2个分裂更好"
   ]
  },
  {
   "cell_type": "markdown",
   "metadata": {},
   "source": [
    "### 通常，2个度量的效果差不多，都是子节点不纯度的加权和。\n",
    "我们可以把它们整合到一个函数里：计算子节点的不纯度加权和"
   ]
  },
  {
   "cell_type": "code",
   "execution_count": 17,
   "metadata": {
    "collapsed": true
   },
   "outputs": [],
   "source": [
    "criterion_function = {'gini':gini_impurity,\n",
    "                      'entropy': entropy}\n",
    "def weighted_impurity(groups, criterion='gini'):\n",
    "    \"\"\"Calculate weighted impurity of children after a split\n",
    "    Args:\n",
    "        groups (list of children, and a child consist a list of class labels)\n",
    "        criterion (metric to messure the quality of a split, 'gini' for Gini Impurity\n",
    "                   or 'entropy' for Information Gain)\n",
    "    Return:\n",
    "        float, weighted impurity\n",
    "    \"\"\"\n",
    "    total = sum(len(group) for group in groups)\n",
    "    weighted_sum = 0.0\n",
    "    for group in groups:\n",
    "        weighted_sum += len(group)/ float(total) *criterion_function[criterion](group)\n",
    "    return weighted_sum"
   ]
  },
  {
   "cell_type": "code",
   "execution_count": 18,
   "metadata": {
    "collapsed": false
   },
   "outputs": [
    {
     "name": "stdout",
     "output_type": "stream",
     "text": [
      "Entropy of #1 split: 0.9510\n",
      "Entropy of #2 split: 0.5510\n"
     ]
    }
   ],
   "source": [
    "children1 = [[1,0,1],[0,1]]\n",
    "children2 = [[1,1],[0,0,1]]\n",
    "print('Entropy of #1 split: {0:.4f}'.format(weighted_impurity(children1,'entropy')))\n",
    "print('Entropy of #2 split: {0:.4f}'.format(weighted_impurity(children2,'entropy')))"
   ]
  },
  {
   "cell_type": "code",
   "execution_count": null,
   "metadata": {
    "collapsed": true
   },
   "outputs": [],
   "source": []
  },
  {
   "cell_type": "markdown",
   "metadata": {},
   "source": [
    "## 理解了如何分裂，下面实操用CART算法来生成一棵树：\n",
    "给定数据集![practice](practice_data.png)"
   ]
  },
  {
   "cell_type": "markdown",
   "metadata": {
    "collapsed": true
   },
   "source": [
    "### 首先，确定第一个分裂点，也就是根节点。尝试每个特征可能的值："
   ]
  },
  {
   "cell_type": "code",
   "execution_count": 113,
   "metadata": {
    "collapsed": false,
    "scrolled": true
   },
   "outputs": [
    {
     "data": {
      "text/plain": [
       "{'gini_interest_Fashion': 0.34285714285714286,\n",
       " 'gini_interest_Sports': 0.48571428571428571,\n",
       " 'gini_interest_Tech': 0.40476190476190477,\n",
       " 'gini_occupation_Professional': 0.40476190476190477,\n",
       " 'gini_occupation_Retired': 0.42857142857142855,\n",
       " 'gini_occupation_Student': 0.47619047619047616}"
      ]
     },
     "execution_count": 113,
     "metadata": {},
     "output_type": "execute_result"
    },
    {
     "data": {
      "text/plain": [
       "gini_interest_Fashion           0.342857\n",
       "gini_interest_Tech              0.404762\n",
       "gini_occupation_Professional    0.404762\n",
       "gini_occupation_Retired         0.428571\n",
       "gini_occupation_Student         0.476190\n",
       "gini_interest_Sports            0.485714\n",
       "dtype: float64"
      ]
     },
     "execution_count": 113,
     "metadata": {},
     "output_type": "execute_result"
    }
   ],
   "source": [
    "d = dict(gini_interest_Tech = weighted_impurity([[1,1,0],[0,0,0,1]]),\n",
    "gini_interest_Fashion = weighted_impurity([[1,0,1,0,1],[0,0]]),\n",
    "gini_interest_Sports = weighted_impurity([[1,0,0,1,0],[0,1]]),\n",
    "gini_occupation_Professional = weighted_impurity([[1,0,1],[0,0,1,0]]),\n",
    "gini_occupation_Student = weighted_impurity([[1,0,0,1],[0,0,1]]),\n",
    "gini_occupation_Retired = weighted_impurity([[1,0,0,0,1,1],[0]]))\n",
    "d\n",
    "s1 = pd.Series(d)\n",
    "s1.sort_values()"
   ]
  },
  {
   "cell_type": "markdown",
   "metadata": {
    "collapsed": true
   },
   "source": [
    "选择特征interest，特征值为Fashion 作为根节点，我们可以生成第一层树：![first_level](first_level.png)"
   ]
  },
  {
   "cell_type": "markdown",
   "metadata": {
    "collapsed": true
   },
   "source": [
    "如果“一层“树就够了，我们可以到此为止，指定左枝为label 1，右枝为label 0 即可。\n",
    "\n",
    "### 当然，我们可以通过左枝继续生成第二层树，右枝已不可分："
   ]
  },
  {
   "cell_type": "code",
   "execution_count": 114,
   "metadata": {
    "collapsed": false
   },
   "outputs": [
    {
     "data": {
      "text/plain": [
       "{'gini_interest_Sports2': 0.46666666666666667,\n",
       " 'gini_interest_Tech2': 0.46666666666666667,\n",
       " 'gini_occupation_Professional2': 0.26666666666666666,\n",
       " 'gini_occupation_Retired2': 0.30000000000000004,\n",
       " 'gini_occupation_Student2': 0.46666666666666667}"
      ]
     },
     "execution_count": 114,
     "metadata": {},
     "output_type": "execute_result"
    },
    {
     "data": {
      "text/plain": [
       "gini_occupation_Professional2    0.266667\n",
       "gini_occupation_Retired2         0.300000\n",
       "gini_interest_Sports2            0.466667\n",
       "gini_interest_Tech2              0.466667\n",
       "gini_occupation_Student2         0.466667\n",
       "dtype: float64"
      ]
     },
     "execution_count": 114,
     "metadata": {},
     "output_type": "execute_result"
    }
   ],
   "source": [
    "d2 = dict(gini_interest_Tech2 = weighted_impurity([[1,1,0],[0,1]]),\n",
    "          gini_interest_Sports2 = weighted_impurity([[1,1,0],[0,1]]),\n",
    "          gini_occupation_Professional2 = weighted_impurity([[1,1],[0,1,0]]),\n",
    "          gini_occupation_Retired2 = weighted_impurity([[0],[1,0,1,1]]),\n",
    "          gini_occupation_Student2 = weighted_impurity([[1,0,1],[0,1]]))\n",
    "\n",
    "d2\n",
    "s2 = pd.Series(d2)\n",
    "s2.sort_values()"
   ]
  },
  {
   "cell_type": "markdown",
   "metadata": {},
   "source": [
    "第2个分裂点选择( occupation, Professional ):\n",
    "![second level](second_level.png)"
   ]
  },
  {
   "cell_type": "markdown",
   "metadata": {},
   "source": [
    "我们可以继续下去，直到最大深度或者达到叶节点允许的最小样本数。"
   ]
  },
  {
   "cell_type": "markdown",
   "metadata": {},
   "source": [
    "# 综上，代码从零实现决策树："
   ]
  },
  {
   "cell_type": "markdown",
   "metadata": {},
   "source": [
    "1.最佳分裂点的判定条件："
   ]
  },
  {
   "cell_type": "code",
   "execution_count": 12,
   "metadata": {
    "collapsed": true
   },
   "outputs": [],
   "source": [
    "def gini_impurity(labels): # labels是np.array，更高效\n",
    "    if labels.size == 0:\n",
    "        return 0\n",
    "    counts = np.unique(labels, return_counts=True)[1]\n",
    "    fractions = counts / float(len(labels))\n",
    "    return 1 - np.sum(fractions ** 2)\n",
    "\n",
    "def entropy(labels):\n",
    "    if labels.size == 0:\n",
    "        return 0\n",
    "    counts = np.unique(labels, return_counts=True)[1]\n",
    "    fractions = counts / float(len(labels))\n",
    "    return -np.sum(fraction * np.log2(fraction))\n",
    "\n",
    "criterion_function = {'gini': gini_impurity,\n",
    "                      'entropy': entropy}\n",
    "def weighted_impurity(groups, criterion='gini'):\n",
    "    \"\"\" Calculate weighted impurity of children after a split\n",
    "    Args:\n",
    "        groups (list of children, and a child consist a list of class labels)\n",
    "        criterion (metric to measure the quality of a split, 'gini' for Gini Impurity\n",
    "                   or 'entropy' for Information Gain)\n",
    "    Return:\n",
    "        float, weighted impurity\n",
    "    \"\"\"\n",
    "    total = sum(len(group) for group in groups)\n",
    "    weighted_sum = 0.0\n",
    "    for group in groups:\n",
    "        weighted_sum += len(group)/float(total) * criterion_function[criterion](group)\n",
    "    return weighted_sum"
   ]
  },
  {
   "cell_type": "markdown",
   "metadata": {},
   "source": [
    "2.定义工具函数：基于选定的特征和特征值，进行分割操作：将节点分为左右2个子节点："
   ]
  },
  {
   "cell_type": "code",
   "execution_count": 4,
   "metadata": {
    "collapsed": true
   },
   "outputs": [],
   "source": [
    "def split_node(X, y, index, value):\n",
    "    \"\"\"Split data set X, y based on a feature and a value\n",
    "    Args:\n",
    "        X, y (numpy.ndarray, data set)\n",
    "        index (int, index of the feature used for splitting)\n",
    "        value (value of the feature used for splitting)\n",
    "    Returns:\n",
    "        list, list: left and right child, a child is in the format of [X, y]\n",
    "    \"\"\"\n",
    "    x_index = X[:, index]\n",
    "    # 如果该特征是数值型\n",
    "    if X[0, index].dtype.kind in ['i', 'f']:\n",
    "        mask = x_index >= value\n",
    "    # 如果该特征是类别型\n",
    "    else:\n",
    "        mask = x_index == value\n",
    "    left = [X[~mask, :], y[~mask]]  # ？？\n",
    "    right = [X[mask, :], y[mask]]\n",
    "    return left, right"
   ]
  },
  {
   "cell_type": "markdown",
   "metadata": {},
   "source": [
    "3.定义贪婪搜索函数，尝试所有可能的分裂方式并返回最佳的那种："
   ]
  },
  {
   "cell_type": "code",
   "execution_count": 5,
   "metadata": {
    "collapsed": true
   },
   "outputs": [],
   "source": [
    "def get_best_split(X, y, criterion):\n",
    "    \"\"\"Obtain the best splitting point and resulting children for the data set X, y\n",
    "    Args:\n",
    "        X, y (numpy.ndarray, data set)\n",
    "        criterion (gini or entropy)\n",
    "    Returns:\n",
    "        dict {index: index of the feature, \n",
    "              value: feature value, \n",
    "              children:left and right children}\n",
    "    \"\"\"\n",
    "    best_index, best_value, best_score, children = None, None, 1, None\n",
    "    for index in range(len(X[0])):\n",
    "        for value in np.sort(np.unique(X[:, index])):\n",
    "            groups = split_node(X, y, index, value)\n",
    "            impurity = weighted_impurity([groups[0][1], groups[1][1]], criterion)\n",
    "            if impurity < best_score:\n",
    "                best_index, best_value, best_score, children=index, value,impurity,groups\n",
    "    return {'index': best_index,'value':best_value,'children':children}"
   ]
  },
  {
   "cell_type": "markdown",
   "metadata": {},
   "source": [
    "4.前面的分割点选择和分割过程以递归的方式在后续的每个子代上发生，当达到停止条件时，节点上的进程停止，主标记将被分配给这个叶节点"
   ]
  },
  {
   "cell_type": "code",
   "execution_count": 6,
   "metadata": {
    "collapsed": true
   },
   "outputs": [],
   "source": [
    "def get_leaf(labels):\n",
    "    return np.bincount(labels).argmax()# Obtain the leaf as the majority of the labels"
   ]
  },
  {
   "cell_type": "code",
   "execution_count": 7,
   "metadata": {
    "collapsed": false
   },
   "outputs": [
    {
     "data": {
      "text/plain": [
       "array([1, 3, 1, 1, 0, 0, 0, 1])"
      ]
     },
     "execution_count": 7,
     "metadata": {},
     "output_type": "execute_result"
    }
   ],
   "source": [
    "# bin的数量比x中的最大值大1，每个bin给出了它的索引值在x中出现的次数。\n",
    "x = np.array([0, 1, 1, 3, 2, 1, 7]) # 其bin数量为7+1=8，索引值为0->7\n",
    "#索引值0：在x中有 1 个0\n",
    "#索引值1：在x中有 3 个1\n",
    "#索引值2: 在x中有 1 个2  ...\n",
    "#索引值7: 在x中有 1 个7\n",
    "#所以\n",
    "np.bincount(x)"
   ]
  },
  {
   "cell_type": "markdown",
   "metadata": {},
   "source": [
    "5.最后，以一个递归函数将以上联系起来：分裂一个节点的子节点来构造新节点，或者将这些子节点作为终点\n",
    "    \n",
    "    * 如果2个子节点之一是空，确定出一个叶节点，；\n",
    "    * 如果当前分支深度超出最大允许深度，确定出一个叶节点；\n",
    "    * 如果该子集所含的样本数不足以进一步分裂，确定为一个叶节点；\n",
    "    * 否则，以最优分裂点进行进一步分裂"
   ]
  },
  {
   "cell_type": "code",
   "execution_count": 8,
   "metadata": {
    "collapsed": true
   },
   "outputs": [],
   "source": [
    "def split(node, max_depth, min_size, depth, criterion):\n",
    "    \"\"\"Split children of a node to construct new nodes or assign them terminals\n",
    "    Args:\n",
    "        node (dict, with children info)\n",
    "        max_depth (int, maximal depth of the tree)\n",
    "        min_size (int, minimal samples required to further split a child)\n",
    "        depth (int, current depth of the node)\n",
    "        criterion (gini or entropy)\n",
    "    \"\"\"\n",
    "    left, right = node['children']\n",
    "    del (node['children'])\n",
    "    if left[1].size == 0:\n",
    "        node['right'] = get_leaf(right[1])\n",
    "        return\n",
    "    if right[1].size == 0:\n",
    "        node['left'] = get_leaf(left[1])\n",
    "        return\n",
    "    # 确认当前深度是否超出最大深度：\n",
    "    if depth >= max_depth:\n",
    "        node['left'], node['right'] = get_leaf(left[1]), get_leaf(right[1])\n",
    "        return\n",
    "    # 确认左子集样本数是否足够：\n",
    "    if left[1].size <= min_size:\n",
    "        node['left'] = get_leaf(left[1])\n",
    "    else:  # 继续分裂\n",
    "        result = get_best_split(left[0], left[1], criterion)\n",
    "        result_left, result_right = result['children']\n",
    "        if result_left[1].size == 0:\n",
    "            node['left'] = get_leaf(result_right[1])\n",
    "        elif result_right[1].size == 0:\n",
    "            node['left'] = get_leaf(result_left[1])\n",
    "        else:\n",
    "            node['left'] = result\n",
    "            split(node['left'], max_depth, min_size, depth+1, criterion)\n",
    "    # 确认右子集样本数\n",
    "    if right[1].size <= min_size:\n",
    "        node['right'] = get_leaf(right[1])\n",
    "    else:\n",
    "        #如果足够，继续分裂\n",
    "        result = get_best_split(right[0],right[1],criterion)\n",
    "        result_left, result_right = result['children']\n",
    "        if result_left[1].size == 0:\n",
    "            node['right'] = get_leaf(result_right[1])\n",
    "        elif result_right[1].size == 0:\n",
    "            node['right'] = get_leaf(result_left[1])\n",
    "        else:\n",
    "            node['right'] = result\n",
    "            split(node['right'], max_depth, min_size, depth + 1, criterion)"
   ]
  },
  {
   "cell_type": "markdown",
   "metadata": {},
   "source": [
    "另外，要开启树结构的入口点："
   ]
  },
  {
   "cell_type": "code",
   "execution_count": 9,
   "metadata": {
    "collapsed": true
   },
   "outputs": [],
   "source": [
    "def train_tree(X_train, y_train, max_depth, min_size, criterion='gini'):\n",
    "    \"\"\"Construction of a tree starts here\n",
    "    Args:\n",
    "        X_train, y_train (list, list, training data)\n",
    "        max_depth (int, maximal depth of the tree)\n",
    "        min_size (int, minimal samples required to further split a child)\n",
    "        criterion (gini or entropy)\n",
    "    \"\"\"\n",
    "    X = np.array(X_train)\n",
    "    y = np.array(y_train)\n",
    "    root = get_best_split(X,y,criterion)\n",
    "    split(root, max_depth, min_size, 1 , criterion)\n",
    "    return root"
   ]
  },
  {
   "cell_type": "markdown",
   "metadata": {},
   "source": [
    "用之前的例子测试："
   ]
  },
  {
   "cell_type": "code",
   "execution_count": 10,
   "metadata": {
    "collapsed": false
   },
   "outputs": [],
   "source": [
    "X_train = [['tech', 'professional'],\n",
    "           ['fashion', 'student'],\n",
    "           ['fashion', 'professional'],\n",
    "           ['sports', 'studnet'],\n",
    "           ['tech', 'student'],\n",
    "           ['tech', 'retired'],\n",
    "           ['sports', 'professional']]\n",
    "y_train = [1,\n",
    "           0,\n",
    "           0,\n",
    "           0,\n",
    "           1,\n",
    "           0,\n",
    "           1]"
   ]
  },
  {
   "cell_type": "code",
   "execution_count": 13,
   "metadata": {
    "collapsed": false,
    "scrolled": true
   },
   "outputs": [],
   "source": [
    "tree = train_tree(X_train,y_train,2,2)"
   ]
  },
  {
   "cell_type": "code",
   "execution_count": 14,
   "metadata": {
    "collapsed": false
   },
   "outputs": [
    {
     "data": {
      "text/plain": [
       "{'index': 0,\n",
       " 'left': {'index': 1, 'left': 0, 'right': 1, 'value': 'professional'},\n",
       " 'right': 0,\n",
       " 'value': 'fashion'}"
      ]
     },
     "execution_count": 14,
     "metadata": {},
     "output_type": "execute_result"
    }
   ],
   "source": [
    "tree"
   ]
  },
  {
   "cell_type": "markdown",
   "metadata": {},
   "source": [
    "验证train_tree 的结果与我们手工构造的是否一致，写一个可视化函数来展示该tree:"
   ]
  },
  {
   "cell_type": "code",
   "execution_count": 16,
   "metadata": {
    "collapsed": false
   },
   "outputs": [],
   "source": [
    "CONDITION = {'numerical': {'yes': '>=', 'no': '<'},\n",
    "             'categorical': {'yes': 'is', 'no': 'is not'}}\n",
    "def visualize_tree(node, depth=0):\n",
    "    if isinstance(node, dict):\n",
    "        if node['value'].dtype.kind in ['i', 'f']:\n",
    "            condition = CONDITION['numerical']\n",
    "        else:\n",
    "            condition = CONDITION['categorical']\n",
    "        print('{}|- X{} {} {}'.format(depth * '  ', node['index']+1,condition['no'],\n",
    "                                     node['value']))\n",
    "        if 'left' in node:\n",
    "            visualize_tree(node['left'], depth +1)\n",
    "        print('{}|- X{} {} {}'.format(depth * '  ', node['index']+1,condition['yes'],\n",
    "                                     node['value']))\n",
    "        if 'right' in node:\n",
    "            visualize_tree(node['right'], depth+1)\n",
    "    else:\n",
    "        print('{}[{}]'.format(depth * '  ',node))"
   ]
  },
  {
   "cell_type": "code",
   "execution_count": 17,
   "metadata": {
    "collapsed": false
   },
   "outputs": [
    {
     "name": "stdout",
     "output_type": "stream",
     "text": [
      "|- X1 is not fashion\n",
      "  |- X2 is not professional\n",
      "    [0]\n",
      "  |- X2 is professional\n",
      "    [1]\n",
      "|- X1 is fashion\n",
      "  [0]\n"
     ]
    }
   ],
   "source": [
    "visualize_tree(tree)"
   ]
  },
  {
   "cell_type": "markdown",
   "metadata": {},
   "source": [
    "试试数值型："
   ]
  },
  {
   "cell_type": "code",
   "execution_count": 18,
   "metadata": {
    "collapsed": false
   },
   "outputs": [
    {
     "name": "stdout",
     "output_type": "stream",
     "text": [
      "|- X2 < 4\n",
      "  |- X1 < 7\n",
      "    [1]\n",
      "  |- X1 >= 7\n",
      "    [0]\n",
      "|- X2 >= 4\n",
      "  |- X1 < 2\n",
      "    [1]\n",
      "  |- X1 >= 2\n",
      "    [0]\n"
     ]
    }
   ],
   "source": [
    "\n",
    "X_train_n = [[6, 7],\n",
    "           [2, 4],\n",
    "           [7, 2],\n",
    "           [3, 6],\n",
    "           [4, 7],\n",
    "           [5, 2],\n",
    "           [1, 6],\n",
    "           [2, 0],\n",
    "           [6, 3],\n",
    "           [4, 1]]\n",
    "\n",
    "y_train_n = [0,\n",
    "           0,\n",
    "           0,\n",
    "           0,\n",
    "           0,\n",
    "           1,\n",
    "           1,\n",
    "           1,\n",
    "           1,\n",
    "           1]\n",
    "\n",
    "tree = train_tree(X_train_n, y_train_n, 2, 2)\n",
    "visualize_tree(tree)\n"
   ]
  },
  {
   "cell_type": "markdown",
   "metadata": {},
   "source": [
    "# 用Sklearn"
   ]
  },
  {
   "cell_type": "code",
   "execution_count": 20,
   "metadata": {
    "collapsed": false
   },
   "outputs": [
    {
     "data": {
      "text/plain": [
       "DecisionTreeClassifier(class_weight=None, criterion='gini', max_depth=2,\n",
       "            max_features=None, max_leaf_nodes=None,\n",
       "            min_impurity_split=1e-07, min_samples_leaf=1,\n",
       "            min_samples_split=2, min_weight_fraction_leaf=0.0,\n",
       "            presort=False, random_state=None, splitter='best')"
      ]
     },
     "execution_count": 20,
     "metadata": {},
     "output_type": "execute_result"
    }
   ],
   "source": [
    "from sklearn.tree import DecisionTreeClassifier\n",
    "tree_sk = DecisionTreeClassifier(criterion='gini',max_depth=2, min_samples_split=2)\n",
    "tree_sk.fit(X_train_n,y_train_n)"
   ]
  },
  {
   "cell_type": "markdown",
   "metadata": {},
   "source": [
    "可视化："
   ]
  },
  {
   "cell_type": "code",
   "execution_count": 22,
   "metadata": {
    "collapsed": true
   },
   "outputs": [],
   "source": [
    "from sklearn.tree import export_graphviz\n",
    "export_graphviz(tree_sk, out_file='tree.dot', feature_names=['X1','X2'],impurity=False,\n",
    "               filled=True, class_names=['0','1'])\n",
    "# 这会生成一个tree.dot 文件，可以通过 GraphViz software转换成png图像文件"
   ]
  },
  {
   "cell_type": "code",
   "execution_count": null,
   "metadata": {
    "collapsed": true
   },
   "outputs": [],
   "source": []
  }
 ],
 "metadata": {
  "kernelspec": {
   "display_name": "Python 3",
   "language": "python",
   "name": "python3"
  },
  "language_info": {
   "codemirror_mode": {
    "name": "ipython",
    "version": 3
   },
   "file_extension": ".py",
   "mimetype": "text/x-python",
   "name": "python",
   "nbconvert_exporter": "python",
   "pygments_lexer": "ipython3",
   "version": "3.6.0"
  }
 },
 "nbformat": 4,
 "nbformat_minor": 2
}

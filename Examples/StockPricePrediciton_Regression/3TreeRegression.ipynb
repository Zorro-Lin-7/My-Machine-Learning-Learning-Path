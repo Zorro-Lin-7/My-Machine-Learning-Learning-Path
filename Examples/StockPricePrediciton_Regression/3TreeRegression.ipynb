{
 "cells": [
  {
   "cell_type": "markdown",
   "metadata": {},
   "source": [
    "分类树的构造，通过递归的二分法，不断将node分成左右两个子节点。每个子集中，以贪婪方式搜索最重要的特征组合，及其值作为最佳分裂点。分的子集的好坏，以子集中label的纯度度量，指标为Gini不纯度和信息增益。\n",
    "\n",
    "回归树的生成差不多，只有2点不同：\n",
    "\n",
    "    1.分裂点的品质度量采用两个子集的MSE；一个子集的MSE等于所有targets (即y值)的方差，加权MSE越小，分裂得越好。\n",
    "    2.叶节点的值为 一个终节点的target平均值，而分类中是占多数的labels(1比0多，则label为1）。"
   ]
  },
  {
   "cell_type": "markdown",
   "metadata": {},
   "source": [
    "## 涉及的Python先验："
   ]
  },
  {
   "cell_type": "code",
   "execution_count": 1,
   "metadata": {
    "collapsed": false
   },
   "outputs": [],
   "source": [
    "from IPython.core.interactiveshell import InteractiveShell\n",
    "InteractiveShell.ast_node_interactivity = 'all'"
   ]
  },
  {
   "cell_type": "code",
   "execution_count": 2,
   "metadata": {
    "collapsed": true
   },
   "outputs": [],
   "source": [
    "import numpy as np"
   ]
  },
  {
   "cell_type": "code",
   "execution_count": 3,
   "metadata": {
    "collapsed": false
   },
   "outputs": [
    {
     "data": {
      "text/plain": [
       "1"
      ]
     },
     "execution_count": 3,
     "metadata": {},
     "output_type": "execute_result"
    },
    {
     "data": {
      "text/plain": [
       "2"
      ]
     },
     "execution_count": 3,
     "metadata": {},
     "output_type": "execute_result"
    }
   ],
   "source": [
    "a,b = [1,2]\n",
    "a\n",
    "b"
   ]
  },
  {
   "cell_type": "code",
   "execution_count": 4,
   "metadata": {
    "collapsed": false
   },
   "outputs": [
    {
     "ename": "TypeError",
     "evalue": "'int' object is not iterable",
     "output_type": "error",
     "traceback": [
      "\u001b[0;31m---------------------------------------------------------------------------\u001b[0m",
      "\u001b[0;31mTypeError\u001b[0m                                 Traceback (most recent call last)",
      "\u001b[0;32m<ipython-input-4-196a4dcc55cf>\u001b[0m in \u001b[0;36m<module>\u001b[0;34m()\u001b[0m\n\u001b[0;32m----> 1\u001b[0;31m \u001b[0ma\u001b[0m\u001b[0;34m,\u001b[0m\u001b[0mb\u001b[0m\u001b[0;34m=\u001b[0m\u001b[0;36m1\u001b[0m\u001b[0;34m\u001b[0m\u001b[0m\n\u001b[0m",
      "\u001b[0;31mTypeError\u001b[0m: 'int' object is not iterable"
     ]
    }
   ],
   "source": [
    "a,b=1"
   ]
  },
  {
   "cell_type": "code",
   "execution_count": 5,
   "metadata": {
    "collapsed": false
   },
   "outputs": [
    {
     "data": {
      "text/plain": [
       "array(['Bob', 'Bob'],\n",
       "      dtype='<U4')"
      ]
     },
     "execution_count": 5,
     "metadata": {},
     "output_type": "execute_result"
    },
    {
     "data": {
      "text/plain": [
       "array(['Joe', 'Will', 'Will', 'Joe', 'Joe'],\n",
       "      dtype='<U4')"
      ]
     },
     "execution_count": 5,
     "metadata": {},
     "output_type": "execute_result"
    }
   ],
   "source": [
    "# 布尔值检索\n",
    "names = np.array(['Bob', 'Joe', 'Will', 'Bob', 'Will', 'Joe', 'Joe'])\n",
    "mask = names == 'Bob'\n",
    "names[mask]  # 选出”Bob“\n",
    "names[~mask] # 选出非‘Bob‘"
   ]
  },
  {
   "cell_type": "markdown",
   "metadata": {},
   "source": [
    "## 例：房价预估"
   ]
  },
  {
   "cell_type": "markdown",
   "metadata": {},
   "source": [
    "定义MSE："
   ]
  },
  {
   "cell_type": "code",
   "execution_count": 6,
   "metadata": {
    "collapsed": false
   },
   "outputs": [],
   "source": [
    "def mse(targets):\n",
    "    \"\"\"targets (np.ndarray)\n",
    "    \"\"\"\n",
    "    if targets.size == 0: # 当数据集为空\n",
    "        return 0\n",
    "    return np.var(targets)"
   ]
  },
  {
   "cell_type": "markdown",
   "metadata": {},
   "source": [
    "定义 加权MSE："
   ]
  },
  {
   "cell_type": "code",
   "execution_count": 7,
   "metadata": {
    "collapsed": true
   },
   "outputs": [],
   "source": [
    "def weighted_mse(groups):\n",
    "    \"\"\" Calculate weighted MSE of children after a split\n",
    "    Arg:\n",
    "        groups (list of children, and a child consists a list of targets)\n",
    "    Returns:\n",
    "        float, weighted impurity\n",
    "    \"\"\"\n",
    "    total = sum(len(group) for group in groups)\n",
    "    weighted_sum = 0.0\n",
    "    for group in groups:\n",
    "        weighted_sum += len(group) / float(total) * mse(group)\n",
    "    return weighted_sum"
   ]
  },
  {
   "cell_type": "code",
   "execution_count": 8,
   "metadata": {
    "collapsed": false
   },
   "outputs": [
    {
     "data": {
      "text/plain": [
       "0.66666666666666663"
      ]
     },
     "execution_count": 8,
     "metadata": {},
     "output_type": "execute_result"
    }
   ],
   "source": [
    "mse(np.array([1, 2, 3]))"
   ]
  },
  {
   "cell_type": "code",
   "execution_count": 9,
   "metadata": {
    "collapsed": false
   },
   "outputs": [
    {
     "data": {
      "text/plain": [
       "0.5"
      ]
     },
     "execution_count": 9,
     "metadata": {},
     "output_type": "execute_result"
    }
   ],
   "source": [
    "weighted_mse([np.array([1, 2, 3]), np.array([1, 2])])"
   ]
  },
  {
   "cell_type": "markdown",
   "metadata": {},
   "source": [
    "![house price](house_price.png)"
   ]
  },
  {
   "cell_type": "markdown",
   "metadata": {},
   "source": [
    "穷尽所有（特征, 特征值）pairs，并计算对应的MSE："
   ]
  },
  {
   "cell_type": "code",
   "execution_count": 7,
   "metadata": {
    "collapsed": false
   },
   "outputs": [
    {
     "data": {
      "text/plain": [
       "10333.333333333334"
      ]
     },
     "execution_count": 7,
     "metadata": {},
     "output_type": "execute_result"
    },
    {
     "data": {
      "text/plain": [
       "13000.0"
      ]
     },
     "execution_count": 7,
     "metadata": {},
     "output_type": "execute_result"
    },
    {
     "data": {
      "text/plain": [
       "16000.0"
      ]
     },
     "execution_count": 7,
     "metadata": {},
     "output_type": "execute_result"
    },
    {
     "data": {
      "text/plain": [
       "17500.0"
      ]
     },
     "execution_count": 7,
     "metadata": {},
     "output_type": "execute_result"
    }
   ],
   "source": [
    "# MSE(type, Semi)\n",
    "weighted_mse([np.array([600, 400, 700]), np.array([700, 800])])\n",
    "# MSE(bedrooms, 2)\n",
    "weighted_mse([np.array([700, 400]),np.array([600, 800, 700])])\n",
    "# MSE(bedrooms, 3)\n",
    "weighted_mse([np.array([600, 800]),np.array([700, 400, 700])])\n",
    "# MSE(bedrooms, 4)\n",
    "weighted_mse([np.array([700]),np.array([600,700,800,400])])"
   ]
  },
  {
   "cell_type": "markdown",
   "metadata": {},
   "source": [
    "MSE(type,Semi)最小，所以选（type, Semi）为root进行分裂\n",
    "![](type_semi.png)"
   ]
  },
  {
   "cell_type": "markdown",
   "metadata": {},
   "source": [
    "若深度为1的回归树就够了，即可停止分裂，将左右子集作为叶节点，targets平均值作为叶节点的值。\n",
    "\n",
    "或者，以右子集进一步生成第二层："
   ]
  },
  {
   "cell_type": "code",
   "execution_count": 8,
   "metadata": {
    "collapsed": false
   },
   "outputs": [
    {
     "data": {
      "text/plain": [
       "1666.6666666666665"
      ]
     },
     "execution_count": 8,
     "metadata": {},
     "output_type": "execute_result"
    },
    {
     "data": {
      "text/plain": [
       "15000.0"
      ]
     },
     "execution_count": 8,
     "metadata": {},
     "output_type": "execute_result"
    },
    {
     "data": {
      "text/plain": [
       "6666.6666666666661"
      ]
     },
     "execution_count": 8,
     "metadata": {},
     "output_type": "execute_result"
    }
   ],
   "source": [
    "# MSE(bedrooms, 2)\n",
    "weighted_mse([np.array([400]),np.array([600, 700])])\n",
    "# MSE(bedrooms, 3)\n",
    "weighted_mse([np.array([600]),np.array([400, 700])])\n",
    "# MSE(bedrooms, 4)\n",
    "weighted_mse([np.array([700]),np.array([600, 400])])"
   ]
  },
  {
   "cell_type": "markdown",
   "metadata": {},
   "source": [
    "![](second_level.png)"
   ]
  },
  {
   "cell_type": "markdown",
   "metadata": {},
   "source": [
    "# 代码实现：\n",
    "1. 给定数据集X,y\n",
    "2. get_best_split(X,y) 的得到root node及左、右2个子集（child node）\n",
    "    * 其中涉及的操作有split_node，即分裂动作\n",
    "    * 度量最佳：weighted_mse\n",
    "3. 确认左、右子集作为叶节点还是继续分裂 -split\n",
    "    * 其一或都作为叶节点，get_leaf\n",
    "    * 其一node继续分裂，get_best_split(left_X,left_y)\n",
    "        * 重复3\n",
    "        \n",
    "将以上打包为train_tree函数"
   ]
  },
  {
   "cell_type": "markdown",
   "metadata": {},
   "source": [
    "### 分裂出一个node："
   ]
  },
  {
   "cell_type": "code",
   "execution_count": 20,
   "metadata": {
    "collapsed": true
   },
   "outputs": [],
   "source": [
    "def split_node(X, y, index, value):\n",
    "    \"\"\" Split data set X, y based on a feature and a value\n",
    "    Args:\n",
    "        X, y (numpy.ndarray, data set)\n",
    "        index (int, index of the feature used for splitting)\n",
    "        value (value of the feature used for splitting)\n",
    "    Returns:\n",
    "        list, list (left and right child, a child is in the format of [X, y])\n",
    "    \"\"\"\n",
    "    x_index = X[:, index]\n",
    "    # 判定特征类型\n",
    "    if type(X[0, index]) in [int, float]: # （第1行）第index维，如果是数值特征\n",
    "        mask = x_index >= value  # mask = (x_index >= value)  布尔值检索\n",
    "    else:\n",
    "        mask = x_index == value # 类别特征\n",
    "    # 分裂\n",
    "    left = [X[~mask, :], y[~mask]]  # ~ 即是 !=，\n",
    "    right = [X[mask, :], y[mask]]\n",
    "    return left, right"
   ]
  },
  {
   "cell_type": "markdown",
   "metadata": {
    "collapsed": true
   },
   "source": [
    "### Define greedy search function:\n",
    "试遍所有可能的splits，返回 weighted MSE最小的那个node"
   ]
  },
  {
   "cell_type": "code",
   "execution_count": 12,
   "metadata": {
    "collapsed": true
   },
   "outputs": [],
   "source": [
    "def get_best_split(X, y):\n",
    "    \"\"\" Obtain the best splitting point and resulting children for data set X, y\n",
    "    Args:\n",
    "        X, y (numpy.ndarray, data set)\n",
    "        criterion (gini or entropy)\n",
    "    Returens:\n",
    "        node ( dict {index: index of the features, values: feature value, \n",
    "                children: left and right childern} )\n",
    "    \"\"\"\n",
    "    best_index, best_value, best_score, children = None, None, 1e10, None\n",
    "    for index in range(len(X[0])): # 遍历全部特征，X第一行（向量）的长度即特征数\n",
    "        for value in np.sort(np.unique(X[:, index])): # 遍历第index列的特征值\n",
    "            groups = split_node(X, y, index, value) # 分裂成左、右2个子集 [[X,y],[X,y]]\n",
    "            impurity = weighted_mse([groups[0][1], groups[1][1]]) \n",
    "            if impurity < best_score: # 阈值初始随便设置\n",
    "                best_index, best_value, best_score, children = index, value, impurity, groups\n",
    "    return {'index': best_index,'value':best_value,'children':children}"
   ]
  },
  {
   "cell_type": "markdown",
   "metadata": {},
   "source": [
    "最终叶节点的值："
   ]
  },
  {
   "cell_type": "code",
   "execution_count": 13,
   "metadata": {
    "collapsed": true
   },
   "outputs": [],
   "source": [
    "def get_leaf(targets):\n",
    "    return np.mean(targets)"
   ]
  },
  {
   "cell_type": "markdown",
   "metadata": {},
   "source": [
    "综上，递归分裂函数："
   ]
  },
  {
   "cell_type": "code",
   "execution_count": 14,
   "metadata": {
    "collapsed": true
   },
   "outputs": [],
   "source": [
    "def split(node, max_depth, min_size, depth):\n",
    "    \"\"\" Split children of a node to constant new nodes or assign them terminals\n",
    "    Args:\n",
    "        node (dict, with {'index':0,'value':'semi','children':([array[X,y], array[X,y]])})\n",
    "        max_depth (int, maximal depth of the tree)\n",
    "        min_size (int, minimal samples required to further split a child)\n",
    "        depth (int, current depth of the node)\n",
    "    \"\"\"\n",
    "    left, right = node['children'] #'children':([array[X,y], array[X,y]])\n",
    "    del (node['children'])  # 删除字典中的children key及其value\n",
    "    if left[1].size == 0:\n",
    "        node['right'] = get_leaf(right[1]) \n",
    "        return             # node = {'index':0,'value':'semi','right':750}\n",
    "    if right[1].size == 0:\n",
    "        node['left'] = get_leaf(left[1])\n",
    "        return\n",
    "    if depth >= max_depth:\n",
    "        node['left'],node['right'] = get_leaf(left[1]),get_leaf(right[1])\n",
    "        return\n",
    "    if left[1].size <= min_size: \n",
    "        node['left'] = get_leaf(left[1])\n",
    "    else:  # 左边继续分裂\n",
    "        result = get_best_split(left[0],left[1]) # 得到最佳node\n",
    "        result_left, result_right = result['children'] # 确认左、右是否可为叶节点\n",
    "        if result_left[1].size == 0:\n",
    "            node['left'] = get_leaf(result_right[1])\n",
    "        elif result_right[1].size ==0:\n",
    "            node['left'] = get_leaf(result_left[1])\n",
    "        else:\n",
    "            node['left'] = result # 不为叶节点的，继续分裂，递归split\n",
    "            split(node['left'], max_depth, min_size, depth +1)\n",
    "    if right[1].size <= min_size:\n",
    "        node['right'] = get_leaf(right[1])\n",
    "    else: # 右边继续分裂\n",
    "        result = get_best_split(right[0], right[1])\n",
    "        result_left, result_right =  result['children']\n",
    "        if result_left[1].size == 0:\n",
    "            node['right'] = get_leaf(result_right[1])\n",
    "        elif result_right[1].size == 0:\n",
    "            node['right'] = get_leaf(result_left[1])\n",
    "        else:\n",
    "            node['right'] = result\n",
    "            split(node['right'], max_depth, min_size, depth + 1)"
   ]
  },
  {
   "cell_type": "markdown",
   "metadata": {},
   "source": [
    "### 训练：给定训练集，得到root，基于root 递归分裂："
   ]
  },
  {
   "cell_type": "code",
   "execution_count": 15,
   "metadata": {
    "collapsed": true
   },
   "outputs": [],
   "source": [
    "def train_tree(X_train, y_train, max_depth, min_size):\n",
    "    \"\"\" Construction of a tree starts here\n",
    "    Args:\n",
    "        X_train, y_train (list, list, trianing data)\n",
    "        max_depth (int, maximal depth of the tree)\n",
    "        min_size (int, minimal samples required to further split a child)\n",
    "    \"\"\"\n",
    "    root = get_best_split(X_train, y_train)\n",
    "    split(root, max_depth, min_size, 1)\n",
    "    return root"
   ]
  },
  {
   "cell_type": "markdown",
   "metadata": {},
   "source": [
    "### 测试之前手工计算的数据集："
   ]
  },
  {
   "cell_type": "code",
   "execution_count": 18,
   "metadata": {
    "collapsed": true
   },
   "outputs": [],
   "source": [
    "X_train = np.array([['semi', 3],\n",
    "                    ['detached', 2],\n",
    "                    ['semi', 2],\n",
    "                    ['detached',3],\n",
    "                    ['semi', 4]], dtype=object)\n",
    "y_train = np.array([600,700,400,800,700])"
   ]
  },
  {
   "cell_type": "code",
   "execution_count": 21,
   "metadata": {
    "collapsed": false
   },
   "outputs": [
    {
     "data": {
      "text/plain": [
       "{'index': 0,\n",
       " 'left': {'index': 1, 'left': 400.0, 'right': 650.0, 'value': 3},\n",
       " 'right': 750.0,\n",
       " 'value': 'detached'}"
      ]
     },
     "execution_count": 21,
     "metadata": {},
     "output_type": "execute_result"
    }
   ],
   "source": [
    "tree = train_tree(X_train, y_train, 2, 2)\n",
    "tree"
   ]
  },
  {
   "cell_type": "markdown",
   "metadata": {},
   "source": [
    "# 波士顿房价预测"
   ]
  },
  {
   "cell_type": "code",
   "execution_count": 23,
   "metadata": {
    "collapsed": true
   },
   "outputs": [],
   "source": [
    "from sklearn import datasets\n",
    "boston = datasets.load_boston()\n",
    "\n",
    "num_test = 10\n",
    "X_train = boston.data[:-num_test,:]\n",
    "y_train = boston.target[:-num_test]\n",
    "X_test = boston.data[-num_test:,:]\n",
    "y_test = boston.target[-num_test:]"
   ]
  },
  {
   "cell_type": "code",
   "execution_count": 25,
   "metadata": {
    "collapsed": false
   },
   "outputs": [
    {
     "data": {
      "text/plain": [
       "DecisionTreeRegressor(criterion='mse', max_depth=10, max_features=None,\n",
       "           max_leaf_nodes=None, min_impurity_split=1e-07,\n",
       "           min_samples_leaf=1, min_samples_split=3,\n",
       "           min_weight_fraction_leaf=0.0, presort=False, random_state=None,\n",
       "           splitter='best')"
      ]
     },
     "execution_count": 25,
     "metadata": {},
     "output_type": "execute_result"
    }
   ],
   "source": [
    "from sklearn.tree import DecisionTreeRegressor\n",
    "regressor = DecisionTreeRegressor(max_depth=10, min_samples_split=3)\n",
    "\n",
    "regressor.fit(X_train, y_train)"
   ]
  },
  {
   "cell_type": "code",
   "execution_count": 27,
   "metadata": {
    "collapsed": false
   },
   "outputs": [
    {
     "name": "stdout",
     "output_type": "stream",
     "text": [
      "[ 18.92727273  20.9         20.9         18.92727273  20.9         26.6\n",
      "  20.73076923  30.25        28.2         20.73076923]\n",
      "[ 19.7  18.3  21.2  17.5  16.8  22.4  20.6  23.9  22.   11.9]\n"
     ]
    }
   ],
   "source": [
    "predictions = regressor.predict(X_test)\n",
    "print(predictions)\n",
    "print(y_test)"
   ]
  },
  {
   "cell_type": "markdown",
   "metadata": {},
   "source": [
    "回归森林"
   ]
  },
  {
   "cell_type": "code",
   "execution_count": 29,
   "metadata": {
    "collapsed": false
   },
   "outputs": [
    {
     "data": {
      "text/plain": [
       "RandomForestRegressor(bootstrap=True, criterion='mse', max_depth=10,\n",
       "           max_features='auto', max_leaf_nodes=None,\n",
       "           min_impurity_split=1e-07, min_samples_leaf=1,\n",
       "           min_samples_split=3, min_weight_fraction_leaf=0.0,\n",
       "           n_estimators=100, n_jobs=1, oob_score=False, random_state=None,\n",
       "           verbose=0, warm_start=False)"
      ]
     },
     "execution_count": 29,
     "metadata": {},
     "output_type": "execute_result"
    }
   ],
   "source": [
    "from sklearn.ensemble import RandomForestRegressor\n",
    "regressor = RandomForestRegressor(n_estimators=100, max_depth=10, min_samples_split=3)\n",
    "regressor.fit(X_train, y_train)"
   ]
  },
  {
   "cell_type": "code",
   "execution_count": 30,
   "metadata": {
    "collapsed": false
   },
   "outputs": [
    {
     "name": "stdout",
     "output_type": "stream",
     "text": [
      "[ 18.8210883   20.90296531  21.51391577  20.39428754  21.00655679\n",
      "  25.56203169  21.65525145  28.46614762  27.35573782  21.09353696]\n",
      "[ 19.7  18.3  21.2  17.5  16.8  22.4  20.6  23.9  22.   11.9]\n"
     ]
    }
   ],
   "source": [
    "predictions = regressor.predict(X_test)\n",
    "print(predictions)\n",
    "print(y_test)"
   ]
  }
 ],
 "metadata": {
  "kernelspec": {
   "display_name": "Python 3",
   "language": "python",
   "name": "python3"
  },
  "language_info": {
   "codemirror_mode": {
    "name": "ipython",
    "version": 3
   },
   "file_extension": ".py",
   "mimetype": "text/x-python",
   "name": "python",
   "nbconvert_exporter": "python",
   "pygments_lexer": "ipython3",
   "version": "3.6.0"
  }
 },
 "nbformat": 4,
 "nbformat_minor": 2
}

{
 "cells": [
  {
   "cell_type": "markdown",
   "metadata": {},
   "source": [
    "# Linear Regression\n",
    "target:![](Linear_Regression_target.png)\n",
    "cost function:![](Linear_Regression_cost.png)\n",
    "gradient delta w: ![](Linear_Regression_gradient_w.png)\n",
    "w update: ![](Linear_Regression_w_update.png)\n",
    "predictor: ![](Linear_Regression_predictor.png)"
   ]
  },
  {
   "cell_type": "code",
   "execution_count": 2,
   "metadata": {
    "collapsed": true
   },
   "outputs": [],
   "source": [
    "import numpy as np"
   ]
  },
  {
   "cell_type": "markdown",
   "metadata": {},
   "source": [
    "1.基于当前的w，计算预测值："
   ]
  },
  {
   "cell_type": "code",
   "execution_count": 1,
   "metadata": {
    "collapsed": true
   },
   "outputs": [],
   "source": [
    "def compute_prediction(X, weights):\n",
    "    \"\"\" Compute the prediction y_hat based on current weights\n",
    "    Args:\n",
    "        X (numpy.ndarray)\n",
    "        weights (numpy.ndarray)\n",
    "    Returns:\n",
    "        numpy.ndarray, y_hat of X under weights\n",
    "    \"\"\"\n",
    "    predictions = np.dot(X, weights)\n",
    "    return predictions"
   ]
  },
  {
   "cell_type": "markdown",
   "metadata": {},
   "source": [
    "2.用梯度下降一步，更新w向量：![](Linear_Regression_w_update.png)"
   ]
  },
  {
   "cell_type": "code",
   "execution_count": 3,
   "metadata": {
    "collapsed": true
   },
   "outputs": [],
   "source": [
    "def update_weights_gd(X_train, y_train, weights, learning_rate):\n",
    "    \"\"\" Update weights by one step\n",
    "    Args:\n",
    "        X_train, y_train (numpy.ndarray, training data set)\n",
    "        weights (numpy.ndarray)\n",
    "        learning_rate (float)\n",
    "    Returns:\n",
    "        numpy.ndarray, updated weights\n",
    "    \"\"\"\n",
    "    predictions = compute_prediction(X_train, weights)\n",
    "    weights_delta = np.dot(X_train.T, y_train-predictions)\n",
    "    m = y_train.shape[0]\n",
    "    weights += learning_rate / float(m) * weights_delta\n",
    "    return weights"
   ]
  },
  {
   "cell_type": "markdown",
   "metadata": {},
   "source": [
    "3.cost function: ![](Linear_Regression_cost.png)"
   ]
  },
  {
   "cell_type": "code",
   "execution_count": 4,
   "metadata": {
    "collapsed": true
   },
   "outputs": [],
   "source": [
    "def compute_cost(X, y, weights):\n",
    "    \"\"\" Compute the cost J(w)\n",
    "    Args:\n",
    "        X, y (numpy.ndarray, data set)\n",
    "        weights (numpy.ndarray)\n",
    "    Returns:\n",
    "        float\n",
    "    \"\"\"\n",
    "    predictions = compute_prediction(X, weights)\n",
    "    cost = np.mean((predictions - y) ** 2 / 2.0)\n",
    "    return cost"
   ]
  },
  {
   "cell_type": "markdown",
   "metadata": {},
   "source": [
    "联合以上的训练函数：梯度下降多步，多次更新得到最佳w"
   ]
  },
  {
   "cell_type": "code",
   "execution_count": 5,
   "metadata": {
    "collapsed": false
   },
   "outputs": [],
   "source": [
    "def train_linear_regression(X_train, y_train, max_iter,learning_rate, fit_intercept=False,every=100):\n",
    "    \"\"\" Train a linear regression model with gradient descent\n",
    "    Args:\n",
    "        X_train, y_train (numpy.ndarray, training data set)\n",
    "        max_iter (int, number of iterations)\n",
    "        learning_rate (float)\n",
    "        fit_intercept (bool, with an intercept w0 or not)\n",
    "    Returns:\n",
    "        numpy.ndarray, learning weights\n",
    "    \"\"\"\n",
    "    if fit_intercept:\n",
    "        intercept = np.ones((X_train.shape[0], 1))\n",
    "        X_train = np.hstack((intercept, X_train)) # 加列，w0维\n",
    "    weights = np.zeros(X_train.shape[1])\n",
    "    for iteration in range(max_iter):\n",
    "        weights = update_weights_gd(X_train, y_train, weights, learning_rate)\n",
    "        if iteration % every == 0:\n",
    "            print(compute_cost(X_train, y_train, weights))\n",
    "    return weights"
   ]
  },
  {
   "cell_type": "markdown",
   "metadata": {},
   "source": [
    "预测新样本："
   ]
  },
  {
   "cell_type": "code",
   "execution_count": 6,
   "metadata": {
    "collapsed": true
   },
   "outputs": [],
   "source": [
    "def predict(X, weights):\n",
    "    if X.shape[1] == weights.shape[0] -1:  # 如果有w0，那么去掉w0后，X维数与 w 数相等\n",
    "        intercept = np.ones((X.shape[0], 1))\n",
    "        X = np.hstack((intercept, X))\n",
    "    return compute_prediction(X, weights)"
   ]
  },
  {
   "cell_type": "markdown",
   "metadata": {},
   "source": [
    "### 测试"
   ]
  },
  {
   "cell_type": "code",
   "execution_count": 7,
   "metadata": {
    "collapsed": true
   },
   "outputs": [],
   "source": [
    "X_train = np.array([[6], [2], [3], [4], [1], [5], [2], [6], [4], [7]])\n",
    "\n",
    "y_train = np.array([5.5, 1.6, 2.2, 3.7, 0.8, 5.2, 1.5, 5.3, 4.4, 6.8])"
   ]
  },
  {
   "cell_type": "code",
   "execution_count": 8,
   "metadata": {
    "collapsed": false
   },
   "outputs": [
    {
     "name": "stdout",
     "output_type": "stream",
     "text": [
      "5.571972628\n"
     ]
    }
   ],
   "source": [
    "weights = train_linear_regression(X_train, y_train, max_iter=100,\n",
    "                                  learning_rate=0.01, fit_intercept=True)"
   ]
  },
  {
   "cell_type": "markdown",
   "metadata": {},
   "source": [
    "测试模型泛化能力："
   ]
  },
  {
   "cell_type": "code",
   "execution_count": 9,
   "metadata": {
    "collapsed": true
   },
   "outputs": [],
   "source": [
    "X_test = np.array([[1.3], [3.5], [5.2], [2.8]])"
   ]
  },
  {
   "cell_type": "code",
   "execution_count": 10,
   "metadata": {
    "collapsed": false
   },
   "outputs": [],
   "source": [
    "predictions = predict(X_test, weights)"
   ]
  },
  {
   "cell_type": "code",
   "execution_count": 11,
   "metadata": {
    "collapsed": false
   },
   "outputs": [
    {
     "data": {
      "image/png": "[encoded data removed]",
      "text/plain": [
       "<matplotlib.figure.Figure at 0x112212160>"
      ]
     },
     "metadata": {},
     "output_type": "display_data"
    }
   ],
   "source": [
    "import matplotlib.pyplot as plt\n",
    "%matplotlib inline\n",
    "\n",
    "plt.scatter(X_train[:,0],y_train, marker='o', c='b')\n",
    "plt.scatter(X_test[:,0], predictions, marker='*', c='k')\n",
    "plt.xlabel('x')\n",
    "plt.ylabel('y')\n",
    "plt.show()"
   ]
  },
  {
   "cell_type": "markdown",
   "metadata": {},
   "source": [
    "## 下面试试另一个数据集"
   ]
  },
  {
   "cell_type": "code",
   "execution_count": 12,
   "metadata": {
    "collapsed": false
   },
   "outputs": [
    {
     "name": "stdout",
     "output_type": "stream",
     "text": [
      "(442, 10)\n"
     ]
    }
   ],
   "source": [
    "from sklearn import datasets\n",
    "diabetes = datasets.load_diabetes()\n",
    "print(diabetes.data.shape)"
   ]
  },
  {
   "cell_type": "code",
   "execution_count": 13,
   "metadata": {
    "collapsed": true
   },
   "outputs": [],
   "source": [
    "num_test = 30 # 最后30个样本作测试集\n",
    "X_train = diabetes.data[:-num_test, :]\n",
    "y_train = diabetes.target[:-num_test]"
   ]
  },
  {
   "cell_type": "code",
   "execution_count": 14,
   "metadata": {
    "collapsed": false
   },
   "outputs": [
    {
     "name": "stdout",
     "output_type": "stream",
     "text": [
      "2960.1229915\n",
      "1539.55080927\n",
      "1487.02495658\n",
      "1480.27644342\n",
      "1479.01567047\n",
      "1478.57496091\n",
      "1478.29639883\n",
      "1478.06282572\n",
      "1477.84756968\n",
      "1477.64304737\n"
     ]
    }
   ],
   "source": [
    "weights = train_linear_regression(X_train, y_train, max_iter=5000,\n",
    "                                  learning_rate=1, fit_intercept=True,every=500)"
   ]
  },
  {
   "cell_type": "code",
   "execution_count": 15,
   "metadata": {
    "collapsed": true
   },
   "outputs": [],
   "source": [
    "X_test = diabetes.data[-num_test:, :]\n",
    "y_test = diabetes.target[-num_test:]"
   ]
  },
  {
   "cell_type": "code",
   "execution_count": 16,
   "metadata": {
    "collapsed": false
   },
   "outputs": [
    {
     "name": "stdout",
     "output_type": "stream",
     "text": [
      "[ 232.22305668  123.87481969  166.12805033  170.23901231  228.12868839\n",
      "  154.95746522  101.09058779   87.33631249  143.68332296  190.29353122\n",
      "  198.00676871  149.63039042  169.56066651  109.01983998  161.98477191\n",
      "  133.00870377  260.1831988   101.52551082  115.76677836  120.7338523\n",
      "  219.62602446   62.21227353  136.29989073  122.27908721   55.14492975\n",
      "  191.50339388  105.685612    126.25915035  208.99755875   47.66517424]\n"
     ]
    }
   ],
   "source": [
    "predictions = predict(X_test, weights)\n",
    "print(predictions)"
   ]
  },
  {
   "cell_type": "code",
   "execution_count": 17,
   "metadata": {
    "collapsed": false
   },
   "outputs": [
    {
     "name": "stdout",
     "output_type": "stream",
     "text": [
      "[ 261.  113.  131.  174.  257.   55.   84.   42.  146.  212.  233.   91.\n",
      "  111.  152.  120.   67.  310.   94.  183.   66.  173.   72.   49.   64.\n",
      "   48.  178.  104.  132.  220.   57.]\n"
     ]
    }
   ],
   "source": [
    "print(y_test)"
   ]
  },
  {
   "cell_type": "code",
   "execution_count": 19,
   "metadata": {
    "collapsed": false
   },
   "outputs": [
    {
     "data": {
      "image/png": "[encoded data removed]",
      "text/plain": [
       "<matplotlib.figure.Figure at 0x117c7eda0>"
      ]
     },
     "metadata": {},
     "output_type": "display_data"
    }
   ],
   "source": [
    "plt.scatter(predictions, y_test)\n",
    "plt.plot(range(35,270),range(35,270),c='r')\n",
    "plt.show()"
   ]
  },
  {
   "cell_type": "markdown",
   "metadata": {},
   "source": [
    "### SGDRegression:"
   ]
  },
  {
   "cell_type": "code",
   "execution_count": 20,
   "metadata": {
    "collapsed": false
   },
   "outputs": [
    {
     "name": "stdout",
     "output_type": "stream",
     "text": [
      "[ 232.91769165  126.85494137  170.10367236  172.57923323  228.38605863\n",
      "  156.75435403  105.71718456   91.2615635   147.52655912  192.80695213\n",
      "  199.06972106  153.33748946  172.04874909  110.4570581   166.2439146\n",
      "  136.02831011  261.21659482  105.00907156  119.49003632  124.18292536\n",
      "  221.00280014   67.32906574  139.3441837   125.13016114   59.28931165\n",
      "  192.98524799  111.102523    130.18410598  209.01349025   53.08477799]\n",
      "0.61807028379\n"
     ]
    }
   ],
   "source": [
    "from sklearn.linear_model import SGDRegressor\n",
    "regressor = SGDRegressor(loss='squared_loss', #平方误差，logistic采用log\n",
    "                         penalty='l2', alpha=0.0001,# 惩罚项，及惩罚系数\n",
    "                         learning_rate='constant',eta0=0.01, n_iter=1000)\n",
    "regressor.fit(X_train, y_train)\n",
    "predictions = regressor.predict(X_test)\n",
    "print(predictions)\n",
    "print(regressor.score(X_test, y_test))"
   ]
  },
  {
   "cell_type": "markdown",
   "metadata": {},
   "source": [
    "### 性能度量"
   ]
  },
  {
   "cell_type": "code",
   "execution_count": 21,
   "metadata": {
    "collapsed": true
   },
   "outputs": [],
   "source": [
    "# Measuring model performance after hyperparameter tuning with grid search\n",
    "diabetes = datasets.load_diabetes()\n",
    "num_test = 30\n",
    "X_train = diabetes.data[:-num_test,:]\n",
    "y_train = diabetes.target[:-num_test]\n",
    "X_test = diabetes.data[-num_test:]\n",
    "y_test = diabetes.target[-num_test:]"
   ]
  },
  {
   "cell_type": "code",
   "execution_count": 22,
   "metadata": {
    "collapsed": false
   },
   "outputs": [
    {
     "data": {
      "text/plain": [
       "GridSearchCV(cv=3, error_score='raise',\n",
       "       estimator=SGDRegressor(alpha=0.0001, average=False, epsilon=0.1, eta0=0.01,\n",
       "       fit_intercept=True, l1_ratio=0.15, learning_rate='constant',\n",
       "       loss='squared_loss', n_iter=5, penalty='l2', power_t=0.25,\n",
       "       random_state=None, shuffle=True, verbose=0, warm_start=False),\n",
       "       fit_params={}, iid=True, n_jobs=1,\n",
       "       param_grid={'alpha': [1e-07, 1e-06, 1e-05], 'penalty': ['l1', 'l2', 'None'], 'eta0': [0.01, 0.005, 0.1, 1], 'n_iter': [300, 1000, 3000]},\n",
       "       pre_dispatch='2*n_jobs', refit=True, return_train_score=True,\n",
       "       scoring=None, verbose=0)"
      ]
     },
     "execution_count": 22,
     "metadata": {},
     "output_type": "execute_result"
    }
   ],
   "source": [
    "param_grid = {\n",
    "    'alpha': [1e-07, 1e-06, 1e-05],\n",
    "    'penalty': ['l1','l2','None'],\n",
    "    'eta0': [0.01, 0.005, 0.1, 1],\n",
    "    'n_iter': [300, 1000, 3000]\n",
    "}\n",
    "\n",
    "from sklearn.model_selection import GridSearchCV\n",
    "regressor = SGDRegressor(loss='squared_loss', learning_rate='constant')\n",
    "grid_search = GridSearchCV(regressor, param_grid, cv=3)\n",
    "grid_search.fit(X_train,y_train)"
   ]
  },
  {
   "cell_type": "code",
   "execution_count": 23,
   "metadata": {
    "collapsed": false
   },
   "outputs": [
    {
     "name": "stdout",
     "output_type": "stream",
     "text": [
      "{'alpha': 1e-06, 'eta0': 0.01, 'n_iter': 300, 'penalty': 'None'}\n"
     ]
    }
   ],
   "source": [
    "print(grid_search.best_params_)\n",
    "regressor_best = grid_search.best_estimator_"
   ]
  },
  {
   "cell_type": "code",
   "execution_count": 25,
   "metadata": {
    "collapsed": false
   },
   "outputs": [],
   "source": [
    "regressor_best.score(X_test, y_test)\n",
    "predictions = regressor_best.predict(X_test)"
   ]
  },
  {
   "cell_type": "code",
   "execution_count": 27,
   "metadata": {
    "collapsed": false
   },
   "outputs": [
    {
     "name": "stdout",
     "output_type": "stream",
     "text": [
      "MSE:  1904.99592924\n",
      "MAE:  34.8987433792\n",
      "r2:  0.630256544426\n"
     ]
    }
   ],
   "source": [
    "predictions = regressor_best.predict(X_test)\n",
    "from sklearn.metrics import mean_squared_error, mean_absolute_error, r2_score\n",
    "print('MSE: ',mean_squared_error(y_test, predictions))\n",
    "print('MAE: ',mean_absolute_error(y_test, predictions))\n",
    "print('r2: ',r2_score(y_test, predictions))"
   ]
  }
 ],
 "metadata": {
  "kernelspec": {
   "display_name": "Python 3",
   "language": "python",
   "name": "python3"
  },
  "language_info": {
   "codemirror_mode": {
    "name": "ipython",
    "version": 3
   },
   "file_extension": ".py",
   "mimetype": "text/x-python",
   "name": "python",
   "nbconvert_exporter": "python",
   "pygments_lexer": "ipython3",
   "version": "3.6.0"
  }
 },
 "nbformat": 4,
 "nbformat_minor": 2
}

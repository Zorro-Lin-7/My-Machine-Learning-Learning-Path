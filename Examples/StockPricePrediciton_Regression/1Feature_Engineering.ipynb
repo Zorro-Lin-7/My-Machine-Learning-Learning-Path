{
 "cells": [
  {
   "cell_type": "markdown",
   "metadata": {},
   "source": [
    "回归：outputs是连续的值"
   ]
  },
  {
   "cell_type": "markdown",
   "metadata": {},
   "source": [
    "# 特征工程"
   ]
  },
  {
   "cell_type": "markdown",
   "metadata": {},
   "source": [
    "当涉及机器学习算法时，第一个要问的问题是哪些features可用，或者预测变量是什么。用于预测未来DJIA价格的driving factors，此处的收盘价，显然包括历史的和当前的开盘价以及历史表现（高、低、成交量）。\n",
    "\n",
    "注意，当前或同一天的表现（高、低、成交量）不应该包含进来，因为我们不可能预测股票交易的最高或最低价位，以及在市场收盘前交易的股票总数。\n",
    "\n",
    "只用这4个指标来预测收盘价似乎不靠谱，而且可能导致欠拟合。因此，我们需要考虑如何增加features和预测的效力。机器学习中，特征工程是在现有特征的基础上新建domain-specific features的过程，以提高算法性能。\n",
    "\n",
    "特征工程要求充分的domain-knowledge，难度可能很大也很耗时间。\n",
    "\n",
    "事实上，用于解决机器学习问题的features通常是不直接可得的，需要特别设计、构建。例如垃圾邮件检测和新闻分类中的词频、tf-idf。因此，特征工程是机器学习中的基石，解决实际问题时，我们常常要花大量功夫在特征工程上。\n",
    "\n",
    "投资决策时，投资人通常不会某一天的价格，而是看一段时期内的历史价格。因此，在我们的股价预测中，我们可以计算过去一周的平均收盘价，过往一个月的，过往一年的，作为3个新特征。我们也可以自定义时间窗口的大小，比如过往1季度，过往半年。\n",
    "在上面3个平均价格特征上，我们可以通过计算每对特征的比例来得到关联的价格走势\n",
    "\n",
    "投资决策时，投资者通常会在一段时间内查看历史价格，而不只是前一天的价格。因此，在我们的股价预测中，我们可以计算过去一周（五天）的平均收盘价，过去一个月，以及过去一年，作为三个新特征。我们也可以自定义时间窗口的大小，如过去一季度，过去六个月。在这三个平均价格特征之上，我们可以通过计算三个不同时间范围中的平均价格之间的比率来产生与价格趋势相关的新特性。例如，过去一周的平均价格与过去一年的平均价格之比。除了价格之外，成交量也是投资者分析的另一个重要因素。类似地，我们可以通过计算多个不同时间范围的平均成交量和每对平均值之间的比率来生成新的基于成交量的特征。\n",
    "\n",
    "除了在时间窗口内的历史平均值，投资者还大量考虑股票波动性。波动性是指给定股票或指数随时间变化的程度。从统计上讲，基本上是收盘价的标准差。我们可以通过计算特定时间范围内收盘价的标准差，以及交易量的标准差，生成新的特征集。类似的每对标准偏差值之间的比率可以包含在我们的工程特征池中。\n",
    "\n",
    "回报是投资者密切关注的重要金融指标。收益率是股票/指数在某一特定时期内收盘价的百分比。例如，每日收益和年回报率是我们经常听到的财务术语。它们的计算如下：\n",
    "![return](return.png)\n",
    "\n",
    "移动平均：![movingAvg](movingAVG.png)"
   ]
  },
  {
   "cell_type": "markdown",
   "metadata": {},
   "source": [
    "# 数据获得和特征生成\n",
    "此处用到Python 库：quandl(https://www.quandl.com/tools/python)"
   ]
  },
  {
   "cell_type": "code",
   "execution_count": 1,
   "metadata": {
    "collapsed": true
   },
   "outputs": [],
   "source": [
    "import quandl"
   ]
  },
  {
   "cell_type": "code",
   "execution_count": null,
   "metadata": {
    "collapsed": true
   },
   "outputs": [],
   "source": [
    "#原数据集不存在了，自己手动下载https://finance.yahoo.com/quote/%5EDJI/history?p=%5EDJI\n",
    "#mydata = quandl.get(\"YAHOO/INDEX_DJI\", start_date=\"2005-12-01\", end_date=\"2005-12-05\")"
   ]
  },
  {
   "cell_type": "code",
   "execution_count": null,
   "metadata": {
    "collapsed": true
   },
   "outputs": [],
   "source": [
    "# authtoken = ''\n",
    "\n",
    "#def get_data_quandl(symbol, start_date,end_date):\n",
    "#    data = quandl.get(symbol, start_date=start_date, end_date=end_date, authtoken=authtoken)\n",
    "#    return data"
   ]
  },
  {
   "cell_type": "code",
   "execution_count": 1,
   "metadata": {
    "collapsed": true
   },
   "outputs": [],
   "source": [
    "import pandas as pd"
   ]
  },
  {
   "cell_type": "code",
   "execution_count": 2,
   "metadata": {
    "collapsed": true
   },
   "outputs": [],
   "source": [
    "mydata = pd.read_csv('^DJI.csv')"
   ]
  },
  {
   "cell_type": "code",
   "execution_count": 3,
   "metadata": {
    "collapsed": false
   },
   "outputs": [
    {
     "data": {
      "text/html": [
       "<div>\n",
       "<style>\n",
       "    .dataframe thead tr:only-child th {\n",
       "        text-align: right;\n",
       "    }\n",
       "\n",
       "    .dataframe thead th {\n",
       "        text-align: left;\n",
       "    }\n",
       "\n",
       "    .dataframe tbody tr th {\n",
       "        vertical-align: top;\n",
       "    }\n",
       "</style>\n",
       "<table border=\"1\" class=\"dataframe\">\n",
       "  <thead>\n",
       "    <tr style=\"text-align: right;\">\n",
       "      <th></th>\n",
       "      <th>Date</th>\n",
       "      <th>Open</th>\n",
       "      <th>High</th>\n",
       "      <th>Low</th>\n",
       "      <th>Close</th>\n",
       "      <th>Adj Close</th>\n",
       "      <th>Volume</th>\n",
       "    </tr>\n",
       "  </thead>\n",
       "  <tbody>\n",
       "    <tr>\n",
       "      <th>0</th>\n",
       "      <td>1987-12-31</td>\n",
       "      <td>1927.390015</td>\n",
       "      <td>1951.260010</td>\n",
       "      <td>1912.630005</td>\n",
       "      <td>1938.829956</td>\n",
       "      <td>1938.829956</td>\n",
       "      <td>15360000</td>\n",
       "    </tr>\n",
       "    <tr>\n",
       "      <th>1</th>\n",
       "      <td>1988-01-04</td>\n",
       "      <td>1952.589966</td>\n",
       "      <td>2030.010010</td>\n",
       "      <td>1950.760010</td>\n",
       "      <td>2015.250000</td>\n",
       "      <td>2015.250000</td>\n",
       "      <td>20880000</td>\n",
       "    </tr>\n",
       "    <tr>\n",
       "      <th>2</th>\n",
       "      <td>1988-01-05</td>\n",
       "      <td>2056.370117</td>\n",
       "      <td>2075.270020</td>\n",
       "      <td>2021.390015</td>\n",
       "      <td>2031.500000</td>\n",
       "      <td>2031.500000</td>\n",
       "      <td>27200000</td>\n",
       "    </tr>\n",
       "    <tr>\n",
       "      <th>3</th>\n",
       "      <td>1988-01-06</td>\n",
       "      <td>2036.469971</td>\n",
       "      <td>2058.189941</td>\n",
       "      <td>2012.770020</td>\n",
       "      <td>2037.800049</td>\n",
       "      <td>2037.800049</td>\n",
       "      <td>18800000</td>\n",
       "    </tr>\n",
       "    <tr>\n",
       "      <th>4</th>\n",
       "      <td>1988-01-07</td>\n",
       "      <td>2019.890015</td>\n",
       "      <td>2061.510010</td>\n",
       "      <td>2004.640015</td>\n",
       "      <td>2051.889893</td>\n",
       "      <td>2051.889893</td>\n",
       "      <td>21370000</td>\n",
       "    </tr>\n",
       "  </tbody>\n",
       "</table>\n",
       "</div>"
      ],
      "text/plain": [
       "         Date         Open         High          Low        Close  \\\n",
       "0  1987-12-31  1927.390015  1951.260010  1912.630005  1938.829956   \n",
       "1  1988-01-04  1952.589966  2030.010010  1950.760010  2015.250000   \n",
       "2  1988-01-05  2056.370117  2075.270020  2021.390015  2031.500000   \n",
       "3  1988-01-06  2036.469971  2058.189941  2012.770020  2037.800049   \n",
       "4  1988-01-07  2019.890015  2061.510010  2004.640015  2051.889893   \n",
       "\n",
       "     Adj Close    Volume  \n",
       "0  1938.829956  15360000  \n",
       "1  2015.250000  20880000  \n",
       "2  2031.500000  27200000  \n",
       "3  2037.800049  18800000  \n",
       "4  2051.889893  21370000  "
      ]
     },
     "execution_count": 3,
     "metadata": {},
     "output_type": "execute_result"
    }
   ],
   "source": [
    "mydata.head()"
   ]
  },
  {
   "cell_type": "markdown",
   "metadata": {},
   "source": [
    "### 数据的获得"
   ]
  },
  {
   "cell_type": "code",
   "execution_count": 4,
   "metadata": {
    "collapsed": false
   },
   "outputs": [],
   "source": [
    "def get_data_from(data, start_date, end_date):\n",
    "    data_raw = data[(data.Date >= start_date) & (mydata.Date <= end_date)]\n",
    "    return data_raw"
   ]
  },
  {
   "cell_type": "markdown",
   "metadata": {},
   "source": [
    "## 特征生成函数："
   ]
  },
  {
   "cell_type": "markdown",
   "metadata": {},
   "source": [
    "### 涉及的methods："
   ]
  },
  {
   "cell_type": "code",
   "execution_count": 16,
   "metadata": {
    "collapsed": true
   },
   "outputs": [],
   "source": [
    "head=mydata.head()"
   ]
  },
  {
   "cell_type": "code",
   "execution_count": 21,
   "metadata": {
    "collapsed": false
   },
   "outputs": [
    {
     "data": {
      "text/plain": [
       "0    1927.390015\n",
       "1    1952.589966\n",
       "2    2056.370117\n",
       "3    2036.469971\n",
       "4    2019.890015\n",
       "Name: Open, dtype: float64"
      ]
     },
     "execution_count": 21,
     "metadata": {},
     "output_type": "execute_result"
    }
   ],
   "source": [
    "head['Open']"
   ]
  },
  {
   "cell_type": "code",
   "execution_count": 22,
   "metadata": {
    "collapsed": false
   },
   "outputs": [
    {
     "data": {
      "text/plain": [
       "0            NaN\n",
       "1    1927.390015\n",
       "2    1952.589966\n",
       "3    2056.370117\n",
       "4    2036.469971\n",
       "Name: Open, dtype: float64"
      ]
     },
     "execution_count": 22,
     "metadata": {},
     "output_type": "execute_result"
    }
   ],
   "source": [
    "head.Open.shift(1) # 移动索引，即前一天；shift(5)即前5天。shift(5).shift(1)，前5天的前1天"
   ]
  },
  {
   "cell_type": "code",
   "execution_count": 31,
   "metadata": {
    "collapsed": false,
    "scrolled": true
   },
   "outputs": [
    {
     "name": "stderr",
     "output_type": "stream",
     "text": [
      "/Users/linzhun/anaconda/lib/python3.6/site-packages/ipykernel/__main__.py:3: FutureWarning: pd.rolling_mean is deprecated for Series and will be removed in a future version, replace with \n",
      "\tSeries.rolling(window=5,center=False).mean()\n",
      "  app.launch_new_instance()\n"
     ]
    },
    {
     "data": {
      "text/plain": [
       "7474             NaN\n",
       "7475             NaN\n",
       "7476             NaN\n",
       "7477             NaN\n",
       "7478             NaN\n",
       "7479    21865.593750\n",
       "7480    21900.371875\n",
       "7481    21889.353906\n",
       "7482    21877.808203\n",
       "7483    21856.278125\n",
       "Name: Close, dtype: float64"
      ]
     },
     "execution_count": 31,
     "metadata": {},
     "output_type": "execute_result"
    }
   ],
   "source": [
    "#Moving mean\n",
    "tail = mydata.tail(10)\n",
    "pd.rolling_mean(tail['Close'], window=5).shift(1)"
   ]
  },
  {
   "cell_type": "code",
   "execution_count": 32,
   "metadata": {
    "collapsed": false
   },
   "outputs": [
    {
     "data": {
      "text/plain": [
       "7474             NaN\n",
       "7475             NaN\n",
       "7476             NaN\n",
       "7477             NaN\n",
       "7478             NaN\n",
       "7479    21865.593750\n",
       "7480    21900.371875\n",
       "7481    21889.353906\n",
       "7482    21877.808203\n",
       "7483    21856.278125\n",
       "Name: Close, dtype: float64"
      ]
     },
     "execution_count": 32,
     "metadata": {},
     "output_type": "execute_result"
    }
   ],
   "source": [
    "tail.Close.rolling(window=5).mean().shift(1)"
   ]
  },
  {
   "cell_type": "markdown",
   "metadata": {},
   "source": [
    "### 生成函数"
   ]
  },
  {
   "cell_type": "code",
   "execution_count": 8,
   "metadata": {
    "collapsed": true
   },
   "outputs": [],
   "source": [
    "def generate_features(df):\n",
    "    \"\"\" Generate features for a stock/index based on historical price and performance\n",
    "    Args:\n",
    "        df (dataframe with columns 'Open', 'Close', 'High', 'Low', 'Volume', 'Adjusted Close')\n",
    "    Returns:\n",
    "        dataframe, data set with new features\n",
    "    \"\"\"\n",
    "    df_new = pd.DataFrame()\n",
    "    # 6个初始特征\n",
    "    df_new['open'] = df['Open']  # 开盘价\n",
    "    df_new['open_1'] = df['Open'].shift(1)  # 前一天的开盘价。 当天是不可知的。\n",
    "    df_new['close_1'] = df['Close'].shift(1) # 前一天的收盘价\n",
    "    df_new['high_1'] = df['High'].shift(1)  # 前一天的最高价\n",
    "    df_new['low_1'] = df['Low'].shift(1)    # 前一天的最低价\n",
    "    df_new['volume_1'] = df['Volume'].shift(1) # 前一天的成交量\n",
    "    \n",
    "    # 基于上6个生成额外的31个初始特征\n",
    "    # average price\n",
    "    df_new['avg_price_5'] = df.Close.rolling(window=5).mean().shift(1) # 前一周（5天）\n",
    "    df_new['avg_price_30'] = df.Close.rolling(window=21).mean().shift(1) # 前一月（21天）\n",
    "    df_new['avg_price_365'] = df.Close.rolling(window=252).mean().shift(1)\n",
    "    df_new['ratio_avg_price_5_30'] = df_new['avg_price_5'] / df_new['avg_price_30']\n",
    "    df_new['ratio_avg_price_5_365'] = df_new['avg_price_5'] / df_new['avg_price_365']\n",
    "    df_new['ratio_avg_price_30_365'] = df_new['avg_price_30'] / df_new['avg_price_365']\n",
    "    # average volume\n",
    "    df_new['avg_volume_5'] = df.Volume.rolling(window=5).mean().shift(1)\n",
    "    df_new['avg_volume_30'] = df.Volume.rolling(window=21).mean().shift(1)\n",
    "    df_new['avg_volume_365'] = df.Volume.rolling(window=252).mean().shift(1)\n",
    "    df_new['ratio_avg_volume_5_30'] = df_new['avg_volume_5'] / df_new['avg_volume_30']\n",
    "    df_new['ratio_avg_volume_5_365'] = df_new['avg_volume_5'] / df_new['avg_volume_365']\n",
    "    df_new['ratio_avg_volume_30_365'] = df_new['avg_volume_30'] / df_new['avg_volume_365']\n",
    "    #standard deviation of prices\n",
    "    df_new['std_price_5'] = df.Close.rolling(window=5).std().shift(1)\n",
    "    df_new['std_price_30'] = df.Close.rolling(window=21).std().shift(1)\n",
    "    df_new['std_price_365'] = df.Close.rolling(window=252).std().shift(1)\n",
    "    df_new['ratio_std_price_5_30'] = df_new['std_price_5'] / df_new['std_price_30']\n",
    "    df_new['ratio_std_price_5_365'] = df_new['std_price_5'] / df_new['std_price_365']\n",
    "    df_new['ratio_std_price_30_365'] = df_new['std_price_30'] / df_new['std_price_365']\n",
    "    # standard deviation of volumes\n",
    "    df_new['std_volume_5'] = df.Volume.rolling(window=5).std().shift(1)\n",
    "    df_new['std_volume_30'] = df.Volume.rolling(window=30).std().shift(1)\n",
    "    df_new['std_volume_365'] = df.Volume.rolling(window=365).std().shift(1)\n",
    "    df_new['ratio_std_volume_5_30'] = df_new['std_volume_5'] / df_new['std_volume_30']\n",
    "    df_new['ratio_std_volume_5_365'] = df_new['std_volume_5'] / df_new['std_volume_365']\n",
    "    df_new['ratio_std_volume_30_365'] = df_new['std_volume_30'] / df_new['std_volume_365']\n",
    "    \n",
    "    ## return  （当天价格-前一天价格）／前一天价格.shift(1) 这是当天，需要再shift(1)\n",
    "    df_new['return_1'] = ((df.Close - df.Close.shift(1)) / df.Close.shift(1)).shift(1)\n",
    "    df_new['return_5'] = ((df.Close - df.Close.shift(5)) / df.Close.shift(5)).shift(1)\n",
    "    df_new['return_30'] = ((df.Close - df.Close.shift(21)) / df.Close.shift(21)).shift(1)\n",
    "    df_new['return_365'] = ((df.Close - df.Close.shift(252)) / df.Close.shift(252)).shift(1)\n",
    "    df_new['moving_avg_5'] = df_new['return_1'].rolling(window=5).mean()\n",
    "    df_new['moving_avg_30'] = df_new['return_1'].rolling(window=21).mean()\n",
    "    df_new['moving_avg_365'] = df_new['return_1'].rolling(window=252).mean()\n",
    "    # the target\n",
    "    df_new['close'] = df['Close']\n",
    "    df_new = df_new.dropna(axis=0)\n",
    "    return df_new"
   ]
  },
  {
   "cell_type": "markdown",
   "metadata": {},
   "source": [
    "# 1988-2015的数据："
   ]
  },
  {
   "cell_type": "code",
   "execution_count": 13,
   "metadata": {
    "collapsed": false
   },
   "outputs": [],
   "source": [
    "data_raw =  get_data_from(mydata,'1988-01-01','2015-12-31')"
   ]
  },
  {
   "cell_type": "code",
   "execution_count": 25,
   "metadata": {
    "collapsed": false
   },
   "outputs": [
    {
     "data": {
      "text/plain": [
       "(7058, 7)"
      ]
     },
     "execution_count": 25,
     "metadata": {},
     "output_type": "execute_result"
    }
   ],
   "source": [
    "data_raw.shape"
   ]
  },
  {
   "cell_type": "code",
   "execution_count": 14,
   "metadata": {
    "collapsed": true
   },
   "outputs": [],
   "source": [
    "data=generate_features(data_raw)"
   ]
  },
  {
   "cell_type": "code",
   "execution_count": 15,
   "metadata": {
    "collapsed": false
   },
   "outputs": [
    {
     "data": {
      "text/html": [
       "<div>\n",
       "<style>\n",
       "    .dataframe thead tr:only-child th {\n",
       "        text-align: right;\n",
       "    }\n",
       "\n",
       "    .dataframe thead th {\n",
       "        text-align: left;\n",
       "    }\n",
       "\n",
       "    .dataframe tbody tr th {\n",
       "        vertical-align: top;\n",
       "    }\n",
       "</style>\n",
       "<table border=\"1\" class=\"dataframe\">\n",
       "  <thead>\n",
       "    <tr style=\"text-align: right;\">\n",
       "      <th></th>\n",
       "      <th>open</th>\n",
       "      <th>open_1</th>\n",
       "      <th>close_1</th>\n",
       "      <th>high_1</th>\n",
       "      <th>low_1</th>\n",
       "      <th>volume_1</th>\n",
       "      <th>avg_price_5</th>\n",
       "      <th>avg_price_30</th>\n",
       "      <th>avg_price_365</th>\n",
       "      <th>ratio_avg_price_5_30</th>\n",
       "      <th>...</th>\n",
       "      <th>ratio_std_volume_5_365</th>\n",
       "      <th>ratio_std_volume_30_365</th>\n",
       "      <th>return_1</th>\n",
       "      <th>return_5</th>\n",
       "      <th>return_30</th>\n",
       "      <th>return_365</th>\n",
       "      <th>moving_avg_5</th>\n",
       "      <th>moving_avg_30</th>\n",
       "      <th>moving_avg_365</th>\n",
       "      <th>close</th>\n",
       "    </tr>\n",
       "  </thead>\n",
       "  <tbody>\n",
       "    <tr>\n",
       "      <th>366</th>\n",
       "      <td>2501.68</td>\n",
       "      <td>2505.78</td>\n",
       "      <td>2518.84</td>\n",
       "      <td>2528.17</td>\n",
       "      <td>2484.70</td>\n",
       "      <td>16340000.0</td>\n",
       "      <td>2511.562</td>\n",
       "      <td>2487.315</td>\n",
       "      <td>2207.950</td>\n",
       "      <td>1.010</td>\n",
       "      <td>...</td>\n",
       "      <td>0.470</td>\n",
       "      <td>1.580</td>\n",
       "      <td>0.002</td>\n",
       "      <td>0.015</td>\n",
       "      <td>0.057</td>\n",
       "      <td>0.200</td>\n",
       "      <td>0.003</td>\n",
       "      <td>0.003</td>\n",
       "      <td>0.001</td>\n",
       "      <td>2503.54</td>\n",
       "    </tr>\n",
       "    <tr>\n",
       "      <th>367</th>\n",
       "      <td>2506.90</td>\n",
       "      <td>2501.68</td>\n",
       "      <td>2503.54</td>\n",
       "      <td>2520.71</td>\n",
       "      <td>2484.70</td>\n",
       "      <td>19810000.0</td>\n",
       "      <td>2513.006</td>\n",
       "      <td>2490.355</td>\n",
       "      <td>2209.454</td>\n",
       "      <td>1.009</td>\n",
       "      <td>...</td>\n",
       "      <td>0.472</td>\n",
       "      <td>1.562</td>\n",
       "      <td>-0.006</td>\n",
       "      <td>0.003</td>\n",
       "      <td>0.026</td>\n",
       "      <td>0.178</td>\n",
       "      <td>0.001</td>\n",
       "      <td>0.001</td>\n",
       "      <td>0.001</td>\n",
       "      <td>2503.36</td>\n",
       "    </tr>\n",
       "    <tr>\n",
       "      <th>368</th>\n",
       "      <td>2479.95</td>\n",
       "      <td>2506.90</td>\n",
       "      <td>2503.36</td>\n",
       "      <td>2520.71</td>\n",
       "      <td>2486.01</td>\n",
       "      <td>16390000.0</td>\n",
       "      <td>2511.214</td>\n",
       "      <td>2492.235</td>\n",
       "      <td>2210.930</td>\n",
       "      <td>1.008</td>\n",
       "      <td>...</td>\n",
       "      <td>0.541</td>\n",
       "      <td>1.569</td>\n",
       "      <td>-0.000</td>\n",
       "      <td>-0.004</td>\n",
       "      <td>0.016</td>\n",
       "      <td>0.175</td>\n",
       "      <td>-0.001</td>\n",
       "      <td>0.001</td>\n",
       "      <td>0.001</td>\n",
       "      <td>2475.00</td>\n",
       "    </tr>\n",
       "  </tbody>\n",
       "</table>\n",
       "<p>3 rows × 38 columns</p>\n",
       "</div>"
      ],
      "text/plain": [
       "        open   open_1  close_1   high_1    low_1    volume_1  avg_price_5  \\\n",
       "366  2501.68  2505.78  2518.84  2528.17  2484.70  16340000.0     2511.562   \n",
       "367  2506.90  2501.68  2503.54  2520.71  2484.70  19810000.0     2513.006   \n",
       "368  2479.95  2506.90  2503.36  2520.71  2486.01  16390000.0     2511.214   \n",
       "\n",
       "     avg_price_30  avg_price_365  ratio_avg_price_5_30   ...     \\\n",
       "366      2487.315       2207.950                 1.010   ...      \n",
       "367      2490.355       2209.454                 1.009   ...      \n",
       "368      2492.235       2210.930                 1.008   ...      \n",
       "\n",
       "     ratio_std_volume_5_365  ratio_std_volume_30_365  return_1  return_5  \\\n",
       "366                   0.470                    1.580     0.002     0.015   \n",
       "367                   0.472                    1.562    -0.006     0.003   \n",
       "368                   0.541                    1.569    -0.000    -0.004   \n",
       "\n",
       "     return_30  return_365  moving_avg_5  moving_avg_30  moving_avg_365  \\\n",
       "366      0.057       0.200         0.003          0.003           0.001   \n",
       "367      0.026       0.178         0.001          0.001           0.001   \n",
       "368      0.016       0.175        -0.001          0.001           0.001   \n",
       "\n",
       "       close  \n",
       "366  2503.54  \n",
       "367  2503.36  \n",
       "368  2475.00  \n",
       "\n",
       "[3 rows x 38 columns]"
      ]
     },
     "execution_count": 15,
     "metadata": {},
     "output_type": "execute_result"
    }
   ],
   "source": [
    "data.round(decimals=3).head(3)"
   ]
  }
 ],
 "metadata": {
  "kernelspec": {
   "display_name": "Python 3",
   "language": "python",
   "name": "python3"
  },
  "language_info": {
   "codemirror_mode": {
    "name": "ipython",
    "version": 3
   },
   "file_extension": ".py",
   "mimetype": "text/x-python",
   "name": "python",
   "nbconvert_exporter": "python",
   "pygments_lexer": "ipython3",
   "version": "3.6.0"
  }
 },
 "nbformat": 4,
 "nbformat_minor": 2
}

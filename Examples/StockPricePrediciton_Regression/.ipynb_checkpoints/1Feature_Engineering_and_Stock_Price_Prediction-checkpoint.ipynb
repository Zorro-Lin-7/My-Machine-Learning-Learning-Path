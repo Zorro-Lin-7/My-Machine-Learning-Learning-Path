{
 "cells": [
  {
   "cell_type": "markdown",
   "metadata": {},
   "source": [
    "回归：outputs是连续的值"
   ]
  },
  {
   "cell_type": "markdown",
   "metadata": {},
   "source": [
    "# 特征工程"
   ]
  },
  {
   "cell_type": "markdown",
   "metadata": {},
   "source": [
    "当涉及机器学习算法时，第一个要问的问题是哪些features可用，或者预测变量是什么。用于预测未来DJIA价格的driving factors，此处的收盘价，显然包括历史的和当前的开盘价以及历史表现（高、低、成交量）。\n",
    "\n",
    "注意，当前或同一天的表现（高、低、成交量）不应该包含进来，因为我们不可能预测股票交易的最高或最低价位，以及在市场收盘前交易的股票总数。\n",
    "\n",
    "只用这4个指标来预测收盘价似乎不靠谱，而且可能导致欠拟合。因此，我们需要考虑如何增加features和预测的效力。机器学习中，特征工程是在现有特征的基础上新建domain-specific features的过程，以提高算法性能。\n",
    "\n",
    "特征工程要求充分的domain-knowledge，难度可能很大也很耗时间。\n",
    "\n",
    "事实上，用于解决机器学习问题的features通常是不直接可得的，需要特别设计、构建。例如垃圾邮件检测和新闻分类中的词频、tf-idf。因此，特征工程是机器学习中的基石，解决实际问题时，我们常常要花大量功夫在特征工程上。\n",
    "\n",
    "投资决策时，投资人通常不会某一天的价格，而是看一段时期内的历史价格。因此，在我们的股价预测中，我们可以计算过去一周的平均收盘价，过往一个月的，过往一年的，作为3个新特征。我们也可以自定义时间窗口的大小，比如过往1季度，过往半年。\n",
    "在上面3个平均价格特征上，我们可以通过计算每对特征的比例来得到关联的价格走势\n",
    "\n",
    "投资决策时，投资者通常会在一段时间内查看历史价格，而不只是前一天的价格。因此，在我们的股价预测中，我们可以计算过去一周（五天）的平均收盘价，过去一个月，以及过去一年，作为三个新特征。我们也可以自定义时间窗口的大小，如过去一季度，过去六个月。在这三个平均价格特征之上，我们可以通过计算三个不同时间范围中的平均价格之间的比率来产生与价格趋势相关的新特性。例如，过去一周的平均价格与过去一年的平均价格之比。除了价格之外，成交量也是投资者分析的另一个重要因素。类似地，我们可以通过计算多个不同时间范围的平均成交量和每对平均值之间的比率来生成新的基于成交量的特征。\n",
    "\n",
    "除了在时间窗口内的历史平均值，投资者还大量考虑股票波动性。波动性是指给定股票或指数随时间变化的程度。从统计上讲，基本上是收盘价的标准差。我们可以通过计算特定时间范围内收盘价的标准差，以及交易量的标准差，生成新的特征集。类似的每对标准偏差值之间的比率可以包含在我们的工程特征池中。\n",
    "\n",
    "回报是投资者密切关注的重要金融指标。收益率是股票/指数在某一特定时期内收盘价的百分比。例如，每日收益和年回报率是我们经常听到的财务术语。它们的计算如下：\n",
    "![return](return.png)\n",
    "\n",
    "移动平均：![movingAvg](movingAVG.png)"
   ]
  },
  {
   "cell_type": "markdown",
   "metadata": {},
   "source": [
    "# 数据获得和特征生成\n",
    "此处用到Python 库：quandl(https://www.quandl.com/tools/python)"
   ]
  },
  {
   "cell_type": "code",
   "execution_count": 1,
   "metadata": {
    "collapsed": true
   },
   "outputs": [],
   "source": [
    "import quandl"
   ]
  },
  {
   "cell_type": "code",
   "execution_count": null,
   "metadata": {
    "collapsed": true
   },
   "outputs": [],
   "source": [
    "#原数据集不存在了，自己手动下载https://finance.yahoo.com/quote/%5EDJI/history?p=%5EDJI\n",
    "#mydata = quandl.get(\"YAHOO/INDEX_DJI\", start_date=\"2005-12-01\", end_date=\"2005-12-05\")"
   ]
  },
  {
   "cell_type": "code",
   "execution_count": null,
   "metadata": {
    "collapsed": true
   },
   "outputs": [],
   "source": [
    "# authtoken = ''\n",
    "\n",
    "#def get_data_quandl(symbol, start_date,end_date):\n",
    "#    data = quandl.get(symbol, start_date=start_date, end_date=end_date, authtoken=authtoken)\n",
    "#    return data"
   ]
  },
  {
   "cell_type": "code",
   "execution_count": 1,
   "metadata": {
    "collapsed": true
   },
   "outputs": [],
   "source": [
    "import pandas as pd"
   ]
  },
  {
   "cell_type": "code",
   "execution_count": 2,
   "metadata": {
    "collapsed": true
   },
   "outputs": [],
   "source": [
    "mydata = pd.read_csv('^DJI.csv')"
   ]
  },
  {
   "cell_type": "code",
   "execution_count": 3,
   "metadata": {
    "collapsed": false
   },
   "outputs": [
    {
     "data": {
      "text/html": [
       "<div>\n",
       "<style>\n",
       "    .dataframe thead tr:only-child th {\n",
       "        text-align: right;\n",
       "    }\n",
       "\n",
       "    .dataframe thead th {\n",
       "        text-align: left;\n",
       "    }\n",
       "\n",
       "    .dataframe tbody tr th {\n",
       "        vertical-align: top;\n",
       "    }\n",
       "</style>\n",
       "<table border=\"1\" class=\"dataframe\">\n",
       "  <thead>\n",
       "    <tr style=\"text-align: right;\">\n",
       "      <th></th>\n",
       "      <th>Date</th>\n",
       "      <th>Open</th>\n",
       "      <th>High</th>\n",
       "      <th>Low</th>\n",
       "      <th>Close</th>\n",
       "      <th>Adj Close</th>\n",
       "      <th>Volume</th>\n",
       "    </tr>\n",
       "  </thead>\n",
       "  <tbody>\n",
       "    <tr>\n",
       "      <th>0</th>\n",
       "      <td>1987-12-31</td>\n",
       "      <td>1927.390015</td>\n",
       "      <td>1951.260010</td>\n",
       "      <td>1912.630005</td>\n",
       "      <td>1938.829956</td>\n",
       "      <td>1938.829956</td>\n",
       "      <td>15360000</td>\n",
       "    </tr>\n",
       "    <tr>\n",
       "      <th>1</th>\n",
       "      <td>1988-01-04</td>\n",
       "      <td>1952.589966</td>\n",
       "      <td>2030.010010</td>\n",
       "      <td>1950.760010</td>\n",
       "      <td>2015.250000</td>\n",
       "      <td>2015.250000</td>\n",
       "      <td>20880000</td>\n",
       "    </tr>\n",
       "    <tr>\n",
       "      <th>2</th>\n",
       "      <td>1988-01-05</td>\n",
       "      <td>2056.370117</td>\n",
       "      <td>2075.270020</td>\n",
       "      <td>2021.390015</td>\n",
       "      <td>2031.500000</td>\n",
       "      <td>2031.500000</td>\n",
       "      <td>27200000</td>\n",
       "    </tr>\n",
       "    <tr>\n",
       "      <th>3</th>\n",
       "      <td>1988-01-06</td>\n",
       "      <td>2036.469971</td>\n",
       "      <td>2058.189941</td>\n",
       "      <td>2012.770020</td>\n",
       "      <td>2037.800049</td>\n",
       "      <td>2037.800049</td>\n",
       "      <td>18800000</td>\n",
       "    </tr>\n",
       "    <tr>\n",
       "      <th>4</th>\n",
       "      <td>1988-01-07</td>\n",
       "      <td>2019.890015</td>\n",
       "      <td>2061.510010</td>\n",
       "      <td>2004.640015</td>\n",
       "      <td>2051.889893</td>\n",
       "      <td>2051.889893</td>\n",
       "      <td>21370000</td>\n",
       "    </tr>\n",
       "  </tbody>\n",
       "</table>\n",
       "</div>"
      ],
      "text/plain": [
       "         Date         Open         High          Low        Close  \\\n",
       "0  1987-12-31  1927.390015  1951.260010  1912.630005  1938.829956   \n",
       "1  1988-01-04  1952.589966  2030.010010  1950.760010  2015.250000   \n",
       "2  1988-01-05  2056.370117  2075.270020  2021.390015  2031.500000   \n",
       "3  1988-01-06  2036.469971  2058.189941  2012.770020  2037.800049   \n",
       "4  1988-01-07  2019.890015  2061.510010  2004.640015  2051.889893   \n",
       "\n",
       "     Adj Close    Volume  \n",
       "0  1938.829956  15360000  \n",
       "1  2015.250000  20880000  \n",
       "2  2031.500000  27200000  \n",
       "3  2037.800049  18800000  \n",
       "4  2051.889893  21370000  "
      ]
     },
     "execution_count": 3,
     "metadata": {},
     "output_type": "execute_result"
    }
   ],
   "source": [
    "mydata.head()"
   ]
  },
  {
   "cell_type": "markdown",
   "metadata": {},
   "source": [
    "### 数据的获得"
   ]
  },
  {
   "cell_type": "code",
   "execution_count": 4,
   "metadata": {
    "collapsed": false
   },
   "outputs": [],
   "source": [
    "def get_data_from(data, start_date, end_date):\n",
    "    data_raw = data[(data.Date >= start_date) & (mydata.Date <= end_date)]\n",
    "    return data_raw"
   ]
  },
  {
   "cell_type": "markdown",
   "metadata": {},
   "source": [
    "## 特征生成函数："
   ]
  },
  {
   "cell_type": "markdown",
   "metadata": {},
   "source": [
    "### 涉及的methods："
   ]
  },
  {
   "cell_type": "code",
   "execution_count": 5,
   "metadata": {
    "collapsed": true
   },
   "outputs": [],
   "source": [
    "head=mydata.head()"
   ]
  },
  {
   "cell_type": "code",
   "execution_count": 6,
   "metadata": {
    "collapsed": false
   },
   "outputs": [
    {
     "data": {
      "text/plain": [
       "0    1927.390015\n",
       "1    1952.589966\n",
       "2    2056.370117\n",
       "3    2036.469971\n",
       "4    2019.890015\n",
       "Name: Open, dtype: float64"
      ]
     },
     "execution_count": 6,
     "metadata": {},
     "output_type": "execute_result"
    }
   ],
   "source": [
    "head['Open']"
   ]
  },
  {
   "cell_type": "code",
   "execution_count": 7,
   "metadata": {
    "collapsed": false
   },
   "outputs": [
    {
     "data": {
      "text/plain": [
       "0            NaN\n",
       "1    1927.390015\n",
       "2    1952.589966\n",
       "3    2056.370117\n",
       "4    2036.469971\n",
       "Name: Open, dtype: float64"
      ]
     },
     "execution_count": 7,
     "metadata": {},
     "output_type": "execute_result"
    }
   ],
   "source": [
    "head.Open.shift(1) # 移动索引，即前一天；shift(5)即前5天。shift(5).shift(1)，前5天的前1天"
   ]
  },
  {
   "cell_type": "code",
   "execution_count": 8,
   "metadata": {
    "collapsed": false,
    "scrolled": true
   },
   "outputs": [
    {
     "name": "stderr",
     "output_type": "stream",
     "text": [
      "/Users/linzhun/anaconda/lib/python3.6/site-packages/ipykernel/__main__.py:3: FutureWarning: pd.rolling_mean is deprecated for Series and will be removed in a future version, replace with \n",
      "\tSeries.rolling(window=5,center=False).mean()\n",
      "  app.launch_new_instance()\n"
     ]
    },
    {
     "data": {
      "text/plain": [
       "7474             NaN\n",
       "7475             NaN\n",
       "7476             NaN\n",
       "7477             NaN\n",
       "7478             NaN\n",
       "7479    21865.593750\n",
       "7480    21900.371875\n",
       "7481    21889.353906\n",
       "7482    21877.808203\n",
       "7483    21856.278125\n",
       "Name: Close, dtype: float64"
      ]
     },
     "execution_count": 8,
     "metadata": {},
     "output_type": "execute_result"
    }
   ],
   "source": [
    "#Moving mean\n",
    "tail = mydata.tail(10)\n",
    "pd.rolling_mean(tail['Close'], window=5).shift(1)"
   ]
  },
  {
   "cell_type": "code",
   "execution_count": 9,
   "metadata": {
    "collapsed": false
   },
   "outputs": [
    {
     "data": {
      "text/plain": [
       "7474             NaN\n",
       "7475             NaN\n",
       "7476             NaN\n",
       "7477             NaN\n",
       "7478             NaN\n",
       "7479    21865.593750\n",
       "7480    21900.371875\n",
       "7481    21889.353906\n",
       "7482    21877.808203\n",
       "7483    21856.278125\n",
       "Name: Close, dtype: float64"
      ]
     },
     "execution_count": 9,
     "metadata": {},
     "output_type": "execute_result"
    }
   ],
   "source": [
    "tail.Close.rolling(window=5).mean().shift(1)"
   ]
  },
  {
   "cell_type": "markdown",
   "metadata": {},
   "source": [
    "### 生成函数"
   ]
  },
  {
   "cell_type": "code",
   "execution_count": 10,
   "metadata": {
    "collapsed": true
   },
   "outputs": [],
   "source": [
    "def generate_features(df):\n",
    "    \"\"\" Generate features for a stock/index based on historical price and performance\n",
    "    Args:\n",
    "        df (dataframe with columns 'Open', 'Close', 'High', 'Low', 'Volume', 'Adjusted Close')\n",
    "    Returns:\n",
    "        dataframe, data set with new features\n",
    "    \"\"\"\n",
    "    df_new = pd.DataFrame()\n",
    "    # 6个初始特征\n",
    "    df_new['open'] = df['Open']  # 开盘价\n",
    "    df_new['open_1'] = df['Open'].shift(1)  # 前一天的开盘价。 当天是不可知的。\n",
    "    df_new['close_1'] = df['Close'].shift(1) # 前一天的收盘价\n",
    "    df_new['high_1'] = df['High'].shift(1)  # 前一天的最高价\n",
    "    df_new['low_1'] = df['Low'].shift(1)    # 前一天的最低价\n",
    "    df_new['volume_1'] = df['Volume'].shift(1) # 前一天的成交量\n",
    "    \n",
    "    # 基于上6个生成额外的31个初始特征\n",
    "    # average price\n",
    "    df_new['avg_price_5'] = df.Close.rolling(window=5).mean().shift(1) # 前一周（5天）\n",
    "    df_new['avg_price_30'] = df.Close.rolling(window=21).mean().shift(1) # 前一月（21天）\n",
    "    df_new['avg_price_365'] = df.Close.rolling(window=252).mean().shift(1)\n",
    "    df_new['ratio_avg_price_5_30'] = df_new['avg_price_5'] / df_new['avg_price_30']\n",
    "    df_new['ratio_avg_price_5_365'] = df_new['avg_price_5'] / df_new['avg_price_365']\n",
    "    df_new['ratio_avg_price_30_365'] = df_new['avg_price_30'] / df_new['avg_price_365']\n",
    "    # average volume\n",
    "    df_new['avg_volume_5'] = df.Volume.rolling(window=5).mean().shift(1)\n",
    "    df_new['avg_volume_30'] = df.Volume.rolling(window=21).mean().shift(1)\n",
    "    df_new['avg_volume_365'] = df.Volume.rolling(window=252).mean().shift(1)\n",
    "    df_new['ratio_avg_volume_5_30'] = df_new['avg_volume_5'] / df_new['avg_volume_30']\n",
    "    df_new['ratio_avg_volume_5_365'] = df_new['avg_volume_5'] / df_new['avg_volume_365']\n",
    "    df_new['ratio_avg_volume_30_365'] = df_new['avg_volume_30'] / df_new['avg_volume_365']\n",
    "    #standard deviation of prices\n",
    "    df_new['std_price_5'] = df.Close.rolling(window=5).std().shift(1)\n",
    "    df_new['std_price_30'] = df.Close.rolling(window=21).std().shift(1)\n",
    "    df_new['std_price_365'] = df.Close.rolling(window=252).std().shift(1)\n",
    "    df_new['ratio_std_price_5_30'] = df_new['std_price_5'] / df_new['std_price_30']\n",
    "    df_new['ratio_std_price_5_365'] = df_new['std_price_5'] / df_new['std_price_365']\n",
    "    df_new['ratio_std_price_30_365'] = df_new['std_price_30'] / df_new['std_price_365']\n",
    "    # standard deviation of volumes\n",
    "    df_new['std_volume_5'] = df.Volume.rolling(window=5).std().shift(1)\n",
    "    df_new['std_volume_30'] = df.Volume.rolling(window=30).std().shift(1)\n",
    "    df_new['std_volume_365'] = df.Volume.rolling(window=365).std().shift(1)\n",
    "    df_new['ratio_std_volume_5_30'] = df_new['std_volume_5'] / df_new['std_volume_30']\n",
    "    df_new['ratio_std_volume_5_365'] = df_new['std_volume_5'] / df_new['std_volume_365']\n",
    "    df_new['ratio_std_volume_30_365'] = df_new['std_volume_30'] / df_new['std_volume_365']\n",
    "    \n",
    "    ## return  （当天价格-前一天价格）／前一天价格.shift(1) 这是当天，需要再shift(1)\n",
    "    df_new['return_1'] = ((df.Close - df.Close.shift(1)) / df.Close.shift(1)).shift(1)\n",
    "    df_new['return_5'] = ((df.Close - df.Close.shift(5)) / df.Close.shift(5)).shift(1)\n",
    "    df_new['return_30'] = ((df.Close - df.Close.shift(21)) / df.Close.shift(21)).shift(1)\n",
    "    df_new['return_365'] = ((df.Close - df.Close.shift(252)) / df.Close.shift(252)).shift(1)\n",
    "    df_new['moving_avg_5'] = df_new['return_1'].rolling(window=5).mean()\n",
    "    df_new['moving_avg_30'] = df_new['return_1'].rolling(window=21).mean()\n",
    "    df_new['moving_avg_365'] = df_new['return_1'].rolling(window=252).mean()\n",
    "    # the target\n",
    "    df_new['close'] = df['Close']\n",
    "    df_new['Date'] = df['Date']\n",
    "    df_new = df_new.dropna(axis=0)\n",
    "    return df_new"
   ]
  },
  {
   "cell_type": "markdown",
   "metadata": {},
   "source": [
    "# 1988-2015的数据：\n",
    "2015年的数据作testing set，但要与其他数据一起做特征工程，不能单独拎出来做，否则2015年的moving_avg_365等值为空"
   ]
  },
  {
   "cell_type": "code",
   "execution_count": 11,
   "metadata": {
    "collapsed": false
   },
   "outputs": [],
   "source": [
    "data_raw =  get_data_from(mydata,'1988-01-01','2015-12-31')"
   ]
  },
  {
   "cell_type": "code",
   "execution_count": 12,
   "metadata": {
    "collapsed": false
   },
   "outputs": [
    {
     "data": {
      "text/plain": [
       "(7058, 7)"
      ]
     },
     "execution_count": 12,
     "metadata": {},
     "output_type": "execute_result"
    }
   ],
   "source": [
    "data_raw.shape"
   ]
  },
  {
   "cell_type": "code",
   "execution_count": 13,
   "metadata": {
    "collapsed": true
   },
   "outputs": [],
   "source": [
    "data=generate_features(data_raw)"
   ]
  },
  {
   "cell_type": "markdown",
   "metadata": {},
   "source": [
    "# 回归预测\n",
    "38维中，close列是target，共37维特征"
   ]
  },
  {
   "cell_type": "code",
   "execution_count": 14,
   "metadata": {
    "collapsed": false
   },
   "outputs": [
    {
     "name": "stderr",
     "output_type": "stream",
     "text": [
      "/Users/linzhun/anaconda/lib/python3.6/site-packages/ipykernel/__main__.py:2: UserWarning: Boolean Series key will be reindexed to match DataFrame index.\n",
      "  from ipykernel import kernelapp as app\n"
     ]
    }
   ],
   "source": [
    "train = get_data_from(data, '1988-01-01','2014-12-31')\n",
    "test = get_data_from(data, '2015-01-01', '2015-12-31')"
   ]
  },
  {
   "cell_type": "code",
   "execution_count": 15,
   "metadata": {
    "collapsed": true
   },
   "outputs": [],
   "source": [
    "X_train = train.drop(['close','Date'],axis=1)\n",
    "y_train = train['close']\n",
    "X_test = test.drop(['close','Date'],axis=1)\n",
    "y_test = test['close']"
   ]
  },
  {
   "cell_type": "markdown",
   "metadata": {},
   "source": [
    "## 数据标准化\n",
    "基于SGD的线性算法，以及SVR对数值的量纲敏感，因此特征需要统一量纲"
   ]
  },
  {
   "cell_type": "code",
   "execution_count": 16,
   "metadata": {
    "collapsed": true
   },
   "outputs": [],
   "source": [
    "from sklearn.preprocessing import StandardScaler\n",
    "scaler = StandardScaler()\n",
    "scaler.fit(X_train)\n",
    "X_scaled_train = scaler.transform(X_train)\n",
    "X_scaled_test = scaler.transform(X_test)"
   ]
  },
  {
   "cell_type": "markdown",
   "metadata": {},
   "source": [
    "### SGD"
   ]
  },
  {
   "cell_type": "code",
   "execution_count": 17,
   "metadata": {
    "collapsed": true
   },
   "outputs": [],
   "source": [
    "from sklearn.model_selection import GridSearchCV"
   ]
  },
  {
   "cell_type": "code",
   "execution_count": 59,
   "metadata": {
    "collapsed": false
   },
   "outputs": [
    {
     "data": {
      "text/plain": [
       "GridSearchCV(cv=5, error_score='raise',\n",
       "       estimator=SGDRegressor(alpha=0.0001, average=False, epsilon=0.1, eta0=0.01,\n",
       "       fit_intercept=True, l1_ratio=0.15, learning_rate='invscaling',\n",
       "       loss='squared_loss', n_iter=1000, penalty='l2', power_t=0.25,\n",
       "       random_state=None, shuffle=True, verbose=0, warm_start=False),\n",
       "       fit_params={}, iid=True, n_jobs=1,\n",
       "       param_grid={'alpha': [1e-05, 3e-05, 0.0001], 'eta0': [0.01, 0.03, 0.1]},\n",
       "       pre_dispatch='2*n_jobs', refit=True, return_train_score=True,\n",
       "       scoring='neg_mean_absolute_error', verbose=0)"
      ]
     },
     "execution_count": 59,
     "metadata": {},
     "output_type": "execute_result"
    }
   ],
   "source": [
    "\n",
    "param_grid = {\n",
    "    'alpha': [1e-5, 3e-5, 1e-4],\n",
    "    'eta0': [0.01, 0.03, 0.1],\n",
    "}\n",
    "from sklearn.linear_model import SGDRegressor\n",
    "lr = SGDRegressor(penalty='l2', n_iter=1000)\n",
    "grid_search = GridSearchCV(lr, param_grid, cv=5, scoring='neg_mean_absolute_error')\n",
    "grid_search.fit(X_scaled_train, y_train)"
   ]
  },
  {
   "cell_type": "code",
   "execution_count": 60,
   "metadata": {
    "collapsed": false
   },
   "outputs": [
    {
     "name": "stdout",
     "output_type": "stream",
     "text": [
      "{'alpha': 1e-05, 'eta0': 0.01}\n"
     ]
    }
   ],
   "source": [
    "print(grid_search.best_params_)"
   ]
  },
  {
   "cell_type": "code",
   "execution_count": 61,
   "metadata": {
    "collapsed": false
   },
   "outputs": [
    {
     "name": "stdout",
     "output_type": "stream",
     "text": [
      "MSE: 28488.568\n",
      "MAE: 126.444\n",
      "R^2: 0.907\n"
     ]
    }
   ],
   "source": [
    "lr_best = grid_search.best_estimator_\n",
    "predictions_lr = lr_best.predict(X_scaled_test)\n",
    "from sklearn.metrics import mean_absolute_error,mean_squared_error,r2_score\n",
    "print('MSE: {0:.3f}'.format(mean_squared_error(y_test, predictions_lr)))\n",
    "print('MAE: {0:.3f}'.format(mean_absolute_error(y_test, predictions_lr)))\n",
    "print('R^2: {0:.3f}'.format(r2_score(y_test, predictions_lr)))"
   ]
  },
  {
   "cell_type": "markdown",
   "metadata": {},
   "source": [
    "### Random Forest Regression\n",
    "训练时间长"
   ]
  },
  {
   "cell_type": "code",
   "execution_count": 65,
   "metadata": {
    "collapsed": true
   },
   "outputs": [],
   "source": [
    "param_grid = {\n",
    "    'max_depth': [50],\n",
    "    'min_samples_split': [10, 15]\n",
    "}"
   ]
  },
  {
   "cell_type": "code",
   "execution_count": 67,
   "metadata": {
    "collapsed": false
   },
   "outputs": [
    {
     "data": {
      "text/plain": [
       "GridSearchCV(cv=3, error_score='raise',\n",
       "       estimator=RandomForestRegressor(bootstrap=True, criterion='mse', max_depth=None,\n",
       "           max_features='auto', max_leaf_nodes=None,\n",
       "           min_impurity_split=1e-07, min_samples_leaf=1,\n",
       "           min_samples_split=2, min_weight_fraction_leaf=0.0,\n",
       "           n_estimators=20, n_jobs=1, oob_score=False, random_state=None,\n",
       "           verbose=0, warm_start=False),\n",
       "       fit_params={}, iid=True, n_jobs=1,\n",
       "       param_grid={'max_depth': [50], 'min_samples_split': [10, 15]},\n",
       "       pre_dispatch='2*n_jobs', refit=True, return_train_score=True,\n",
       "       scoring='neg_mean_absolute_error', verbose=0)"
      ]
     },
     "execution_count": 67,
     "metadata": {},
     "output_type": "execute_result"
    }
   ],
   "source": [
    "from sklearn.ensemble import RandomForestRegressor\n",
    "rf = RandomForestRegressor(n_estimators=20)\n",
    "grid_search = GridSearchCV(rf, param_grid, cv=3, scoring='neg_mean_absolute_error')\n",
    "grid_search.fit(X_train, y_train) # 决策树对量纲不敏感"
   ]
  },
  {
   "cell_type": "code",
   "execution_count": 68,
   "metadata": {
    "collapsed": false
   },
   "outputs": [
    {
     "name": "stdout",
     "output_type": "stream",
     "text": [
      "{'max_depth': 50, 'min_samples_split': 15}\n"
     ]
    }
   ],
   "source": [
    "print(grid_search.best_params_)"
   ]
  },
  {
   "cell_type": "code",
   "execution_count": 70,
   "metadata": {
    "collapsed": false
   },
   "outputs": [
    {
     "name": "stdout",
     "output_type": "stream",
     "text": [
      "MSE: 38906.979\n",
      "MAE: 154.853\n",
      "R^2: 0.873\n"
     ]
    }
   ],
   "source": [
    "rf_best = grid_search.best_estimator_\n",
    "predictions_rf = rf_best.predict(X_test)\n",
    "print('MSE: {0:.3f}'.format(mean_squared_error(y_test, predictions_rf)))\n",
    "print('MAE: {0:.3f}'.format(mean_absolute_error(y_test, predictions_rf)))\n",
    "print('R^2: {0:.3f}'.format(r2_score(y_test, predictions_rf)))"
   ]
  },
  {
   "cell_type": "markdown",
   "metadata": {},
   "source": [
    "### SVR\n",
    "训练时间长"
   ]
  },
  {
   "cell_type": "code",
   "execution_count": 18,
   "metadata": {
    "collapsed": true
   },
   "outputs": [],
   "source": [
    "param_grid = {\n",
    "    'epsilon': [0.00003, 0.0001]\n",
    "}"
   ]
  },
  {
   "cell_type": "code",
   "execution_count": null,
   "metadata": {
    "collapsed": false
   },
   "outputs": [],
   "source": [
    "from sklearn.svm import SVR\n",
    "svr = SVR(C=10000,kernel='linear')\n",
    "grid_search = GridSearchCV(svr, param_grid, cv=3, scoring='neg_mean_absolute_error')\n",
    "grid_search.fit(X_scaled_train, y_train)"
   ]
  },
  {
   "cell_type": "code",
   "execution_count": null,
   "metadata": {
    "collapsed": true
   },
   "outputs": [],
   "source": [
    "print(grid_search.best_params_)"
   ]
  },
  {
   "cell_type": "code",
   "execution_count": null,
   "metadata": {
    "collapsed": true
   },
   "outputs": [],
   "source": [
    "svr_best = grid_search.best_estimator_\n",
    "predictions_svr = svr_best.predict(X_scaled_test)\n",
    "print('MSE: {0:.3f}'.format(mean_squared_error(y_test, predictions_svr)))\n",
    "print('MAE: {0:.3f}'.format(mean_absolute_error(y_test, predictions_svr)))\n",
    "print('R^2: {0:.3f}'.format(r2_score(y_test, predictions_svr)))"
   ]
  },
  {
   "cell_type": "markdown",
   "metadata": {},
   "source": [
    "R^2 能达到0.912"
   ]
  },
  {
   "cell_type": "code",
   "execution_count": null,
   "metadata": {
    "collapsed": true
   },
   "outputs": [],
   "source": [
    "\n",
    "\n",
    "\n",
    "import matplotlib.pyplot as plt\n",
    "\n",
    "dates = test.Date.values\n",
    "plot_truth, = plt.plot(dates, y_test, 'k')\n",
    "plot_lr, = plt.plot(dates, predictions_lr, 'r')\n",
    "plot_rf, = plt.plot(dates, predictions_rf, 'b')\n",
    "plot_svr, = plt.plot(dates, predictions_svr, 'g')\n",
    "plt.legend([plot_truth, plot_lr, plot_rf, plot_svr], ['Truth', 'Linear regression', 'Random forest', 'SVR'])\n",
    "plt.title('Stock price prediction vs truth')\n",
    "plt.show()\n"
   ]
  },
  {
   "cell_type": "code",
   "execution_count": null,
   "metadata": {
    "collapsed": true
   },
   "outputs": [],
   "source": []
  }
 ],
 "metadata": {
  "kernelspec": {
   "display_name": "Python 3",
   "language": "python",
   "name": "python3"
  },
  "language_info": {
   "codemirror_mode": {
    "name": "ipython",
    "version": 3
   },
   "file_extension": ".py",
   "mimetype": "text/x-python",
   "name": "python",
   "nbconvert_exporter": "python",
   "pygments_lexer": "ipython3",
   "version": "3.6.0"
  }
 },
 "nbformat": 4,
 "nbformat_minor": 2
}

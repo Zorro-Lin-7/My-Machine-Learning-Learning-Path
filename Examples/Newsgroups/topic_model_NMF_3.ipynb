{
 "cells": [
  {
   "cell_type": "markdown",
   "metadata": {},
   "source": [
    "# Topic modeling\n",
    "NLP中的Topics不完全匹配字典中的定义，更多对应的是一个模糊的统计学概念\n",
    "\n",
    "当我们阅读一篇文章，我们期望某些词出现在标题或正文中，从而抓住文章主旨。比如讲Python编程的文章，会含有的词是class、function。\n",
    "\n",
    "Documents通常含有多个主题。本节讨论主题建模和非负矩阵分解（NFM），通过分配不同的权重到topics，为topics定义一个additive model。"
   ]
  },
  {
   "cell_type": "markdown",
   "metadata": {},
   "source": [
    "## 一个主题建模算法是 non-negative matrix factorization (NMF)\n",
    "\n",
    "NMF将一个矩阵分解为 【2个小矩阵的积】，且这3个矩阵没有负值。\n",
    "\n",
    "通常，我们只能对the solution of the factorizaiton进行数值逼近，时间复杂度是多项式的。\n",
    "\n",
    "我们通过sklearn 的NMF 来实现。常用于文本聚类、信号处理。"
   ]
  },
  {
   "cell_type": "markdown",
   "metadata": {},
   "source": [
    "相关参数：\n",
    "\n",
    "    n_components    分量数，本例中为topics 数目\n",
    "    max_iter        迭代数，默认为200\n",
    "    alpha           正则项乘子，默认为0，例如10，2.85\n",
    "    tol             Value regulating stopping conditions，默认为le-4，例如le-3,le-2"
   ]
  },
  {
   "cell_type": "code",
   "execution_count": 1,
   "metadata": {
    "collapsed": false
   },
   "outputs": [],
   "source": [
    "from IPython.core.interactiveshell import InteractiveShell\n",
    "InteractiveShell.ast_node_interactivity = 'all'"
   ]
  },
  {
   "cell_type": "code",
   "execution_count": 9,
   "metadata": {
    "collapsed": true
   },
   "outputs": [],
   "source": [
    "def letter_only(str_list):\n",
    "    for c in str_list:\n",
    "        if not c.isalpha():  # 字符串只有字母组成\n",
    "            return False\n",
    "    return True"
   ]
  },
  {
   "cell_type": "code",
   "execution_count": 10,
   "metadata": {
    "collapsed": true
   },
   "outputs": [],
   "source": [
    "a = ['abc','123']"
   ]
  },
  {
   "cell_type": "code",
   "execution_count": 11,
   "metadata": {
    "collapsed": false
   },
   "outputs": [
    {
     "data": {
      "text/plain": [
       "True"
      ]
     },
     "execution_count": 11,
     "metadata": {},
     "output_type": "execute_result"
    }
   ],
   "source": [
    "letter_only('abc')"
   ]
  },
  {
   "cell_type": "code",
   "execution_count": 13,
   "metadata": {
    "collapsed": false
   },
   "outputs": [
    {
     "name": "stdout",
     "output_type": "stream",
     "text": [
      "0:  wa thought later took left order seen taken\n",
      "1:  db bit data place stuff add time line\n",
      "2:  server using display screen support code mouse application\n",
      "3:  file section information write source change entry number\n",
      "4:  disk drive hard controller support card board head\n",
      "5:  entry rule program source number info email build\n",
      "6:  new york sale change service result study early\n",
      "7:  image software user package using display include support\n",
      "8:  window manager application using offer user information course\n",
      "9:  gun united control house american second national issue\n",
      "10:  hockey league team game division player list san\n",
      "11:  turkish government sent war study came american world\n",
      "12:  program change technology display information version application rate\n",
      "13:  space nasa technology service national international small communication\n",
      "14:  government political federal sure free private local country\n",
      "15:  output line open write read return build section\n",
      "16:  people country doing tell live killed lot saying\n",
      "17:  widget application value set type return function list\n",
      "18:  child case rate le report area research group\n",
      "19:  jew jewish world war history help research arab\n",
      "20:  armenian russian muslim turkish world city road today\n",
      "21:  president said group tax press working package job\n",
      "22:  ground box usually power code current house white\n",
      "23:  russian president american support food money important private\n",
      "24:  ibm color week memory hardware monitor software standard\n",
      "25:  anonymous posting service server user group message post\n",
      "26:  la win san went list year radio near\n",
      "27:  work job young school lot private create business\n",
      "28:  encryption technology access device policy security government data\n",
      "29:  tape driver work memory using cause note following\n",
      "30:  war military world attack way united russian force\n",
      "31:  god bible shall man come life hell love\n",
      "32:  atheist religious religion belief god sort feel idea\n",
      "33:  data available information user research set model based\n",
      "34:  center research medical institute national study test north\n",
      "35:  think lot try trying talk kind agree certainly\n",
      "36:  water city division list public similar north high\n",
      "37:  section military shall weapon person division application mean\n",
      "38:  good cover great pretty probably bad issue life\n",
      "39:  drive head single mode set using model type\n",
      "40:  israeli arab attack policy true apr fact stop\n",
      "41:  use note using usually similar available standard work\n",
      "42:  know tell way come sure understand let saw\n",
      "43:  car speed driver change high buy different design\n",
      "44:  internet email address information anonymous user network mail\n",
      "45:  like look sound long little guy pretty having\n",
      "46:  going come way mean kind sure working got\n",
      "47:  state united public national political federal member local\n",
      "48:  dod bike member computer list started live email\n",
      "49:  greek killed act word western muslim turkish talk\n",
      "50:  computer information public internet list issue network communication\n",
      "51:  law act federal specific issue clear order moral\n",
      "52:  book read reference list copy second study offer\n",
      "53:  argument form true evidence event truth particular known\n",
      "54:  make sense difference little sure making end tell\n",
      "55:  scsi hard pc drive device bus different data\n",
      "56:  time long having able lot order light response\n",
      "57:  gun rate crime city death study control difference\n",
      "58:  right second free shall security mean left american\n",
      "59:  went came said told started saw took woman\n",
      "60:  power period second san special le play goal\n",
      "61:  used using product way function version note single\n",
      "62:  problem work having using help apple running error\n",
      "63:  available version widget server includes sun set support\n",
      "64:  question answer ask asked science reason claim post\n",
      "65:  san information police said group league political including\n",
      "66:  number serial large men report following million le\n",
      "67:  year ago old best sale hit long project\n",
      "68:  want help let life reason trying copy tell\n",
      "69:  point way different line algorithm exactly idea view\n",
      "70:  run running home version start hit win speed\n",
      "71:  got shot play took goal went hit lead\n",
      "72:  thing saw sure got trying kind seen asked\n",
      "73:  graphic send mail message package server various computer\n",
      "74:  university science department general computer thanks engineering texas\n",
      "75:  just maybe start thought big probably look getting\n",
      "76:  key message public security algorithm standard method attack\n",
      "77:  doe mean anybody actually different ask reading difference\n",
      "78:  game win sound play left second lead great\n",
      "79:  ha able called taken given past exactly looking\n",
      "80:  believe belief christian truth evidence claim mean different\n",
      "81:  drug study information war group reason usa evidence\n",
      "82:  need help phone able needed kind thanks bike\n",
      "83:  did death let money fact man wanted body\n",
      "84:  chip clipper serial algorithm phone communication encryption key\n",
      "85:  card driver video support mode mouse board bus\n",
      "86:  church christian member group true bible different view\n",
      "87:  ftp available anonymous general nasa package source version\n",
      "88:  better player best play probably hit maybe big\n",
      "89:  human life person moral kill claim reason world\n",
      "90:  bit using let change mode attack size quite\n",
      "91:  say mean word act clear said read simply\n",
      "92:  health medical public national care study service user\n",
      "93:  article post usa read world discussion opinion gmt\n",
      "94:  team player win play city look bad great\n",
      "95:  day come word christian said tell little way\n",
      "96:  really lot sure look fact idea actually feel\n",
      "97:  unit disk size serial total national got return\n",
      "98:  image color version free available display current better\n",
      "99:  woman men muslim religion way man great world\n"
     ]
    }
   ],
   "source": [
    "from sklearn.feature_extraction.text import CountVectorizer\n",
    "from sklearn.datasets import fetch_20newsgroups\n",
    "from nltk.corpus import names\n",
    "from nltk.stem import WordNetLemmatizer\n",
    "from sklearn.decomposition import NMF\n",
    "\n",
    "\n",
    "cv = CountVectorizer(stop_words=\"english\", max_features=500)\n",
    "groups = fetch_20newsgroups()\n",
    "cleaned = []\n",
    "all_names = set(names.words())\n",
    "lemmatizer = WordNetLemmatizer()\n",
    "\n",
    "# 数据清洗\n",
    "for post in groups.data:  \n",
    "    cleaned.append(' '.join([lemmatizer.lemmatize(word.lower())\n",
    "                             for word in post.split()\n",
    "                             if letter_only(word)\n",
    "                             and word not in all_names]))\n",
    "\n",
    "transformed = cv.fit_transform(cleaned)\n",
    "nmf = NMF(n_components=100, random_state=43).fit(transformed)  # 分100个topics\n",
    "\n",
    "#print这100个主题\n",
    "for topic_idx, topic in enumerate(nmf.components_):\n",
    "    label = '{}: '.format(topic_idx)\n",
    "    print(label, \" \".join([cv.get_feature_names()[i]\n",
    "                           for i in topic.argsort()[:-9:-1]]))\n"
   ]
  },
  {
   "cell_type": "code",
   "execution_count": null,
   "metadata": {
    "collapsed": true
   },
   "outputs": [],
   "source": []
  }
 ],
 "metadata": {
  "kernelspec": {
   "display_name": "Python 3",
   "language": "python",
   "name": "python3"
  },
  "language_info": {
   "codemirror_mode": {
    "name": "ipython",
    "version": 3
   },
   "file_extension": ".py",
   "mimetype": "text/x-python",
   "name": "python",
   "nbconvert_exporter": "python",
   "pygments_lexer": "ipython3",
   "version": "3.6.0"
  }
 },
 "nbformat": 4,
 "nbformat_minor": 2
}

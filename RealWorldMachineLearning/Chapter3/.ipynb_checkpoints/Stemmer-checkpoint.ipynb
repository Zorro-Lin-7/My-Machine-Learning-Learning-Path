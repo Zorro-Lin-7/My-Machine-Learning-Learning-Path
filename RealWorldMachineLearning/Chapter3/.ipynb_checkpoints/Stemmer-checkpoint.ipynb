{
 "cells": [
  {
   "cell_type": "markdown",
   "metadata": {
    "collapsed": true
   },
   "source": [
    "我们会遇到一个单词的不同形态，比如play,playing,plays,player, 他们基本含义相近。\n",
    "\n",
    "文本分析中，提取这些词的【原型】非常有用，它能帮助我们获得一些统计量 以分析整个文本。\n",
    "\n",
    "截词（提取词干）的目的是不同的形态的单词 约简为 同一个原型，采用的方式是“启发式处理”——截断单词词尾。"
   ]
  },
  {
   "cell_type": "code",
   "execution_count": 1,
   "metadata": {
    "collapsed": true
   },
   "outputs": [],
   "source": [
    "from nltk.stem.porter import PorterStemmer\n",
    "from nltk.stem.lancaster import LancasterStemmer\n",
    "from nltk.stem.snowball import SnowballStemmer"
   ]
  },
  {
   "cell_type": "code",
   "execution_count": 2,
   "metadata": {
    "collapsed": true
   },
   "outputs": [],
   "source": [
    "words = ['table', 'probably', 'wolves', 'playing', 'is', \n",
    "        'dog', 'the', 'beaches', 'grounded', 'dreamt', 'envision']"
   ]
  },
  {
   "cell_type": "code",
   "execution_count": null,
   "metadata": {
    "collapsed": true
   },
   "outputs": [],
   "source": [
    "# Compare different stemmers\n",
    "stemmers = ['PORTER', 'LANCASTER', 'SNOWBALL']\n",
    "stemmer_porter = PorterStemmer()\n",
    "stemmer_lancaster = LancasterStemmer()\n",
    "stemmer_snowball = SnowballStemmer('english')\n",
    "\n",
    "formatted_row = '{:>16}' * (len(stemmers) + 1)\n",
    "print '\\n', formatted_row.format('WORD', *stemmers), '\\n'\n",
    "for word in words:\n",
    "    stemmed_words = [stemmer_porter.stem(word), \n",
    "            stemmer_lancaster.stem(word), stemmer_snowball.stem(word)]\n",
    "    print formatted_row.format(word, *stemmed_words)"
   ]
  },
  {
   "cell_type": "code",
   "execution_count": 13,
   "metadata": {
    "collapsed": false
   },
   "outputs": [
    {
     "name": "stdout",
     "output_type": "stream",
     "text": [
      "\n",
      "             WORD          PORTER       LANCASTER        SNOWBALL \n",
      "\n",
      "           table            tabl            tabl            tabl\n",
      "        probably         probabl            prob         probabl\n",
      "          wolves            wolv            wolv            wolv\n",
      "         playing            play            play            play\n",
      "              is              is              is              is\n",
      "             dog             dog             dog             dog\n",
      "             the             the             the             the\n",
      "         beaches           beach           beach           beach\n",
      "        grounded          ground          ground          ground\n",
      "          dreamt          dreamt          dreamt          dreamt\n",
      "        envision           envis           envid           envis\n"
     ]
    }
   ],
   "source": [
    "# Compare different stemmers\n",
    "stemmers = [\"PORTER\", 'LANCASTER', 'SNOWBALL']\n",
    "stemmer_porter = PorterStemmer()    # initialize the required objects\n",
    "stemmer_lancaster = LancasterStemmer()\n",
    "stemmer_snowball = SnowballStemmer('english')\n",
    "\n",
    "# 为了让output 排列整齐，进行字符串格式化\n",
    "formatted_row = '{:>16}' * (len(stemmers) + 1)  # output:'{:>16}{:>16}{:>16}{:>16}'\n",
    "print('\\n', formatted_row.format(\"WORD\", *stemmers),'\\n')\n",
    "for word in words:\n",
    "    stemmed_words = [stemmer_porter.stem(word),stemmer_lancaster.stem(word), stemmer_snowball.stem(word)]\n",
    "    print(formatted_row.format(word, *stemmed_words))  # 参数"
   ]
  },
  {
   "cell_type": "markdown",
   "metadata": {},
   "source": [
    "三个stemmers 本质区别在 截词操作的严格程度上，Lancaster 最严格，Porter最松散。\n",
    "\n",
    "Lancaster算法相当快，但约简太多会使词义模糊。\n",
    "\n",
    "惯用的是采用Snowball stemmer\n"
   ]
  },
  {
   "cell_type": "code",
   "execution_count": null,
   "metadata": {
    "collapsed": true
   },
   "outputs": [],
   "source": []
  }
 ],
 "metadata": {
  "kernelspec": {
   "display_name": "Python 3",
   "language": "python",
   "name": "python3"
  },
  "language_info": {
   "codemirror_mode": {
    "name": "ipython",
    "version": 3
   },
   "file_extension": ".py",
   "mimetype": "text/x-python",
   "name": "python",
   "nbconvert_exporter": "python",
   "pygments_lexer": "ipython3",
   "version": "3.6.0"
  }
 },
 "nbformat": 4,
 "nbformat_minor": 2
}

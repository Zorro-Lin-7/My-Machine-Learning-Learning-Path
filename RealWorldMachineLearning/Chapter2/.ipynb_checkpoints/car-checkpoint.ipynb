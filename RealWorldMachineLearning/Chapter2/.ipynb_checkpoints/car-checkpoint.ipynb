{
 "cells": [
  {
   "cell_type": "code",
   "execution_count": 1,
   "metadata": {
    "collapsed": true
   },
   "outputs": [],
   "source": [
    "import numpy as np\n",
    "import pandas as pd\n",
    "import matplotlib.pyplot as plt\n",
    "from sklearn import preprocessing\n",
    "from sklearn.ensemble import RandomForestClassifier\n",
    "from IPython.core.interactiveshell import InteractiveShell\n",
    "\n",
    "InteractiveShell.ast_node_interactivity = 'all'\n",
    "%matplotlib inline"
   ]
  },
  {
   "cell_type": "code",
   "execution_count": 2,
   "metadata": {
    "collapsed": true
   },
   "outputs": [],
   "source": [
    "df = pd.read_csv('car.data.txt',header=None,index_col=False,names=['buying','maint','doors','persons','lug_boot','safety','quality'])\n"
   ]
  },
  {
   "cell_type": "code",
   "execution_count": 3,
   "metadata": {
    "collapsed": false
   },
   "outputs": [
    {
     "data": {
      "text/html": [
       "<div>\n",
       "<table border=\"1\" class=\"dataframe\">\n",
       "  <thead>\n",
       "    <tr style=\"text-align: right;\">\n",
       "      <th></th>\n",
       "      <th>buying</th>\n",
       "      <th>maint</th>\n",
       "      <th>doors</th>\n",
       "      <th>persons</th>\n",
       "      <th>lug_boot</th>\n",
       "      <th>safety</th>\n",
       "    </tr>\n",
       "  </thead>\n",
       "  <tbody>\n",
       "    <tr>\n",
       "      <th>0</th>\n",
       "      <td>vhigh</td>\n",
       "      <td>vhigh</td>\n",
       "      <td>2</td>\n",
       "      <td>2</td>\n",
       "      <td>small</td>\n",
       "      <td>low</td>\n",
       "    </tr>\n",
       "  </tbody>\n",
       "</table>\n",
       "</div>"
      ],
      "text/plain": [
       "  buying  maint doors persons lug_boot safety\n",
       "0  vhigh  vhigh     2       2    small    low"
      ]
     },
     "execution_count": 3,
     "metadata": {},
     "output_type": "execute_result"
    }
   ],
   "source": [
    "# 同时处理预处理测试集\n",
    "unknown_data = pd.DataFrame(np.array(['vhigh', 'vhigh', '2', '2', 'small', 'low']).reshape(1,6),columns=['buying','maint','doors','persons','lug_boot','safety'])\n",
    "unknown_data"
   ]
  },
  {
   "cell_type": "code",
   "execution_count": 4,
   "metadata": {
    "collapsed": false
   },
   "outputs": [
    {
     "data": {
      "text/html": [
       "<div>\n",
       "<table border=\"1\" class=\"dataframe\">\n",
       "  <thead>\n",
       "    <tr style=\"text-align: right;\">\n",
       "      <th></th>\n",
       "      <th>buying</th>\n",
       "      <th>doors</th>\n",
       "      <th>lug_boot</th>\n",
       "      <th>maint</th>\n",
       "      <th>persons</th>\n",
       "      <th>quality</th>\n",
       "      <th>safety</th>\n",
       "    </tr>\n",
       "  </thead>\n",
       "  <tbody>\n",
       "    <tr>\n",
       "      <th>1724</th>\n",
       "      <td>low</td>\n",
       "      <td>5more</td>\n",
       "      <td>med</td>\n",
       "      <td>low</td>\n",
       "      <td>more</td>\n",
       "      <td>vgood</td>\n",
       "      <td>high</td>\n",
       "    </tr>\n",
       "    <tr>\n",
       "      <th>1725</th>\n",
       "      <td>low</td>\n",
       "      <td>5more</td>\n",
       "      <td>big</td>\n",
       "      <td>low</td>\n",
       "      <td>more</td>\n",
       "      <td>unacc</td>\n",
       "      <td>low</td>\n",
       "    </tr>\n",
       "    <tr>\n",
       "      <th>1726</th>\n",
       "      <td>low</td>\n",
       "      <td>5more</td>\n",
       "      <td>big</td>\n",
       "      <td>low</td>\n",
       "      <td>more</td>\n",
       "      <td>good</td>\n",
       "      <td>med</td>\n",
       "    </tr>\n",
       "    <tr>\n",
       "      <th>1727</th>\n",
       "      <td>low</td>\n",
       "      <td>5more</td>\n",
       "      <td>big</td>\n",
       "      <td>low</td>\n",
       "      <td>more</td>\n",
       "      <td>vgood</td>\n",
       "      <td>high</td>\n",
       "    </tr>\n",
       "    <tr>\n",
       "      <th>0</th>\n",
       "      <td>vhigh</td>\n",
       "      <td>2</td>\n",
       "      <td>small</td>\n",
       "      <td>vhigh</td>\n",
       "      <td>2</td>\n",
       "      <td>NaN</td>\n",
       "      <td>low</td>\n",
       "    </tr>\n",
       "  </tbody>\n",
       "</table>\n",
       "</div>"
      ],
      "text/plain": [
       "     buying  doors lug_boot  maint persons quality safety\n",
       "1724    low  5more      med    low    more   vgood   high\n",
       "1725    low  5more      big    low    more   unacc    low\n",
       "1726    low  5more      big    low    more    good    med\n",
       "1727    low  5more      big    low    more   vgood   high\n",
       "0     vhigh      2    small  vhigh       2     NaN    low"
      ]
     },
     "execution_count": 4,
     "metadata": {},
     "output_type": "execute_result"
    }
   ],
   "source": [
    "alldata=df.append(unknown_data)\n",
    "alldata.tail()"
   ]
  },
  {
   "cell_type": "markdown",
   "metadata": {},
   "source": [
    "## Convert string data to numerical data\n",
    "## 本例中分类变量数值大小有意义，比如 High-3 > Med-2> low-1，所以不适合用pd.get_dummies "
   ]
  },
  {
   "cell_type": "code",
   "execution_count": 5,
   "metadata": {
    "collapsed": true
   },
   "outputs": [],
   "source": [
    "le = preprocessing.LabelEncoder()"
   ]
  },
  {
   "cell_type": "code",
   "execution_count": 6,
   "metadata": {
    "collapsed": true
   },
   "outputs": [],
   "source": [
    "X_encoded=alldata[['buying','maint','doors','persons','lug_boot','safety']].apply(le.fit_transform)"
   ]
  },
  {
   "cell_type": "code",
   "execution_count": 7,
   "metadata": {
    "collapsed": true
   },
   "outputs": [],
   "source": [
    "X_test = X_encoded.tail(1)\n",
    "X = X_encoded[:-1]"
   ]
  },
  {
   "cell_type": "code",
   "execution_count": 8,
   "metadata": {
    "collapsed": false
   },
   "outputs": [],
   "source": [
    "y = alldata['quality'][:-1]\n",
    "y = le.fit_transform(y)"
   ]
  },
  {
   "cell_type": "markdown",
   "metadata": {},
   "source": [
    "## Build a Random Forest Classifier  "
   ]
  },
  {
   "cell_type": "code",
   "execution_count": 9,
   "metadata": {
    "collapsed": false
   },
   "outputs": [
    {
     "data": {
      "text/plain": [
       "RandomForestClassifier(bootstrap=True, class_weight=None, criterion='gini',\n",
       "            max_depth=8, max_features='auto', max_leaf_nodes=None,\n",
       "            min_impurity_split=1e-07, min_samples_leaf=1,\n",
       "            min_samples_split=2, min_weight_fraction_leaf=0.0,\n",
       "            n_estimators=200, n_jobs=1, oob_score=False, random_state=7,\n",
       "            verbose=0, warm_start=False)"
      ]
     },
     "execution_count": 9,
     "metadata": {},
     "output_type": "execute_result"
    }
   ],
   "source": [
    "param = {'n_estimators': 200, 'max_depth': 8, 'random_state': 7}\n",
    "classifier = RandomForestClassifier(**param)\n",
    "classifier.fit(X, y)"
   ]
  },
  {
   "cell_type": "markdown",
   "metadata": {},
   "source": [
    "## Cross validation "
   ]
  },
  {
   "cell_type": "code",
   "execution_count": 10,
   "metadata": {
    "collapsed": false
   },
   "outputs": [
    {
     "name": "stderr",
     "output_type": "stream",
     "text": [
      "/Users/linzhun/anaconda/lib/python3.6/site-packages/sklearn/cross_validation.py:44: DeprecationWarning: This module was deprecated in version 0.18 in favor of the model_selection module into which all the refactored classes and functions are moved. Also note that the interface of the new CV iterators are different from that of this module. This module will be removed in 0.20.\n",
      "  \"This module will be removed in 0.20.\", DeprecationWarning)\n"
     ]
    },
    {
     "name": "stdout",
     "output_type": "stream",
     "text": [
      "[ 0.72790295  0.81597222  0.80173913]\n"
     ]
    }
   ],
   "source": [
    "from sklearn import cross_validation\n",
    "accuracy = cross_validation.cross_val_score(classifier, X, y, scoring='accuracy', cv=3)\n",
    "print(accuracy)"
   ]
  },
  {
   "cell_type": "code",
   "execution_count": 11,
   "metadata": {
    "collapsed": false
   },
   "outputs": [
    {
     "name": "stdout",
     "output_type": "stream",
     "text": [
      "Accuracy of the classifier: 78.19%\n"
     ]
    }
   ],
   "source": [
    "print(\"Accuracy of the classifier: \" + str(round(100*accuracy.mean(), 2)) + \"%\")"
   ]
  },
  {
   "cell_type": "code",
   "execution_count": 12,
   "metadata": {
    "collapsed": false
   },
   "outputs": [
    {
     "data": {
      "text/plain": [
       "array([2])"
      ]
     },
     "execution_count": 12,
     "metadata": {},
     "output_type": "execute_result"
    }
   ],
   "source": [
    "y_pred = classifier.predict(X_test)\n",
    "y_pred"
   ]
  },
  {
   "cell_type": "code",
   "execution_count": 13,
   "metadata": {
    "collapsed": false
   },
   "outputs": [
    {
     "name": "stdout",
     "output_type": "stream",
     "text": [
      "output class:  unacc\n"
     ]
    }
   ],
   "source": [
    "print(\"output class: \",le.inverse_transform(y_pred)[0])"
   ]
  },
  {
   "cell_type": "markdown",
   "metadata": {},
   "source": [
    "# Validation Curves\n",
    "\n",
    "* 上面我们创建了随机森林分类器，那么接下来，（调参时）我们怎么准确地 确定最优的 parameters ？\n",
    "* 下面，我们处理2个参数：n_estimators 和 max_depth 。它们被称作“超参数Hyperparameters\",分类器的性能依赖它们。通过改变超参数，看看性能如何受影响\n",
    "* validation curves 帮助我们理解一个超参数如何影响train score. 本质上，其他超参数给定固定值，只在规定范围内变化我们感兴趣的超参数\n"
   ]
  },
  {
   "cell_type": "code",
   "execution_count": 14,
   "metadata": {
    "collapsed": false
   },
   "outputs": [
    {
     "name": "stderr",
     "output_type": "stream",
     "text": [
      "/Users/linzhun/anaconda/lib/python3.6/site-packages/sklearn/learning_curve.py:23: DeprecationWarning: This module was deprecated in version 0.18 in favor of the model_selection module into which all the functions are moved. This module will be removed in 0.20\n",
      "  DeprecationWarning)\n"
     ]
    }
   ],
   "source": [
    "from sklearn.learning_curve import validation_curve "
   ]
  },
  {
   "cell_type": "code",
   "execution_count": 15,
   "metadata": {
    "collapsed": false
   },
   "outputs": [
    {
     "name": "stdout",
     "output_type": "stream",
     "text": [
      "[ 25  50  75 100 125 150 175 200]\n",
      "[[ 0.80680174  0.80824891  0.80752533  0.80463097  0.81358382]\n",
      " [ 0.79522431  0.80535456  0.81041968  0.8089725   0.81069364]\n",
      " [ 0.80101302  0.80680174  0.81114327  0.81476122  0.8150289 ]\n",
      " [ 0.8024602   0.80535456  0.81186686  0.80752533  0.80346821]\n",
      " [ 0.80028944  0.80463097  0.81114327  0.80824891  0.81069364]\n",
      " [ 0.80390738  0.80535456  0.81041968  0.80969609  0.81647399]\n",
      " [ 0.80390738  0.80463097  0.81114327  0.81476122  0.81719653]\n",
      " [ 0.80390738  0.80607815  0.81114327  0.81403763  0.81647399]]\n"
     ]
    }
   ],
   "source": [
    "classifier = RandomForestClassifier(max_depth=4,random_state=7)  # max_depth为固定值4\n",
    "parameter_grid = np.linspace(25,200,8).astype(int)  # 均匀分割区间. define our search space \n",
    "print(parameter_grid)   # n_estimators 从25-200 取值，迭代8次\n",
    "train_score, validation_score = validation_curve(classifier, X, y, 'n_estimators', parameter_grid,cv=5)\n",
    "print(train_score)   # cv=5 折，所以 output 是 8 x 5"
   ]
  },
  {
   "cell_type": "code",
   "execution_count": 16,
   "metadata": {
    "collapsed": false
   },
   "outputs": [
    {
     "data": {
      "text/plain": [
       "<matplotlib.figure.Figure at 0x115837f60>"
      ]
     },
     "execution_count": 16,
     "metadata": {},
     "output_type": "execute_result"
    },
    {
     "data": {
      "text/plain": [
       "[<matplotlib.lines.Line2D at 0x115908d68>]"
      ]
     },
     "execution_count": 16,
     "metadata": {},
     "output_type": "execute_result"
    },
    {
     "data": {
      "text/plain": [
       "<matplotlib.text.Text at 0x1158de048>"
      ]
     },
     "execution_count": 16,
     "metadata": {},
     "output_type": "execute_result"
    },
    {
     "data": {
      "text/plain": [
       "<matplotlib.text.Text at 0x11597bf28>"
      ]
     },
     "execution_count": 16,
     "metadata": {},
     "output_type": "execute_result"
    },
    {
     "data": {
      "text/plain": [
       "<matplotlib.text.Text at 0x1158bf588>"
      ]
     },
     "execution_count": 16,
     "metadata": {},
     "output_type": "execute_result"
    },
    {
     "data": {
      "image/png": "[encoded data removed]",
      "text/plain": [
       "<matplotlib.figure.Figure at 0x115837f60>"
      ]
     },
     "metadata": {},
     "output_type": "display_data"
    }
   ],
   "source": [
    "# Plot the curve\n",
    "\n",
    "plt.figure()\n",
    "plt.plot(parameter_grid,100*np.average(train_score,axis=1))\n",
    "plt.title(\"Validation Curve\")\n",
    "plt.xlabel('Number of estimators')\n",
    "plt.ylabel('Accuracy')\n",
    "plt.show()"
   ]
  },
  {
   "cell_type": "code",
   "execution_count": 17,
   "metadata": {
    "collapsed": false
   },
   "outputs": [
    {
     "name": "stdout",
     "output_type": "stream",
     "text": [
      "[[ 0.71852388  0.70043415  0.70043415  0.70043415  0.69942197]\n",
      " [ 0.80607815  0.80535456  0.80752533  0.79450072  0.81069364]\n",
      " [ 0.90665702  0.91027496  0.92836469  0.89797395  0.90679191]\n",
      " [ 0.97467438  0.96743849  0.96888567  0.97829233  0.96820809]\n",
      " [ 0.99421129  0.99710564  0.99782923  0.99855282  0.99277457]]\n"
     ]
    },
    {
     "data": {
      "text/plain": [
       "<matplotlib.figure.Figure at 0x1158d52b0>"
      ]
     },
     "execution_count": 17,
     "metadata": {},
     "output_type": "execute_result"
    },
    {
     "data": {
      "text/plain": [
       "[<matplotlib.lines.Line2D at 0x115ab2160>]"
      ]
     },
     "execution_count": 17,
     "metadata": {},
     "output_type": "execute_result"
    },
    {
     "data": {
      "text/plain": [
       "<matplotlib.text.Text at 0x115a88e80>"
      ]
     },
     "execution_count": 17,
     "metadata": {},
     "output_type": "execute_result"
    },
    {
     "data": {
      "text/plain": [
       "<matplotlib.text.Text at 0x115a4a8d0>"
      ]
     },
     "execution_count": 17,
     "metadata": {},
     "output_type": "execute_result"
    },
    {
     "data": {
      "text/plain": [
       "<matplotlib.text.Text at 0x115a57710>"
      ]
     },
     "execution_count": 17,
     "metadata": {},
     "output_type": "execute_result"
    },
    {
     "data": {
      "image/png": "[encoded data removed]",
      "text/plain": [
       "<matplotlib.figure.Figure at 0x1158d52b0>"
      ]
     },
     "metadata": {},
     "output_type": "display_data"
    }
   ],
   "source": [
    "# do the same for the max_depth parameter:\n",
    "classifier = RandomForestClassifier(n_estimators=20, random_state=7)\n",
    "parameter_grid = np.linspace(2,10,5).astype(int)\n",
    "train_score, validation_score = validation_curve(classifier,X,y,'max_depth',parameter_grid,cv=5)\n",
    "print(train_score)\n",
    "plt.figure()\n",
    "plt.plot(parameter_grid,100*np.average(train_score,axis=1))\n",
    "plt.title(\"Validation Curve\")\n",
    "plt.xlabel('Max depth')\n",
    "plt.ylabel('Accuracy')\n",
    "plt.show()"
   ]
  },
  {
   "cell_type": "markdown",
   "metadata": {},
   "source": [
    "# Learning Curves\n",
    "\n",
    "* 学习曲线帮助我们理解 训练集大小对模型的影响\n",
    "* 这在计算力有限时非常有用"
   ]
  },
  {
   "cell_type": "code",
   "execution_count": 18,
   "metadata": {
    "collapsed": true
   },
   "outputs": [],
   "source": [
    "from sklearn.learning_curve import learning_curve"
   ]
  },
  {
   "cell_type": "code",
   "execution_count": 19,
   "metadata": {
    "collapsed": false
   },
   "outputs": [
    {
     "name": "stdout",
     "output_type": "stream",
     "text": [
      "\n",
      "#### LEARNING CURVES ####\n",
      "\n",
      "Training scores:\n",
      " [[ 1.          1.          1.          1.          1.        ]\n",
      " [ 1.          1.          0.998       0.998       0.998     ]\n",
      " [ 0.99875     0.9975      0.99875     0.99875     0.99875   ]\n",
      " [ 0.99818182  0.99545455  0.99909091  0.99818182  0.99818182]]\n",
      "\n",
      "Validation scores:\n",
      " [[ 0.69942197  0.69942197  0.69942197  0.69942197  0.70348837]\n",
      " [ 0.74855491  0.65028902  0.76878613  0.76589595  0.70348837]\n",
      " [ 0.70520231  0.78612717  0.52312139  0.76878613  0.77034884]\n",
      " [ 0.65028902  0.75433526  0.65317919  0.75433526  0.76744186]]\n"
     ]
    },
    {
     "data": {
      "text/plain": [
       "<matplotlib.figure.Figure at 0x115819b70>"
      ]
     },
     "execution_count": 19,
     "metadata": {},
     "output_type": "execute_result"
    },
    {
     "data": {
      "text/plain": [
       "[<matplotlib.lines.Line2D at 0x115bc05c0>]"
      ]
     },
     "execution_count": 19,
     "metadata": {},
     "output_type": "execute_result"
    },
    {
     "data": {
      "text/plain": [
       "<matplotlib.text.Text at 0x115c51240>"
      ]
     },
     "execution_count": 19,
     "metadata": {},
     "output_type": "execute_result"
    },
    {
     "data": {
      "text/plain": [
       "<matplotlib.text.Text at 0x115b6dac8>"
      ]
     },
     "execution_count": 19,
     "metadata": {},
     "output_type": "execute_result"
    },
    {
     "data": {
      "text/plain": [
       "<matplotlib.text.Text at 0x1158b8a58>"
      ]
     },
     "execution_count": 19,
     "metadata": {},
     "output_type": "execute_result"
    },
    {
     "data": {
      "image/png": "[encoded data removed]",
      "text/plain": [
       "<matplotlib.figure.Figure at 0x115819b70>"
      ]
     },
     "metadata": {},
     "output_type": "display_data"
    },
    {
     "name": "stdout",
     "output_type": "stream",
     "text": [
      "Average:  [ 100.           99.88         99.85         99.78181818]\n"
     ]
    }
   ],
   "source": [
    "classifier = RandomForestClassifier(random_state=7)\n",
    "\n",
    "parameter_grid = np.array([200, 500, 800, 1100])\n",
    "train_sizes, train_scores, validation_scores = learning_curve(classifier, X, y, train_sizes=parameter_grid,cv=5)\n",
    "\n",
    "print(\"\\n#### LEARNING CURVES ####\")\n",
    "print(\"\\nTraining scores:\\n\", train_scores)\n",
    "print(\"\\nValidation scores:\\n\", validation_scores)\n",
    "\n",
    "# Plot the curve\n",
    "plt.figure()\n",
    "plt.plot(parameter_grid, 100*np.average(train_scores,axis=1))\n",
    "plt.title('Learning Curve')\n",
    "plt.xlabel(\"Number of training samples\")\n",
    "plt.ylabel(\"Accuracy\")\n",
    "plt.show()\n",
    "print(\"Average: \",100*np.average(train_scores,axis=1))"
   ]
  },
  {
   "cell_type": "markdown",
   "metadata": {},
   "source": [
    "训练集越小，准确度越高，但也易于过拟合；\n",
    "训练集越大，消耗的计算资源越多。因此我们需要做权衡。"
   ]
  },
  {
   "cell_type": "code",
   "execution_count": null,
   "metadata": {
    "collapsed": true
   },
   "outputs": [],
   "source": []
  }
 ],
 "metadata": {
  "kernelspec": {
   "display_name": "Python 3",
   "language": "python",
   "name": "python3"
  },
  "language_info": {
   "codemirror_mode": {
    "name": "ipython",
    "version": 3
   },
   "file_extension": ".py",
   "mimetype": "text/x-python",
   "name": "python",
   "nbconvert_exporter": "python",
   "pygments_lexer": "ipython3",
   "version": "3.6.0"
  }
 },
 "nbformat": 4,
 "nbformat_minor": 2
}

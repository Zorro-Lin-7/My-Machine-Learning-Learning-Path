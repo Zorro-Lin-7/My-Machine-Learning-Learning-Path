{
 "cells": [
  {
   "cell_type": "code",
   "execution_count": 1,
   "metadata": {
    "collapsed": true
   },
   "outputs": [],
   "source": [
    "import numpy as np\n",
    "from sklearn import linear_model\n",
    "import matplotlib.pyplot as plt\n",
    "from IPython.core.interactiveshell import InteractiveShell\n",
    "InteractiveShell.ast_node_interactivity = 'all'\n",
    "%matplotlib inline"
   ]
  },
  {
   "cell_type": "code",
   "execution_count": 2,
   "metadata": {
    "collapsed": true
   },
   "outputs": [],
   "source": [
    "X = np.array([[4, 7], [3.5, 8], [3.1, 6.2], [0.5, 1], [1, 2], [1.2, 1.9], [6, 2], [5.7, 1.5], [5.4, 2.2]])\n",
    "y = np.array([0, 0, 0, 1, 1, 1, 2, 2, 2])"
   ]
  },
  {
   "cell_type": "code",
   "execution_count": 3,
   "metadata": {
    "collapsed": true
   },
   "outputs": [],
   "source": [
    "classifier100 = linear_model.LogisticRegression(solver='liblinear', C=100)\n",
    "classifier1 = linear_model.LogisticRegression(solver='liblinear', C=1)\n",
    "classifier1000 = linear_model.LogisticRegression(solver='liblinear', C=10000)\n",
    "\n",
    "#参数 solver 指定解方程组的算法有不同。\n",
    "#参数 C 控制正则项的强度，值越大，对误分类的惩罚越强"
   ]
  },
  {
   "cell_type": "code",
   "execution_count": 4,
   "metadata": {
    "collapsed": false
   },
   "outputs": [
    {
     "data": {
      "text/plain": [
       "LogisticRegression(C=100, class_weight=None, dual=False, fit_intercept=True,\n",
       "          intercept_scaling=1, max_iter=100, multi_class='ovr', n_jobs=1,\n",
       "          penalty='l2', random_state=None, solver='liblinear', tol=0.0001,\n",
       "          verbose=0, warm_start=False)"
      ]
     },
     "execution_count": 4,
     "metadata": {},
     "output_type": "execute_result"
    },
    {
     "data": {
      "text/plain": [
       "LogisticRegression(C=1, class_weight=None, dual=False, fit_intercept=True,\n",
       "          intercept_scaling=1, max_iter=100, multi_class='ovr', n_jobs=1,\n",
       "          penalty='l2', random_state=None, solver='liblinear', tol=0.0001,\n",
       "          verbose=0, warm_start=False)"
      ]
     },
     "execution_count": 4,
     "metadata": {},
     "output_type": "execute_result"
    },
    {
     "data": {
      "text/plain": [
       "LogisticRegression(C=10000, class_weight=None, dual=False, fit_intercept=True,\n",
       "          intercept_scaling=1, max_iter=100, multi_class='ovr', n_jobs=1,\n",
       "          penalty='l2', random_state=None, solver='liblinear', tol=0.0001,\n",
       "          verbose=0, warm_start=False)"
      ]
     },
     "execution_count": 4,
     "metadata": {},
     "output_type": "execute_result"
    }
   ],
   "source": [
    "classifier100.fit(X, y)\n",
    "classifier1.fit(X, y)\n",
    "classifier1000.fit(X, y)"
   ]
  },
  {
   "cell_type": "code",
   "execution_count": 5,
   "metadata": {
    "collapsed": false
   },
   "outputs": [
    {
     "data": {
      "image/png": "[encoded data removed]",
      "text/plain": [
       "<matplotlib.figure.Figure at 0x1104bb2b0>"
      ]
     },
     "metadata": {},
     "output_type": "display_data"
    },
    {
     "data": {
      "image/png": "[encoded data removed]",
      "text/plain": [
       "<matplotlib.figure.Figure at 0x1104bb240>"
      ]
     },
     "metadata": {},
     "output_type": "display_data"
    },
    {
     "data": {
      "image/png": "[encoded data removed]",
      "text/plain": [
       "<matplotlib.figure.Figure at 0x110843a58>"
      ]
     },
     "metadata": {},
     "output_type": "display_data"
    }
   ],
   "source": [
    "# 画图的原理是，一个坐标系，分成 n x m 个网格点，对这些网格（点）填充不同的颜色。\n",
    "# 具体地，先定义坐标图的尺寸x_min,x_max,y_min,y_max\n",
    "# 根据x、y轴的x_min,x_max,y_min,y_max分出网格图，各网格点有相应的坐标，将这些网格点也当作训练数据代入训练好的分类器；\n",
    "# 同时对test data 预测分类，上色。\n",
    "\n",
    "def plot_classifier(classifier, X, y):\n",
    "    # define ranges to plot the figure\n",
    "    x_min, x_max = min(X[:, 0]) - 1.0, max(X[:, 0]) + 1.0\n",
    "    y_min, y_max = min(X[:, 1]) - 1.0, max(X[:, 1]) + 1.0\n",
    "    \n",
    "    # 画边界线\n",
    "    # denote the step size that will be used in the mesh grid\n",
    "    step_size = 0.01\n",
    "    \n",
    "    # define the mesh grid（坐标网格） x_values 和 y_values 变量包含一组网格点，这些点的坐标值将被求出\n",
    "    x_values, y_values = np.meshgrid(np.arange(x_min, x_max, step_size), np.arange(y_min, y_max, step_size))\n",
    "    \n",
    "    # compute the classifier output\n",
    "    mesh_output = classifier.predict(np.c_[x_values.ravel(), y_values.ravel()])\n",
    "    \n",
    "    # reshape the array\n",
    "    mesh_output = mesh_output.reshape(x_values.shape)\n",
    "    \n",
    "    # Plot the output using a colored plot\n",
    "    plt.figure()\n",
    "    \n",
    "    # choose a color scheme \n",
    "    plt.pcolormesh(x_values, y_values, mesh_output, cmap=plt.cm.summer)\n",
    "    \n",
    "    # Overlay the training points on the plot\n",
    "    plt.scatter(X[:, 0], X[:, 1], c=y, s=80, edgecolors='black', linewidth=1, cmap=plt.cm.spring_r)\n",
    "    \n",
    "    # specify the boundaries of the figure. The limits of the display figure are set using plt.xlim and plt.ylim.\n",
    "    plt.xlim(x_values.min(), x_values.max())\n",
    "    plt.ylim(y_values.min(), y_values.max())\n",
    "\n",
    "    # specify the ticks on the X and Y axes in order to see where the points are located\n",
    "    plt.xticks((np.arange(int(min(X[:, 0])-1), int(max(X[:, 0])+1), 1.0)))\n",
    "    plt.yticks((np.arange(int(min(X[:, 1])-1), int(max(X[:, 1])+1), 1.0)))\n",
    "    plt.show()\n",
    "    \n",
    "\n",
    "plot_classifier(classifier1, X, y)\n",
    "plot_classifier(classifier100, X, y)\n",
    "plot_classifier(classifier1000, X, y)"
   ]
  },
  {
   "cell_type": "markdown",
   "metadata": {},
   "source": [
    "## 画分界线详解"
   ]
  },
  {
   "cell_type": "code",
   "execution_count": 6,
   "metadata": {
    "collapsed": false
   },
   "outputs": [
    {
     "data": {
      "text/plain": [
       "array([[ 4. ,  7. ],\n",
       "       [ 3.5,  8. ],\n",
       "       [ 3.1,  6.2],\n",
       "       [ 0.5,  1. ],\n",
       "       [ 1. ,  2. ],\n",
       "       [ 1.2,  1.9],\n",
       "       [ 6. ,  2. ],\n",
       "       [ 5.7,  1.5],\n",
       "       [ 5.4,  2.2]])"
      ]
     },
     "execution_count": 6,
     "metadata": {},
     "output_type": "execute_result"
    },
    {
     "data": {
      "text/plain": [
       "array([0, 0, 0, 1, 1, 1, 2, 2, 2])"
      ]
     },
     "execution_count": 6,
     "metadata": {},
     "output_type": "execute_result"
    }
   ],
   "source": [
    "X\n",
    "y"
   ]
  },
  {
   "cell_type": "code",
   "execution_count": 7,
   "metadata": {
    "collapsed": false
   },
   "outputs": [
    {
     "data": {
      "text/plain": [
       "(-0.5, 7.0)"
      ]
     },
     "execution_count": 7,
     "metadata": {},
     "output_type": "execute_result"
    }
   ],
   "source": [
    "x_min, x_max = min(X[:, 0]) - 1.0, max(X[:, 0]) + 1.0\n",
    "y_min, y_max = min(X[:, 1]) - 1.0, max(X[:, 1]) + 1.0\n",
    "x_min, x_max"
   ]
  },
  {
   "cell_type": "code",
   "execution_count": 8,
   "metadata": {
    "collapsed": false
   },
   "outputs": [
    {
     "data": {
      "text/plain": [
       "array([[-0.5 , -0.49, -0.48, ...,  6.97,  6.98,  6.99],\n",
       "       [-0.5 , -0.49, -0.48, ...,  6.97,  6.98,  6.99],\n",
       "       [-0.5 , -0.49, -0.48, ...,  6.97,  6.98,  6.99],\n",
       "       ..., \n",
       "       [-0.5 , -0.49, -0.48, ...,  6.97,  6.98,  6.99],\n",
       "       [-0.5 , -0.49, -0.48, ...,  6.97,  6.98,  6.99],\n",
       "       [-0.5 , -0.49, -0.48, ...,  6.97,  6.98,  6.99]])"
      ]
     },
     "execution_count": 8,
     "metadata": {},
     "output_type": "execute_result"
    },
    {
     "data": {
      "text/plain": [
       "(900, 750)"
      ]
     },
     "execution_count": 8,
     "metadata": {},
     "output_type": "execute_result"
    },
    {
     "data": {
      "text/plain": [
       "array([[ 0.  ,  0.  ,  0.  , ...,  0.  ,  0.  ,  0.  ],\n",
       "       [ 0.01,  0.01,  0.01, ...,  0.01,  0.01,  0.01],\n",
       "       [ 0.02,  0.02,  0.02, ...,  0.02,  0.02,  0.02],\n",
       "       ..., \n",
       "       [ 8.97,  8.97,  8.97, ...,  8.97,  8.97,  8.97],\n",
       "       [ 8.98,  8.98,  8.98, ...,  8.98,  8.98,  8.98],\n",
       "       [ 8.99,  8.99,  8.99, ...,  8.99,  8.99,  8.99]])"
      ]
     },
     "execution_count": 8,
     "metadata": {},
     "output_type": "execute_result"
    },
    {
     "data": {
      "text/plain": [
       "(900, 750)"
      ]
     },
     "execution_count": 8,
     "metadata": {},
     "output_type": "execute_result"
    }
   ],
   "source": [
    "step_size = 0.01\n",
    "# define the mesh grid（坐标网格） x_values 和 y_values 变量包含一组网格点，这些点的坐标值将被求出\n",
    "x_values, y_values = np.meshgrid(np.arange(x_min, x_max, step_size), np.arange(y_min, y_max, step_size))\n",
    "\n",
    "# 900 x 750 的网格图，即有900 x 750 个点，有900 x 750 个 x坐标 和 y坐标\n",
    "\n",
    "x_values \n",
    "x_values.shape\n",
    "y_values\n",
    "y_values.shape"
   ]
  },
  {
   "cell_type": "code",
   "execution_count": 9,
   "metadata": {
    "collapsed": false
   },
   "outputs": [
    {
     "data": {
      "text/plain": [
       "array([-0.5 , -0.49, -0.48, ...,  6.97,  6.98,  6.99])"
      ]
     },
     "execution_count": 9,
     "metadata": {},
     "output_type": "execute_result"
    },
    {
     "data": {
      "text/plain": [
       "(675000,)"
      ]
     },
     "execution_count": 9,
     "metadata": {},
     "output_type": "execute_result"
    },
    {
     "data": {
      "text/plain": [
       "array([ 0.  ,  0.  ,  0.  , ...,  8.99,  8.99,  8.99])"
      ]
     },
     "execution_count": 9,
     "metadata": {},
     "output_type": "execute_result"
    },
    {
     "data": {
      "text/plain": [
       "(675000,)"
      ]
     },
     "execution_count": 9,
     "metadata": {},
     "output_type": "execute_result"
    }
   ],
   "source": [
    "x_values.ravel()  # 将 x_values 拉平\n",
    "x_values.ravel().shape\n",
    "y_values.ravel()\n",
    "y_values.ravel().shape"
   ]
  },
  {
   "cell_type": "code",
   "execution_count": 10,
   "metadata": {
    "collapsed": false
   },
   "outputs": [
    {
     "data": {
      "text/plain": [
       "array([[-0.5 ,  0.  ],\n",
       "       [-0.49,  0.  ],\n",
       "       [-0.48,  0.  ],\n",
       "       ..., \n",
       "       [ 6.97,  8.99],\n",
       "       [ 6.98,  8.99],\n",
       "       [ 6.99,  8.99]])"
      ]
     },
     "execution_count": 10,
     "metadata": {},
     "output_type": "execute_result"
    }
   ],
   "source": [
    "np.c_[x_values.ravel(), y_values.ravel()]  # 重组得到每个网格点的坐标(x,y) 二维"
   ]
  },
  {
   "cell_type": "code",
   "execution_count": 11,
   "metadata": {
    "collapsed": false
   },
   "outputs": [
    {
     "data": {
      "text/plain": [
       "array([1, 1, 1, ..., 0, 0, 0])"
      ]
     },
     "execution_count": 11,
     "metadata": {},
     "output_type": "execute_result"
    }
   ],
   "source": [
    "mesh_output = classifier.predict(np.c_[x_values.ravel(), y_values.ravel()]) # 预测分类每个网格点\n",
    "mesh_output"
   ]
  },
  {
   "cell_type": "code",
   "execution_count": 12,
   "metadata": {
    "collapsed": false
   },
   "outputs": [
    {
     "data": {
      "text/plain": [
       "array([[1, 1, 1, ..., 2, 2, 2],\n",
       "       [1, 1, 1, ..., 2, 2, 2],\n",
       "       [1, 1, 1, ..., 2, 2, 2],\n",
       "       ..., \n",
       "       [0, 0, 0, ..., 0, 0, 0],\n",
       "       [0, 0, 0, ..., 0, 0, 0],\n",
       "       [0, 0, 0, ..., 0, 0, 0]])"
      ]
     },
     "execution_count": 12,
     "metadata": {},
     "output_type": "execute_result"
    }
   ],
   "source": [
    "mesh_output = mesh_output.reshape(x_values.shape)\n",
    "mesh_output"
   ]
  },
  {
   "cell_type": "code",
   "execution_count": 13,
   "metadata": {
    "collapsed": false
   },
   "outputs": [
    {
     "data": {
      "text/plain": [
       "<matplotlib.figure.Figure at 0x10b5cb940>"
      ]
     },
     "execution_count": 13,
     "metadata": {},
     "output_type": "execute_result"
    },
    {
     "data": {
      "text/plain": [
       "<matplotlib.collections.QuadMesh at 0x11673e9b0>"
      ]
     },
     "execution_count": 13,
     "metadata": {},
     "output_type": "execute_result"
    },
    {
     "data": {
      "image/png": "[encoded data removed]",
      "text/plain": [
       "<matplotlib.figure.Figure at 0x10b5cb940>"
      ]
     },
     "metadata": {},
     "output_type": "display_data"
    }
   ],
   "source": [
    "plt.figure()\n",
    "    \n",
    "# choose a color scheme \n",
    "plt.pcolormesh(x_values, y_values, mesh_output, cmap=plt.cm.winter)\n",
    "\n",
    "#这本质上是一个3D绘图器：接受2维的数据点（x,y)、与点关联的值，来用颜色模型画不同的区域"
   ]
  },
  {
   "cell_type": "code",
   "execution_count": 14,
   "metadata": {
    "collapsed": false
   },
   "outputs": [
    {
     "data": {
      "text/plain": [
       "<matplotlib.collections.PathCollection at 0x1167a58d0>"
      ]
     },
     "execution_count": 14,
     "metadata": {},
     "output_type": "execute_result"
    },
    {
     "data": {
      "image/png": "[encoded data removed]",
      "text/plain": [
       "<matplotlib.figure.Figure at 0x116771518>"
      ]
     },
     "metadata": {},
     "output_type": "display_data"
    }
   ],
   "source": [
    " plt.scatter(X[:, 0], X[:, 1], c=y, s=80, edgecolors='red', linewidth=1, cmap=plt.cm.spring)"
   ]
  },
  {
   "cell_type": "code",
   "execution_count": 15,
   "metadata": {
    "collapsed": false
   },
   "outputs": [
    {
     "data": {
      "text/plain": [
       "(-0.5, 6.9900000000000064)"
      ]
     },
     "execution_count": 15,
     "metadata": {},
     "output_type": "execute_result"
    },
    {
     "data": {
      "text/plain": [
       "(0.0, 8.9900000000000002)"
      ]
     },
     "execution_count": 15,
     "metadata": {},
     "output_type": "execute_result"
    },
    {
     "data": {
      "image/png": "[encoded data removed]",
      "text/plain": [
       "<matplotlib.figure.Figure at 0x1167b4278>"
      ]
     },
     "metadata": {},
     "output_type": "display_data"
    }
   ],
   "source": [
    "plt.xlim(x_values.min(), x_values.max())\n",
    "plt.ylim(y_values.min(), y_values.max())\n",
    "    \n",
    "plt.show()"
   ]
  },
  {
   "cell_type": "code",
   "execution_count": 18,
   "metadata": {
    "collapsed": false
   },
   "outputs": [
    {
     "data": {
      "text/plain": [
       "(-0.5, 6.9900000000000064)"
      ]
     },
     "execution_count": 18,
     "metadata": {},
     "output_type": "execute_result"
    },
    {
     "data": {
      "text/plain": [
       "(0.0, 8.9900000000000002)"
      ]
     },
     "execution_count": 18,
     "metadata": {},
     "output_type": "execute_result"
    },
    {
     "data": {
      "text/plain": [
       "([<matplotlib.axis.XTick at 0x10f9357b8>,\n",
       "  <matplotlib.axis.XTick at 0x117ef0198>,\n",
       "  <matplotlib.axis.XTick at 0x117e9e0f0>,\n",
       "  <matplotlib.axis.XTick at 0x117dd3ac8>,\n",
       "  <matplotlib.axis.XTick at 0x10f76c630>,\n",
       "  <matplotlib.axis.XTick at 0x118003240>,\n",
       "  <matplotlib.axis.XTick at 0x117e501d0>],\n",
       " <a list of 7 Text xticklabel objects>)"
      ]
     },
     "execution_count": 18,
     "metadata": {},
     "output_type": "execute_result"
    },
    {
     "data": {
      "image/png": "[encoded data removed]",
      "text/plain": [
       "<matplotlib.figure.Figure at 0x117c839e8>"
      ]
     },
     "metadata": {},
     "output_type": "display_data"
    }
   ],
   "source": [
    "plt.xlim(x_values.min(), x_values.max())\n",
    "plt.ylim(y_values.min(), y_values.max())\n",
    "plt.xticks((np.arange(int(min(X[:, 0])-1), int(max(X[:, 0])+1), 1.0)))  # y轴未mark坐标"
   ]
  },
  {
   "cell_type": "code",
   "execution_count": 17,
   "metadata": {
    "collapsed": false
   },
   "outputs": [
    {
     "data": {
      "text/plain": [
       "([<matplotlib.axis.XTick at 0x117d515c0>,\n",
       "  <matplotlib.axis.XTick at 0x117dbdac8>,\n",
       "  <matplotlib.axis.XTick at 0x117d51748>,\n",
       "  <matplotlib.axis.XTick at 0x117eea3c8>,\n",
       "  <matplotlib.axis.XTick at 0x117d49d68>,\n",
       "  <matplotlib.axis.XTick at 0x117e39320>,\n",
       "  <matplotlib.axis.XTick at 0x117e390b8>],\n",
       " <a list of 7 Text xticklabel objects>)"
      ]
     },
     "execution_count": 17,
     "metadata": {},
     "output_type": "execute_result"
    },
    {
     "data": {
      "text/plain": [
       "([<matplotlib.axis.YTick at 0x117e330f0>,\n",
       "  <matplotlib.axis.YTick at 0x117e9e240>,\n",
       "  <matplotlib.axis.YTick at 0x116771c88>,\n",
       "  <matplotlib.axis.YTick at 0x117d49390>,\n",
       "  <matplotlib.axis.YTick at 0x116778fd0>,\n",
       "  <matplotlib.axis.YTick at 0x11674bb70>,\n",
       "  <matplotlib.axis.YTick at 0x10f7acc18>,\n",
       "  <matplotlib.axis.YTick at 0x10f753cc0>,\n",
       "  <matplotlib.axis.YTick at 0x10f753320>],\n",
       " <a list of 9 Text yticklabel objects>)"
      ]
     },
     "execution_count": 17,
     "metadata": {},
     "output_type": "execute_result"
    },
    {
     "data": {
      "image/png": "[encoded data removed]",
      "text/plain": [
       "<matplotlib.figure.Figure at 0x10f949ba8>"
      ]
     },
     "metadata": {},
     "output_type": "display_data"
    }
   ],
   "source": [
    " # x,y轴mark了坐标，但未limit\n",
    "plt.xticks((np.arange(int(min(X[:, 0])-1), int(max(X[:, 0])+1), 1.0)))\n",
    "plt.yticks((np.arange(int(min(X[:, 1])-1), int(max(X[:, 1])+1), 1.0)))"
   ]
  },
  {
   "cell_type": "code",
   "execution_count": null,
   "metadata": {
    "collapsed": true
   },
   "outputs": [],
   "source": []
  }
 ],
 "metadata": {
  "kernelspec": {
   "display_name": "Python 3",
   "language": "python",
   "name": "python3"
  },
  "language_info": {
   "codemirror_mode": {
    "name": "ipython",
    "version": 3
   },
   "file_extension": ".py",
   "mimetype": "text/x-python",
   "name": "python",
   "nbconvert_exporter": "python",
   "pygments_lexer": "ipython3",
   "version": "3.6.0"
  }
 },
 "nbformat": 4,
 "nbformat_minor": 2
}

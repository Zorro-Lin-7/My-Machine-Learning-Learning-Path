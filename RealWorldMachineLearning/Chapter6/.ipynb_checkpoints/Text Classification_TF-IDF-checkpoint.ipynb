{
 "cells": [
  {
   "cell_type": "markdown",
   "metadata": {},
   "source": [
    "# 文本分类 Text Classification\n",
    "顾名思义，将不同的文件进行分类，\n",
    "* 比如“生活”类文章、“娱乐”类文章、“体育”类文章；\n",
    "* 比如含“猫”这个词比较多，权重比较大的文件归为“猫”类；\n",
    "* 比如根据文件中违禁词的权重，划分等级\n",
    "\n",
    "分析过程基于一个统计量TF-IDF（也是一个统计（加权）方法）"
   ]
  },
  {
   "cell_type": "markdown",
   "metadata": {},
   "source": [
    "TF: Term Frequency 词频\n",
    "IDF: Inverse Document Frequency 逆向文件频率\n",
    "\n",
    "**Example**：\n",
    "* TF: 假设一篇文章(一份文件）有100词，其中 cat 出现了3次，则cat 的词频TF 为 3/100 = 0.03；\n",
    "* IDF：有多少文件中出现过cat 一词，现在假设有 1000篇文章／文件 出现过cat，而文件总数是10,000,000份，则IDF 为 log(10,000,000/1,000) = 4\n",
    "\n",
    "最后TF-IDF 权重= 0.03 x 4 = 0.12\n",
    "\n",
    "**TF-IDF用于评估一个词的重要性，重要性与该词在文件中的词频成正比，同时随它在整个文件集（语料库）中出现的频率成反比(比如is、the 这些词)。**"
   ]
  },
  {
   "cell_type": "code",
   "execution_count": 1,
   "metadata": {
    "collapsed": true
   },
   "outputs": [],
   "source": [
    "from IPython.core.interactiveshell import InteractiveShell\n",
    "InteractiveShell.ast_node_interactivity = 'all'"
   ]
  },
  {
   "cell_type": "code",
   "execution_count": 2,
   "metadata": {
    "collapsed": false
   },
   "outputs": [],
   "source": [
    "from sklearn.datasets import fetch_20newsgroups\n",
    "\n",
    "category_map = {'misc.forsale': 'Sales', 'rec.motorcycles': 'Motorcycles',\n",
    "               'rec.sport.baseball': 'Baseball', 'sci.crypt': 'Cryptography',\n",
    "               'sci.space': 'Space'}\n",
    "training_data = fetch_20newsgroups(subset='train', categories=category_map.keys(), shuffle=True, random_state=7)\n",
    "# 采用一部分子集，通过指定categories来选取哪部分作为子集，即该训练集中的数据一定属于指定categories 中。默认采用全集，全categories。\n"
   ]
  },
  {
   "cell_type": "markdown",
   "metadata": {},
   "source": [
    "### 1、 将文本 数值向量化-文本数据转换为数值数据"
   ]
  },
  {
   "cell_type": "code",
   "execution_count": 3,
   "metadata": {
    "collapsed": false
   },
   "outputs": [
    {
     "name": "stdout",
     "output_type": "stream",
     "text": [
      "\n",
      "Dimensions of training data: (2968, 40605)\n"
     ]
    }
   ],
   "source": [
    "from sklearn.feature_extraction.text import CountVectorizer\n",
    "\n",
    "vectorizer = CountVectorizer()\n",
    "X_train_termcounts = vectorizer.fit_transform(training_data.data) \n",
    "print('\\nDimensions of training data:',X_train_termcounts.shape)"
   ]
  },
  {
   "cell_type": "markdown",
   "metadata": {},
   "source": [
    "### 2、文本转化为数值向量后，进行tf-idf 统计，计算每个词的权重，仍然是数据预处理"
   ]
  },
  {
   "cell_type": "code",
   "execution_count": 4,
   "metadata": {
    "collapsed": true
   },
   "outputs": [],
   "source": [
    "from sklearn.feature_extraction.text import TfidfTransformer\n",
    "\n",
    "tfidf_transformer = TfidfTransformer()\n",
    "X_train_tfidf = tfidf_transformer.fit_transform(X_train_termcounts)\n"
   ]
  },
  {
   "cell_type": "markdown",
   "metadata": {},
   "source": [
    "### 3、有了特征向量之后，Training a classifier"
   ]
  },
  {
   "cell_type": "code",
   "execution_count": 5,
   "metadata": {
    "collapsed": true
   },
   "outputs": [],
   "source": [
    "from sklearn.naive_bayes import MultinomialNB # 多类别分类\n",
    "classifier = MultinomialNB().fit(X_train_tfidf, training_data.target)\n"
   ]
  },
  {
   "cell_type": "markdown",
   "metadata": {
    "collapsed": true
   },
   "source": [
    "### 4、Predict the output categories"
   ]
  },
  {
   "cell_type": "code",
   "execution_count": 6,
   "metadata": {
    "collapsed": false,
    "scrolled": true
   },
   "outputs": [
    {
     "name": "stdout",
     "output_type": "stream",
     "text": [
      "\n",
      "Input:  The curveballs of right handed pitchers tend to curve to the left \n",
      "Predicted category: Baseball\n",
      "\n",
      "Input:  Caesar cipher is an ancient form of encryption \n",
      "Predicted category: Cryptography\n",
      "\n",
      "Input:  This two-wheler is really good on slippery roads \n",
      "Predicted category: Motorcycles\n"
     ]
    }
   ],
   "source": [
    "input_data = [\n",
    "    \"The curveballs of right handed pitchers tend to curve to the left\",\n",
    "    \"Caesar cipher is an ancient form of encryption\",\n",
    "    \"This two-wheler is really good on slippery roads\"\n",
    "]\n",
    "\n",
    "# 同样，先对input做预处理：向量化和tfidf\n",
    "X_input_termcounts = vectorizer.transform(input_data)  # 前面是.fit_transform,这里是.transform，因为已经fit了\n",
    "X_input_tfidf = tfidf_transformer.transform(X_input_termcounts)\n",
    "\n",
    "predicted_categories = classifier.predict(X_input_tfidf)\n",
    "\n",
    "# 打印分类的结果\n",
    "for sentence, category in zip(input_data, predicted_categories):\n",
    "    print(\"\\nInput: \", sentence, '\\nPredicted category:',category_map[training_data.target_names[category]])"
   ]
  },
  {
   "cell_type": "markdown",
   "metadata": {},
   "source": [
    "第一句话预测为 Baseball 类\n",
    "\n",
    "第二句话预测为 Cryptography 凯撒密码-密码学"
   ]
  },
  {
   "cell_type": "code",
   "execution_count": null,
   "metadata": {
    "collapsed": true
   },
   "outputs": [],
   "source": []
  }
 ],
 "metadata": {
  "kernelspec": {
   "display_name": "Python 3",
   "language": "python",
   "name": "python3"
  },
  "language_info": {
   "codemirror_mode": {
    "name": "ipython",
    "version": 3
   },
   "file_extension": ".py",
   "mimetype": "text/x-python",
   "name": "python",
   "nbconvert_exporter": "python",
   "pygments_lexer": "ipython3",
   "version": "3.6.0"
  }
 },
 "nbformat": 4,
 "nbformat_minor": 2
}

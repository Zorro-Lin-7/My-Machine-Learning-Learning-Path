{
 "cells": [
  {
   "cell_type": "code",
   "execution_count": 1,
   "metadata": {
    "collapsed": true
   },
   "outputs": [],
   "source": [
    "from IPython.core.interactiveshell import InteractiveShell\n",
    "InteractiveShell.ast_node_interactivity = 'all'"
   ]
  },
  {
   "cell_type": "code",
   "execution_count": 2,
   "metadata": {
    "collapsed": true
   },
   "outputs": [],
   "source": [
    "from nltk.corpus import movie_reviews\n",
    "import nltk.classify.util\n",
    "from nltk.classify import NaiveBayesClassifier"
   ]
  },
  {
   "cell_type": "code",
   "execution_count": 3,
   "metadata": {
    "collapsed": true
   },
   "outputs": [],
   "source": [
    "def extract_features(word_list):\n",
    "    return dict([(word, True) for word in word_list])  # 返回字典,提取所有唯一性的词；因为nltk classifier 只接受字典格式的数据"
   ]
  },
  {
   "cell_type": "code",
   "execution_count": 4,
   "metadata": {
    "collapsed": false
   },
   "outputs": [
    {
     "data": {
      "text/plain": [
       "{'.': True, 'I': True, 'am': True, 'fine': True}"
      ]
     },
     "execution_count": 4,
     "metadata": {},
     "output_type": "execute_result"
    }
   ],
   "source": [
    "# test\n",
    "extract_features(['I','am','fine','.'])\n",
    "extract_features('I am fine.')\n",
    "extract_features(['I am fine.'])\n",
    "extract_features(['I','am','fine','miao','miao','miao'])"
   ]
  },
  {
   "cell_type": "code",
   "execution_count": 7,
   "metadata": {
    "collapsed": true
   },
   "outputs": [],
   "source": [
    "positive_fileids = movie_reviews.fileids('pos')\n",
    "negative_fileids = movie_reviews.fileids('neg')\n",
    "#positive_fileids  #返回列表，元素是 .txt 文件"
   ]
  },
  {
   "cell_type": "code",
   "execution_count": 30,
   "metadata": {
    "collapsed": false,
    "scrolled": true
   },
   "outputs": [
    {
     "name": "stdout",
     "output_type": "stream",
     "text": [
      "every now and then a movie comes along from a suspect studio , with every indication that it will be a stinker , and to everybody's surprise ( perhaps even the studio ) the film becomes a critical darling . \n",
      "mtv films' _election , a high school comedy starring matthew broderick and reese witherspoon , is a current example . \n",
      "did anybody know this film existed a week before it opened ? \n",
      "the plot is deceptively simple . \n",
      "george washington carver high school is having student elections . \n",
      "tracy flick ( reese witherspoon ) is an over-achiever with her hand raised at nearly every question , way , way , high . \n",
      "mr . \" m \" ( matthew broderick ) , sick of the megalomaniac student , encourages paul , a popular-but-slow jock to run . \n",
      "and paul's nihilistic sister jumps in the race as well , for personal reasons . \n",
      "the dark side of such sleeper success is that , because expectations were so low going in , the fact that this was quality stuff made the reviews even more enthusiastic than they have any right to be . \n",
      "you can't help going in with the baggage of glowing reviews , which is in contrast to the negative baggage that the reviewers were likely to have . \n",
      "_election , a good film , does not live up to its hype . \n",
      "what makes _election_ so disappointing is that it contains significant plot details lifted directly from _rushmore_ , released a few months earlier . \n",
      "the similarities are staggering : \n",
      "tracy flick ( _election_ ) is the president of an extraordinary number of clubs , and is involved with the school play . \n",
      "max fischer ( _rushmore_ ) is the president of an extraordinary number of clubs , and is involved with the school play . \n",
      "the most significant tension of _election_ is the potential relationship between a teacher and his student . \n",
      "the most significant tension of _rushmore_ is the potential relationship between a teacher and his student . \n",
      "tracy flick is from a single parent home , which has contributed to her drive . \n",
      "max fischer is from a single parent home , which has contributed to his drive . \n",
      "the male bumbling adult in _election_ ( matthew broderick ) pursues an extramarital affair , gets caught , and his whole life is ruined . \n",
      "he even gets a bee sting . \n",
      "the male bumbling adult in _rushmore_ ( bill murray ) pursues an extramarital affair , gets caught , and his whole life is ruined . \n",
      "he gets several bee stings . \n",
      "and so on . \n",
      "what happened ? \n",
      "how is it that an individual screenplay ( _rushmore_ ) and a novel ( _election_ ) contain so many significant plot points , and yet both films were probably not even aware of each other , made from two different studios , from a genre ( the high school geeks revenge movie ) that hadn't been fully formed yet ? \n",
      "even so , the strengths of _election_ rely upon its fantastic performances from broderick , witherspoon , and newcomer jessica campbell , as paul's anti-social sister , tammy . \n",
      "broderick here is playing the mr . rooney role from _ferris bueller_ , and he seems to be having the most fun he's had since then . \n",
      "witherspoon is a revelation . \n",
      "it's early in the year , it's a comedy , and teenagers have little clout , but for my money , witherspoon deserves an oscar nomination . \n",
      "and once campbell's character gets going , like in her fantastic speech in the gymnasium , then you're won over . \n",
      "one thing that's been bothering me since i've seen it . \n",
      "there is an extraordinary amount of sexuality in this film . \n",
      "i suppose that , coming from mtv films , i should expect no less . . . \n",
      "but the film starts off light and airy , like a sitcom . \n",
      "as the screws tighten , and the tensions mount , alexander payne decides to add elements that , frankly , distract from the story . \n",
      "it is bad enough that mr . m doesn't like tracy's determination to win at all costs , but did they have to throw in the student/teacher relationship ? \n",
      "even so , there's no logical reason why mr . m has an affair when he does . \n",
      "there's a lot to like in _election_ , but the plot similarities to _rushmore_ , and the tonal nosedive it takes as it gets explicitly sex-driven , mark this as a disappointment . \n",
      "\n"
     ]
    }
   ],
   "source": [
    "# test\n",
    "print(movie_reviews.raw(positive_fileids[1]))"
   ]
  },
  {
   "cell_type": "code",
   "execution_count": 8,
   "metadata": {
    "collapsed": false,
    "scrolled": true
   },
   "outputs": [
    {
     "data": {
      "text/plain": [
       "'pos/cv001_18431.txt'"
      ]
     },
     "execution_count": 8,
     "metadata": {},
     "output_type": "execute_result"
    },
    {
     "data": {
      "text/plain": [
       "['every', 'now', 'and', 'then', 'a', 'movie', 'comes', ...]"
      ]
     },
     "execution_count": 8,
     "metadata": {},
     "output_type": "execute_result"
    },
    {
     "data": {
      "text/plain": [
       "{'\"': True,\n",
       " \"'\": True,\n",
       " '(': True,\n",
       " ')': True,\n",
       " ',': True,\n",
       " '-': True,\n",
       " '.': True,\n",
       " '/': True,\n",
       " ':': True,\n",
       " '?': True,\n",
       " '_election': True,\n",
       " '_election_': True,\n",
       " '_ferris': True,\n",
       " '_rushmore_': True,\n",
       " 'a': True,\n",
       " 'achiever': True,\n",
       " 'add': True,\n",
       " 'adult': True,\n",
       " 'affair': True,\n",
       " 'airy': True,\n",
       " 'alexander': True,\n",
       " 'all': True,\n",
       " 'along': True,\n",
       " 'amount': True,\n",
       " 'an': True,\n",
       " 'and': True,\n",
       " 'anti': True,\n",
       " 'any': True,\n",
       " 'anybody': True,\n",
       " 'are': True,\n",
       " 'as': True,\n",
       " 'at': True,\n",
       " 'aware': True,\n",
       " 'bad': True,\n",
       " 'baggage': True,\n",
       " 'be': True,\n",
       " 'because': True,\n",
       " 'becomes': True,\n",
       " 'bee': True,\n",
       " 'been': True,\n",
       " 'before': True,\n",
       " 'between': True,\n",
       " 'bill': True,\n",
       " 'both': True,\n",
       " 'bothering': True,\n",
       " 'broderick': True,\n",
       " 'bueller_': True,\n",
       " 'bumbling': True,\n",
       " 'but': True,\n",
       " 'campbell': True,\n",
       " 'can': True,\n",
       " 'carver': True,\n",
       " 'caught': True,\n",
       " 'character': True,\n",
       " 'clout': True,\n",
       " 'clubs': True,\n",
       " 'comedy': True,\n",
       " 'comes': True,\n",
       " 'coming': True,\n",
       " 'contain': True,\n",
       " 'contains': True,\n",
       " 'contrast': True,\n",
       " 'contributed': True,\n",
       " 'costs': True,\n",
       " 'critical': True,\n",
       " 'current': True,\n",
       " 'dark': True,\n",
       " 'darling': True,\n",
       " 'deceptively': True,\n",
       " 'decides': True,\n",
       " 'deserves': True,\n",
       " 'details': True,\n",
       " 'determination': True,\n",
       " 'did': True,\n",
       " 'different': True,\n",
       " 'directly': True,\n",
       " 'disappointing': True,\n",
       " 'disappointment': True,\n",
       " 'distract': True,\n",
       " 'does': True,\n",
       " 'doesn': True,\n",
       " 'drive': True,\n",
       " 'driven': True,\n",
       " 'each': True,\n",
       " 'earlier': True,\n",
       " 'early': True,\n",
       " 'elections': True,\n",
       " 'elements': True,\n",
       " 'encourages': True,\n",
       " 'enough': True,\n",
       " 'enthusiastic': True,\n",
       " 'even': True,\n",
       " 'every': True,\n",
       " 'everybody': True,\n",
       " 'example': True,\n",
       " 'existed': True,\n",
       " 'expect': True,\n",
       " 'expectations': True,\n",
       " 'explicitly': True,\n",
       " 'extramarital': True,\n",
       " 'extraordinary': True,\n",
       " 'fact': True,\n",
       " 'fantastic': True,\n",
       " 'few': True,\n",
       " 'film': True,\n",
       " 'films': True,\n",
       " 'fischer': True,\n",
       " 'flick': True,\n",
       " 'for': True,\n",
       " 'formed': True,\n",
       " 'frankly': True,\n",
       " 'from': True,\n",
       " 'fully': True,\n",
       " 'fun': True,\n",
       " 'geeks': True,\n",
       " 'genre': True,\n",
       " 'george': True,\n",
       " 'gets': True,\n",
       " 'glowing': True,\n",
       " 'going': True,\n",
       " 'good': True,\n",
       " 'gymnasium': True,\n",
       " 'had': True,\n",
       " 'hadn': True,\n",
       " 'hand': True,\n",
       " 'happened': True,\n",
       " 'has': True,\n",
       " 'have': True,\n",
       " 'having': True,\n",
       " 'he': True,\n",
       " 'help': True,\n",
       " 'her': True,\n",
       " 'here': True,\n",
       " 'high': True,\n",
       " 'his': True,\n",
       " 'home': True,\n",
       " 'how': True,\n",
       " 'hype': True,\n",
       " 'i': True,\n",
       " 'in': True,\n",
       " 'indication': True,\n",
       " 'individual': True,\n",
       " 'involved': True,\n",
       " 'is': True,\n",
       " 'it': True,\n",
       " 'its': True,\n",
       " 'jessica': True,\n",
       " 'jock': True,\n",
       " 'jumps': True,\n",
       " 'know': True,\n",
       " 'less': True,\n",
       " 'life': True,\n",
       " 'lifted': True,\n",
       " 'light': True,\n",
       " 'like': True,\n",
       " 'likely': True,\n",
       " 'little': True,\n",
       " 'live': True,\n",
       " 'logical': True,\n",
       " 'lot': True,\n",
       " 'low': True,\n",
       " 'm': True,\n",
       " 'made': True,\n",
       " 'makes': True,\n",
       " 'male': True,\n",
       " 'many': True,\n",
       " 'mark': True,\n",
       " 'matthew': True,\n",
       " 'max': True,\n",
       " 'me': True,\n",
       " 'megalomaniac': True,\n",
       " 'money': True,\n",
       " 'months': True,\n",
       " 'more': True,\n",
       " 'most': True,\n",
       " 'mount': True,\n",
       " 'movie': True,\n",
       " 'mr': True,\n",
       " 'mtv': True,\n",
       " 'murray': True,\n",
       " 'my': True,\n",
       " 'nearly': True,\n",
       " 'negative': True,\n",
       " 'newcomer': True,\n",
       " 'nihilistic': True,\n",
       " 'no': True,\n",
       " 'nomination': True,\n",
       " 'nosedive': True,\n",
       " 'not': True,\n",
       " 'novel': True,\n",
       " 'now': True,\n",
       " 'number': True,\n",
       " 'of': True,\n",
       " 'off': True,\n",
       " 'on': True,\n",
       " 'once': True,\n",
       " 'one': True,\n",
       " 'opened': True,\n",
       " 'oscar': True,\n",
       " 'other': True,\n",
       " 'over': True,\n",
       " 'parent': True,\n",
       " 'paul': True,\n",
       " 'payne': True,\n",
       " 'performances': True,\n",
       " 'perhaps': True,\n",
       " 'personal': True,\n",
       " 'play': True,\n",
       " 'playing': True,\n",
       " 'plot': True,\n",
       " 'points': True,\n",
       " 'popular': True,\n",
       " 'potential': True,\n",
       " 'president': True,\n",
       " 'probably': True,\n",
       " 'pursues': True,\n",
       " 'quality': True,\n",
       " 'question': True,\n",
       " 'race': True,\n",
       " 'raised': True,\n",
       " 're': True,\n",
       " 'reason': True,\n",
       " 'reasons': True,\n",
       " 'reese': True,\n",
       " 'relationship': True,\n",
       " 'released': True,\n",
       " 'rely': True,\n",
       " 'revelation': True,\n",
       " 'revenge': True,\n",
       " 'reviewers': True,\n",
       " 'reviews': True,\n",
       " 'right': True,\n",
       " 'role': True,\n",
       " 'rooney': True,\n",
       " 'ruined': True,\n",
       " 'run': True,\n",
       " 's': True,\n",
       " 'school': True,\n",
       " 'screenplay': True,\n",
       " 'screws': True,\n",
       " 'seems': True,\n",
       " 'seen': True,\n",
       " 'several': True,\n",
       " 'sex': True,\n",
       " 'sexuality': True,\n",
       " 'should': True,\n",
       " 'sick': True,\n",
       " 'side': True,\n",
       " 'significant': True,\n",
       " 'similarities': True,\n",
       " 'simple': True,\n",
       " 'since': True,\n",
       " 'single': True,\n",
       " 'sister': True,\n",
       " 'sitcom': True,\n",
       " 'sleeper': True,\n",
       " 'slow': True,\n",
       " 'so': True,\n",
       " 'social': True,\n",
       " 'speech': True,\n",
       " 'staggering': True,\n",
       " 'starring': True,\n",
       " 'starts': True,\n",
       " 'sting': True,\n",
       " 'stings': True,\n",
       " 'stinker': True,\n",
       " 'story': True,\n",
       " 'strengths': True,\n",
       " 'student': True,\n",
       " 'studio': True,\n",
       " 'studios': True,\n",
       " 'stuff': True,\n",
       " 'success': True,\n",
       " 'such': True,\n",
       " 'suppose': True,\n",
       " 'surprise': True,\n",
       " 'suspect': True,\n",
       " 't': True,\n",
       " 'takes': True,\n",
       " 'tammy': True,\n",
       " 'teacher': True,\n",
       " 'teenagers': True,\n",
       " 'tension': True,\n",
       " 'tensions': True,\n",
       " 'than': True,\n",
       " 'that': True,\n",
       " 'the': True,\n",
       " 'then': True,\n",
       " 'there': True,\n",
       " 'they': True,\n",
       " 'thing': True,\n",
       " 'this': True,\n",
       " 'throw': True,\n",
       " 'tighten': True,\n",
       " 'to': True,\n",
       " 'tonal': True,\n",
       " 'tracy': True,\n",
       " 'two': True,\n",
       " 'up': True,\n",
       " 'upon': True,\n",
       " 've': True,\n",
       " 'was': True,\n",
       " 'washington': True,\n",
       " 'way': True,\n",
       " 'week': True,\n",
       " 'well': True,\n",
       " 'were': True,\n",
       " 'what': True,\n",
       " 'when': True,\n",
       " 'which': True,\n",
       " 'whole': True,\n",
       " 'why': True,\n",
       " 'will': True,\n",
       " 'win': True,\n",
       " 'with': True,\n",
       " 'witherspoon': True,\n",
       " 'won': True,\n",
       " 'year': True,\n",
       " 'yet': True,\n",
       " 'you': True}"
      ]
     },
     "execution_count": 8,
     "metadata": {},
     "output_type": "execute_result"
    }
   ],
   "source": [
    "# test:\n",
    "positive_fileids[1]  # 取某一个 .txt 文件\n",
    "movie_reviews.words(positive_fileids[1]) # 解析 .txt，并分词，返回列表\n",
    "extract_features(movie_reviews.words(positive_fileids[1])) # 提取特征，返回字典"
   ]
  },
  {
   "cell_type": "code",
   "execution_count": 9,
   "metadata": {
    "collapsed": true
   },
   "outputs": [],
   "source": [
    "# 整合上面的语句：\n",
    "features_positive = [(extract_features(movie_reviews.words(fileids=[f])),'Positive') for f in positive_fileids]\n",
    "features_negative = [(extract_features(movie_reviews.words(fileids=[f])),'Negative') for f in negative_fileids]\n",
    "# 返回的是 [({},'Positive'),] 列表[元组(字典{},'Positive')]; 一个.txt文件作一个列表元素，即一个datapoint\n",
    "# nltk classifier 只接受字典格式的数据"
   ]
  },
  {
   "cell_type": "markdown",
   "metadata": {},
   "source": [
    "## Split the data into train and test"
   ]
  },
  {
   "cell_type": "code",
   "execution_count": 16,
   "metadata": {
    "collapsed": false
   },
   "outputs": [
    {
     "name": "stdout",
     "output_type": "stream",
     "text": [
      "\n",
      "Number of training datapoints: 1600\n",
      "\n",
      "Number of test datapoints: 400\n"
     ]
    }
   ],
   "source": [
    "threshold_factor = 0.8\n",
    "threshold_positive = int(threshold_factor * len(features_positive))\n",
    "threshold_negative = int(threshold_factor * len(features_negative))\n",
    "\n",
    "features_train = features_positive[:threshold_positive] + features_negative[:threshold_negative]\n",
    "features_test = features_positive[threshold_positive:] + features_negative[threshold_negative:]\n",
    "print('\\nNumber of training datapoints:', len(features_train)) # 一个.txt文件作一个列表元素，即一个datapoint\n",
    "print('\\nNumber of test datapoints:', len(features_test))"
   ]
  },
  {
   "cell_type": "markdown",
   "metadata": {},
   "source": [
    "## Naive Bayes classifier"
   ]
  },
  {
   "cell_type": "code",
   "execution_count": 19,
   "metadata": {
    "collapsed": false
   },
   "outputs": [
    {
     "name": "stdout",
     "output_type": "stream",
     "text": [
      "\n",
      "Accuracy of the classifier: 0.735\n"
     ]
    }
   ],
   "source": [
    "classifier = NaiveBayesClassifier.train(features_train)\n",
    "print('\\nAccuracy of the classifier:',nltk.classify.util.accuracy(classifier, features_test)) # 这个"
   ]
  },
  {
   "cell_type": "markdown",
   "metadata": {},
   "source": [
    "## object: classifier.most_informative_features \n",
    "\n",
    "能给出最具信息量的词。在被划分为正面或负面的影评里，这些词基本上有很强的代表性和表达力。\n",
    "\n",
    "比如 outstanding 表示该影评更可能是正面的，insulting 表示负面影评的可能性较大"
   ]
  },
  {
   "cell_type": "code",
   "execution_count": 25,
   "metadata": {
    "collapsed": false
   },
   "outputs": [
    {
     "name": "stdout",
     "output_type": "stream",
     "text": [
      "\n",
      "Top 10 most informative words:\n",
      "\n",
      "outstanding\n",
      "insulting\n",
      "vulnerable\n",
      "ludicrous\n",
      "uninvolving\n",
      "astounding\n",
      "avoids\n",
      "fascination\n",
      "animators\n",
      "darker\n"
     ]
    }
   ],
   "source": [
    "print('\\nTop 10 most informative words:\\n')\n",
    "for item in classifier.most_informative_features()[:10]:\n",
    "    print(item[0])"
   ]
  },
  {
   "cell_type": "markdown",
   "metadata": {},
   "source": [
    "## Predict"
   ]
  },
  {
   "cell_type": "code",
   "execution_count": 41,
   "metadata": {
    "collapsed": false
   },
   "outputs": [
    {
     "name": "stdout",
     "output_type": "stream",
     "text": [
      "\n",
      "Predictions:\n",
      "\n",
      "Review: It is an amazing movie\n",
      "Predictd sentiment: Positive\n",
      "Probability: 0.61\n",
      "\n",
      "Review: This is a dull movie. I would never recommend it to anyone.\n",
      "Predictd sentiment: Negative\n",
      "Probability: 0.77\n",
      "\n",
      "Review: The cinematography is pretty great in this movie\n",
      "Predictd sentiment: Positive\n",
      "Probability: 0.67\n",
      "\n",
      "Review: The direction was terrible and the story was all over the place\n",
      "Predictd sentiment: Negative\n",
      "Probability: 0.63\n"
     ]
    }
   ],
   "source": [
    "input_reviews = [\n",
    "        \"It is an amazing movie\", \n",
    "        \"This is a dull movie. I would never recommend it to anyone.\",\n",
    "        \"The cinematography is pretty great in this movie\", \n",
    "        \"The direction was terrible and the story was all over the place\" \n",
    "    ]\n",
    "\n",
    "print('\\nPredictions:')\n",
    "for review in input_reviews:\n",
    "    print('\\nReview:',review)\n",
    "    probdist = classifier.prob_classify(extract_features(review.split()))  # 总的object\n",
    "    pred_sentiment = probdist.max()\n",
    "    print('Predictd sentiment:', pred_sentiment)\n",
    "    print('Probability:', round(probdist.prob(pred_sentiment), 2))"
   ]
  },
  {
   "cell_type": "code",
   "execution_count": 54,
   "metadata": {
    "collapsed": false
   },
   "outputs": [],
   "source": []
  },
  {
   "cell_type": "code",
   "execution_count": null,
   "metadata": {
    "collapsed": true
   },
   "outputs": [],
   "source": []
  }
 ],
 "metadata": {
  "kernelspec": {
   "display_name": "Python 3",
   "language": "python",
   "name": "python3"
  },
  "language_info": {
   "codemirror_mode": {
    "name": "ipython",
    "version": 3
   },
   "file_extension": ".py",
   "mimetype": "text/x-python",
   "name": "python",
   "nbconvert_exporter": "python",
   "pygments_lexer": "ipython3",
   "version": "3.6.0"
  }
 },
 "nbformat": 4,
 "nbformat_minor": 2
}
